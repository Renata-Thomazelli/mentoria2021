{
  "nbformat": 4,
  "nbformat_minor": 0,
  "metadata": {
    "colab": {
      "name": "rainfall_analise_IND.ipynb",
      "provenance": [],
      "collapsed_sections": [],
      "authorship_tag": "ABX9TyOrztgNo2e2tkIIRaDvPUga",
      "include_colab_link": true
    },
    "kernelspec": {
      "name": "python3",
      "display_name": "Python 3"
    },
    "language_info": {
      "name": "python"
    }
  },
  "cells": [
    {
      "cell_type": "markdown",
      "metadata": {
        "id": "view-in-github",
        "colab_type": "text"
      },
      "source": [
        "<a href=\"https://colab.research.google.com/github/Renata-Thomazelli/mentoria2021/blob/main/rainfall_analise_IND.ipynb\" target=\"_parent\"><img src=\"https://colab.research.google.com/assets/colab-badge.svg\" alt=\"Open In Colab\"/></a>"
      ]
    },
    {
      "cell_type": "markdown",
      "metadata": {
        "id": "5Ui-eWQwEzAL"
      },
      "source": [
        "# <font color='red'>**Analyzing Rainfall**\n",
        "**Analyzing Rainfall**<font>\n",
        "\n",
        "---"
      ]
    },
    {
      "cell_type": "markdown",
      "metadata": {
        "id": "pgYphlkNrC0J"
      },
      "source": [
        "\n",
        "Importing the Data\n",
        "---"
      ]
    },
    {
      "cell_type": "code",
      "metadata": {
        "colab": {
          "base_uri": "https://localhost:8080/"
        },
        "id": "5gnslj1rECdH",
        "outputId": "b39b0e01-a197-45ec-a4a1-fe6f48502f23"
      },
      "source": [
        "# Importing Drive\n",
        "from google.colab import drive\n",
        "\n",
        "drive.mount('/content/drive')"
      ],
      "execution_count": 1,
      "outputs": [
        {
          "output_type": "stream",
          "name": "stdout",
          "text": [
            "Mounted at /content/drive\n"
          ]
        }
      ]
    },
    {
      "cell_type": "code",
      "metadata": {
        "id": "fJaoP1feE9ko"
      },
      "source": [
        "#Importing the packages \n",
        "import pandas as pd\n",
        "import numpy as np\n",
        "import chardet\n",
        "import missingno as msno\n",
        "import matplotlib.pyplot as plt\n",
        "%matplotlib inline"
      ],
      "execution_count": 2,
      "outputs": []
    },
    {
      "cell_type": "markdown",
      "metadata": {
        "id": "ITBqwNDvFGhx"
      },
      "source": [
        "**Reading CSV**"
      ]
    },
    {
      "cell_type": "code",
      "metadata": {
        "id": "kbMAfoiSFER4"
      },
      "source": [
        "file_path ='/content/drive/MyDrive/Data_Lake/temperatura_preciptacao/'\n",
        "tipo = 'pr_'\n",
        "anos ='1901_2020_'\n",
        "pais = \"IND\"\n",
        "\n",
        "file = f\"{tipo}{anos}{pais}.csv\""
      ],
      "execution_count": 3,
      "outputs": []
    },
    {
      "cell_type": "code",
      "metadata": {
        "colab": {
          "base_uri": "https://localhost:8080/"
        },
        "id": "28FmY9rRGO1i",
        "outputId": "da3b6bb0-a847-4b29-b748-31768e9ae7d7"
      },
      "source": [
        "with open(f\"{file_path}{file}\", 'rb') as encoding:\n",
        "    r_encoding = chardet.detect(encoding.read(100000))\n",
        "r_encoding"
      ],
      "execution_count": 4,
      "outputs": [
        {
          "output_type": "execute_result",
          "data": {
            "text/plain": [
              "{'confidence': 1.0, 'encoding': 'ascii', 'language': ''}"
            ]
          },
          "metadata": {},
          "execution_count": 4
        }
      ]
    },
    {
      "cell_type": "code",
      "metadata": {
        "id": "Mjs-pOIJGjyw"
      },
      "source": [
        "arquivo = f\"{tipo}{pais}\"\n",
        "with open (f\"{file_path}{file}\",'r',encoding=r_encoding['encoding']) as arquivo :\n",
        "  df_pr = pd.read_csv(arquivo)"
      ],
      "execution_count": 5,
      "outputs": []
    },
    {
      "cell_type": "markdown",
      "metadata": {
        "id": "600FfiJFGpHZ"
      },
      "source": [
        " \n",
        "**DataFrame**"
      ]
    },
    {
      "cell_type": "code",
      "metadata": {
        "id": "jEhf_rulGPeA",
        "colab": {
          "base_uri": "https://localhost:8080/",
          "height": 419
        },
        "outputId": "e156a1e7-d872-4b91-fb3f-92910a109b23"
      },
      "source": [
        "df_pr"
      ],
      "execution_count": 6,
      "outputs": [
        {
          "output_type": "execute_result",
          "data": {
            "text/html": [
              "<div>\n",
              "<style scoped>\n",
              "    .dataframe tbody tr th:only-of-type {\n",
              "        vertical-align: middle;\n",
              "    }\n",
              "\n",
              "    .dataframe tbody tr th {\n",
              "        vertical-align: top;\n",
              "    }\n",
              "\n",
              "    .dataframe thead th {\n",
              "        text-align: right;\n",
              "    }\n",
              "</style>\n",
              "<table border=\"1\" class=\"dataframe\">\n",
              "  <thead>\n",
              "    <tr style=\"text-align: right;\">\n",
              "      <th></th>\n",
              "      <th>Rainfall - (MM)</th>\n",
              "      <th>Year</th>\n",
              "      <th>Statistics</th>\n",
              "      <th>Country</th>\n",
              "      <th>ISO3</th>\n",
              "    </tr>\n",
              "  </thead>\n",
              "  <tbody>\n",
              "    <tr>\n",
              "      <th>0</th>\n",
              "      <td>27.7</td>\n",
              "      <td>1901</td>\n",
              "      <td>Jan Average</td>\n",
              "      <td>India</td>\n",
              "      <td>IND</td>\n",
              "    </tr>\n",
              "    <tr>\n",
              "      <th>1</th>\n",
              "      <td>20.8</td>\n",
              "      <td>1901</td>\n",
              "      <td>Feb Average</td>\n",
              "      <td>India</td>\n",
              "      <td>IND</td>\n",
              "    </tr>\n",
              "    <tr>\n",
              "      <th>2</th>\n",
              "      <td>20.6</td>\n",
              "      <td>1901</td>\n",
              "      <td>Mar Average</td>\n",
              "      <td>India</td>\n",
              "      <td>IND</td>\n",
              "    </tr>\n",
              "    <tr>\n",
              "      <th>3</th>\n",
              "      <td>24.7</td>\n",
              "      <td>1901</td>\n",
              "      <td>Apr Average</td>\n",
              "      <td>India</td>\n",
              "      <td>IND</td>\n",
              "    </tr>\n",
              "    <tr>\n",
              "      <th>4</th>\n",
              "      <td>52.9</td>\n",
              "      <td>1901</td>\n",
              "      <td>May Average</td>\n",
              "      <td>India</td>\n",
              "      <td>IND</td>\n",
              "    </tr>\n",
              "    <tr>\n",
              "      <th>...</th>\n",
              "      <td>...</td>\n",
              "      <td>...</td>\n",
              "      <td>...</td>\n",
              "      <td>...</td>\n",
              "      <td>...</td>\n",
              "    </tr>\n",
              "    <tr>\n",
              "      <th>1435</th>\n",
              "      <td>291.2</td>\n",
              "      <td>2020</td>\n",
              "      <td>Aug Average</td>\n",
              "      <td>India</td>\n",
              "      <td>IND</td>\n",
              "    </tr>\n",
              "    <tr>\n",
              "      <th>1436</th>\n",
              "      <td>195.4</td>\n",
              "      <td>2020</td>\n",
              "      <td>Sep Average</td>\n",
              "      <td>India</td>\n",
              "      <td>IND</td>\n",
              "    </tr>\n",
              "    <tr>\n",
              "      <th>1437</th>\n",
              "      <td>85.0</td>\n",
              "      <td>2020</td>\n",
              "      <td>Oct Average</td>\n",
              "      <td>India</td>\n",
              "      <td>IND</td>\n",
              "    </tr>\n",
              "    <tr>\n",
              "      <th>1438</th>\n",
              "      <td>26.9</td>\n",
              "      <td>2020</td>\n",
              "      <td>Nov Average</td>\n",
              "      <td>India</td>\n",
              "      <td>IND</td>\n",
              "    </tr>\n",
              "    <tr>\n",
              "      <th>1439</th>\n",
              "      <td>11.9</td>\n",
              "      <td>2020</td>\n",
              "      <td>Dec Average</td>\n",
              "      <td>India</td>\n",
              "      <td>IND</td>\n",
              "    </tr>\n",
              "  </tbody>\n",
              "</table>\n",
              "<p>1440 rows × 5 columns</p>\n",
              "</div>"
            ],
            "text/plain": [
              "      Rainfall - (MM)   Year    Statistics  Country  ISO3\n",
              "0                27.7   1901   Jan Average    India   IND\n",
              "1                20.8   1901   Feb Average    India   IND\n",
              "2                20.6   1901   Mar Average    India   IND\n",
              "3                24.7   1901   Apr Average    India   IND\n",
              "4                52.9   1901   May Average    India   IND\n",
              "...               ...    ...           ...      ...   ...\n",
              "1435            291.2   2020   Aug Average    India   IND\n",
              "1436            195.4   2020   Sep Average    India   IND\n",
              "1437             85.0   2020   Oct Average    India   IND\n",
              "1438             26.9   2020   Nov Average    India   IND\n",
              "1439             11.9   2020   Dec Average    India   IND\n",
              "\n",
              "[1440 rows x 5 columns]"
            ]
          },
          "metadata": {},
          "execution_count": 6
        }
      ]
    },
    {
      "cell_type": "code",
      "metadata": {
        "id": "dl2UVOODHLNy",
        "colab": {
          "base_uri": "https://localhost:8080/"
        },
        "outputId": "f5779d8e-f337-4b25-b49b-242afb3f74b5"
      },
      "source": [
        "#Dataframe size\n",
        "df_pr.shape"
      ],
      "execution_count": 7,
      "outputs": [
        {
          "output_type": "execute_result",
          "data": {
            "text/plain": [
              "(1440, 5)"
            ]
          },
          "metadata": {},
          "execution_count": 7
        }
      ]
    },
    {
      "cell_type": "code",
      "metadata": {
        "id": "v46JSa5gHs7K",
        "colab": {
          "base_uri": "https://localhost:8080/"
        },
        "outputId": "ef514787-35ba-429e-f793-fcd69cfaba3e"
      },
      "source": [
        "#Dataframe informations\n",
        "df_pr.info()"
      ],
      "execution_count": 8,
      "outputs": [
        {
          "output_type": "stream",
          "name": "stdout",
          "text": [
            "<class 'pandas.core.frame.DataFrame'>\n",
            "RangeIndex: 1440 entries, 0 to 1439\n",
            "Data columns (total 5 columns):\n",
            " #   Column           Non-Null Count  Dtype  \n",
            "---  ------           --------------  -----  \n",
            " 0   Rainfall - (MM)  1440 non-null   float64\n",
            " 1    Year            1440 non-null   int64  \n",
            " 2    Statistics      1440 non-null   object \n",
            " 3    Country         1440 non-null   object \n",
            " 4    ISO3            1440 non-null   object \n",
            "dtypes: float64(1), int64(1), object(3)\n",
            "memory usage: 56.4+ KB\n"
          ]
        }
      ]
    },
    {
      "cell_type": "code",
      "metadata": {
        "id": "DgnCxTQbHU7_",
        "colab": {
          "base_uri": "https://localhost:8080/"
        },
        "outputId": "99998a62-b2a9-4add-f19b-a222922634f6"
      },
      "source": [
        "#identifying coluns's names\n",
        "df_pr.columns"
      ],
      "execution_count": 9,
      "outputs": [
        {
          "output_type": "execute_result",
          "data": {
            "text/plain": [
              "Index(['Rainfall - (MM)', ' Year', ' Statistics', ' Country', ' ISO3'], dtype='object')"
            ]
          },
          "metadata": {},
          "execution_count": 9
        }
      ]
    },
    {
      "cell_type": "code",
      "metadata": {
        "id": "iPkGqGKBHm3_",
        "colab": {
          "base_uri": "https://localhost:8080/",
          "height": 204
        },
        "outputId": "313a341a-0736-4b2b-a10e-527f7add2f73"
      },
      "source": [
        "#cleaning columns names\n",
        "colunas = [c.strip().lower().replace(\" \",\"_\") for c in df_pr.columns]\n",
        "df_pr.columns = colunas\n",
        "   \n",
        "\n",
        "df_pr.head(5)"
      ],
      "execution_count": 10,
      "outputs": [
        {
          "output_type": "execute_result",
          "data": {
            "text/html": [
              "<div>\n",
              "<style scoped>\n",
              "    .dataframe tbody tr th:only-of-type {\n",
              "        vertical-align: middle;\n",
              "    }\n",
              "\n",
              "    .dataframe tbody tr th {\n",
              "        vertical-align: top;\n",
              "    }\n",
              "\n",
              "    .dataframe thead th {\n",
              "        text-align: right;\n",
              "    }\n",
              "</style>\n",
              "<table border=\"1\" class=\"dataframe\">\n",
              "  <thead>\n",
              "    <tr style=\"text-align: right;\">\n",
              "      <th></th>\n",
              "      <th>rainfall_-_(mm)</th>\n",
              "      <th>year</th>\n",
              "      <th>statistics</th>\n",
              "      <th>country</th>\n",
              "      <th>iso3</th>\n",
              "    </tr>\n",
              "  </thead>\n",
              "  <tbody>\n",
              "    <tr>\n",
              "      <th>0</th>\n",
              "      <td>27.7</td>\n",
              "      <td>1901</td>\n",
              "      <td>Jan Average</td>\n",
              "      <td>India</td>\n",
              "      <td>IND</td>\n",
              "    </tr>\n",
              "    <tr>\n",
              "      <th>1</th>\n",
              "      <td>20.8</td>\n",
              "      <td>1901</td>\n",
              "      <td>Feb Average</td>\n",
              "      <td>India</td>\n",
              "      <td>IND</td>\n",
              "    </tr>\n",
              "    <tr>\n",
              "      <th>2</th>\n",
              "      <td>20.6</td>\n",
              "      <td>1901</td>\n",
              "      <td>Mar Average</td>\n",
              "      <td>India</td>\n",
              "      <td>IND</td>\n",
              "    </tr>\n",
              "    <tr>\n",
              "      <th>3</th>\n",
              "      <td>24.7</td>\n",
              "      <td>1901</td>\n",
              "      <td>Apr Average</td>\n",
              "      <td>India</td>\n",
              "      <td>IND</td>\n",
              "    </tr>\n",
              "    <tr>\n",
              "      <th>4</th>\n",
              "      <td>52.9</td>\n",
              "      <td>1901</td>\n",
              "      <td>May Average</td>\n",
              "      <td>India</td>\n",
              "      <td>IND</td>\n",
              "    </tr>\n",
              "  </tbody>\n",
              "</table>\n",
              "</div>"
            ],
            "text/plain": [
              "   rainfall_-_(mm)  year    statistics country  iso3\n",
              "0             27.7  1901   Jan Average   India   IND\n",
              "1             20.8  1901   Feb Average   India   IND\n",
              "2             20.6  1901   Mar Average   India   IND\n",
              "3             24.7  1901   Apr Average   India   IND\n",
              "4             52.9  1901   May Average   India   IND"
            ]
          },
          "metadata": {},
          "execution_count": 10
        }
      ]
    },
    {
      "cell_type": "code",
      "metadata": {
        "id": "Ecq75VT-Ns9I",
        "colab": {
          "base_uri": "https://localhost:8080/"
        },
        "outputId": "3c271a07-ddfd-4403-97cc-5e7aa7bac2b8"
      },
      "source": [
        "#checking columns' names after modifications\n",
        "df_pr.columns"
      ],
      "execution_count": 11,
      "outputs": [
        {
          "output_type": "execute_result",
          "data": {
            "text/plain": [
              "Index(['rainfall_-_(mm)', 'year', 'statistics', 'country', 'iso3'], dtype='object')"
            ]
          },
          "metadata": {},
          "execution_count": 11
        }
      ]
    },
    {
      "cell_type": "code",
      "metadata": {
        "id": "2hsaz_bCKj1-"
      },
      "source": [
        "#defining a function to replace values inside the index column \n",
        "def replace (col): \n",
        "    return col.replace(\" Average\",'').strip()"
      ],
      "execution_count": 12,
      "outputs": []
    },
    {
      "cell_type": "code",
      "metadata": {
        "id": "jWlf_vRKQsI6"
      },
      "source": [
        " #creating a dict to redefining some columns' names\n",
        " renomeando = {'rainfall_-_(mm)':'rainfall_mm','statistics':'month'}"
      ],
      "execution_count": 13,
      "outputs": []
    },
    {
      "cell_type": "code",
      "metadata": {
        "id": "ZIKE35ghvJXQ"
      },
      "source": [
        "#defining a function to create a conditional new column\n",
        "def year_season(row):\n",
        "    seasons = {\"spring\":[\"Mar\",\"Apr\",\"May\"], 'summer':[\"Jun\",\"Jul\",\"Aug\"],'autumn':['Sep',\"Oct\",\"Nov\"],'winter':[\"Dec\",\"Jan\",\"Feb\"]}\n",
        "    key_list = list(seasons.keys())\n",
        "    val_list = list(seasons.values())\n",
        "    for meses in seasons.values():\n",
        "        for m in meses:\n",
        "            if m == row['month']:\n",
        "                indice =val_list.index(meses)\n",
        "                #print(indice,meses)\n",
        "                #print(key_list[indice])\n",
        "                return key_list[indice]"
      ],
      "execution_count": 14,
      "outputs": []
    },
    {
      "cell_type": "code",
      "metadata": {
        "id": "zSJkh-nTKco6",
        "colab": {
          "base_uri": "https://localhost:8080/",
          "height": 204
        },
        "outputId": "e8379baf-0e89-4377-abac-377ee26c82fc"
      },
      "source": [
        "#Filtering years from 1960 onwards, cleaning and renaming columns\n",
        "df_pr_test_season=\\\n",
        "(\n",
        "    df_pr.loc[df_pr['year']>=1960,:]\n",
        "    .rename(columns=renomeando)\n",
        "    .set_index(\"month\")\n",
        "    .rename(index=replace)\n",
        "    .reset_index()\n",
        "    \n",
        "    \n",
        ")\n",
        "\n",
        "df_pr_test_season.loc[::,['country','iso3']]=df_pr_test_season.loc[::,['country','iso3']].applymap(lambda x: x.strip())\n",
        "\n",
        "df_pr_test_season.head()"
      ],
      "execution_count": 15,
      "outputs": [
        {
          "output_type": "execute_result",
          "data": {
            "text/html": [
              "<div>\n",
              "<style scoped>\n",
              "    .dataframe tbody tr th:only-of-type {\n",
              "        vertical-align: middle;\n",
              "    }\n",
              "\n",
              "    .dataframe tbody tr th {\n",
              "        vertical-align: top;\n",
              "    }\n",
              "\n",
              "    .dataframe thead th {\n",
              "        text-align: right;\n",
              "    }\n",
              "</style>\n",
              "<table border=\"1\" class=\"dataframe\">\n",
              "  <thead>\n",
              "    <tr style=\"text-align: right;\">\n",
              "      <th></th>\n",
              "      <th>month</th>\n",
              "      <th>rainfall_mm</th>\n",
              "      <th>year</th>\n",
              "      <th>country</th>\n",
              "      <th>iso3</th>\n",
              "    </tr>\n",
              "  </thead>\n",
              "  <tbody>\n",
              "    <tr>\n",
              "      <th>0</th>\n",
              "      <td>Jan</td>\n",
              "      <td>12.0</td>\n",
              "      <td>1960</td>\n",
              "      <td>India</td>\n",
              "      <td>IND</td>\n",
              "    </tr>\n",
              "    <tr>\n",
              "      <th>1</th>\n",
              "      <td>Feb</td>\n",
              "      <td>2.9</td>\n",
              "      <td>1960</td>\n",
              "      <td>India</td>\n",
              "      <td>IND</td>\n",
              "    </tr>\n",
              "    <tr>\n",
              "      <th>2</th>\n",
              "      <td>Mar</td>\n",
              "      <td>22.6</td>\n",
              "      <td>1960</td>\n",
              "      <td>India</td>\n",
              "      <td>IND</td>\n",
              "    </tr>\n",
              "    <tr>\n",
              "      <th>3</th>\n",
              "      <td>Apr</td>\n",
              "      <td>17.1</td>\n",
              "      <td>1960</td>\n",
              "      <td>India</td>\n",
              "      <td>IND</td>\n",
              "    </tr>\n",
              "    <tr>\n",
              "      <th>4</th>\n",
              "      <td>May</td>\n",
              "      <td>46.8</td>\n",
              "      <td>1960</td>\n",
              "      <td>India</td>\n",
              "      <td>IND</td>\n",
              "    </tr>\n",
              "  </tbody>\n",
              "</table>\n",
              "</div>"
            ],
            "text/plain": [
              "  month  rainfall_mm  year country iso3\n",
              "0   Jan         12.0  1960   India  IND\n",
              "1   Feb          2.9  1960   India  IND\n",
              "2   Mar         22.6  1960   India  IND\n",
              "3   Apr         17.1  1960   India  IND\n",
              "4   May         46.8  1960   India  IND"
            ]
          },
          "metadata": {},
          "execution_count": 15
        }
      ]
    },
    {
      "cell_type": "code",
      "metadata": {
        "id": "j92_a-smVEC-",
        "colab": {
          "base_uri": "https://localhost:8080/",
          "height": 35
        },
        "outputId": "a854ca03-1ccb-4b61-98f8-eeed2c7a1723"
      },
      "source": [
        "df_pr_test_season.iloc[0,3]"
      ],
      "execution_count": 16,
      "outputs": [
        {
          "output_type": "execute_result",
          "data": {
            "application/vnd.google.colaboratory.intrinsic+json": {
              "type": "string"
            },
            "text/plain": [
              "'India'"
            ]
          },
          "metadata": {},
          "execution_count": 16
        }
      ]
    },
    {
      "cell_type": "code",
      "metadata": {
        "id": "d_Gmx97ZEL2S",
        "colab": {
          "base_uri": "https://localhost:8080/",
          "height": 35
        },
        "outputId": "db4ddacb-c9a8-431b-c430-7461b16fe6b4"
      },
      "source": [
        "df_pr_test_season.loc[::,['country','iso3']].applymap(lambda x: x.strip())\n",
        "df_pr_test_season.country.apply(lambda x: x.strip()).iloc[0]\n"
      ],
      "execution_count": 17,
      "outputs": [
        {
          "output_type": "execute_result",
          "data": {
            "application/vnd.google.colaboratory.intrinsic+json": {
              "type": "string"
            },
            "text/plain": [
              "'India'"
            ]
          },
          "metadata": {},
          "execution_count": 17
        }
      ]
    },
    {
      "cell_type": "code",
      "metadata": {
        "id": "OElv1zQv0eYe"
      },
      "source": [
        "#Including the conditional column: season\n",
        "df_pr_season =df_pr_test_season.assign(season = df_pr_test_season.apply(year_season,axis=1))\n",
        "\n"
      ],
      "execution_count": 18,
      "outputs": []
    },
    {
      "cell_type": "code",
      "metadata": {
        "id": "7OQxsYzv2Hb9",
        "colab": {
          "base_uri": "https://localhost:8080/",
          "height": 419
        },
        "outputId": "d77b318b-48b3-4dcc-af63-94767512be2f"
      },
      "source": [
        "df_pr_season"
      ],
      "execution_count": 19,
      "outputs": [
        {
          "output_type": "execute_result",
          "data": {
            "text/html": [
              "<div>\n",
              "<style scoped>\n",
              "    .dataframe tbody tr th:only-of-type {\n",
              "        vertical-align: middle;\n",
              "    }\n",
              "\n",
              "    .dataframe tbody tr th {\n",
              "        vertical-align: top;\n",
              "    }\n",
              "\n",
              "    .dataframe thead th {\n",
              "        text-align: right;\n",
              "    }\n",
              "</style>\n",
              "<table border=\"1\" class=\"dataframe\">\n",
              "  <thead>\n",
              "    <tr style=\"text-align: right;\">\n",
              "      <th></th>\n",
              "      <th>month</th>\n",
              "      <th>rainfall_mm</th>\n",
              "      <th>year</th>\n",
              "      <th>country</th>\n",
              "      <th>iso3</th>\n",
              "      <th>season</th>\n",
              "    </tr>\n",
              "  </thead>\n",
              "  <tbody>\n",
              "    <tr>\n",
              "      <th>0</th>\n",
              "      <td>Jan</td>\n",
              "      <td>12.0</td>\n",
              "      <td>1960</td>\n",
              "      <td>India</td>\n",
              "      <td>IND</td>\n",
              "      <td>winter</td>\n",
              "    </tr>\n",
              "    <tr>\n",
              "      <th>1</th>\n",
              "      <td>Feb</td>\n",
              "      <td>2.9</td>\n",
              "      <td>1960</td>\n",
              "      <td>India</td>\n",
              "      <td>IND</td>\n",
              "      <td>winter</td>\n",
              "    </tr>\n",
              "    <tr>\n",
              "      <th>2</th>\n",
              "      <td>Mar</td>\n",
              "      <td>22.6</td>\n",
              "      <td>1960</td>\n",
              "      <td>India</td>\n",
              "      <td>IND</td>\n",
              "      <td>spring</td>\n",
              "    </tr>\n",
              "    <tr>\n",
              "      <th>3</th>\n",
              "      <td>Apr</td>\n",
              "      <td>17.1</td>\n",
              "      <td>1960</td>\n",
              "      <td>India</td>\n",
              "      <td>IND</td>\n",
              "      <td>spring</td>\n",
              "    </tr>\n",
              "    <tr>\n",
              "      <th>4</th>\n",
              "      <td>May</td>\n",
              "      <td>46.8</td>\n",
              "      <td>1960</td>\n",
              "      <td>India</td>\n",
              "      <td>IND</td>\n",
              "      <td>spring</td>\n",
              "    </tr>\n",
              "    <tr>\n",
              "      <th>...</th>\n",
              "      <td>...</td>\n",
              "      <td>...</td>\n",
              "      <td>...</td>\n",
              "      <td>...</td>\n",
              "      <td>...</td>\n",
              "      <td>...</td>\n",
              "    </tr>\n",
              "    <tr>\n",
              "      <th>727</th>\n",
              "      <td>Aug</td>\n",
              "      <td>291.2</td>\n",
              "      <td>2020</td>\n",
              "      <td>India</td>\n",
              "      <td>IND</td>\n",
              "      <td>summer</td>\n",
              "    </tr>\n",
              "    <tr>\n",
              "      <th>728</th>\n",
              "      <td>Sep</td>\n",
              "      <td>195.4</td>\n",
              "      <td>2020</td>\n",
              "      <td>India</td>\n",
              "      <td>IND</td>\n",
              "      <td>autumn</td>\n",
              "    </tr>\n",
              "    <tr>\n",
              "      <th>729</th>\n",
              "      <td>Oct</td>\n",
              "      <td>85.0</td>\n",
              "      <td>2020</td>\n",
              "      <td>India</td>\n",
              "      <td>IND</td>\n",
              "      <td>autumn</td>\n",
              "    </tr>\n",
              "    <tr>\n",
              "      <th>730</th>\n",
              "      <td>Nov</td>\n",
              "      <td>26.9</td>\n",
              "      <td>2020</td>\n",
              "      <td>India</td>\n",
              "      <td>IND</td>\n",
              "      <td>autumn</td>\n",
              "    </tr>\n",
              "    <tr>\n",
              "      <th>731</th>\n",
              "      <td>Dec</td>\n",
              "      <td>11.9</td>\n",
              "      <td>2020</td>\n",
              "      <td>India</td>\n",
              "      <td>IND</td>\n",
              "      <td>winter</td>\n",
              "    </tr>\n",
              "  </tbody>\n",
              "</table>\n",
              "<p>732 rows × 6 columns</p>\n",
              "</div>"
            ],
            "text/plain": [
              "    month  rainfall_mm  year country iso3  season\n",
              "0     Jan         12.0  1960   India  IND  winter\n",
              "1     Feb          2.9  1960   India  IND  winter\n",
              "2     Mar         22.6  1960   India  IND  spring\n",
              "3     Apr         17.1  1960   India  IND  spring\n",
              "4     May         46.8  1960   India  IND  spring\n",
              "..    ...          ...   ...     ...  ...     ...\n",
              "727   Aug        291.2  2020   India  IND  summer\n",
              "728   Sep        195.4  2020   India  IND  autumn\n",
              "729   Oct         85.0  2020   India  IND  autumn\n",
              "730   Nov         26.9  2020   India  IND  autumn\n",
              "731   Dec         11.9  2020   India  IND  winter\n",
              "\n",
              "[732 rows x 6 columns]"
            ]
          },
          "metadata": {},
          "execution_count": 19
        }
      ]
    },
    {
      "cell_type": "code",
      "metadata": {
        "id": "XJq4ONe02LW8",
        "colab": {
          "base_uri": "https://localhost:8080/",
          "height": 688
        },
        "outputId": "7e2a612c-45ab-4b04-dbf4-04da8311931e"
      },
      "source": [
        "#Verifying NAN values\n",
        "msno.matrix(df_pr_season)"
      ],
      "execution_count": 20,
      "outputs": [
        {
          "output_type": "execute_result",
          "data": {
            "text/plain": [
              "<matplotlib.axes._subplots.AxesSubplot at 0x7f65dd497210>"
            ]
          },
          "metadata": {},
          "execution_count": 20
        },
        {
          "output_type": "display_data",
          "data": {
            "image/png": "[encoded data removed]",
            "text/plain": [
              "<Figure size 1800x720 with 2 Axes>"
            ]
          },
          "metadata": {
            "needs_background": "light"
          }
        }
      ]
    },
    {
      "cell_type": "code",
      "metadata": {
        "id": "pSVxcgVn_QE9"
      },
      "source": [
        "df_pr_season.to_csv(f\"/content/drive/MyDrive/Temperatura_Precipitacao_analises/limpos/pr_avg/{tipo}{anos}{pais}_seasons.csv\", index=False)"
      ],
      "execution_count": 21,
      "outputs": []
    },
    {
      "cell_type": "markdown",
      "metadata": {
        "id": "AahQ8imU7q5p"
      },
      "source": [
        "**Improving the memory usage**\n",
        "\n",
        "---"
      ]
    },
    {
      "cell_type": "code",
      "metadata": {
        "id": "xWq12DeiwoWn",
        "colab": {
          "base_uri": "https://localhost:8080/"
        },
        "outputId": "1d165e12-85f1-4364-f47e-e1a5327dfffe"
      },
      "source": [
        "#Verifying the shape\n",
        "df_pr_season.shape\n"
      ],
      "execution_count": 22,
      "outputs": [
        {
          "output_type": "execute_result",
          "data": {
            "text/plain": [
              "(732, 6)"
            ]
          },
          "metadata": {},
          "execution_count": 22
        }
      ]
    },
    {
      "cell_type": "code",
      "metadata": {
        "id": "DMXaIEhJwuZ1",
        "colab": {
          "base_uri": "https://localhost:8080/"
        },
        "outputId": "8816f4dc-789c-4639-fcae-88aba6ec26e5"
      },
      "source": [
        "#Verifying types and memory usage\n",
        "original_info = df_pr_season.info()"
      ],
      "execution_count": 23,
      "outputs": [
        {
          "output_type": "stream",
          "name": "stdout",
          "text": [
            "<class 'pandas.core.frame.DataFrame'>\n",
            "RangeIndex: 732 entries, 0 to 731\n",
            "Data columns (total 6 columns):\n",
            " #   Column       Non-Null Count  Dtype  \n",
            "---  ------       --------------  -----  \n",
            " 0   month        732 non-null    object \n",
            " 1   rainfall_mm  732 non-null    float64\n",
            " 2   year         732 non-null    int64  \n",
            " 3   country      732 non-null    object \n",
            " 4   iso3         732 non-null    object \n",
            " 5   season       732 non-null    object \n",
            "dtypes: float64(1), int64(1), object(4)\n",
            "memory usage: 34.4+ KB\n"
          ]
        }
      ]
    },
    {
      "cell_type": "code",
      "metadata": {
        "id": "BOzbWk0Ow2Dd"
      },
      "source": [
        "#Verifying memory usage\n",
        "original_mem = df_pr_season.memory_usage(deep=True)\n"
      ],
      "execution_count": 24,
      "outputs": []
    },
    {
      "cell_type": "code",
      "metadata": {
        "id": "1RGtPlZTzQPM",
        "colab": {
          "base_uri": "https://localhost:8080/"
        },
        "outputId": "6f3e90cc-6e39-49ee-8e76-5d9c180de107"
      },
      "source": [
        "#Checking the low cardinality\n",
        "df_pr_season.select_dtypes(include=[\"object\"]).nunique()"
      ],
      "execution_count": 25,
      "outputs": [
        {
          "output_type": "execute_result",
          "data": {
            "text/plain": [
              "month      12\n",
              "country     1\n",
              "iso3        1\n",
              "season      4\n",
              "dtype: int64"
            ]
          },
          "metadata": {},
          "execution_count": 25
        }
      ]
    },
    {
      "cell_type": "code",
      "metadata": {
        "id": "YYhSvqHv10a8",
        "colab": {
          "base_uri": "https://localhost:8080/",
          "height": 419
        },
        "outputId": "af0b7025-4381-4aeb-a543-8bd0183fd553"
      },
      "source": [
        "#Changing the columns types\n",
        "col_to_category = ['month',\"country\",\"iso3\",\"season\"]\n",
        "\n",
        "df_pr_season[\"year\"]= df_pr_season[\"year\"].astype(\"int32\")\n",
        "df_pr_season[col_to_category]=df_pr_season[col_to_category].astype(\"category\")\n",
        "\n",
        "df_pr_season"
      ],
      "execution_count": 26,
      "outputs": [
        {
          "output_type": "execute_result",
          "data": {
            "text/html": [
              "<div>\n",
              "<style scoped>\n",
              "    .dataframe tbody tr th:only-of-type {\n",
              "        vertical-align: middle;\n",
              "    }\n",
              "\n",
              "    .dataframe tbody tr th {\n",
              "        vertical-align: top;\n",
              "    }\n",
              "\n",
              "    .dataframe thead th {\n",
              "        text-align: right;\n",
              "    }\n",
              "</style>\n",
              "<table border=\"1\" class=\"dataframe\">\n",
              "  <thead>\n",
              "    <tr style=\"text-align: right;\">\n",
              "      <th></th>\n",
              "      <th>month</th>\n",
              "      <th>rainfall_mm</th>\n",
              "      <th>year</th>\n",
              "      <th>country</th>\n",
              "      <th>iso3</th>\n",
              "      <th>season</th>\n",
              "    </tr>\n",
              "  </thead>\n",
              "  <tbody>\n",
              "    <tr>\n",
              "      <th>0</th>\n",
              "      <td>Jan</td>\n",
              "      <td>12.0</td>\n",
              "      <td>1960</td>\n",
              "      <td>India</td>\n",
              "      <td>IND</td>\n",
              "      <td>winter</td>\n",
              "    </tr>\n",
              "    <tr>\n",
              "      <th>1</th>\n",
              "      <td>Feb</td>\n",
              "      <td>2.9</td>\n",
              "      <td>1960</td>\n",
              "      <td>India</td>\n",
              "      <td>IND</td>\n",
              "      <td>winter</td>\n",
              "    </tr>\n",
              "    <tr>\n",
              "      <th>2</th>\n",
              "      <td>Mar</td>\n",
              "      <td>22.6</td>\n",
              "      <td>1960</td>\n",
              "      <td>India</td>\n",
              "      <td>IND</td>\n",
              "      <td>spring</td>\n",
              "    </tr>\n",
              "    <tr>\n",
              "      <th>3</th>\n",
              "      <td>Apr</td>\n",
              "      <td>17.1</td>\n",
              "      <td>1960</td>\n",
              "      <td>India</td>\n",
              "      <td>IND</td>\n",
              "      <td>spring</td>\n",
              "    </tr>\n",
              "    <tr>\n",
              "      <th>4</th>\n",
              "      <td>May</td>\n",
              "      <td>46.8</td>\n",
              "      <td>1960</td>\n",
              "      <td>India</td>\n",
              "      <td>IND</td>\n",
              "      <td>spring</td>\n",
              "    </tr>\n",
              "    <tr>\n",
              "      <th>...</th>\n",
              "      <td>...</td>\n",
              "      <td>...</td>\n",
              "      <td>...</td>\n",
              "      <td>...</td>\n",
              "      <td>...</td>\n",
              "      <td>...</td>\n",
              "    </tr>\n",
              "    <tr>\n",
              "      <th>727</th>\n",
              "      <td>Aug</td>\n",
              "      <td>291.2</td>\n",
              "      <td>2020</td>\n",
              "      <td>India</td>\n",
              "      <td>IND</td>\n",
              "      <td>summer</td>\n",
              "    </tr>\n",
              "    <tr>\n",
              "      <th>728</th>\n",
              "      <td>Sep</td>\n",
              "      <td>195.4</td>\n",
              "      <td>2020</td>\n",
              "      <td>India</td>\n",
              "      <td>IND</td>\n",
              "      <td>autumn</td>\n",
              "    </tr>\n",
              "    <tr>\n",
              "      <th>729</th>\n",
              "      <td>Oct</td>\n",
              "      <td>85.0</td>\n",
              "      <td>2020</td>\n",
              "      <td>India</td>\n",
              "      <td>IND</td>\n",
              "      <td>autumn</td>\n",
              "    </tr>\n",
              "    <tr>\n",
              "      <th>730</th>\n",
              "      <td>Nov</td>\n",
              "      <td>26.9</td>\n",
              "      <td>2020</td>\n",
              "      <td>India</td>\n",
              "      <td>IND</td>\n",
              "      <td>autumn</td>\n",
              "    </tr>\n",
              "    <tr>\n",
              "      <th>731</th>\n",
              "      <td>Dec</td>\n",
              "      <td>11.9</td>\n",
              "      <td>2020</td>\n",
              "      <td>India</td>\n",
              "      <td>IND</td>\n",
              "      <td>winter</td>\n",
              "    </tr>\n",
              "  </tbody>\n",
              "</table>\n",
              "<p>732 rows × 6 columns</p>\n",
              "</div>"
            ],
            "text/plain": [
              "    month  rainfall_mm  year country iso3  season\n",
              "0     Jan         12.0  1960   India  IND  winter\n",
              "1     Feb          2.9  1960   India  IND  winter\n",
              "2     Mar         22.6  1960   India  IND  spring\n",
              "3     Apr         17.1  1960   India  IND  spring\n",
              "4     May         46.8  1960   India  IND  spring\n",
              "..    ...          ...   ...     ...  ...     ...\n",
              "727   Aug        291.2  2020   India  IND  summer\n",
              "728   Sep        195.4  2020   India  IND  autumn\n",
              "729   Oct         85.0  2020   India  IND  autumn\n",
              "730   Nov         26.9  2020   India  IND  autumn\n",
              "731   Dec         11.9  2020   India  IND  winter\n",
              "\n",
              "[732 rows x 6 columns]"
            ]
          },
          "metadata": {},
          "execution_count": 26
        }
      ]
    },
    {
      "cell_type": "markdown",
      "metadata": {
        "id": "nRNWnyol7amc"
      },
      "source": [
        "Comparing Memory Usage"
      ]
    },
    {
      "cell_type": "code",
      "metadata": {
        "id": "FPpsHIaI2_U9"
      },
      "source": [
        "#Verifying new memory usage\n",
        "new_memory = df_pr_season.memory_usage(deep=True)\n"
      ],
      "execution_count": 27,
      "outputs": []
    },
    {
      "cell_type": "code",
      "metadata": {
        "id": "YnTrlDPZ3FBs",
        "colab": {
          "base_uri": "https://localhost:8080/"
        },
        "outputId": "40d28315-b328-49ac-f72d-3bd9b301699a"
      },
      "source": [
        "# Comparying memory usage\n",
        "old_value ='\\033[91m'\n",
        "new_value ='\\033[1;32m'\n",
        "normal_value = '\\033[0m'\n",
        "print(old_value + \"This is the original memory usage\" + normal_value)\n",
        "print(original_mem)\n",
        "print(new_value + \"\\nAnd this is the new memory usage\" + normal_value)\n",
        "print(new_memory)\n"
      ],
      "execution_count": 28,
      "outputs": [
        {
          "output_type": "stream",
          "name": "stdout",
          "text": [
            "\u001b[91mThis is the original memory usage\u001b[0m\n",
            "Index            128\n",
            "month          43920\n",
            "rainfall_mm     5856\n",
            "year            5856\n",
            "country        45384\n",
            "iso3           43920\n",
            "season         46116\n",
            "dtype: int64\n",
            "\u001b[1;32m\n",
            "And this is the new memory usage\u001b[0m\n",
            "Index           128\n",
            "month          1772\n",
            "rainfall_mm    5856\n",
            "year           2928\n",
            "country         874\n",
            "iso3            872\n",
            "season         1144\n",
            "dtype: int64\n"
          ]
        }
      ]
    },
    {
      "cell_type": "code",
      "metadata": {
        "id": "fESGgRgI7RWS",
        "colab": {
          "base_uri": "https://localhost:8080/"
        },
        "outputId": "13d1f547-acbb-4c64-d61c-339203852d30"
      },
      "source": [
        "#Checking new info data\n",
        "new_info = df_pr_season.info()\n"
      ],
      "execution_count": 29,
      "outputs": [
        {
          "output_type": "stream",
          "name": "stdout",
          "text": [
            "<class 'pandas.core.frame.DataFrame'>\n",
            "RangeIndex: 732 entries, 0 to 731\n",
            "Data columns (total 6 columns):\n",
            " #   Column       Non-Null Count  Dtype   \n",
            "---  ------       --------------  -----   \n",
            " 0   month        732 non-null    category\n",
            " 1   rainfall_mm  732 non-null    float64 \n",
            " 2   year         732 non-null    int32   \n",
            " 3   country      732 non-null    category\n",
            " 4   iso3         732 non-null    category\n",
            " 5   season       732 non-null    category\n",
            "dtypes: category(4), float64(1), int32(1)\n",
            "memory usage: 12.3 KB\n"
          ]
        }
      ]
    },
    {
      "cell_type": "code",
      "metadata": {
        "id": "m7zwS4rOXzkq",
        "colab": {
          "base_uri": "https://localhost:8080/"
        },
        "outputId": "0ed0d111-82b1-487f-aaf7-3f8f6444c328"
      },
      "source": [
        "#Checking the describe method\n",
        "df_pr_season['rainfall_mm'].describe().T"
      ],
      "execution_count": 30,
      "outputs": [
        {
          "output_type": "execute_result",
          "data": {
            "text/plain": [
              "count    732.000000\n",
              "mean      87.975410\n",
              "std       91.529456\n",
              "min        1.200000\n",
              "25%       15.700000\n",
              "50%       42.200000\n",
              "75%      152.200000\n",
              "max      325.400000\n",
              "Name: rainfall_mm, dtype: float64"
            ]
          },
          "metadata": {},
          "execution_count": 30
        }
      ]
    },
    {
      "cell_type": "markdown",
      "metadata": {
        "id": "802XbvRE6VdE"
      },
      "source": [
        "*PLOTTING YEARS*"
      ]
    },
    {
      "cell_type": "code",
      "metadata": {
        "id": "tfEMMprOsRvb",
        "colab": {
          "base_uri": "https://localhost:8080/",
          "height": 450
        },
        "outputId": "7e5c4600-2ce7-4a86-d092-d48166aee40e"
      },
      "source": [
        "#Defining the df to chart\n",
        "df_pr_season_chart =\\\n",
        "(\n",
        "    df_pr_season.set_index(\"month\")\n",
        ")\n",
        "\n",
        "df_pr_season_chart"
      ],
      "execution_count": 31,
      "outputs": [
        {
          "output_type": "execute_result",
          "data": {
            "text/html": [
              "<div>\n",
              "<style scoped>\n",
              "    .dataframe tbody tr th:only-of-type {\n",
              "        vertical-align: middle;\n",
              "    }\n",
              "\n",
              "    .dataframe tbody tr th {\n",
              "        vertical-align: top;\n",
              "    }\n",
              "\n",
              "    .dataframe thead th {\n",
              "        text-align: right;\n",
              "    }\n",
              "</style>\n",
              "<table border=\"1\" class=\"dataframe\">\n",
              "  <thead>\n",
              "    <tr style=\"text-align: right;\">\n",
              "      <th></th>\n",
              "      <th>rainfall_mm</th>\n",
              "      <th>year</th>\n",
              "      <th>country</th>\n",
              "      <th>iso3</th>\n",
              "      <th>season</th>\n",
              "    </tr>\n",
              "    <tr>\n",
              "      <th>month</th>\n",
              "      <th></th>\n",
              "      <th></th>\n",
              "      <th></th>\n",
              "      <th></th>\n",
              "      <th></th>\n",
              "    </tr>\n",
              "  </thead>\n",
              "  <tbody>\n",
              "    <tr>\n",
              "      <th>Jan</th>\n",
              "      <td>12.0</td>\n",
              "      <td>1960</td>\n",
              "      <td>India</td>\n",
              "      <td>IND</td>\n",
              "      <td>winter</td>\n",
              "    </tr>\n",
              "    <tr>\n",
              "      <th>Feb</th>\n",
              "      <td>2.9</td>\n",
              "      <td>1960</td>\n",
              "      <td>India</td>\n",
              "      <td>IND</td>\n",
              "      <td>winter</td>\n",
              "    </tr>\n",
              "    <tr>\n",
              "      <th>Mar</th>\n",
              "      <td>22.6</td>\n",
              "      <td>1960</td>\n",
              "      <td>India</td>\n",
              "      <td>IND</td>\n",
              "      <td>spring</td>\n",
              "    </tr>\n",
              "    <tr>\n",
              "      <th>Apr</th>\n",
              "      <td>17.1</td>\n",
              "      <td>1960</td>\n",
              "      <td>India</td>\n",
              "      <td>IND</td>\n",
              "      <td>spring</td>\n",
              "    </tr>\n",
              "    <tr>\n",
              "      <th>May</th>\n",
              "      <td>46.8</td>\n",
              "      <td>1960</td>\n",
              "      <td>India</td>\n",
              "      <td>IND</td>\n",
              "      <td>spring</td>\n",
              "    </tr>\n",
              "    <tr>\n",
              "      <th>...</th>\n",
              "      <td>...</td>\n",
              "      <td>...</td>\n",
              "      <td>...</td>\n",
              "      <td>...</td>\n",
              "      <td>...</td>\n",
              "    </tr>\n",
              "    <tr>\n",
              "      <th>Aug</th>\n",
              "      <td>291.2</td>\n",
              "      <td>2020</td>\n",
              "      <td>India</td>\n",
              "      <td>IND</td>\n",
              "      <td>summer</td>\n",
              "    </tr>\n",
              "    <tr>\n",
              "      <th>Sep</th>\n",
              "      <td>195.4</td>\n",
              "      <td>2020</td>\n",
              "      <td>India</td>\n",
              "      <td>IND</td>\n",
              "      <td>autumn</td>\n",
              "    </tr>\n",
              "    <tr>\n",
              "      <th>Oct</th>\n",
              "      <td>85.0</td>\n",
              "      <td>2020</td>\n",
              "      <td>India</td>\n",
              "      <td>IND</td>\n",
              "      <td>autumn</td>\n",
              "    </tr>\n",
              "    <tr>\n",
              "      <th>Nov</th>\n",
              "      <td>26.9</td>\n",
              "      <td>2020</td>\n",
              "      <td>India</td>\n",
              "      <td>IND</td>\n",
              "      <td>autumn</td>\n",
              "    </tr>\n",
              "    <tr>\n",
              "      <th>Dec</th>\n",
              "      <td>11.9</td>\n",
              "      <td>2020</td>\n",
              "      <td>India</td>\n",
              "      <td>IND</td>\n",
              "      <td>winter</td>\n",
              "    </tr>\n",
              "  </tbody>\n",
              "</table>\n",
              "<p>732 rows × 5 columns</p>\n",
              "</div>"
            ],
            "text/plain": [
              "       rainfall_mm  year country iso3  season\n",
              "month                                        \n",
              "Jan           12.0  1960   India  IND  winter\n",
              "Feb            2.9  1960   India  IND  winter\n",
              "Mar           22.6  1960   India  IND  spring\n",
              "Apr           17.1  1960   India  IND  spring\n",
              "May           46.8  1960   India  IND  spring\n",
              "...            ...   ...     ...  ...     ...\n",
              "Aug          291.2  2020   India  IND  summer\n",
              "Sep          195.4  2020   India  IND  autumn\n",
              "Oct           85.0  2020   India  IND  autumn\n",
              "Nov           26.9  2020   India  IND  autumn\n",
              "Dec           11.9  2020   India  IND  winter\n",
              "\n",
              "[732 rows x 5 columns]"
            ]
          },
          "metadata": {},
          "execution_count": 31
        }
      ]
    },
    {
      "cell_type": "code",
      "metadata": {
        "id": "fS0XHoydGwOz"
      },
      "source": [
        "#Importing the package and defining the colors to plot\n",
        "import matplotlib.dates as mdt\n",
        "blue = '#99ddee'\n",
        "white = '#ffffff'"
      ],
      "execution_count": 32,
      "outputs": []
    },
    {
      "cell_type": "code",
      "metadata": {
        "id": "C7lY59K_Jaia"
      },
      "source": [
        "#Defining the plot's function\n",
        "def plot_year(ax,temp,years):\n",
        "    ax.set_facecolor(blue)\n",
        "    ax.spines['top'].set_visible(False)\n",
        "    ax.spines['right'].set_visible(False)\n",
        "    ax.spines['bottom'].set_visible(False)\n",
        "    ax.spines['left'].set_visible(False)\n",
        "    filtro_1 = df_pr_season_chart.year == y\n",
        "    ax.plot(df_pr_season_chart.index[filtro_1],df_pr_season_chart.loc[filtro_1,'rainfall_mm'].values)\n",
        "    ax.tick_params(axis='x', colors=white)\n",
        "    ax.tick_params(axis='y', colors=white)\n",
        "    ax.set_ylabel('Rainfall (mm)', color=white)\n",
        "    ax.set_title(f\"Year {y}\", color=white, fontweight='bold')\n",
        "    ax.fill_between(df_pr_season_chart.index,min(df_pr_season_chart['rainfall_mm']), max(df_pr_season_chart['rainfall_mm'])+5,  facecolor='white' )\n"
      ],
      "execution_count": 33,
      "outputs": []
    },
    {
      "cell_type": "code",
      "metadata": {
        "id": "mMsGORGJ9iT7"
      },
      "source": [
        "df_pr_season_chart_x = df_pr_season_chart.reset_index()"
      ],
      "execution_count": 34,
      "outputs": []
    },
    {
      "cell_type": "code",
      "metadata": {
        "id": "whFjj7zHRFjg"
      },
      "source": [
        "path_chart_pr = '/content/drive/MyDrive/Temperatura_Precipitacao_analises/charts/pr_avg/'"
      ],
      "execution_count": 35,
      "outputs": []
    },
    {
      "cell_type": "code",
      "metadata": {
        "id": "R6wrJIDcThze",
        "colab": {
          "base_uri": "https://localhost:8080/",
          "height": 1000
        },
        "outputId": "955cc169-477a-46ee-b30b-151297e61339"
      },
      "source": [
        "#Ploting the years\n",
        "years = range(2000,2020+1)\n",
        "fig, axs = plt.subplots(ncols =3, nrows = int(len(years)/3),figsize=(20,25), linewidth = 5, facecolor = blue)\n",
        "\n",
        "axs = axs.flatten()\n",
        "max_val = None\n",
        "max_data = None\n",
        "max_ax = None\n",
        "for i, y in enumerate(years):\n",
        "\n",
        "    ax= axs[i]\n",
        " \n",
        "    data_1=\\\n",
        "    (\n",
        "        df_pr_season_chart_x.assign(YEAR=pd.to_datetime(df_pr_season_chart_x.year))\n",
        "        .set_index(\"year\")\n",
        "        .loc[y]\n",
        "        .rainfall_mm\n",
        "        .interpolate()  \n",
        "    )\n",
        " \n",
        "\n",
        "    if max_val is None or max_val < data_1.max():\n",
        "        max_val = data_1.max()\n",
        "        max_data = data_1\n",
        "        max_ax = ax\n",
        "\n",
        "    ax.set_ylim(min(data_1.values), max((data_1.values))+5)\n",
        "    years = {y}\n",
        "    plot_year(ax, data_1, years)\n",
        "\n",
        "\n",
        "fig.suptitle(f'Rainfall (mm) {pais}', color='white', fontweight='bold',fontsize=20 )\n",
        "fig.tight_layout( rect= [0,0.03, 1, 0.95])\n",
        "fig.savefig(f'{path_chart_pr}Rainfall(mm) by Year {pais}.png', dpi=300, facecolor=blue)\n",
        "\n"
      ],
      "execution_count": 36,
      "outputs": [
        {
          "output_type": "display_data",
          "data": {
            "image/png": "[encoded data removed]",
            "text/plain": [
              "<Figure size 1440x1800 with 21 Axes>"
            ]
          },
          "metadata": {}
        }
      ]
    },
    {
      "cell_type": "markdown",
      "metadata": {
        "id": "Sfk14hen5-bl"
      },
      "source": [
        "*PLOTTING QUARTILES*"
      ]
    },
    {
      "cell_type": "code",
      "metadata": {
        "id": "QzTFOyt7jCXC"
      },
      "source": [
        "#Defining data to Seasons' Quartile\n",
        "pr_season = ['rainfall_mm','season']\n",
        "df_pr_season= df_pr_season[pr_season]\n"
      ],
      "execution_count": 37,
      "outputs": []
    },
    {
      "cell_type": "code",
      "metadata": {
        "id": "44Wj6vvbkUtK",
        "colab": {
          "base_uri": "https://localhost:8080/",
          "height": 427
        },
        "outputId": "0533f2bd-1ef7-4936-d603-801dd5dfa35b"
      },
      "source": [
        "#Ploting Quartiles\n",
        "fig,(ax1,ax2)=plt.subplots(1,2,figsize=(20,6))\n",
        "fig.suptitle(f\"Rainfall (MM) Seasons'Quartiles {pais}\", size=20, y=1.00)\n",
        "df_pr_season.pivot(columns='season').plot.box(ax=ax1,title=\"Seasons' Quartiles\")\n",
        "df_pr_season['rainfall_mm'].plot.box(ax=ax2, title=\"General Quartile\")\n",
        "fig.savefig(f\"{path_chart_pr}{pais} Rainfall (MM) Seasons'Quartiles\")"
      ],
      "execution_count": 38,
      "outputs": [
        {
          "output_type": "display_data",
          "data": {
            "image/png": "[encoded data removed]",
            "text/plain": [
              "<Figure size 1440x432 with 2 Axes>"
            ]
          },
          "metadata": {
            "needs_background": "light"
          }
        }
      ]
    },
    {
      "cell_type": "code",
      "metadata": {
        "id": "TI7Z9z_X_Zl7"
      },
      "source": [
        "country=df_pr_season_chart.iloc[0,2]\n"
      ],
      "execution_count": 39,
      "outputs": []
    },
    {
      "cell_type": "code",
      "metadata": {
        "id": "G3dyhCQj7h7U"
      },
      "source": [
        "iso3=df_pr_season_chart.iloc[0,3]\n"
      ],
      "execution_count": 40,
      "outputs": []
    },
    {
      "cell_type": "code",
      "metadata": {
        "id": "epDdzPjD_Zej",
        "colab": {
          "base_uri": "https://localhost:8080/",
          "height": 35
        },
        "outputId": "c4a78c3d-fe5e-49d5-e738-ebe58a8a2bab"
      },
      "source": [
        "iso3"
      ],
      "execution_count": 41,
      "outputs": [
        {
          "output_type": "execute_result",
          "data": {
            "application/vnd.google.colaboratory.intrinsic+json": {
              "type": "string"
            },
            "text/plain": [
              "'IND'"
            ]
          },
          "metadata": {},
          "execution_count": 41
        }
      ]
    },
    {
      "cell_type": "code",
      "metadata": {
        "id": "DPllfMjF_a8a",
        "colab": {
          "base_uri": "https://localhost:8080/",
          "height": 35
        },
        "outputId": "33c91259-99e9-44df-d8a8-d1c5b24e92fb"
      },
      "source": [
        "country"
      ],
      "execution_count": 42,
      "outputs": [
        {
          "output_type": "execute_result",
          "data": {
            "application/vnd.google.colaboratory.intrinsic+json": {
              "type": "string"
            },
            "text/plain": [
              "'India'"
            ]
          },
          "metadata": {},
          "execution_count": 42
        }
      ]
    },
    {
      "cell_type": "code",
      "metadata": {
        "id": "WUN-rtp8dzRr",
        "colab": {
          "base_uri": "https://localhost:8080/",
          "height": 235
        },
        "outputId": "58ce045a-c340-4529-ac18-a9f961e86eed"
      },
      "source": [
        "#Defining data to General Quartile\n",
        "general_quartile= df_pr_season['rainfall_mm'].describe()[['min','25%','50%','75%','max']].round(2).to_frame().assign(country=country).assign(iso3=iso3)\n",
        "general_quartile.index.name='quartil'\n",
        "general_quartile"
      ],
      "execution_count": 43,
      "outputs": [
        {
          "output_type": "execute_result",
          "data": {
            "text/html": [
              "<div>\n",
              "<style scoped>\n",
              "    .dataframe tbody tr th:only-of-type {\n",
              "        vertical-align: middle;\n",
              "    }\n",
              "\n",
              "    .dataframe tbody tr th {\n",
              "        vertical-align: top;\n",
              "    }\n",
              "\n",
              "    .dataframe thead th {\n",
              "        text-align: right;\n",
              "    }\n",
              "</style>\n",
              "<table border=\"1\" class=\"dataframe\">\n",
              "  <thead>\n",
              "    <tr style=\"text-align: right;\">\n",
              "      <th></th>\n",
              "      <th>rainfall_mm</th>\n",
              "      <th>country</th>\n",
              "      <th>iso3</th>\n",
              "    </tr>\n",
              "    <tr>\n",
              "      <th>quartil</th>\n",
              "      <th></th>\n",
              "      <th></th>\n",
              "      <th></th>\n",
              "    </tr>\n",
              "  </thead>\n",
              "  <tbody>\n",
              "    <tr>\n",
              "      <th>min</th>\n",
              "      <td>1.2</td>\n",
              "      <td>India</td>\n",
              "      <td>IND</td>\n",
              "    </tr>\n",
              "    <tr>\n",
              "      <th>25%</th>\n",
              "      <td>15.7</td>\n",
              "      <td>India</td>\n",
              "      <td>IND</td>\n",
              "    </tr>\n",
              "    <tr>\n",
              "      <th>50%</th>\n",
              "      <td>42.2</td>\n",
              "      <td>India</td>\n",
              "      <td>IND</td>\n",
              "    </tr>\n",
              "    <tr>\n",
              "      <th>75%</th>\n",
              "      <td>152.2</td>\n",
              "      <td>India</td>\n",
              "      <td>IND</td>\n",
              "    </tr>\n",
              "    <tr>\n",
              "      <th>max</th>\n",
              "      <td>325.4</td>\n",
              "      <td>India</td>\n",
              "      <td>IND</td>\n",
              "    </tr>\n",
              "  </tbody>\n",
              "</table>\n",
              "</div>"
            ],
            "text/plain": [
              "         rainfall_mm country iso3\n",
              "quartil                          \n",
              "min              1.2   India  IND\n",
              "25%             15.7   India  IND\n",
              "50%             42.2   India  IND\n",
              "75%            152.2   India  IND\n",
              "max            325.4   India  IND"
            ]
          },
          "metadata": {},
          "execution_count": 43
        }
      ]
    },
    {
      "cell_type": "code",
      "metadata": {
        "id": "3aQcDIjuSDFJ"
      },
      "source": [
        "path_quartil_pr ='/content/drive/MyDrive/Temperatura_Precipitacao_analises/notebooks/Quartiles/PR_AVG/'"
      ],
      "execution_count": 44,
      "outputs": []
    },
    {
      "cell_type": "code",
      "metadata": {
        "id": "jXPCzcpyQTqS"
      },
      "source": [
        "general_quartile.to_csv(f\"{path_quartil_pr}{pais}_Rainfall(MM)_General_Quartile.csv\")"
      ],
      "execution_count": 45,
      "outputs": []
    },
    {
      "cell_type": "code",
      "metadata": {
        "id": "dERTQ7YBQy8F",
        "colab": {
          "base_uri": "https://localhost:8080/",
          "height": 235
        },
        "outputId": "26bca14c-2889-4278-cb56-71a6d885b7df"
      },
      "source": [
        "seasons_quartiles=\\\n",
        "(\n",
        "    df_pr_season.pivot(columns='season')\n",
        "    .describe()\n",
        "    .loc[['min','25%','50%','75%',\"max\"]]\n",
        "    .round(2)\n",
        "    \n",
        "    \n",
        ")\n",
        "\n",
        "#quartil_temp_seasons.columns=quartil_temp_seasons.columns.droplevel()\n",
        "seasons_quartiles"
      ],
      "execution_count": 46,
      "outputs": [
        {
          "output_type": "execute_result",
          "data": {
            "text/html": [
              "<div>\n",
              "<style scoped>\n",
              "    .dataframe tbody tr th:only-of-type {\n",
              "        vertical-align: middle;\n",
              "    }\n",
              "\n",
              "    .dataframe tbody tr th {\n",
              "        vertical-align: top;\n",
              "    }\n",
              "\n",
              "    .dataframe thead tr th {\n",
              "        text-align: left;\n",
              "    }\n",
              "</style>\n",
              "<table border=\"1\" class=\"dataframe\">\n",
              "  <thead>\n",
              "    <tr>\n",
              "      <th></th>\n",
              "      <th colspan=\"4\" halign=\"left\">rainfall_mm</th>\n",
              "    </tr>\n",
              "    <tr>\n",
              "      <th>season</th>\n",
              "      <th>autumn</th>\n",
              "      <th>spring</th>\n",
              "      <th>summer</th>\n",
              "      <th>winter</th>\n",
              "    </tr>\n",
              "  </thead>\n",
              "  <tbody>\n",
              "    <tr>\n",
              "      <th>min</th>\n",
              "      <td>9.3</td>\n",
              "      <td>4.80</td>\n",
              "      <td>91.30</td>\n",
              "      <td>1.2</td>\n",
              "    </tr>\n",
              "    <tr>\n",
              "      <th>25%</th>\n",
              "      <td>32.1</td>\n",
              "      <td>19.15</td>\n",
              "      <td>159.75</td>\n",
              "      <td>7.5</td>\n",
              "    </tr>\n",
              "    <tr>\n",
              "      <th>50%</th>\n",
              "      <td>67.3</td>\n",
              "      <td>31.00</td>\n",
              "      <td>233.00</td>\n",
              "      <td>11.6</td>\n",
              "    </tr>\n",
              "    <tr>\n",
              "      <th>75%</th>\n",
              "      <td>141.6</td>\n",
              "      <td>45.40</td>\n",
              "      <td>266.75</td>\n",
              "      <td>15.4</td>\n",
              "    </tr>\n",
              "    <tr>\n",
              "      <th>max</th>\n",
              "      <td>262.2</td>\n",
              "      <td>81.90</td>\n",
              "      <td>325.40</td>\n",
              "      <td>37.4</td>\n",
              "    </tr>\n",
              "  </tbody>\n",
              "</table>\n",
              "</div>"
            ],
            "text/plain": [
              "       rainfall_mm                      \n",
              "season      autumn spring  summer winter\n",
              "min            9.3   4.80   91.30    1.2\n",
              "25%           32.1  19.15  159.75    7.5\n",
              "50%           67.3  31.00  233.00   11.6\n",
              "75%          141.6  45.40  266.75   15.4\n",
              "max          262.2  81.90  325.40   37.4"
            ]
          },
          "metadata": {},
          "execution_count": 46
        }
      ]
    },
    {
      "cell_type": "code",
      "metadata": {
        "id": "SJ5HwFtIsUKm",
        "colab": {
          "base_uri": "https://localhost:8080/",
          "height": 235
        },
        "outputId": "195f5d8c-e932-4b11-e63c-67a86f3f27d7"
      },
      "source": [
        "seasons_quartiles.columns=\\\n",
        "(\n",
        "    seasons_quartiles.columns.droplevel().add_categories(['country','iso3'])\n",
        "       \n",
        ")\n",
        "seasons_quartiles=seasons_quartiles.assign(country=country).assign(iso3=iso3)\n",
        "seasons_quartiles.index.name='quartil'\n",
        "seasons_quartiles"
      ],
      "execution_count": 47,
      "outputs": [
        {
          "output_type": "execute_result",
          "data": {
            "text/html": [
              "<div>\n",
              "<style scoped>\n",
              "    .dataframe tbody tr th:only-of-type {\n",
              "        vertical-align: middle;\n",
              "    }\n",
              "\n",
              "    .dataframe tbody tr th {\n",
              "        vertical-align: top;\n",
              "    }\n",
              "\n",
              "    .dataframe thead th {\n",
              "        text-align: right;\n",
              "    }\n",
              "</style>\n",
              "<table border=\"1\" class=\"dataframe\">\n",
              "  <thead>\n",
              "    <tr style=\"text-align: right;\">\n",
              "      <th>season</th>\n",
              "      <th>autumn</th>\n",
              "      <th>spring</th>\n",
              "      <th>summer</th>\n",
              "      <th>winter</th>\n",
              "      <th>country</th>\n",
              "      <th>iso3</th>\n",
              "    </tr>\n",
              "    <tr>\n",
              "      <th>quartil</th>\n",
              "      <th></th>\n",
              "      <th></th>\n",
              "      <th></th>\n",
              "      <th></th>\n",
              "      <th></th>\n",
              "      <th></th>\n",
              "    </tr>\n",
              "  </thead>\n",
              "  <tbody>\n",
              "    <tr>\n",
              "      <th>min</th>\n",
              "      <td>9.3</td>\n",
              "      <td>4.80</td>\n",
              "      <td>91.30</td>\n",
              "      <td>1.2</td>\n",
              "      <td>India</td>\n",
              "      <td>IND</td>\n",
              "    </tr>\n",
              "    <tr>\n",
              "      <th>25%</th>\n",
              "      <td>32.1</td>\n",
              "      <td>19.15</td>\n",
              "      <td>159.75</td>\n",
              "      <td>7.5</td>\n",
              "      <td>India</td>\n",
              "      <td>IND</td>\n",
              "    </tr>\n",
              "    <tr>\n",
              "      <th>50%</th>\n",
              "      <td>67.3</td>\n",
              "      <td>31.00</td>\n",
              "      <td>233.00</td>\n",
              "      <td>11.6</td>\n",
              "      <td>India</td>\n",
              "      <td>IND</td>\n",
              "    </tr>\n",
              "    <tr>\n",
              "      <th>75%</th>\n",
              "      <td>141.6</td>\n",
              "      <td>45.40</td>\n",
              "      <td>266.75</td>\n",
              "      <td>15.4</td>\n",
              "      <td>India</td>\n",
              "      <td>IND</td>\n",
              "    </tr>\n",
              "    <tr>\n",
              "      <th>max</th>\n",
              "      <td>262.2</td>\n",
              "      <td>81.90</td>\n",
              "      <td>325.40</td>\n",
              "      <td>37.4</td>\n",
              "      <td>India</td>\n",
              "      <td>IND</td>\n",
              "    </tr>\n",
              "  </tbody>\n",
              "</table>\n",
              "</div>"
            ],
            "text/plain": [
              "season   autumn  spring  summer  winter country iso3\n",
              "quartil                                             \n",
              "min         9.3    4.80   91.30     1.2   India  IND\n",
              "25%        32.1   19.15  159.75     7.5   India  IND\n",
              "50%        67.3   31.00  233.00    11.6   India  IND\n",
              "75%       141.6   45.40  266.75    15.4   India  IND\n",
              "max       262.2   81.90  325.40    37.4   India  IND"
            ]
          },
          "metadata": {},
          "execution_count": 47
        }
      ]
    },
    {
      "cell_type": "code",
      "metadata": {
        "id": "L65OkSR-Q2Uk"
      },
      "source": [
        "seasons_quartiles.to_csv(f\"{path_quartil_pr}{pais}_Rainfall(MM)_Seasons_Quartiles.csv\")"
      ],
      "execution_count": 48,
      "outputs": []
    }
  ]
}