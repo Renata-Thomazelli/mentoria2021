{
  "nbformat": 4,
  "nbformat_minor": 0,
  "metadata": {
    "colab": {
      "name": "temperatura_media_analise_PHL.ipynb",
      "provenance": [],
      "collapsed_sections": [],
      "authorship_tag": "ABX9TyPtDayxdgdr0xiAVnq8Xerq",
      "include_colab_link": true
    },
    "kernelspec": {
      "name": "python3",
      "display_name": "Python 3"
    },
    "language_info": {
      "name": "python"
    }
  },
  "cells": [
    {
      "cell_type": "markdown",
      "metadata": {
        "id": "view-in-github",
        "colab_type": "text"
      },
      "source": [
        "<a href=\"https://colab.research.google.com/github/Renata-Thomazelli/mentoria2021/blob/main/temperatura_media_analise_PHL.ipynb\" target=\"_parent\"><img src=\"https://colab.research.google.com/assets/colab-badge.svg\" alt=\"Open In Colab\"/></a>"
      ]
    },
    {
      "cell_type": "markdown",
      "metadata": {
        "id": "5Ui-eWQwEzAL"
      },
      "source": [
        "# <font color='blue'>**Analisando Temperatura média**<font>\n",
        "\n",
        "---"
      ]
    },
    {
      "cell_type": "markdown",
      "metadata": {
        "id": "pgYphlkNrC0J"
      },
      "source": [
        "## <font color='blue'>Importing the Data\n",
        "\n",
        "---"
      ]
    },
    {
      "cell_type": "code",
      "metadata": {
        "colab": {
          "base_uri": "https://localhost:8080/"
        },
        "id": "5gnslj1rECdH",
        "outputId": "6d8e2d9b-b4df-494e-b67f-53c4f18b19a8"
      },
      "source": [
        "# Importing Drive\n",
        "from google.colab import drive\n",
        "\n",
        "drive.mount('/content/drive')"
      ],
      "execution_count": null,
      "outputs": [
        {
          "output_type": "stream",
          "text": [
            "Mounted at /content/drive\n"
          ],
          "name": "stdout"
        }
      ]
    },
    {
      "cell_type": "code",
      "metadata": {
        "id": "fJaoP1feE9ko"
      },
      "source": [
        "#Importing the packages \n",
        "import pandas as pd\n",
        "import numpy as np\n",
        "import chardet\n",
        "import missingno as msno\n",
        "import matplotlib.pyplot as plt\n",
        "%matplotlib inline"
      ],
      "execution_count": null,
      "outputs": []
    },
    {
      "cell_type": "markdown",
      "metadata": {
        "id": "ITBqwNDvFGhx"
      },
      "source": [
        "<font color='blue'> Reading CSV"
      ]
    },
    {
      "cell_type": "code",
      "metadata": {
        "id": "kbMAfoiSFER4"
      },
      "source": [
        "file_path ='/content/drive/MyDrive/Data_Lake/temperatura_preciptacao/'\n",
        "tipo = 'tas_'\n",
        "anos ='1901_2020_'\n",
        "pais = \"PHL\"\n",
        "\n",
        "file = f\"{tipo}{anos}{pais}.csv\""
      ],
      "execution_count": null,
      "outputs": []
    },
    {
      "cell_type": "code",
      "metadata": {
        "colab": {
          "base_uri": "https://localhost:8080/"
        },
        "id": "28FmY9rRGO1i",
        "outputId": "48b1d6fa-50ca-4db3-b6d6-fa2f1861fd9f"
      },
      "source": [
        "with open(f\"{file_path}{file}\", 'rb') as encoding:\n",
        "    r_encoding = chardet.detect(encoding.read(100000))\n",
        "r_encoding"
      ],
      "execution_count": null,
      "outputs": [
        {
          "output_type": "execute_result",
          "data": {
            "text/plain": [
              "{'confidence': 1.0, 'encoding': 'ascii', 'language': ''}"
            ]
          },
          "metadata": {},
          "execution_count": 4
        }
      ]
    },
    {
      "cell_type": "code",
      "metadata": {
        "id": "Mjs-pOIJGjyw"
      },
      "source": [
        "arquivo = f\"{tipo}{pais}\"\n",
        "with open (f\"{file_path}{file}\",'r',encoding=r_encoding['encoding']) as arquivo :\n",
        "  df_tas = pd.read_csv(arquivo)"
      ],
      "execution_count": null,
      "outputs": []
    },
    {
      "cell_type": "markdown",
      "metadata": {
        "id": "600FfiJFGpHZ"
      },
      "source": [
        "<font color='blue'> DataFrame"
      ]
    },
    {
      "cell_type": "code",
      "metadata": {
        "colab": {
          "base_uri": "https://localhost:8080/",
          "height": 419
        },
        "id": "jEhf_rulGPeA",
        "outputId": "a9672158-b6db-4f8f-98fd-456c132af7ec"
      },
      "source": [
        "df_tas"
      ],
      "execution_count": null,
      "outputs": [
        {
          "output_type": "execute_result",
          "data": {
            "text/html": [
              "<div>\n",
              "<style scoped>\n",
              "    .dataframe tbody tr th:only-of-type {\n",
              "        vertical-align: middle;\n",
              "    }\n",
              "\n",
              "    .dataframe tbody tr th {\n",
              "        vertical-align: top;\n",
              "    }\n",
              "\n",
              "    .dataframe thead th {\n",
              "        text-align: right;\n",
              "    }\n",
              "</style>\n",
              "<table border=\"1\" class=\"dataframe\">\n",
              "  <thead>\n",
              "    <tr style=\"text-align: right;\">\n",
              "      <th></th>\n",
              "      <th>Temperature - (Celsius)</th>\n",
              "      <th>Year</th>\n",
              "      <th>Statistics</th>\n",
              "      <th>Country</th>\n",
              "      <th>ISO3</th>\n",
              "    </tr>\n",
              "  </thead>\n",
              "  <tbody>\n",
              "    <tr>\n",
              "      <th>0</th>\n",
              "      <td>25.2</td>\n",
              "      <td>1901</td>\n",
              "      <td>Jan Average</td>\n",
              "      <td>Philippines</td>\n",
              "      <td>PHL</td>\n",
              "    </tr>\n",
              "    <tr>\n",
              "      <th>1</th>\n",
              "      <td>23.9</td>\n",
              "      <td>1901</td>\n",
              "      <td>Feb Average</td>\n",
              "      <td>Philippines</td>\n",
              "      <td>PHL</td>\n",
              "    </tr>\n",
              "    <tr>\n",
              "      <th>2</th>\n",
              "      <td>25.1</td>\n",
              "      <td>1901</td>\n",
              "      <td>Mar Average</td>\n",
              "      <td>Philippines</td>\n",
              "      <td>PHL</td>\n",
              "    </tr>\n",
              "    <tr>\n",
              "      <th>3</th>\n",
              "      <td>26.6</td>\n",
              "      <td>1901</td>\n",
              "      <td>Apr Average</td>\n",
              "      <td>Philippines</td>\n",
              "      <td>PHL</td>\n",
              "    </tr>\n",
              "    <tr>\n",
              "      <th>4</th>\n",
              "      <td>26.9</td>\n",
              "      <td>1901</td>\n",
              "      <td>May Average</td>\n",
              "      <td>Philippines</td>\n",
              "      <td>PHL</td>\n",
              "    </tr>\n",
              "    <tr>\n",
              "      <th>...</th>\n",
              "      <td>...</td>\n",
              "      <td>...</td>\n",
              "      <td>...</td>\n",
              "      <td>...</td>\n",
              "      <td>...</td>\n",
              "    </tr>\n",
              "    <tr>\n",
              "      <th>1435</th>\n",
              "      <td>26.4</td>\n",
              "      <td>2020</td>\n",
              "      <td>Aug Average</td>\n",
              "      <td>Philippines</td>\n",
              "      <td>PHL</td>\n",
              "    </tr>\n",
              "    <tr>\n",
              "      <th>1436</th>\n",
              "      <td>26.7</td>\n",
              "      <td>2020</td>\n",
              "      <td>Sep Average</td>\n",
              "      <td>Philippines</td>\n",
              "      <td>PHL</td>\n",
              "    </tr>\n",
              "    <tr>\n",
              "      <th>1437</th>\n",
              "      <td>25.5</td>\n",
              "      <td>2020</td>\n",
              "      <td>Oct Average</td>\n",
              "      <td>Philippines</td>\n",
              "      <td>PHL</td>\n",
              "    </tr>\n",
              "    <tr>\n",
              "      <th>1438</th>\n",
              "      <td>26.2</td>\n",
              "      <td>2020</td>\n",
              "      <td>Nov Average</td>\n",
              "      <td>Philippines</td>\n",
              "      <td>PHL</td>\n",
              "    </tr>\n",
              "    <tr>\n",
              "      <th>1439</th>\n",
              "      <td>26.0</td>\n",
              "      <td>2020</td>\n",
              "      <td>Dec Average</td>\n",
              "      <td>Philippines</td>\n",
              "      <td>PHL</td>\n",
              "    </tr>\n",
              "  </tbody>\n",
              "</table>\n",
              "<p>1440 rows × 5 columns</p>\n",
              "</div>"
            ],
            "text/plain": [
              "      Temperature - (Celsius)   Year    Statistics       Country  ISO3\n",
              "0                        25.2   1901   Jan Average   Philippines   PHL\n",
              "1                        23.9   1901   Feb Average   Philippines   PHL\n",
              "2                        25.1   1901   Mar Average   Philippines   PHL\n",
              "3                        26.6   1901   Apr Average   Philippines   PHL\n",
              "4                        26.9   1901   May Average   Philippines   PHL\n",
              "...                       ...    ...           ...           ...   ...\n",
              "1435                     26.4   2020   Aug Average   Philippines   PHL\n",
              "1436                     26.7   2020   Sep Average   Philippines   PHL\n",
              "1437                     25.5   2020   Oct Average   Philippines   PHL\n",
              "1438                     26.2   2020   Nov Average   Philippines   PHL\n",
              "1439                     26.0   2020   Dec Average   Philippines   PHL\n",
              "\n",
              "[1440 rows x 5 columns]"
            ]
          },
          "metadata": {},
          "execution_count": 6
        }
      ]
    },
    {
      "cell_type": "code",
      "metadata": {
        "colab": {
          "base_uri": "https://localhost:8080/"
        },
        "id": "dl2UVOODHLNy",
        "outputId": "92cebacd-b4dc-4aa1-b277-a9a2ac03f9b6"
      },
      "source": [
        "#Dataframe size\n",
        "df_tas.shape"
      ],
      "execution_count": null,
      "outputs": [
        {
          "output_type": "execute_result",
          "data": {
            "text/plain": [
              "(1440, 5)"
            ]
          },
          "metadata": {},
          "execution_count": 7
        }
      ]
    },
    {
      "cell_type": "code",
      "metadata": {
        "colab": {
          "base_uri": "https://localhost:8080/"
        },
        "id": "v46JSa5gHs7K",
        "outputId": "0ca2248f-5cf4-4c12-8731-74e619da1ebe"
      },
      "source": [
        "#Dataframe informations\n",
        "df_tas.info()"
      ],
      "execution_count": null,
      "outputs": [
        {
          "output_type": "stream",
          "text": [
            "<class 'pandas.core.frame.DataFrame'>\n",
            "RangeIndex: 1440 entries, 0 to 1439\n",
            "Data columns (total 5 columns):\n",
            " #   Column                   Non-Null Count  Dtype  \n",
            "---  ------                   --------------  -----  \n",
            " 0   Temperature - (Celsius)  1440 non-null   float64\n",
            " 1    Year                    1440 non-null   int64  \n",
            " 2    Statistics              1440 non-null   object \n",
            " 3    Country                 1440 non-null   object \n",
            " 4    ISO3                    1440 non-null   object \n",
            "dtypes: float64(1), int64(1), object(3)\n",
            "memory usage: 56.4+ KB\n"
          ],
          "name": "stdout"
        }
      ]
    },
    {
      "cell_type": "code",
      "metadata": {
        "colab": {
          "base_uri": "https://localhost:8080/"
        },
        "id": "DgnCxTQbHU7_",
        "outputId": "5e58af42-4885-4685-b989-2c228b83a85f"
      },
      "source": [
        "#identifying coluns's names\n",
        "df_tas.columns"
      ],
      "execution_count": null,
      "outputs": [
        {
          "output_type": "execute_result",
          "data": {
            "text/plain": [
              "Index(['Temperature - (Celsius)', ' Year', ' Statistics', ' Country', ' ISO3'], dtype='object')"
            ]
          },
          "metadata": {},
          "execution_count": 9
        }
      ]
    },
    {
      "cell_type": "code",
      "metadata": {
        "colab": {
          "base_uri": "https://localhost:8080/",
          "height": 204
        },
        "id": "iPkGqGKBHm3_",
        "outputId": "9aed90f7-2033-420d-c751-776b96ceb64f"
      },
      "source": [
        "#cleaning columns names\n",
        "colunas = [c.strip().lower().replace(\" \",\"_\") for c in df_tas.columns]\n",
        "df_tas.columns = colunas\n",
        "   \n",
        "\n",
        "df_tas.head(5)"
      ],
      "execution_count": null,
      "outputs": [
        {
          "output_type": "execute_result",
          "data": {
            "text/html": [
              "<div>\n",
              "<style scoped>\n",
              "    .dataframe tbody tr th:only-of-type {\n",
              "        vertical-align: middle;\n",
              "    }\n",
              "\n",
              "    .dataframe tbody tr th {\n",
              "        vertical-align: top;\n",
              "    }\n",
              "\n",
              "    .dataframe thead th {\n",
              "        text-align: right;\n",
              "    }\n",
              "</style>\n",
              "<table border=\"1\" class=\"dataframe\">\n",
              "  <thead>\n",
              "    <tr style=\"text-align: right;\">\n",
              "      <th></th>\n",
              "      <th>temperature_-_(celsius)</th>\n",
              "      <th>year</th>\n",
              "      <th>statistics</th>\n",
              "      <th>country</th>\n",
              "      <th>iso3</th>\n",
              "    </tr>\n",
              "  </thead>\n",
              "  <tbody>\n",
              "    <tr>\n",
              "      <th>0</th>\n",
              "      <td>25.2</td>\n",
              "      <td>1901</td>\n",
              "      <td>Jan Average</td>\n",
              "      <td>Philippines</td>\n",
              "      <td>PHL</td>\n",
              "    </tr>\n",
              "    <tr>\n",
              "      <th>1</th>\n",
              "      <td>23.9</td>\n",
              "      <td>1901</td>\n",
              "      <td>Feb Average</td>\n",
              "      <td>Philippines</td>\n",
              "      <td>PHL</td>\n",
              "    </tr>\n",
              "    <tr>\n",
              "      <th>2</th>\n",
              "      <td>25.1</td>\n",
              "      <td>1901</td>\n",
              "      <td>Mar Average</td>\n",
              "      <td>Philippines</td>\n",
              "      <td>PHL</td>\n",
              "    </tr>\n",
              "    <tr>\n",
              "      <th>3</th>\n",
              "      <td>26.6</td>\n",
              "      <td>1901</td>\n",
              "      <td>Apr Average</td>\n",
              "      <td>Philippines</td>\n",
              "      <td>PHL</td>\n",
              "    </tr>\n",
              "    <tr>\n",
              "      <th>4</th>\n",
              "      <td>26.9</td>\n",
              "      <td>1901</td>\n",
              "      <td>May Average</td>\n",
              "      <td>Philippines</td>\n",
              "      <td>PHL</td>\n",
              "    </tr>\n",
              "  </tbody>\n",
              "</table>\n",
              "</div>"
            ],
            "text/plain": [
              "   temperature_-_(celsius)  year    statistics       country  iso3\n",
              "0                     25.2  1901   Jan Average   Philippines   PHL\n",
              "1                     23.9  1901   Feb Average   Philippines   PHL\n",
              "2                     25.1  1901   Mar Average   Philippines   PHL\n",
              "3                     26.6  1901   Apr Average   Philippines   PHL\n",
              "4                     26.9  1901   May Average   Philippines   PHL"
            ]
          },
          "metadata": {},
          "execution_count": 10
        }
      ]
    },
    {
      "cell_type": "code",
      "metadata": {
        "colab": {
          "base_uri": "https://localhost:8080/"
        },
        "id": "Ecq75VT-Ns9I",
        "outputId": "f3b888c3-3379-4111-b233-c26743fe375c"
      },
      "source": [
        "#checking columns' names after modifications\n",
        "df_tas.columns"
      ],
      "execution_count": null,
      "outputs": [
        {
          "output_type": "execute_result",
          "data": {
            "text/plain": [
              "Index(['temperature_-_(celsius)', 'year', 'statistics', 'country', 'iso3'], dtype='object')"
            ]
          },
          "metadata": {},
          "execution_count": 11
        }
      ]
    },
    {
      "cell_type": "code",
      "metadata": {
        "id": "2hsaz_bCKj1-"
      },
      "source": [
        "#defining a function to replace values inside the index column \n",
        "def replace (col): \n",
        "    return col.replace(\" Average\",'').strip()"
      ],
      "execution_count": null,
      "outputs": []
    },
    {
      "cell_type": "code",
      "metadata": {
        "id": "jWlf_vRKQsI6"
      },
      "source": [
        " #creating a dict to redefining some columns' names\n",
        " renomeando = {'temperature_-_(celsius)':'temp_celsius', 'statistics':'month'}"
      ],
      "execution_count": null,
      "outputs": []
    },
    {
      "cell_type": "code",
      "metadata": {
        "id": "ZIKE35ghvJXQ"
      },
      "source": [
        "#defining a function to create a conditional new column\n",
        "def year_season(row):\n",
        "    seasons = {\"spring\":[\"Mar\",\"Apr\",\"May\"], 'summer':[\"Jun\",\"Jul\",\"Aug\"],'autumn':['Sep',\"Oct\",\"Nov\"],'winter':[\"Dec\",\"Jan\",\"Feb\"]}\n",
        "    key_list = list(seasons.keys())\n",
        "    val_list = list(seasons.values())\n",
        "    for meses in seasons.values():\n",
        "        for m in meses:\n",
        "            if m == row['month']:\n",
        "                indice =val_list.index(meses)\n",
        "                #print(indice,meses)\n",
        "                #print(key_list[indice])\n",
        "                return key_list[indice]"
      ],
      "execution_count": null,
      "outputs": []
    },
    {
      "cell_type": "code",
      "metadata": {
        "id": "zSJkh-nTKco6",
        "colab": {
          "base_uri": "https://localhost:8080/",
          "height": 419
        },
        "outputId": "2cda3df2-3e47-4849-aa1b-bead776d97bd"
      },
      "source": [
        "#Filtering years from 1960 onwards, cleaning and renaming columns\n",
        "df_tas_test_season=\\\n",
        "(\n",
        "    df_tas.loc[df_tas['year']>=1960,:]\n",
        "    .rename(columns=renomeando)\n",
        "    .set_index(\"month\")\n",
        "    .rename(index=replace)\n",
        "    .reset_index()\n",
        "    \n",
        "    \n",
        ")\n",
        "\n",
        "df_tas_test_season"
      ],
      "execution_count": null,
      "outputs": [
        {
          "output_type": "execute_result",
          "data": {
            "text/html": [
              "<div>\n",
              "<style scoped>\n",
              "    .dataframe tbody tr th:only-of-type {\n",
              "        vertical-align: middle;\n",
              "    }\n",
              "\n",
              "    .dataframe tbody tr th {\n",
              "        vertical-align: top;\n",
              "    }\n",
              "\n",
              "    .dataframe thead th {\n",
              "        text-align: right;\n",
              "    }\n",
              "</style>\n",
              "<table border=\"1\" class=\"dataframe\">\n",
              "  <thead>\n",
              "    <tr style=\"text-align: right;\">\n",
              "      <th></th>\n",
              "      <th>month</th>\n",
              "      <th>temp_celsius</th>\n",
              "      <th>year</th>\n",
              "      <th>country</th>\n",
              "      <th>iso3</th>\n",
              "    </tr>\n",
              "  </thead>\n",
              "  <tbody>\n",
              "    <tr>\n",
              "      <th>0</th>\n",
              "      <td>Jan</td>\n",
              "      <td>24.4</td>\n",
              "      <td>1960</td>\n",
              "      <td>Philippines</td>\n",
              "      <td>PHL</td>\n",
              "    </tr>\n",
              "    <tr>\n",
              "      <th>1</th>\n",
              "      <td>Feb</td>\n",
              "      <td>24.3</td>\n",
              "      <td>1960</td>\n",
              "      <td>Philippines</td>\n",
              "      <td>PHL</td>\n",
              "    </tr>\n",
              "    <tr>\n",
              "      <th>2</th>\n",
              "      <td>Mar</td>\n",
              "      <td>25.4</td>\n",
              "      <td>1960</td>\n",
              "      <td>Philippines</td>\n",
              "      <td>PHL</td>\n",
              "    </tr>\n",
              "    <tr>\n",
              "      <th>3</th>\n",
              "      <td>Apr</td>\n",
              "      <td>26.0</td>\n",
              "      <td>1960</td>\n",
              "      <td>Philippines</td>\n",
              "      <td>PHL</td>\n",
              "    </tr>\n",
              "    <tr>\n",
              "      <th>4</th>\n",
              "      <td>May</td>\n",
              "      <td>26.4</td>\n",
              "      <td>1960</td>\n",
              "      <td>Philippines</td>\n",
              "      <td>PHL</td>\n",
              "    </tr>\n",
              "    <tr>\n",
              "      <th>...</th>\n",
              "      <td>...</td>\n",
              "      <td>...</td>\n",
              "      <td>...</td>\n",
              "      <td>...</td>\n",
              "      <td>...</td>\n",
              "    </tr>\n",
              "    <tr>\n",
              "      <th>727</th>\n",
              "      <td>Aug</td>\n",
              "      <td>26.4</td>\n",
              "      <td>2020</td>\n",
              "      <td>Philippines</td>\n",
              "      <td>PHL</td>\n",
              "    </tr>\n",
              "    <tr>\n",
              "      <th>728</th>\n",
              "      <td>Sep</td>\n",
              "      <td>26.7</td>\n",
              "      <td>2020</td>\n",
              "      <td>Philippines</td>\n",
              "      <td>PHL</td>\n",
              "    </tr>\n",
              "    <tr>\n",
              "      <th>729</th>\n",
              "      <td>Oct</td>\n",
              "      <td>25.5</td>\n",
              "      <td>2020</td>\n",
              "      <td>Philippines</td>\n",
              "      <td>PHL</td>\n",
              "    </tr>\n",
              "    <tr>\n",
              "      <th>730</th>\n",
              "      <td>Nov</td>\n",
              "      <td>26.2</td>\n",
              "      <td>2020</td>\n",
              "      <td>Philippines</td>\n",
              "      <td>PHL</td>\n",
              "    </tr>\n",
              "    <tr>\n",
              "      <th>731</th>\n",
              "      <td>Dec</td>\n",
              "      <td>26.0</td>\n",
              "      <td>2020</td>\n",
              "      <td>Philippines</td>\n",
              "      <td>PHL</td>\n",
              "    </tr>\n",
              "  </tbody>\n",
              "</table>\n",
              "<p>732 rows × 5 columns</p>\n",
              "</div>"
            ],
            "text/plain": [
              "    month  temp_celsius  year       country  iso3\n",
              "0     Jan          24.4  1960   Philippines   PHL\n",
              "1     Feb          24.3  1960   Philippines   PHL\n",
              "2     Mar          25.4  1960   Philippines   PHL\n",
              "3     Apr          26.0  1960   Philippines   PHL\n",
              "4     May          26.4  1960   Philippines   PHL\n",
              "..    ...           ...   ...           ...   ...\n",
              "727   Aug          26.4  2020   Philippines   PHL\n",
              "728   Sep          26.7  2020   Philippines   PHL\n",
              "729   Oct          25.5  2020   Philippines   PHL\n",
              "730   Nov          26.2  2020   Philippines   PHL\n",
              "731   Dec          26.0  2020   Philippines   PHL\n",
              "\n",
              "[732 rows x 5 columns]"
            ]
          },
          "metadata": {},
          "execution_count": 15
        }
      ]
    },
    {
      "cell_type": "code",
      "metadata": {
        "id": "OElv1zQv0eYe"
      },
      "source": [
        "#Including the conditional column: season\n",
        "df_tas_season =df_tas_test_season.assign(season = df_tas_test_season.apply(year_season,axis=1))\n",
        "\n"
      ],
      "execution_count": null,
      "outputs": []
    },
    {
      "cell_type": "code",
      "metadata": {
        "colab": {
          "base_uri": "https://localhost:8080/",
          "height": 419
        },
        "id": "7OQxsYzv2Hb9",
        "outputId": "50d14469-f71b-4934-d67f-cbacb1dcdcb0"
      },
      "source": [
        "df_tas_season"
      ],
      "execution_count": null,
      "outputs": [
        {
          "output_type": "execute_result",
          "data": {
            "text/html": [
              "<div>\n",
              "<style scoped>\n",
              "    .dataframe tbody tr th:only-of-type {\n",
              "        vertical-align: middle;\n",
              "    }\n",
              "\n",
              "    .dataframe tbody tr th {\n",
              "        vertical-align: top;\n",
              "    }\n",
              "\n",
              "    .dataframe thead th {\n",
              "        text-align: right;\n",
              "    }\n",
              "</style>\n",
              "<table border=\"1\" class=\"dataframe\">\n",
              "  <thead>\n",
              "    <tr style=\"text-align: right;\">\n",
              "      <th></th>\n",
              "      <th>month</th>\n",
              "      <th>temp_celsius</th>\n",
              "      <th>year</th>\n",
              "      <th>country</th>\n",
              "      <th>iso3</th>\n",
              "      <th>season</th>\n",
              "    </tr>\n",
              "  </thead>\n",
              "  <tbody>\n",
              "    <tr>\n",
              "      <th>0</th>\n",
              "      <td>Jan</td>\n",
              "      <td>24.4</td>\n",
              "      <td>1960</td>\n",
              "      <td>Philippines</td>\n",
              "      <td>PHL</td>\n",
              "      <td>winter</td>\n",
              "    </tr>\n",
              "    <tr>\n",
              "      <th>1</th>\n",
              "      <td>Feb</td>\n",
              "      <td>24.3</td>\n",
              "      <td>1960</td>\n",
              "      <td>Philippines</td>\n",
              "      <td>PHL</td>\n",
              "      <td>winter</td>\n",
              "    </tr>\n",
              "    <tr>\n",
              "      <th>2</th>\n",
              "      <td>Mar</td>\n",
              "      <td>25.4</td>\n",
              "      <td>1960</td>\n",
              "      <td>Philippines</td>\n",
              "      <td>PHL</td>\n",
              "      <td>spring</td>\n",
              "    </tr>\n",
              "    <tr>\n",
              "      <th>3</th>\n",
              "      <td>Apr</td>\n",
              "      <td>26.0</td>\n",
              "      <td>1960</td>\n",
              "      <td>Philippines</td>\n",
              "      <td>PHL</td>\n",
              "      <td>spring</td>\n",
              "    </tr>\n",
              "    <tr>\n",
              "      <th>4</th>\n",
              "      <td>May</td>\n",
              "      <td>26.4</td>\n",
              "      <td>1960</td>\n",
              "      <td>Philippines</td>\n",
              "      <td>PHL</td>\n",
              "      <td>spring</td>\n",
              "    </tr>\n",
              "    <tr>\n",
              "      <th>...</th>\n",
              "      <td>...</td>\n",
              "      <td>...</td>\n",
              "      <td>...</td>\n",
              "      <td>...</td>\n",
              "      <td>...</td>\n",
              "      <td>...</td>\n",
              "    </tr>\n",
              "    <tr>\n",
              "      <th>727</th>\n",
              "      <td>Aug</td>\n",
              "      <td>26.4</td>\n",
              "      <td>2020</td>\n",
              "      <td>Philippines</td>\n",
              "      <td>PHL</td>\n",
              "      <td>summer</td>\n",
              "    </tr>\n",
              "    <tr>\n",
              "      <th>728</th>\n",
              "      <td>Sep</td>\n",
              "      <td>26.7</td>\n",
              "      <td>2020</td>\n",
              "      <td>Philippines</td>\n",
              "      <td>PHL</td>\n",
              "      <td>autumn</td>\n",
              "    </tr>\n",
              "    <tr>\n",
              "      <th>729</th>\n",
              "      <td>Oct</td>\n",
              "      <td>25.5</td>\n",
              "      <td>2020</td>\n",
              "      <td>Philippines</td>\n",
              "      <td>PHL</td>\n",
              "      <td>autumn</td>\n",
              "    </tr>\n",
              "    <tr>\n",
              "      <th>730</th>\n",
              "      <td>Nov</td>\n",
              "      <td>26.2</td>\n",
              "      <td>2020</td>\n",
              "      <td>Philippines</td>\n",
              "      <td>PHL</td>\n",
              "      <td>autumn</td>\n",
              "    </tr>\n",
              "    <tr>\n",
              "      <th>731</th>\n",
              "      <td>Dec</td>\n",
              "      <td>26.0</td>\n",
              "      <td>2020</td>\n",
              "      <td>Philippines</td>\n",
              "      <td>PHL</td>\n",
              "      <td>winter</td>\n",
              "    </tr>\n",
              "  </tbody>\n",
              "</table>\n",
              "<p>732 rows × 6 columns</p>\n",
              "</div>"
            ],
            "text/plain": [
              "    month  temp_celsius  year       country  iso3  season\n",
              "0     Jan          24.4  1960   Philippines   PHL  winter\n",
              "1     Feb          24.3  1960   Philippines   PHL  winter\n",
              "2     Mar          25.4  1960   Philippines   PHL  spring\n",
              "3     Apr          26.0  1960   Philippines   PHL  spring\n",
              "4     May          26.4  1960   Philippines   PHL  spring\n",
              "..    ...           ...   ...           ...   ...     ...\n",
              "727   Aug          26.4  2020   Philippines   PHL  summer\n",
              "728   Sep          26.7  2020   Philippines   PHL  autumn\n",
              "729   Oct          25.5  2020   Philippines   PHL  autumn\n",
              "730   Nov          26.2  2020   Philippines   PHL  autumn\n",
              "731   Dec          26.0  2020   Philippines   PHL  winter\n",
              "\n",
              "[732 rows x 6 columns]"
            ]
          },
          "metadata": {},
          "execution_count": 17
        }
      ]
    },
    {
      "cell_type": "code",
      "metadata": {
        "id": "XJq4ONe02LW8",
        "colab": {
          "base_uri": "https://localhost:8080/",
          "height": 695
        },
        "outputId": "17068952-7848-4c3d-b76a-168e3b250d14"
      },
      "source": [
        "#Verifying NAN values\n",
        "msno.matrix(df_tas_season)"
      ],
      "execution_count": null,
      "outputs": [
        {
          "output_type": "execute_result",
          "data": {
            "text/plain": [
              "<matplotlib.axes._subplots.AxesSubplot at 0x7f90377687d0>"
            ]
          },
          "metadata": {},
          "execution_count": 18
        },
        {
          "output_type": "display_data",
          "data": {
            "image/png": "[encoded data removed]",
            "text/plain": [
              "<Figure size 1800x720 with 2 Axes>"
            ]
          },
          "metadata": {
            "needs_background": "light"
          }
        }
      ]
    },
    {
      "cell_type": "code",
      "metadata": {
        "id": "pSVxcgVn_QE9"
      },
      "source": [
        "df_tas_season.to_csv(f\"{tipo}{anos}{pais}_seasons.csv\")"
      ],
      "execution_count": null,
      "outputs": []
    },
    {
      "cell_type": "markdown",
      "metadata": {
        "id": "AahQ8imU7q5p"
      },
      "source": [
        "## <font color=\"blue\">Improving the memory usage\n",
        "\n",
        "---"
      ]
    },
    {
      "cell_type": "code",
      "metadata": {
        "colab": {
          "base_uri": "https://localhost:8080/"
        },
        "id": "xWq12DeiwoWn",
        "outputId": "915d283f-336a-4a53-9df7-5e45680abccc"
      },
      "source": [
        "#Verifying the shape\n",
        "df_tas_season.shape\n"
      ],
      "execution_count": null,
      "outputs": [
        {
          "output_type": "execute_result",
          "data": {
            "text/plain": [
              "(732, 6)"
            ]
          },
          "metadata": {},
          "execution_count": 20
        }
      ]
    },
    {
      "cell_type": "code",
      "metadata": {
        "colab": {
          "base_uri": "https://localhost:8080/"
        },
        "id": "DMXaIEhJwuZ1",
        "outputId": "78f7b17b-af87-43a0-c220-b0fcc0eb4748"
      },
      "source": [
        "#Verifying types and memory usage\n",
        "original_info = df_tas_season.info()"
      ],
      "execution_count": null,
      "outputs": [
        {
          "output_type": "stream",
          "text": [
            "<class 'pandas.core.frame.DataFrame'>\n",
            "RangeIndex: 732 entries, 0 to 731\n",
            "Data columns (total 6 columns):\n",
            " #   Column        Non-Null Count  Dtype  \n",
            "---  ------        --------------  -----  \n",
            " 0   month         732 non-null    object \n",
            " 1   temp_celsius  732 non-null    float64\n",
            " 2   year          732 non-null    int64  \n",
            " 3   country       732 non-null    object \n",
            " 4   iso3          732 non-null    object \n",
            " 5   season        732 non-null    object \n",
            "dtypes: float64(1), int64(1), object(4)\n",
            "memory usage: 34.4+ KB\n"
          ],
          "name": "stdout"
        }
      ]
    },
    {
      "cell_type": "code",
      "metadata": {
        "id": "BOzbWk0Ow2Dd"
      },
      "source": [
        "#Verifying memory usage\n",
        "original_mem = df_tas_season.memory_usage(deep=True)\n"
      ],
      "execution_count": null,
      "outputs": []
    },
    {
      "cell_type": "code",
      "metadata": {
        "colab": {
          "base_uri": "https://localhost:8080/"
        },
        "id": "1RGtPlZTzQPM",
        "outputId": "cfcf31b8-c946-4dca-cbbc-fc5fd4ddaecf"
      },
      "source": [
        "#Checking the low cardinality\n",
        "df_tas_season.select_dtypes(include=[\"object\"]).nunique()"
      ],
      "execution_count": null,
      "outputs": [
        {
          "output_type": "execute_result",
          "data": {
            "text/plain": [
              "month      12\n",
              "country     1\n",
              "iso3        1\n",
              "season      4\n",
              "dtype: int64"
            ]
          },
          "metadata": {},
          "execution_count": 23
        }
      ]
    },
    {
      "cell_type": "code",
      "metadata": {
        "colab": {
          "base_uri": "https://localhost:8080/",
          "height": 419
        },
        "id": "YYhSvqHv10a8",
        "outputId": "00b629ac-c112-413f-c17b-6b63b886710c"
      },
      "source": [
        "#Changing the columns types\n",
        "col_to_category = ['month',\"country\",\"iso3\",\"season\"]\n",
        "\n",
        "df_tas_season[\"year\"]= df_tas_season[\"year\"].astype(\"int32\")\n",
        "df_tas_season[col_to_category]=df_tas_season[col_to_category].astype(\"category\")\n",
        "\n",
        "df_tas_season"
      ],
      "execution_count": null,
      "outputs": [
        {
          "output_type": "execute_result",
          "data": {
            "text/html": [
              "<div>\n",
              "<style scoped>\n",
              "    .dataframe tbody tr th:only-of-type {\n",
              "        vertical-align: middle;\n",
              "    }\n",
              "\n",
              "    .dataframe tbody tr th {\n",
              "        vertical-align: top;\n",
              "    }\n",
              "\n",
              "    .dataframe thead th {\n",
              "        text-align: right;\n",
              "    }\n",
              "</style>\n",
              "<table border=\"1\" class=\"dataframe\">\n",
              "  <thead>\n",
              "    <tr style=\"text-align: right;\">\n",
              "      <th></th>\n",
              "      <th>month</th>\n",
              "      <th>temp_celsius</th>\n",
              "      <th>year</th>\n",
              "      <th>country</th>\n",
              "      <th>iso3</th>\n",
              "      <th>season</th>\n",
              "    </tr>\n",
              "  </thead>\n",
              "  <tbody>\n",
              "    <tr>\n",
              "      <th>0</th>\n",
              "      <td>Jan</td>\n",
              "      <td>24.4</td>\n",
              "      <td>1960</td>\n",
              "      <td>Philippines</td>\n",
              "      <td>PHL</td>\n",
              "      <td>winter</td>\n",
              "    </tr>\n",
              "    <tr>\n",
              "      <th>1</th>\n",
              "      <td>Feb</td>\n",
              "      <td>24.3</td>\n",
              "      <td>1960</td>\n",
              "      <td>Philippines</td>\n",
              "      <td>PHL</td>\n",
              "      <td>winter</td>\n",
              "    </tr>\n",
              "    <tr>\n",
              "      <th>2</th>\n",
              "      <td>Mar</td>\n",
              "      <td>25.4</td>\n",
              "      <td>1960</td>\n",
              "      <td>Philippines</td>\n",
              "      <td>PHL</td>\n",
              "      <td>spring</td>\n",
              "    </tr>\n",
              "    <tr>\n",
              "      <th>3</th>\n",
              "      <td>Apr</td>\n",
              "      <td>26.0</td>\n",
              "      <td>1960</td>\n",
              "      <td>Philippines</td>\n",
              "      <td>PHL</td>\n",
              "      <td>spring</td>\n",
              "    </tr>\n",
              "    <tr>\n",
              "      <th>4</th>\n",
              "      <td>May</td>\n",
              "      <td>26.4</td>\n",
              "      <td>1960</td>\n",
              "      <td>Philippines</td>\n",
              "      <td>PHL</td>\n",
              "      <td>spring</td>\n",
              "    </tr>\n",
              "    <tr>\n",
              "      <th>...</th>\n",
              "      <td>...</td>\n",
              "      <td>...</td>\n",
              "      <td>...</td>\n",
              "      <td>...</td>\n",
              "      <td>...</td>\n",
              "      <td>...</td>\n",
              "    </tr>\n",
              "    <tr>\n",
              "      <th>727</th>\n",
              "      <td>Aug</td>\n",
              "      <td>26.4</td>\n",
              "      <td>2020</td>\n",
              "      <td>Philippines</td>\n",
              "      <td>PHL</td>\n",
              "      <td>summer</td>\n",
              "    </tr>\n",
              "    <tr>\n",
              "      <th>728</th>\n",
              "      <td>Sep</td>\n",
              "      <td>26.7</td>\n",
              "      <td>2020</td>\n",
              "      <td>Philippines</td>\n",
              "      <td>PHL</td>\n",
              "      <td>autumn</td>\n",
              "    </tr>\n",
              "    <tr>\n",
              "      <th>729</th>\n",
              "      <td>Oct</td>\n",
              "      <td>25.5</td>\n",
              "      <td>2020</td>\n",
              "      <td>Philippines</td>\n",
              "      <td>PHL</td>\n",
              "      <td>autumn</td>\n",
              "    </tr>\n",
              "    <tr>\n",
              "      <th>730</th>\n",
              "      <td>Nov</td>\n",
              "      <td>26.2</td>\n",
              "      <td>2020</td>\n",
              "      <td>Philippines</td>\n",
              "      <td>PHL</td>\n",
              "      <td>autumn</td>\n",
              "    </tr>\n",
              "    <tr>\n",
              "      <th>731</th>\n",
              "      <td>Dec</td>\n",
              "      <td>26.0</td>\n",
              "      <td>2020</td>\n",
              "      <td>Philippines</td>\n",
              "      <td>PHL</td>\n",
              "      <td>winter</td>\n",
              "    </tr>\n",
              "  </tbody>\n",
              "</table>\n",
              "<p>732 rows × 6 columns</p>\n",
              "</div>"
            ],
            "text/plain": [
              "    month  temp_celsius  year       country  iso3  season\n",
              "0     Jan          24.4  1960   Philippines   PHL  winter\n",
              "1     Feb          24.3  1960   Philippines   PHL  winter\n",
              "2     Mar          25.4  1960   Philippines   PHL  spring\n",
              "3     Apr          26.0  1960   Philippines   PHL  spring\n",
              "4     May          26.4  1960   Philippines   PHL  spring\n",
              "..    ...           ...   ...           ...   ...     ...\n",
              "727   Aug          26.4  2020   Philippines   PHL  summer\n",
              "728   Sep          26.7  2020   Philippines   PHL  autumn\n",
              "729   Oct          25.5  2020   Philippines   PHL  autumn\n",
              "730   Nov          26.2  2020   Philippines   PHL  autumn\n",
              "731   Dec          26.0  2020   Philippines   PHL  winter\n",
              "\n",
              "[732 rows x 6 columns]"
            ]
          },
          "metadata": {},
          "execution_count": 24
        }
      ]
    },
    {
      "cell_type": "markdown",
      "metadata": {
        "id": "nRNWnyol7amc"
      },
      "source": [
        "## <font color='blue'>Comparing Memory Usage"
      ]
    },
    {
      "cell_type": "code",
      "metadata": {
        "id": "FPpsHIaI2_U9"
      },
      "source": [
        "#Verifying new memory usage\n",
        "new_memory = df_tas_season.memory_usage(deep=True)\n"
      ],
      "execution_count": null,
      "outputs": []
    },
    {
      "cell_type": "code",
      "metadata": {
        "colab": {
          "base_uri": "https://localhost:8080/"
        },
        "id": "YnTrlDPZ3FBs",
        "outputId": "1c3451d3-e4e9-4825-f575-b73850d19e37"
      },
      "source": [
        "# Comparying memory usage\n",
        "old_value ='\\033[91m'\n",
        "new_value ='\\033[1;32m'\n",
        "normal_value = '\\033[0m'\n",
        "print(old_value + \"This is the original memory usage\" + normal_value)\n",
        "print(original_mem)\n",
        "print(new_value + \"\\nAnd this is the new memory usage\" + normal_value)\n",
        "print(new_memory)\n"
      ],
      "execution_count": null,
      "outputs": [
        {
          "output_type": "stream",
          "text": [
            "\u001b[91mThis is the original memory usage\u001b[0m\n",
            "Index             128\n",
            "month           43920\n",
            "temp_celsius     5856\n",
            "year             5856\n",
            "country         50508\n",
            "iso3            44652\n",
            "season          46116\n",
            "dtype: int64\n",
            "\u001b[1;32m\n",
            "And this is the new memory usage\u001b[0m\n",
            "Index            128\n",
            "month           1772\n",
            "temp_celsius    5856\n",
            "year            2928\n",
            "country          881\n",
            "iso3             873\n",
            "season          1144\n",
            "dtype: int64\n"
          ],
          "name": "stdout"
        }
      ]
    },
    {
      "cell_type": "code",
      "metadata": {
        "colab": {
          "base_uri": "https://localhost:8080/"
        },
        "id": "fESGgRgI7RWS",
        "outputId": "3ffbac36-0abe-4243-ff37-23e5df531b9a"
      },
      "source": [
        "#Checking new info data\n",
        "new_info = df_tas_season.info()\n"
      ],
      "execution_count": null,
      "outputs": [
        {
          "output_type": "stream",
          "text": [
            "<class 'pandas.core.frame.DataFrame'>\n",
            "RangeIndex: 732 entries, 0 to 731\n",
            "Data columns (total 6 columns):\n",
            " #   Column        Non-Null Count  Dtype   \n",
            "---  ------        --------------  -----   \n",
            " 0   month         732 non-null    category\n",
            " 1   temp_celsius  732 non-null    float64 \n",
            " 2   year          732 non-null    int32   \n",
            " 3   country       732 non-null    category\n",
            " 4   iso3          732 non-null    category\n",
            " 5   season        732 non-null    category\n",
            "dtypes: category(4), float64(1), int32(1)\n",
            "memory usage: 12.3 KB\n"
          ],
          "name": "stdout"
        }
      ]
    },
    {
      "cell_type": "code",
      "metadata": {
        "colab": {
          "base_uri": "https://localhost:8080/"
        },
        "id": "m7zwS4rOXzkq",
        "outputId": "f6b9098f-251e-4754-9523-ea00a46b44e1"
      },
      "source": [
        "#Checking the describe method\n",
        "df_tas_season['temp_celsius'].describe().T"
      ],
      "execution_count": null,
      "outputs": [
        {
          "output_type": "execute_result",
          "data": {
            "text/plain": [
              "count    732.000000\n",
              "mean      25.578962\n",
              "std        0.835921\n",
              "min       22.700000\n",
              "25%       25.100000\n",
              "50%       25.600000\n",
              "75%       26.100000\n",
              "max       27.800000\n",
              "Name: temp_celsius, dtype: float64"
            ]
          },
          "metadata": {},
          "execution_count": 28
        }
      ]
    },
    {
      "cell_type": "markdown",
      "metadata": {
        "id": "802XbvRE6VdE"
      },
      "source": [
        "## <font color=\"blue\"> *PLOTTING YEARS*"
      ]
    },
    {
      "cell_type": "code",
      "metadata": {
        "id": "tfEMMprOsRvb",
        "colab": {
          "base_uri": "https://localhost:8080/",
          "height": 450
        },
        "outputId": "f84cad1c-ded3-47a7-c617-bda4ada9f27d"
      },
      "source": [
        "#Defining the df to chart\n",
        "df_tas_season_chart =\\\n",
        "(\n",
        "    df_tas_season.set_index(\"month\")\n",
        ")\n",
        "\n",
        "df_tas_season_chart"
      ],
      "execution_count": null,
      "outputs": [
        {
          "output_type": "execute_result",
          "data": {
            "text/html": [
              "<div>\n",
              "<style scoped>\n",
              "    .dataframe tbody tr th:only-of-type {\n",
              "        vertical-align: middle;\n",
              "    }\n",
              "\n",
              "    .dataframe tbody tr th {\n",
              "        vertical-align: top;\n",
              "    }\n",
              "\n",
              "    .dataframe thead th {\n",
              "        text-align: right;\n",
              "    }\n",
              "</style>\n",
              "<table border=\"1\" class=\"dataframe\">\n",
              "  <thead>\n",
              "    <tr style=\"text-align: right;\">\n",
              "      <th></th>\n",
              "      <th>temp_celsius</th>\n",
              "      <th>year</th>\n",
              "      <th>country</th>\n",
              "      <th>iso3</th>\n",
              "      <th>season</th>\n",
              "    </tr>\n",
              "    <tr>\n",
              "      <th>month</th>\n",
              "      <th></th>\n",
              "      <th></th>\n",
              "      <th></th>\n",
              "      <th></th>\n",
              "      <th></th>\n",
              "    </tr>\n",
              "  </thead>\n",
              "  <tbody>\n",
              "    <tr>\n",
              "      <th>Jan</th>\n",
              "      <td>24.4</td>\n",
              "      <td>1960</td>\n",
              "      <td>Philippines</td>\n",
              "      <td>PHL</td>\n",
              "      <td>winter</td>\n",
              "    </tr>\n",
              "    <tr>\n",
              "      <th>Feb</th>\n",
              "      <td>24.3</td>\n",
              "      <td>1960</td>\n",
              "      <td>Philippines</td>\n",
              "      <td>PHL</td>\n",
              "      <td>winter</td>\n",
              "    </tr>\n",
              "    <tr>\n",
              "      <th>Mar</th>\n",
              "      <td>25.4</td>\n",
              "      <td>1960</td>\n",
              "      <td>Philippines</td>\n",
              "      <td>PHL</td>\n",
              "      <td>spring</td>\n",
              "    </tr>\n",
              "    <tr>\n",
              "      <th>Apr</th>\n",
              "      <td>26.0</td>\n",
              "      <td>1960</td>\n",
              "      <td>Philippines</td>\n",
              "      <td>PHL</td>\n",
              "      <td>spring</td>\n",
              "    </tr>\n",
              "    <tr>\n",
              "      <th>May</th>\n",
              "      <td>26.4</td>\n",
              "      <td>1960</td>\n",
              "      <td>Philippines</td>\n",
              "      <td>PHL</td>\n",
              "      <td>spring</td>\n",
              "    </tr>\n",
              "    <tr>\n",
              "      <th>...</th>\n",
              "      <td>...</td>\n",
              "      <td>...</td>\n",
              "      <td>...</td>\n",
              "      <td>...</td>\n",
              "      <td>...</td>\n",
              "    </tr>\n",
              "    <tr>\n",
              "      <th>Aug</th>\n",
              "      <td>26.4</td>\n",
              "      <td>2020</td>\n",
              "      <td>Philippines</td>\n",
              "      <td>PHL</td>\n",
              "      <td>summer</td>\n",
              "    </tr>\n",
              "    <tr>\n",
              "      <th>Sep</th>\n",
              "      <td>26.7</td>\n",
              "      <td>2020</td>\n",
              "      <td>Philippines</td>\n",
              "      <td>PHL</td>\n",
              "      <td>autumn</td>\n",
              "    </tr>\n",
              "    <tr>\n",
              "      <th>Oct</th>\n",
              "      <td>25.5</td>\n",
              "      <td>2020</td>\n",
              "      <td>Philippines</td>\n",
              "      <td>PHL</td>\n",
              "      <td>autumn</td>\n",
              "    </tr>\n",
              "    <tr>\n",
              "      <th>Nov</th>\n",
              "      <td>26.2</td>\n",
              "      <td>2020</td>\n",
              "      <td>Philippines</td>\n",
              "      <td>PHL</td>\n",
              "      <td>autumn</td>\n",
              "    </tr>\n",
              "    <tr>\n",
              "      <th>Dec</th>\n",
              "      <td>26.0</td>\n",
              "      <td>2020</td>\n",
              "      <td>Philippines</td>\n",
              "      <td>PHL</td>\n",
              "      <td>winter</td>\n",
              "    </tr>\n",
              "  </tbody>\n",
              "</table>\n",
              "<p>732 rows × 5 columns</p>\n",
              "</div>"
            ],
            "text/plain": [
              "       temp_celsius  year       country  iso3  season\n",
              "month                                                \n",
              "Jan            24.4  1960   Philippines   PHL  winter\n",
              "Feb            24.3  1960   Philippines   PHL  winter\n",
              "Mar            25.4  1960   Philippines   PHL  spring\n",
              "Apr            26.0  1960   Philippines   PHL  spring\n",
              "May            26.4  1960   Philippines   PHL  spring\n",
              "...             ...   ...           ...   ...     ...\n",
              "Aug            26.4  2020   Philippines   PHL  summer\n",
              "Sep            26.7  2020   Philippines   PHL  autumn\n",
              "Oct            25.5  2020   Philippines   PHL  autumn\n",
              "Nov            26.2  2020   Philippines   PHL  autumn\n",
              "Dec            26.0  2020   Philippines   PHL  winter\n",
              "\n",
              "[732 rows x 5 columns]"
            ]
          },
          "metadata": {},
          "execution_count": 29
        }
      ]
    },
    {
      "cell_type": "code",
      "metadata": {
        "id": "fS0XHoydGwOz"
      },
      "source": [
        "#Importing the package and defining the colors to plot\n",
        "import matplotlib.dates as mdt\n",
        "blue = '#99ddee'\n",
        "white = '#ffffff'"
      ],
      "execution_count": null,
      "outputs": []
    },
    {
      "cell_type": "code",
      "metadata": {
        "id": "C7lY59K_Jaia"
      },
      "source": [
        "#Defining the plot's function\n",
        "def plot_year(ax,temp,years):\n",
        "    ax.set_facecolor(blue)\n",
        "    ax.spines['top'].set_visible(False)\n",
        "    ax.spines['right'].set_visible(False)\n",
        "    ax.spines['bottom'].set_visible(False)\n",
        "    ax.spines['left'].set_visible(False)\n",
        "    filtro_1 = df_tas_season_chart.year == y\n",
        "    ax.plot(df_tas_season_chart.index[filtro_1],df_tas_season_chart.loc[filtro_1,'temp_celsius'].values)\n",
        "    ax.tick_params(axis='x', colors=white)\n",
        "    ax.tick_params(axis='y', colors=white)\n",
        "    ax.set_ylabel('Celsius Temperature', color=white)\n",
        "    ax.set_title(f\"Year {y}\", color=white, fontweight='bold')\n",
        "    ax.fill_between(df_tas_season_chart.index,min(df_tas_season_chart['temp_celsius']), max(df_tas_season_chart['temp_celsius'])+5,  facecolor='white' )\n"
      ],
      "execution_count": null,
      "outputs": []
    },
    {
      "cell_type": "code",
      "metadata": {
        "id": "mMsGORGJ9iT7"
      },
      "source": [
        "df_tas_season_chart_x = df_tas_season_chart.reset_index()"
      ],
      "execution_count": null,
      "outputs": []
    },
    {
      "cell_type": "code",
      "metadata": {
        "colab": {
          "base_uri": "https://localhost:8080/",
          "height": 1000
        },
        "id": "R6wrJIDcThze",
        "outputId": "d5b3f04a-0fe8-4dea-ea0b-b67f18d7fa5e"
      },
      "source": [
        "#Ploting the years\n",
        "years = range(2000,2020+1)\n",
        "fig, axs = plt.subplots(ncols =3, nrows = int(len(years)/3),figsize=(20,25), linewidth = 5, facecolor = blue)\n",
        "\n",
        "axs = axs.flatten()\n",
        "max_val = None\n",
        "max_data = None\n",
        "max_ax = None\n",
        "for i, y in enumerate(years):\n",
        "\n",
        "    ax= axs[i]\n",
        " \n",
        "    data_1=\\\n",
        "    (\n",
        "        df_tas_season_chart_x.assign(YEAR=pd.to_datetime(df_tas_season_chart_x.year))\n",
        "        .set_index(\"year\")\n",
        "        .loc[y]\n",
        "        .temp_celsius\n",
        "        .interpolate()  \n",
        "    )\n",
        " \n",
        "\n",
        "    if max_val is None or max_val < data_1.max():\n",
        "        max_val = data_1.max()\n",
        "        max_data = data_1\n",
        "        max_ax = ax\n",
        "\n",
        "    ax.set_ylim(min(data_1.values), max((data_1.values))+5)\n",
        "    years = {y}\n",
        "    plot_year(ax, data_1, years)\n",
        "\n",
        "\n",
        "fig.suptitle('Average Temperature', color='white', fontweight='bold',fontsize=20 )\n",
        "fig.tight_layout( rect= [0,0.03, 1, 0.95])\n",
        "fig.savefig(f'Average Temperature by Year {pais}.png', dpi=300, facecolor=blue)\n",
        "\n"
      ],
      "execution_count": null,
      "outputs": [
        {
          "output_type": "display_data",
          "data": {
            "image/png": "[encoded data removed]",
            "text/plain": [
              "<Figure size 1440x1800 with 21 Axes>"
            ]
          },
          "metadata": {}
        }
      ]
    },
    {
      "cell_type": "markdown",
      "metadata": {
        "id": "Sfk14hen5-bl"
      },
      "source": [
        "## <font color=\"blue\">*PLOTTING QUARTILES*"
      ]
    },
    {
      "cell_type": "code",
      "metadata": {
        "colab": {
          "base_uri": "https://localhost:8080/"
        },
        "id": "WUN-rtp8dzRr",
        "outputId": "4d4e221f-a809-4ae8-cd0e-08320614e48b"
      },
      "source": [
        "#Defining data to General Quartile\n",
        "box_plot= df_tas_season['temp_celsius'].describe()[['min','25%','50%','75%','max']].round(2)\n",
        "box_plot"
      ],
      "execution_count": null,
      "outputs": [
        {
          "output_type": "execute_result",
          "data": {
            "text/plain": [
              "min    22.7\n",
              "25%    25.1\n",
              "50%    25.6\n",
              "75%    26.1\n",
              "max    27.8\n",
              "Name: temp_celsius, dtype: float64"
            ]
          },
          "metadata": {},
          "execution_count": 34
        }
      ]
    },
    {
      "cell_type": "code",
      "metadata": {
        "id": "QzTFOyt7jCXC"
      },
      "source": [
        "#Defining data to Seasons' Quartile\n",
        "temp_season = ['temp_celsius','season']\n",
        "df_temp_season= df_tas_season[temp_season]\n"
      ],
      "execution_count": null,
      "outputs": []
    },
    {
      "cell_type": "code",
      "metadata": {
        "colab": {
          "base_uri": "https://localhost:8080/",
          "height": 427
        },
        "id": "44Wj6vvbkUtK",
        "outputId": "844b1e9a-8fb8-4f00-9b57-fd7c56411ea3"
      },
      "source": [
        "#Ploting Quartiles\n",
        "fig,(ax1,ax2)=plt.subplots(1,2,figsize=(20,6))\n",
        "fig.suptitle(f\"Quartiles {pais}\", size=20, y=1.00)\n",
        "df_temp_season.pivot(columns='season').plot.box(ax=ax1,title=\"Seasons' Quartiles\")\n",
        "box_plot.plot.box(ax=ax2, title=\"General Quartile\")\n",
        "fig.savefig(f\"{pais} Seasons'Quartiles\")"
      ],
      "execution_count": null,
      "outputs": [
        {
          "output_type": "display_data",
          "data": {
            "image/png": "[encoded data removed]",
            "text/plain": [
              "<Figure size 1440x432 with 2 Axes>"
            ]
          },
          "metadata": {
            "needs_background": "light"
          }
        }
      ]
    },
    {
      "cell_type": "code",
      "metadata": {
        "id": "JMiXGDNrGt4f"
      },
      "source": [
        "box_plot.to_csv(f\"{pais}_General_Quartile.csv\")\n"
      ],
      "execution_count": null,
      "outputs": []
    },
    {
      "cell_type": "code",
      "metadata": {
        "colab": {
          "base_uri": "https://localhost:8080/",
          "height": 235
        },
        "id": "BDZZA1IYNrH1",
        "outputId": "71f8b244-6943-4627-a4f7-c89ceab4c971"
      },
      "source": [
        "quartil_temp_seasons=\\\n",
        "(\n",
        "    df_temp_season.pivot(columns='season')\n",
        "    .describe()\n",
        "    .loc[['min','25%','50%','75%',\"max\"]]\n",
        "    .round(2)\n",
        " \n",
        "     \n",
        ")\n",
        "quartil_temp_seasons"
      ],
      "execution_count": null,
      "outputs": [
        {
          "output_type": "execute_result",
          "data": {
            "text/html": [
              "<div>\n",
              "<style scoped>\n",
              "    .dataframe tbody tr th:only-of-type {\n",
              "        vertical-align: middle;\n",
              "    }\n",
              "\n",
              "    .dataframe tbody tr th {\n",
              "        vertical-align: top;\n",
              "    }\n",
              "\n",
              "    .dataframe thead tr th {\n",
              "        text-align: left;\n",
              "    }\n",
              "</style>\n",
              "<table border=\"1\" class=\"dataframe\">\n",
              "  <thead>\n",
              "    <tr>\n",
              "      <th></th>\n",
              "      <th colspan=\"4\" halign=\"left\">temp_celsius</th>\n",
              "    </tr>\n",
              "    <tr>\n",
              "      <th>season</th>\n",
              "      <th>autumn</th>\n",
              "      <th>spring</th>\n",
              "      <th>summer</th>\n",
              "      <th>winter</th>\n",
              "    </tr>\n",
              "  </thead>\n",
              "  <tbody>\n",
              "    <tr>\n",
              "      <th>min</th>\n",
              "      <td>24.1</td>\n",
              "      <td>24.00</td>\n",
              "      <td>24.9</td>\n",
              "      <td>22.7</td>\n",
              "    </tr>\n",
              "    <tr>\n",
              "      <th>25%</th>\n",
              "      <td>25.3</td>\n",
              "      <td>25.70</td>\n",
              "      <td>25.6</td>\n",
              "      <td>24.2</td>\n",
              "    </tr>\n",
              "    <tr>\n",
              "      <th>50%</th>\n",
              "      <td>25.6</td>\n",
              "      <td>26.30</td>\n",
              "      <td>25.8</td>\n",
              "      <td>24.6</td>\n",
              "    </tr>\n",
              "    <tr>\n",
              "      <th>75%</th>\n",
              "      <td>25.9</td>\n",
              "      <td>26.75</td>\n",
              "      <td>26.2</td>\n",
              "      <td>25.1</td>\n",
              "    </tr>\n",
              "    <tr>\n",
              "      <th>max</th>\n",
              "      <td>26.7</td>\n",
              "      <td>27.80</td>\n",
              "      <td>27.3</td>\n",
              "      <td>26.0</td>\n",
              "    </tr>\n",
              "  </tbody>\n",
              "</table>\n",
              "</div>"
            ],
            "text/plain": [
              "       temp_celsius                     \n",
              "season       autumn spring summer winter\n",
              "min            24.1  24.00   24.9   22.7\n",
              "25%            25.3  25.70   25.6   24.2\n",
              "50%            25.6  26.30   25.8   24.6\n",
              "75%            25.9  26.75   26.2   25.1\n",
              "max            26.7  27.80   27.3   26.0"
            ]
          },
          "metadata": {},
          "execution_count": 38
        }
      ]
    },
    {
      "cell_type": "code",
      "metadata": {
        "id": "s1Utoo0yHNhO"
      },
      "source": [
        "quartil_temp_seasons.to_csv(f\"{pais}_Seasons' Quartiles.csv\")"
      ],
      "execution_count": null,
      "outputs": []
    }
  ]
}