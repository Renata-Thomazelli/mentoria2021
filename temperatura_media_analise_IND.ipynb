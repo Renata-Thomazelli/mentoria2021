{
  "nbformat": 4,
  "nbformat_minor": 0,
  "metadata": {
    "colab": {
      "name": "temperatura_media_analise_IND.ipynb",
      "provenance": [],
      "collapsed_sections": [],
      "authorship_tag": "ABX9TyPNof/zb0pk3bM3L/sFhWVS",
      "include_colab_link": true
    },
    "kernelspec": {
      "name": "python3",
      "display_name": "Python 3"
    },
    "language_info": {
      "name": "python"
    }
  },
  "cells": [
    {
      "cell_type": "markdown",
      "metadata": {
        "id": "view-in-github",
        "colab_type": "text"
      },
      "source": [
        "<a href=\"https://colab.research.google.com/github/Renata-Thomazelli/mentoria2021/blob/main/temperatura_media_analise_IND.ipynb\" target=\"_parent\"><img src=\"https://colab.research.google.com/assets/colab-badge.svg\" alt=\"Open In Colab\"/></a>"
      ]
    },
    {
      "cell_type": "markdown",
      "metadata": {
        "id": "5Ui-eWQwEzAL"
      },
      "source": [
        "# <font color='blue'>**Analisando Temperatura média**<font>\n",
        "\n",
        "**Analisando Temperatura média**\n",
        "\n",
        "\n",
        "---"
      ]
    },
    {
      "cell_type": "markdown",
      "metadata": {
        "id": "pgYphlkNrC0J"
      },
      "source": [
        "##Importing the Data\n",
        "\n",
        "---"
      ]
    },
    {
      "cell_type": "code",
      "metadata": {
        "colab": {
          "base_uri": "https://localhost:8080/"
        },
        "id": "5gnslj1rECdH",
        "outputId": "f8171b28-ee8c-49ec-ecef-a885d8786b18"
      },
      "source": [
        "# Importing Drive\n",
        "from google.colab import drive\n",
        "\n",
        "drive.mount('/content/drive')"
      ],
      "execution_count": 1,
      "outputs": [
        {
          "output_type": "stream",
          "name": "stdout",
          "text": [
            "Mounted at /content/drive\n"
          ]
        }
      ]
    },
    {
      "cell_type": "code",
      "metadata": {
        "id": "fJaoP1feE9ko"
      },
      "source": [
        "#Importing the packages \n",
        "import pandas as pd\n",
        "import numpy as np\n",
        "import chardet\n",
        "import missingno as msno\n",
        "import matplotlib.pyplot as plt\n",
        "%matplotlib inline"
      ],
      "execution_count": 2,
      "outputs": []
    },
    {
      "cell_type": "markdown",
      "metadata": {
        "id": "ITBqwNDvFGhx"
      },
      "source": [
        "<font color='blue'>  Reading CSV  \n",
        "\n",
        "Reading CSV"
      ]
    },
    {
      "cell_type": "code",
      "metadata": {
        "id": "kbMAfoiSFER4"
      },
      "source": [
        "file_path ='/content/drive/MyDrive/Data_Lake/temperatura_preciptacao/'\n",
        "tipo = 'tas_'\n",
        "anos ='1901_2020_'\n",
        "pais = \"IND\"\n",
        "\n",
        "file = f\"{tipo}{anos}{pais}.csv\""
      ],
      "execution_count": 3,
      "outputs": []
    },
    {
      "cell_type": "code",
      "metadata": {
        "colab": {
          "base_uri": "https://localhost:8080/"
        },
        "id": "28FmY9rRGO1i",
        "outputId": "2a2d9f43-b731-40c5-d7f6-744c32a111b1"
      },
      "source": [
        "with open(f\"{file_path}{file}\", 'rb') as encoding:\n",
        "    r_encoding = chardet.detect(encoding.read(100000))\n",
        "r_encoding"
      ],
      "execution_count": 4,
      "outputs": [
        {
          "output_type": "execute_result",
          "data": {
            "text/plain": [
              "{'confidence': 1.0, 'encoding': 'ascii', 'language': ''}"
            ]
          },
          "metadata": {},
          "execution_count": 4
        }
      ]
    },
    {
      "cell_type": "code",
      "metadata": {
        "id": "Mjs-pOIJGjyw"
      },
      "source": [
        "arquivo = f\"{tipo}{pais}\"\n",
        "with open (f\"{file_path}{file}\",'r',encoding=r_encoding['encoding']) as arquivo :\n",
        "  df_tas = pd.read_csv(arquivo)"
      ],
      "execution_count": 5,
      "outputs": []
    },
    {
      "cell_type": "markdown",
      "metadata": {
        "id": "600FfiJFGpHZ"
      },
      "source": [
        "<font color='blue'> DataFrame"
      ]
    },
    {
      "cell_type": "code",
      "metadata": {
        "colab": {
          "base_uri": "https://localhost:8080/",
          "height": 419
        },
        "id": "jEhf_rulGPeA",
        "outputId": "6d218613-6cb7-4b39-d3f8-ce009fa4c3c0"
      },
      "source": [
        "df_tas"
      ],
      "execution_count": 6,
      "outputs": [
        {
          "output_type": "execute_result",
          "data": {
            "text/html": [
              "<div>\n",
              "<style scoped>\n",
              "    .dataframe tbody tr th:only-of-type {\n",
              "        vertical-align: middle;\n",
              "    }\n",
              "\n",
              "    .dataframe tbody tr th {\n",
              "        vertical-align: top;\n",
              "    }\n",
              "\n",
              "    .dataframe thead th {\n",
              "        text-align: right;\n",
              "    }\n",
              "</style>\n",
              "<table border=\"1\" class=\"dataframe\">\n",
              "  <thead>\n",
              "    <tr style=\"text-align: right;\">\n",
              "      <th></th>\n",
              "      <th>Temperature - (Celsius)</th>\n",
              "      <th>Year</th>\n",
              "      <th>Statistics</th>\n",
              "      <th>Country</th>\n",
              "      <th>ISO3</th>\n",
              "    </tr>\n",
              "  </thead>\n",
              "  <tbody>\n",
              "    <tr>\n",
              "      <th>0</th>\n",
              "      <td>16.4</td>\n",
              "      <td>1901</td>\n",
              "      <td>Jan Average</td>\n",
              "      <td>India</td>\n",
              "      <td>IND</td>\n",
              "    </tr>\n",
              "    <tr>\n",
              "      <th>1</th>\n",
              "      <td>18.3</td>\n",
              "      <td>1901</td>\n",
              "      <td>Feb Average</td>\n",
              "      <td>India</td>\n",
              "      <td>IND</td>\n",
              "    </tr>\n",
              "    <tr>\n",
              "      <th>2</th>\n",
              "      <td>23.5</td>\n",
              "      <td>1901</td>\n",
              "      <td>Mar Average</td>\n",
              "      <td>India</td>\n",
              "      <td>IND</td>\n",
              "    </tr>\n",
              "    <tr>\n",
              "      <th>3</th>\n",
              "      <td>27.5</td>\n",
              "      <td>1901</td>\n",
              "      <td>Apr Average</td>\n",
              "      <td>India</td>\n",
              "      <td>IND</td>\n",
              "    </tr>\n",
              "    <tr>\n",
              "      <th>4</th>\n",
              "      <td>29.8</td>\n",
              "      <td>1901</td>\n",
              "      <td>May Average</td>\n",
              "      <td>India</td>\n",
              "      <td>IND</td>\n",
              "    </tr>\n",
              "    <tr>\n",
              "      <th>...</th>\n",
              "      <td>...</td>\n",
              "      <td>...</td>\n",
              "      <td>...</td>\n",
              "      <td>...</td>\n",
              "      <td>...</td>\n",
              "    </tr>\n",
              "    <tr>\n",
              "      <th>1435</th>\n",
              "      <td>27.0</td>\n",
              "      <td>2020</td>\n",
              "      <td>Aug Average</td>\n",
              "      <td>India</td>\n",
              "      <td>IND</td>\n",
              "    </tr>\n",
              "    <tr>\n",
              "      <th>1436</th>\n",
              "      <td>27.3</td>\n",
              "      <td>2020</td>\n",
              "      <td>Sep Average</td>\n",
              "      <td>India</td>\n",
              "      <td>IND</td>\n",
              "    </tr>\n",
              "    <tr>\n",
              "      <th>1437</th>\n",
              "      <td>25.9</td>\n",
              "      <td>2020</td>\n",
              "      <td>Oct Average</td>\n",
              "      <td>India</td>\n",
              "      <td>IND</td>\n",
              "    </tr>\n",
              "    <tr>\n",
              "      <th>1438</th>\n",
              "      <td>21.4</td>\n",
              "      <td>2020</td>\n",
              "      <td>Nov Average</td>\n",
              "      <td>India</td>\n",
              "      <td>IND</td>\n",
              "    </tr>\n",
              "    <tr>\n",
              "      <th>1439</th>\n",
              "      <td>18.4</td>\n",
              "      <td>2020</td>\n",
              "      <td>Dec Average</td>\n",
              "      <td>India</td>\n",
              "      <td>IND</td>\n",
              "    </tr>\n",
              "  </tbody>\n",
              "</table>\n",
              "<p>1440 rows × 5 columns</p>\n",
              "</div>"
            ],
            "text/plain": [
              "      Temperature - (Celsius)   Year    Statistics  Country  ISO3\n",
              "0                        16.4   1901   Jan Average    India   IND\n",
              "1                        18.3   1901   Feb Average    India   IND\n",
              "2                        23.5   1901   Mar Average    India   IND\n",
              "3                        27.5   1901   Apr Average    India   IND\n",
              "4                        29.8   1901   May Average    India   IND\n",
              "...                       ...    ...           ...      ...   ...\n",
              "1435                     27.0   2020   Aug Average    India   IND\n",
              "1436                     27.3   2020   Sep Average    India   IND\n",
              "1437                     25.9   2020   Oct Average    India   IND\n",
              "1438                     21.4   2020   Nov Average    India   IND\n",
              "1439                     18.4   2020   Dec Average    India   IND\n",
              "\n",
              "[1440 rows x 5 columns]"
            ]
          },
          "metadata": {},
          "execution_count": 6
        }
      ]
    },
    {
      "cell_type": "code",
      "metadata": {
        "colab": {
          "base_uri": "https://localhost:8080/"
        },
        "id": "dl2UVOODHLNy",
        "outputId": "25807aad-b071-44d5-a901-7275abc837db"
      },
      "source": [
        "#Dataframe size\n",
        "df_tas.shape"
      ],
      "execution_count": 7,
      "outputs": [
        {
          "output_type": "execute_result",
          "data": {
            "text/plain": [
              "(1440, 5)"
            ]
          },
          "metadata": {},
          "execution_count": 7
        }
      ]
    },
    {
      "cell_type": "code",
      "metadata": {
        "colab": {
          "base_uri": "https://localhost:8080/"
        },
        "id": "v46JSa5gHs7K",
        "outputId": "825edaa0-77c4-4dc0-c66b-b811efcf5681"
      },
      "source": [
        "#Dataframe informations\n",
        "df_tas.info()"
      ],
      "execution_count": 8,
      "outputs": [
        {
          "output_type": "stream",
          "name": "stdout",
          "text": [
            "<class 'pandas.core.frame.DataFrame'>\n",
            "RangeIndex: 1440 entries, 0 to 1439\n",
            "Data columns (total 5 columns):\n",
            " #   Column                   Non-Null Count  Dtype  \n",
            "---  ------                   --------------  -----  \n",
            " 0   Temperature - (Celsius)  1440 non-null   float64\n",
            " 1    Year                    1440 non-null   int64  \n",
            " 2    Statistics              1440 non-null   object \n",
            " 3    Country                 1440 non-null   object \n",
            " 4    ISO3                    1440 non-null   object \n",
            "dtypes: float64(1), int64(1), object(3)\n",
            "memory usage: 56.4+ KB\n"
          ]
        }
      ]
    },
    {
      "cell_type": "code",
      "metadata": {
        "colab": {
          "base_uri": "https://localhost:8080/"
        },
        "id": "DgnCxTQbHU7_",
        "outputId": "63b69f50-088b-459d-d531-4eab6f9b5d6f"
      },
      "source": [
        "#identifying coluns's names\n",
        "df_tas.columns"
      ],
      "execution_count": 9,
      "outputs": [
        {
          "output_type": "execute_result",
          "data": {
            "text/plain": [
              "Index(['Temperature - (Celsius)', ' Year', ' Statistics', ' Country', ' ISO3'], dtype='object')"
            ]
          },
          "metadata": {},
          "execution_count": 9
        }
      ]
    },
    {
      "cell_type": "code",
      "metadata": {
        "colab": {
          "base_uri": "https://localhost:8080/",
          "height": 204
        },
        "id": "iPkGqGKBHm3_",
        "outputId": "97342320-1c9e-43eb-9b3b-4cad4c160b2d"
      },
      "source": [
        "#cleaning columns names\n",
        "colunas = [c.strip().lower().replace(\" \",\"_\") for c in df_tas.columns]\n",
        "df_tas.columns = colunas\n",
        "   \n",
        "\n",
        "df_tas.head(5)"
      ],
      "execution_count": 10,
      "outputs": [
        {
          "output_type": "execute_result",
          "data": {
            "text/html": [
              "<div>\n",
              "<style scoped>\n",
              "    .dataframe tbody tr th:only-of-type {\n",
              "        vertical-align: middle;\n",
              "    }\n",
              "\n",
              "    .dataframe tbody tr th {\n",
              "        vertical-align: top;\n",
              "    }\n",
              "\n",
              "    .dataframe thead th {\n",
              "        text-align: right;\n",
              "    }\n",
              "</style>\n",
              "<table border=\"1\" class=\"dataframe\">\n",
              "  <thead>\n",
              "    <tr style=\"text-align: right;\">\n",
              "      <th></th>\n",
              "      <th>temperature_-_(celsius)</th>\n",
              "      <th>year</th>\n",
              "      <th>statistics</th>\n",
              "      <th>country</th>\n",
              "      <th>iso3</th>\n",
              "    </tr>\n",
              "  </thead>\n",
              "  <tbody>\n",
              "    <tr>\n",
              "      <th>0</th>\n",
              "      <td>16.4</td>\n",
              "      <td>1901</td>\n",
              "      <td>Jan Average</td>\n",
              "      <td>India</td>\n",
              "      <td>IND</td>\n",
              "    </tr>\n",
              "    <tr>\n",
              "      <th>1</th>\n",
              "      <td>18.3</td>\n",
              "      <td>1901</td>\n",
              "      <td>Feb Average</td>\n",
              "      <td>India</td>\n",
              "      <td>IND</td>\n",
              "    </tr>\n",
              "    <tr>\n",
              "      <th>2</th>\n",
              "      <td>23.5</td>\n",
              "      <td>1901</td>\n",
              "      <td>Mar Average</td>\n",
              "      <td>India</td>\n",
              "      <td>IND</td>\n",
              "    </tr>\n",
              "    <tr>\n",
              "      <th>3</th>\n",
              "      <td>27.5</td>\n",
              "      <td>1901</td>\n",
              "      <td>Apr Average</td>\n",
              "      <td>India</td>\n",
              "      <td>IND</td>\n",
              "    </tr>\n",
              "    <tr>\n",
              "      <th>4</th>\n",
              "      <td>29.8</td>\n",
              "      <td>1901</td>\n",
              "      <td>May Average</td>\n",
              "      <td>India</td>\n",
              "      <td>IND</td>\n",
              "    </tr>\n",
              "  </tbody>\n",
              "</table>\n",
              "</div>"
            ],
            "text/plain": [
              "   temperature_-_(celsius)  year    statistics country  iso3\n",
              "0                     16.4  1901   Jan Average   India   IND\n",
              "1                     18.3  1901   Feb Average   India   IND\n",
              "2                     23.5  1901   Mar Average   India   IND\n",
              "3                     27.5  1901   Apr Average   India   IND\n",
              "4                     29.8  1901   May Average   India   IND"
            ]
          },
          "metadata": {},
          "execution_count": 10
        }
      ]
    },
    {
      "cell_type": "code",
      "metadata": {
        "colab": {
          "base_uri": "https://localhost:8080/"
        },
        "id": "Ecq75VT-Ns9I",
        "outputId": "57182f83-b9b9-42dd-9b39-7957775f18e6"
      },
      "source": [
        "#checking columns' names after modifications\n",
        "df_tas.columns"
      ],
      "execution_count": 11,
      "outputs": [
        {
          "output_type": "execute_result",
          "data": {
            "text/plain": [
              "Index(['temperature_-_(celsius)', 'year', 'statistics', 'country', 'iso3'], dtype='object')"
            ]
          },
          "metadata": {},
          "execution_count": 11
        }
      ]
    },
    {
      "cell_type": "code",
      "metadata": {
        "id": "2hsaz_bCKj1-"
      },
      "source": [
        "#defining a function to replace values inside the index column \n",
        "def replace (col): \n",
        "    return col.replace(\" Average\",'').strip()"
      ],
      "execution_count": 12,
      "outputs": []
    },
    {
      "cell_type": "code",
      "metadata": {
        "id": "jWlf_vRKQsI6"
      },
      "source": [
        " #creating a dict to redefining some columns' names\n",
        " renomeando = {'temperature_-_(celsius)':'tas', 'statistics':'month'}"
      ],
      "execution_count": 13,
      "outputs": []
    },
    {
      "cell_type": "code",
      "metadata": {
        "id": "ZIKE35ghvJXQ"
      },
      "source": [
        "#defining a function to create a conditional new column\n",
        "def year_season(row):\n",
        "    seasons = {\"spring\":[\"Mar\",\"Apr\",\"May\"], 'summer':[\"Jun\",\"Jul\",\"Aug\"],'autumn':['Sep',\"Oct\",\"Nov\"],'winter':[\"Dec\",\"Jan\",\"Feb\"]}\n",
        "    key_list = list(seasons.keys())\n",
        "    val_list = list(seasons.values())\n",
        "    for meses in seasons.values():\n",
        "        for m in meses:\n",
        "            if m == row['month']:\n",
        "                indice =val_list.index(meses)\n",
        "                #print(indice,meses)\n",
        "                #print(key_list[indice])\n",
        "                return key_list[indice]"
      ],
      "execution_count": 14,
      "outputs": []
    },
    {
      "cell_type": "code",
      "metadata": {
        "id": "zSJkh-nTKco6",
        "colab": {
          "base_uri": "https://localhost:8080/",
          "height": 204
        },
        "outputId": "64d48754-d4e5-412a-9bf3-d7e66b7c16fc"
      },
      "source": [
        "#Filtering years from 1960 onwards, cleaning and renaming columns\n",
        "df_tas_test_season=\\\n",
        "(\n",
        "    df_tas.loc[df_tas['year']>=1960,:]\n",
        "    .rename(columns=renomeando)\n",
        "    .set_index(\"month\")\n",
        "    .rename(index=replace)\n",
        "    .reset_index()\n",
        "    \n",
        "    \n",
        ")\n",
        "##cleaning string values:\n",
        "df_tas_test_season.loc[::,['country','iso3']]=df_tas_test_season.loc[::,['country','iso3']].applymap(lambda x: x.strip())\n",
        "df_tas_test_season.head()"
      ],
      "execution_count": 15,
      "outputs": [
        {
          "output_type": "execute_result",
          "data": {
            "text/html": [
              "<div>\n",
              "<style scoped>\n",
              "    .dataframe tbody tr th:only-of-type {\n",
              "        vertical-align: middle;\n",
              "    }\n",
              "\n",
              "    .dataframe tbody tr th {\n",
              "        vertical-align: top;\n",
              "    }\n",
              "\n",
              "    .dataframe thead th {\n",
              "        text-align: right;\n",
              "    }\n",
              "</style>\n",
              "<table border=\"1\" class=\"dataframe\">\n",
              "  <thead>\n",
              "    <tr style=\"text-align: right;\">\n",
              "      <th></th>\n",
              "      <th>month</th>\n",
              "      <th>tas</th>\n",
              "      <th>year</th>\n",
              "      <th>country</th>\n",
              "      <th>iso3</th>\n",
              "    </tr>\n",
              "  </thead>\n",
              "  <tbody>\n",
              "    <tr>\n",
              "      <th>0</th>\n",
              "      <td>Jan</td>\n",
              "      <td>16.9</td>\n",
              "      <td>1960</td>\n",
              "      <td>India</td>\n",
              "      <td>IND</td>\n",
              "    </tr>\n",
              "    <tr>\n",
              "      <th>1</th>\n",
              "      <td>Feb</td>\n",
              "      <td>20.8</td>\n",
              "      <td>1960</td>\n",
              "      <td>India</td>\n",
              "      <td>IND</td>\n",
              "    </tr>\n",
              "    <tr>\n",
              "      <th>2</th>\n",
              "      <td>Mar</td>\n",
              "      <td>23.0</td>\n",
              "      <td>1960</td>\n",
              "      <td>India</td>\n",
              "      <td>IND</td>\n",
              "    </tr>\n",
              "    <tr>\n",
              "      <th>3</th>\n",
              "      <td>Apr</td>\n",
              "      <td>27.5</td>\n",
              "      <td>1960</td>\n",
              "      <td>India</td>\n",
              "      <td>IND</td>\n",
              "    </tr>\n",
              "    <tr>\n",
              "      <th>4</th>\n",
              "      <td>May</td>\n",
              "      <td>30.1</td>\n",
              "      <td>1960</td>\n",
              "      <td>India</td>\n",
              "      <td>IND</td>\n",
              "    </tr>\n",
              "  </tbody>\n",
              "</table>\n",
              "</div>"
            ],
            "text/plain": [
              "  month   tas  year country iso3\n",
              "0   Jan  16.9  1960   India  IND\n",
              "1   Feb  20.8  1960   India  IND\n",
              "2   Mar  23.0  1960   India  IND\n",
              "3   Apr  27.5  1960   India  IND\n",
              "4   May  30.1  1960   India  IND"
            ]
          },
          "metadata": {},
          "execution_count": 15
        }
      ]
    },
    {
      "cell_type": "code",
      "metadata": {
        "colab": {
          "base_uri": "https://localhost:8080/",
          "height": 35
        },
        "id": "fw0_5VO3HhTk",
        "outputId": "7bf8f131-5a50-4e75-8024-0698e55a049d"
      },
      "source": [
        "df_tas_test_season.iloc[0,3]"
      ],
      "execution_count": 16,
      "outputs": [
        {
          "output_type": "execute_result",
          "data": {
            "application/vnd.google.colaboratory.intrinsic+json": {
              "type": "string"
            },
            "text/plain": [
              "'India'"
            ]
          },
          "metadata": {},
          "execution_count": 16
        }
      ]
    },
    {
      "cell_type": "code",
      "metadata": {
        "id": "OElv1zQv0eYe"
      },
      "source": [
        "#Including the conditional column: season\n",
        "df_tas_season =df_tas_test_season.assign(season = df_tas_test_season.apply(year_season,axis=1))\n",
        "\n"
      ],
      "execution_count": 17,
      "outputs": []
    },
    {
      "cell_type": "code",
      "metadata": {
        "colab": {
          "base_uri": "https://localhost:8080/",
          "height": 419
        },
        "id": "7OQxsYzv2Hb9",
        "outputId": "d8c4e7a0-bce2-46d5-98a0-6bf766a5f0c1"
      },
      "source": [
        "df_tas_season"
      ],
      "execution_count": 18,
      "outputs": [
        {
          "output_type": "execute_result",
          "data": {
            "text/html": [
              "<div>\n",
              "<style scoped>\n",
              "    .dataframe tbody tr th:only-of-type {\n",
              "        vertical-align: middle;\n",
              "    }\n",
              "\n",
              "    .dataframe tbody tr th {\n",
              "        vertical-align: top;\n",
              "    }\n",
              "\n",
              "    .dataframe thead th {\n",
              "        text-align: right;\n",
              "    }\n",
              "</style>\n",
              "<table border=\"1\" class=\"dataframe\">\n",
              "  <thead>\n",
              "    <tr style=\"text-align: right;\">\n",
              "      <th></th>\n",
              "      <th>month</th>\n",
              "      <th>tas</th>\n",
              "      <th>year</th>\n",
              "      <th>country</th>\n",
              "      <th>iso3</th>\n",
              "      <th>season</th>\n",
              "    </tr>\n",
              "  </thead>\n",
              "  <tbody>\n",
              "    <tr>\n",
              "      <th>0</th>\n",
              "      <td>Jan</td>\n",
              "      <td>16.9</td>\n",
              "      <td>1960</td>\n",
              "      <td>India</td>\n",
              "      <td>IND</td>\n",
              "      <td>winter</td>\n",
              "    </tr>\n",
              "    <tr>\n",
              "      <th>1</th>\n",
              "      <td>Feb</td>\n",
              "      <td>20.8</td>\n",
              "      <td>1960</td>\n",
              "      <td>India</td>\n",
              "      <td>IND</td>\n",
              "      <td>winter</td>\n",
              "    </tr>\n",
              "    <tr>\n",
              "      <th>2</th>\n",
              "      <td>Mar</td>\n",
              "      <td>23.0</td>\n",
              "      <td>1960</td>\n",
              "      <td>India</td>\n",
              "      <td>IND</td>\n",
              "      <td>spring</td>\n",
              "    </tr>\n",
              "    <tr>\n",
              "      <th>3</th>\n",
              "      <td>Apr</td>\n",
              "      <td>27.5</td>\n",
              "      <td>1960</td>\n",
              "      <td>India</td>\n",
              "      <td>IND</td>\n",
              "      <td>spring</td>\n",
              "    </tr>\n",
              "    <tr>\n",
              "      <th>4</th>\n",
              "      <td>May</td>\n",
              "      <td>30.1</td>\n",
              "      <td>1960</td>\n",
              "      <td>India</td>\n",
              "      <td>IND</td>\n",
              "      <td>spring</td>\n",
              "    </tr>\n",
              "    <tr>\n",
              "      <th>...</th>\n",
              "      <td>...</td>\n",
              "      <td>...</td>\n",
              "      <td>...</td>\n",
              "      <td>...</td>\n",
              "      <td>...</td>\n",
              "      <td>...</td>\n",
              "    </tr>\n",
              "    <tr>\n",
              "      <th>727</th>\n",
              "      <td>Aug</td>\n",
              "      <td>27.0</td>\n",
              "      <td>2020</td>\n",
              "      <td>India</td>\n",
              "      <td>IND</td>\n",
              "      <td>summer</td>\n",
              "    </tr>\n",
              "    <tr>\n",
              "      <th>728</th>\n",
              "      <td>Sep</td>\n",
              "      <td>27.3</td>\n",
              "      <td>2020</td>\n",
              "      <td>India</td>\n",
              "      <td>IND</td>\n",
              "      <td>autumn</td>\n",
              "    </tr>\n",
              "    <tr>\n",
              "      <th>729</th>\n",
              "      <td>Oct</td>\n",
              "      <td>25.9</td>\n",
              "      <td>2020</td>\n",
              "      <td>India</td>\n",
              "      <td>IND</td>\n",
              "      <td>autumn</td>\n",
              "    </tr>\n",
              "    <tr>\n",
              "      <th>730</th>\n",
              "      <td>Nov</td>\n",
              "      <td>21.4</td>\n",
              "      <td>2020</td>\n",
              "      <td>India</td>\n",
              "      <td>IND</td>\n",
              "      <td>autumn</td>\n",
              "    </tr>\n",
              "    <tr>\n",
              "      <th>731</th>\n",
              "      <td>Dec</td>\n",
              "      <td>18.4</td>\n",
              "      <td>2020</td>\n",
              "      <td>India</td>\n",
              "      <td>IND</td>\n",
              "      <td>winter</td>\n",
              "    </tr>\n",
              "  </tbody>\n",
              "</table>\n",
              "<p>732 rows × 6 columns</p>\n",
              "</div>"
            ],
            "text/plain": [
              "    month   tas  year country iso3  season\n",
              "0     Jan  16.9  1960   India  IND  winter\n",
              "1     Feb  20.8  1960   India  IND  winter\n",
              "2     Mar  23.0  1960   India  IND  spring\n",
              "3     Apr  27.5  1960   India  IND  spring\n",
              "4     May  30.1  1960   India  IND  spring\n",
              "..    ...   ...   ...     ...  ...     ...\n",
              "727   Aug  27.0  2020   India  IND  summer\n",
              "728   Sep  27.3  2020   India  IND  autumn\n",
              "729   Oct  25.9  2020   India  IND  autumn\n",
              "730   Nov  21.4  2020   India  IND  autumn\n",
              "731   Dec  18.4  2020   India  IND  winter\n",
              "\n",
              "[732 rows x 6 columns]"
            ]
          },
          "metadata": {},
          "execution_count": 18
        }
      ]
    },
    {
      "cell_type": "code",
      "metadata": {
        "id": "XJq4ONe02LW8",
        "colab": {
          "base_uri": "https://localhost:8080/",
          "height": 664
        },
        "outputId": "778e5aac-c58c-4473-872f-22c8efd6cde9"
      },
      "source": [
        "#Verifying NAN values\n",
        "msno.matrix(df_tas_season)"
      ],
      "execution_count": 19,
      "outputs": [
        {
          "output_type": "execute_result",
          "data": {
            "text/plain": [
              "<matplotlib.axes._subplots.AxesSubplot at 0x7f13f11ce210>"
            ]
          },
          "metadata": {},
          "execution_count": 19
        },
        {
          "output_type": "display_data",
          "data": {
            "image/png": "[encoded data removed]",
            "text/plain": [
              "<Figure size 1800x720 with 2 Axes>"
            ]
          },
          "metadata": {
            "needs_background": "light"
          }
        }
      ]
    },
    {
      "cell_type": "code",
      "metadata": {
        "id": "pSVxcgVn_QE9"
      },
      "source": [
        "df_tas_season.to_csv(f\"/content/drive/MyDrive/Temperatura_Precipitacao_analises/limpos/tas_temperatura_avg/{tipo}{anos}{pais}_seasons.csv\", index=False)"
      ],
      "execution_count": 20,
      "outputs": []
    },
    {
      "cell_type": "markdown",
      "metadata": {
        "id": "AahQ8imU7q5p"
      },
      "source": [
        "**Improving the memory usage**\n",
        "\n",
        "---"
      ]
    },
    {
      "cell_type": "code",
      "metadata": {
        "colab": {
          "base_uri": "https://localhost:8080/"
        },
        "id": "xWq12DeiwoWn",
        "outputId": "7eac9141-1d7e-4fe2-a76c-b517deb20032"
      },
      "source": [
        "#Verifying the shape\n",
        "df_tas_season.shape\n"
      ],
      "execution_count": 21,
      "outputs": [
        {
          "output_type": "execute_result",
          "data": {
            "text/plain": [
              "(732, 6)"
            ]
          },
          "metadata": {},
          "execution_count": 21
        }
      ]
    },
    {
      "cell_type": "code",
      "metadata": {
        "colab": {
          "base_uri": "https://localhost:8080/"
        },
        "id": "DMXaIEhJwuZ1",
        "outputId": "9f9de785-9320-47e4-eced-2f1bbd2bb1d9"
      },
      "source": [
        "#Verifying types and memory usage\n",
        "original_info = df_tas_season.info()"
      ],
      "execution_count": 22,
      "outputs": [
        {
          "output_type": "stream",
          "name": "stdout",
          "text": [
            "<class 'pandas.core.frame.DataFrame'>\n",
            "RangeIndex: 732 entries, 0 to 731\n",
            "Data columns (total 6 columns):\n",
            " #   Column   Non-Null Count  Dtype  \n",
            "---  ------   --------------  -----  \n",
            " 0   month    732 non-null    object \n",
            " 1   tas      732 non-null    float64\n",
            " 2   year     732 non-null    int64  \n",
            " 3   country  732 non-null    object \n",
            " 4   iso3     732 non-null    object \n",
            " 5   season   732 non-null    object \n",
            "dtypes: float64(1), int64(1), object(4)\n",
            "memory usage: 34.4+ KB\n"
          ]
        }
      ]
    },
    {
      "cell_type": "code",
      "metadata": {
        "id": "BOzbWk0Ow2Dd"
      },
      "source": [
        "#Verifying memory usage\n",
        "original_mem = df_tas_season.memory_usage(deep=True)\n"
      ],
      "execution_count": 23,
      "outputs": []
    },
    {
      "cell_type": "code",
      "metadata": {
        "colab": {
          "base_uri": "https://localhost:8080/"
        },
        "id": "1RGtPlZTzQPM",
        "outputId": "371e5a83-9ff2-485d-84bc-cc9914b0b178"
      },
      "source": [
        "#Checking the low cardinality\n",
        "df_tas_season.select_dtypes(include=[\"object\"]).nunique()"
      ],
      "execution_count": 24,
      "outputs": [
        {
          "output_type": "execute_result",
          "data": {
            "text/plain": [
              "month      12\n",
              "country     1\n",
              "iso3        1\n",
              "season      4\n",
              "dtype: int64"
            ]
          },
          "metadata": {},
          "execution_count": 24
        }
      ]
    },
    {
      "cell_type": "code",
      "metadata": {
        "colab": {
          "base_uri": "https://localhost:8080/",
          "height": 419
        },
        "id": "YYhSvqHv10a8",
        "outputId": "d81e3b17-0d5f-4ff3-d484-c65a62548038"
      },
      "source": [
        "#Changing the columns types\n",
        "col_to_category = ['month',\"country\",\"iso3\",\"season\"]\n",
        "\n",
        "df_tas_season[\"year\"]= df_tas_season[\"year\"].astype(\"int32\")\n",
        "df_tas_season[col_to_category]=df_tas_season[col_to_category].astype(\"category\")\n",
        "\n",
        "df_tas_season"
      ],
      "execution_count": 25,
      "outputs": [
        {
          "output_type": "execute_result",
          "data": {
            "text/html": [
              "<div>\n",
              "<style scoped>\n",
              "    .dataframe tbody tr th:only-of-type {\n",
              "        vertical-align: middle;\n",
              "    }\n",
              "\n",
              "    .dataframe tbody tr th {\n",
              "        vertical-align: top;\n",
              "    }\n",
              "\n",
              "    .dataframe thead th {\n",
              "        text-align: right;\n",
              "    }\n",
              "</style>\n",
              "<table border=\"1\" class=\"dataframe\">\n",
              "  <thead>\n",
              "    <tr style=\"text-align: right;\">\n",
              "      <th></th>\n",
              "      <th>month</th>\n",
              "      <th>tas</th>\n",
              "      <th>year</th>\n",
              "      <th>country</th>\n",
              "      <th>iso3</th>\n",
              "      <th>season</th>\n",
              "    </tr>\n",
              "  </thead>\n",
              "  <tbody>\n",
              "    <tr>\n",
              "      <th>0</th>\n",
              "      <td>Jan</td>\n",
              "      <td>16.9</td>\n",
              "      <td>1960</td>\n",
              "      <td>India</td>\n",
              "      <td>IND</td>\n",
              "      <td>winter</td>\n",
              "    </tr>\n",
              "    <tr>\n",
              "      <th>1</th>\n",
              "      <td>Feb</td>\n",
              "      <td>20.8</td>\n",
              "      <td>1960</td>\n",
              "      <td>India</td>\n",
              "      <td>IND</td>\n",
              "      <td>winter</td>\n",
              "    </tr>\n",
              "    <tr>\n",
              "      <th>2</th>\n",
              "      <td>Mar</td>\n",
              "      <td>23.0</td>\n",
              "      <td>1960</td>\n",
              "      <td>India</td>\n",
              "      <td>IND</td>\n",
              "      <td>spring</td>\n",
              "    </tr>\n",
              "    <tr>\n",
              "      <th>3</th>\n",
              "      <td>Apr</td>\n",
              "      <td>27.5</td>\n",
              "      <td>1960</td>\n",
              "      <td>India</td>\n",
              "      <td>IND</td>\n",
              "      <td>spring</td>\n",
              "    </tr>\n",
              "    <tr>\n",
              "      <th>4</th>\n",
              "      <td>May</td>\n",
              "      <td>30.1</td>\n",
              "      <td>1960</td>\n",
              "      <td>India</td>\n",
              "      <td>IND</td>\n",
              "      <td>spring</td>\n",
              "    </tr>\n",
              "    <tr>\n",
              "      <th>...</th>\n",
              "      <td>...</td>\n",
              "      <td>...</td>\n",
              "      <td>...</td>\n",
              "      <td>...</td>\n",
              "      <td>...</td>\n",
              "      <td>...</td>\n",
              "    </tr>\n",
              "    <tr>\n",
              "      <th>727</th>\n",
              "      <td>Aug</td>\n",
              "      <td>27.0</td>\n",
              "      <td>2020</td>\n",
              "      <td>India</td>\n",
              "      <td>IND</td>\n",
              "      <td>summer</td>\n",
              "    </tr>\n",
              "    <tr>\n",
              "      <th>728</th>\n",
              "      <td>Sep</td>\n",
              "      <td>27.3</td>\n",
              "      <td>2020</td>\n",
              "      <td>India</td>\n",
              "      <td>IND</td>\n",
              "      <td>autumn</td>\n",
              "    </tr>\n",
              "    <tr>\n",
              "      <th>729</th>\n",
              "      <td>Oct</td>\n",
              "      <td>25.9</td>\n",
              "      <td>2020</td>\n",
              "      <td>India</td>\n",
              "      <td>IND</td>\n",
              "      <td>autumn</td>\n",
              "    </tr>\n",
              "    <tr>\n",
              "      <th>730</th>\n",
              "      <td>Nov</td>\n",
              "      <td>21.4</td>\n",
              "      <td>2020</td>\n",
              "      <td>India</td>\n",
              "      <td>IND</td>\n",
              "      <td>autumn</td>\n",
              "    </tr>\n",
              "    <tr>\n",
              "      <th>731</th>\n",
              "      <td>Dec</td>\n",
              "      <td>18.4</td>\n",
              "      <td>2020</td>\n",
              "      <td>India</td>\n",
              "      <td>IND</td>\n",
              "      <td>winter</td>\n",
              "    </tr>\n",
              "  </tbody>\n",
              "</table>\n",
              "<p>732 rows × 6 columns</p>\n",
              "</div>"
            ],
            "text/plain": [
              "    month   tas  year country iso3  season\n",
              "0     Jan  16.9  1960   India  IND  winter\n",
              "1     Feb  20.8  1960   India  IND  winter\n",
              "2     Mar  23.0  1960   India  IND  spring\n",
              "3     Apr  27.5  1960   India  IND  spring\n",
              "4     May  30.1  1960   India  IND  spring\n",
              "..    ...   ...   ...     ...  ...     ...\n",
              "727   Aug  27.0  2020   India  IND  summer\n",
              "728   Sep  27.3  2020   India  IND  autumn\n",
              "729   Oct  25.9  2020   India  IND  autumn\n",
              "730   Nov  21.4  2020   India  IND  autumn\n",
              "731   Dec  18.4  2020   India  IND  winter\n",
              "\n",
              "[732 rows x 6 columns]"
            ]
          },
          "metadata": {},
          "execution_count": 25
        }
      ]
    },
    {
      "cell_type": "markdown",
      "metadata": {
        "id": "nRNWnyol7amc"
      },
      "source": [
        "Comparing Memory Usage\n"
      ]
    },
    {
      "cell_type": "code",
      "metadata": {
        "id": "FPpsHIaI2_U9"
      },
      "source": [
        "#Verifying new memory usage\n",
        "new_memory = df_tas_season.memory_usage(deep=True)\n"
      ],
      "execution_count": 26,
      "outputs": []
    },
    {
      "cell_type": "code",
      "metadata": {
        "colab": {
          "base_uri": "https://localhost:8080/"
        },
        "id": "YnTrlDPZ3FBs",
        "outputId": "16a3b408-6b39-4a8e-d1be-08c76e99e117"
      },
      "source": [
        "# Comparying memory usage\n",
        "old_value ='\\033[91m'\n",
        "new_value ='\\033[1;32m'\n",
        "normal_value = '\\033[0m'\n",
        "print(old_value + \"This is the original memory usage\" + normal_value)\n",
        "print(original_mem)\n",
        "print(new_value + \"\\nAnd this is the new memory usage\" + normal_value)\n",
        "print(new_memory)\n"
      ],
      "execution_count": 27,
      "outputs": [
        {
          "output_type": "stream",
          "name": "stdout",
          "text": [
            "\u001b[91mThis is the original memory usage\u001b[0m\n",
            "Index        128\n",
            "month      43920\n",
            "tas         5856\n",
            "year        5856\n",
            "country    45384\n",
            "iso3       43920\n",
            "season     46116\n",
            "dtype: int64\n",
            "\u001b[1;32m\n",
            "And this is the new memory usage\u001b[0m\n",
            "Index       128\n",
            "month      1772\n",
            "tas        5856\n",
            "year       2928\n",
            "country     874\n",
            "iso3        872\n",
            "season     1144\n",
            "dtype: int64\n"
          ]
        }
      ]
    },
    {
      "cell_type": "code",
      "metadata": {
        "colab": {
          "base_uri": "https://localhost:8080/"
        },
        "id": "fESGgRgI7RWS",
        "outputId": "62b701b4-d02e-4607-ead6-c89d57f59437"
      },
      "source": [
        "#Checking new info data\n",
        "new_info = df_tas_season.info()\n"
      ],
      "execution_count": 28,
      "outputs": [
        {
          "output_type": "stream",
          "name": "stdout",
          "text": [
            "<class 'pandas.core.frame.DataFrame'>\n",
            "RangeIndex: 732 entries, 0 to 731\n",
            "Data columns (total 6 columns):\n",
            " #   Column   Non-Null Count  Dtype   \n",
            "---  ------   --------------  -----   \n",
            " 0   month    732 non-null    category\n",
            " 1   tas      732 non-null    float64 \n",
            " 2   year     732 non-null    int32   \n",
            " 3   country  732 non-null    category\n",
            " 4   iso3     732 non-null    category\n",
            " 5   season   732 non-null    category\n",
            "dtypes: category(4), float64(1), int32(1)\n",
            "memory usage: 12.3 KB\n"
          ]
        }
      ]
    },
    {
      "cell_type": "code",
      "metadata": {
        "colab": {
          "base_uri": "https://localhost:8080/"
        },
        "id": "m7zwS4rOXzkq",
        "outputId": "6aa22af6-01d9-42f6-bc0e-d274f0167f2e"
      },
      "source": [
        "#Checking the describe method\n",
        "df_tas_season['tas'].describe().T"
      ],
      "execution_count": 29,
      "outputs": [
        {
          "output_type": "execute_result",
          "data": {
            "text/plain": [
              "count    732.000000\n",
              "mean      24.439481\n",
              "std        4.218944\n",
              "min       16.100000\n",
              "25%       20.500000\n",
              "50%       25.900000\n",
              "75%       27.600000\n",
              "max       31.100000\n",
              "Name: tas, dtype: float64"
            ]
          },
          "metadata": {},
          "execution_count": 29
        }
      ]
    },
    {
      "cell_type": "markdown",
      "metadata": {
        "id": "802XbvRE6VdE"
      },
      "source": [
        "##  *PLOTTING YEARS*"
      ]
    },
    {
      "cell_type": "code",
      "metadata": {
        "id": "tfEMMprOsRvb",
        "colab": {
          "base_uri": "https://localhost:8080/",
          "height": 450
        },
        "outputId": "b24cbf16-19d5-4415-f0f9-503e2263eae7"
      },
      "source": [
        "#Defining the df to chart\n",
        "df_tas_season_chart =\\\n",
        "(\n",
        "    df_tas_season.set_index(\"month\")\n",
        ")\n",
        "\n",
        "df_tas_season_chart"
      ],
      "execution_count": 30,
      "outputs": [
        {
          "output_type": "execute_result",
          "data": {
            "text/html": [
              "<div>\n",
              "<style scoped>\n",
              "    .dataframe tbody tr th:only-of-type {\n",
              "        vertical-align: middle;\n",
              "    }\n",
              "\n",
              "    .dataframe tbody tr th {\n",
              "        vertical-align: top;\n",
              "    }\n",
              "\n",
              "    .dataframe thead th {\n",
              "        text-align: right;\n",
              "    }\n",
              "</style>\n",
              "<table border=\"1\" class=\"dataframe\">\n",
              "  <thead>\n",
              "    <tr style=\"text-align: right;\">\n",
              "      <th></th>\n",
              "      <th>tas</th>\n",
              "      <th>year</th>\n",
              "      <th>country</th>\n",
              "      <th>iso3</th>\n",
              "      <th>season</th>\n",
              "    </tr>\n",
              "    <tr>\n",
              "      <th>month</th>\n",
              "      <th></th>\n",
              "      <th></th>\n",
              "      <th></th>\n",
              "      <th></th>\n",
              "      <th></th>\n",
              "    </tr>\n",
              "  </thead>\n",
              "  <tbody>\n",
              "    <tr>\n",
              "      <th>Jan</th>\n",
              "      <td>16.9</td>\n",
              "      <td>1960</td>\n",
              "      <td>India</td>\n",
              "      <td>IND</td>\n",
              "      <td>winter</td>\n",
              "    </tr>\n",
              "    <tr>\n",
              "      <th>Feb</th>\n",
              "      <td>20.8</td>\n",
              "      <td>1960</td>\n",
              "      <td>India</td>\n",
              "      <td>IND</td>\n",
              "      <td>winter</td>\n",
              "    </tr>\n",
              "    <tr>\n",
              "      <th>Mar</th>\n",
              "      <td>23.0</td>\n",
              "      <td>1960</td>\n",
              "      <td>India</td>\n",
              "      <td>IND</td>\n",
              "      <td>spring</td>\n",
              "    </tr>\n",
              "    <tr>\n",
              "      <th>Apr</th>\n",
              "      <td>27.5</td>\n",
              "      <td>1960</td>\n",
              "      <td>India</td>\n",
              "      <td>IND</td>\n",
              "      <td>spring</td>\n",
              "    </tr>\n",
              "    <tr>\n",
              "      <th>May</th>\n",
              "      <td>30.1</td>\n",
              "      <td>1960</td>\n",
              "      <td>India</td>\n",
              "      <td>IND</td>\n",
              "      <td>spring</td>\n",
              "    </tr>\n",
              "    <tr>\n",
              "      <th>...</th>\n",
              "      <td>...</td>\n",
              "      <td>...</td>\n",
              "      <td>...</td>\n",
              "      <td>...</td>\n",
              "      <td>...</td>\n",
              "    </tr>\n",
              "    <tr>\n",
              "      <th>Aug</th>\n",
              "      <td>27.0</td>\n",
              "      <td>2020</td>\n",
              "      <td>India</td>\n",
              "      <td>IND</td>\n",
              "      <td>summer</td>\n",
              "    </tr>\n",
              "    <tr>\n",
              "      <th>Sep</th>\n",
              "      <td>27.3</td>\n",
              "      <td>2020</td>\n",
              "      <td>India</td>\n",
              "      <td>IND</td>\n",
              "      <td>autumn</td>\n",
              "    </tr>\n",
              "    <tr>\n",
              "      <th>Oct</th>\n",
              "      <td>25.9</td>\n",
              "      <td>2020</td>\n",
              "      <td>India</td>\n",
              "      <td>IND</td>\n",
              "      <td>autumn</td>\n",
              "    </tr>\n",
              "    <tr>\n",
              "      <th>Nov</th>\n",
              "      <td>21.4</td>\n",
              "      <td>2020</td>\n",
              "      <td>India</td>\n",
              "      <td>IND</td>\n",
              "      <td>autumn</td>\n",
              "    </tr>\n",
              "    <tr>\n",
              "      <th>Dec</th>\n",
              "      <td>18.4</td>\n",
              "      <td>2020</td>\n",
              "      <td>India</td>\n",
              "      <td>IND</td>\n",
              "      <td>winter</td>\n",
              "    </tr>\n",
              "  </tbody>\n",
              "</table>\n",
              "<p>732 rows × 5 columns</p>\n",
              "</div>"
            ],
            "text/plain": [
              "        tas  year country iso3  season\n",
              "month                                 \n",
              "Jan    16.9  1960   India  IND  winter\n",
              "Feb    20.8  1960   India  IND  winter\n",
              "Mar    23.0  1960   India  IND  spring\n",
              "Apr    27.5  1960   India  IND  spring\n",
              "May    30.1  1960   India  IND  spring\n",
              "...     ...   ...     ...  ...     ...\n",
              "Aug    27.0  2020   India  IND  summer\n",
              "Sep    27.3  2020   India  IND  autumn\n",
              "Oct    25.9  2020   India  IND  autumn\n",
              "Nov    21.4  2020   India  IND  autumn\n",
              "Dec    18.4  2020   India  IND  winter\n",
              "\n",
              "[732 rows x 5 columns]"
            ]
          },
          "metadata": {},
          "execution_count": 30
        }
      ]
    },
    {
      "cell_type": "code",
      "metadata": {
        "id": "fS0XHoydGwOz"
      },
      "source": [
        "#Importing the package and defining the colors to plot\n",
        "import matplotlib.dates as mdt\n",
        "blue = '#99ddee'\n",
        "white = '#ffffff'"
      ],
      "execution_count": 31,
      "outputs": []
    },
    {
      "cell_type": "code",
      "metadata": {
        "id": "C7lY59K_Jaia"
      },
      "source": [
        "#Defining the plot's function\n",
        "def plot_year(ax,temp,years):\n",
        "    ax.set_facecolor(blue)\n",
        "    ax.spines['top'].set_visible(False)\n",
        "    ax.spines['right'].set_visible(False)\n",
        "    ax.spines['bottom'].set_visible(False)\n",
        "    ax.spines['left'].set_visible(False)\n",
        "    filtro_1 = df_tas_season_chart.year == y\n",
        "    ax.plot(df_tas_season_chart.index[filtro_1],df_tas_season_chart.loc[filtro_1,'tas'].values)\n",
        "    ax.tick_params(axis='x', colors=white)\n",
        "    ax.tick_params(axis='y', colors=white)\n",
        "    ax.set_ylabel('Celsius Temperature', color=white)\n",
        "    ax.set_title(f\"Year {y}\", color=white, fontweight='bold')\n",
        "    ax.fill_between(df_tas_season_chart.index,min(df_tas_season_chart['tas']), max(df_tas_season_chart['tas'])+5,  facecolor='white' )\n"
      ],
      "execution_count": 32,
      "outputs": []
    },
    {
      "cell_type": "code",
      "metadata": {
        "id": "mMsGORGJ9iT7"
      },
      "source": [
        "df_tas_season_chart_x = df_tas_season_chart.reset_index()"
      ],
      "execution_count": 33,
      "outputs": []
    },
    {
      "cell_type": "code",
      "metadata": {
        "colab": {
          "base_uri": "https://localhost:8080/",
          "height": 1000
        },
        "id": "R6wrJIDcThze",
        "outputId": "3a9c1410-93a3-47c5-ca3f-e72c5ac72bac"
      },
      "source": [
        "#Ploting the years\n",
        "years = range(2000,2020+1)\n",
        "fig, axs = plt.subplots(ncols =3, nrows = int(len(years)/3),figsize=(20,25), linewidth = 5, facecolor = blue)\n",
        "\n",
        "axs = axs.flatten()\n",
        "max_val = None\n",
        "max_data = None\n",
        "max_ax = None\n",
        "for i, y in enumerate(years):\n",
        "\n",
        "    ax= axs[i]\n",
        " \n",
        "    data_1=\\\n",
        "    (\n",
        "        df_tas_season_chart_x.assign(YEAR=pd.to_datetime(df_tas_season_chart_x.year))\n",
        "        .set_index(\"year\")\n",
        "        .loc[y]\n",
        "        .tas\n",
        "        .interpolate()  \n",
        "    )\n",
        " \n",
        "\n",
        "    if max_val is None or max_val < data_1.max():\n",
        "        max_val = data_1.max()\n",
        "        max_data = data_1\n",
        "        max_ax = ax\n",
        "\n",
        "    ax.set_ylim(min(data_1.values), max((data_1.values))+5)\n",
        "    years = {y}\n",
        "    plot_year(ax, data_1, years)\n",
        "\n",
        "\n",
        "fig.suptitle(f'Average Temperature {pais}', color='white', fontweight='bold',fontsize=20 )\n",
        "fig.tight_layout( rect= [0,0.03, 1, 0.95])\n",
        "fig.savefig(f'/content/drive/MyDrive/Temperatura_Precipitacao_analises/charts/tas_temperatura_media/Average Tas Temperature by Year {pais}.png', dpi=300, facecolor=blue)\n",
        "\n"
      ],
      "execution_count": 34,
      "outputs": [
        {
          "output_type": "display_data",
          "data": {
            "image/png": "[encoded data removed]",
            "text/plain": [
              "<Figure size 1440x1800 with 21 Axes>"
            ]
          },
          "metadata": {}
        }
      ]
    },
    {
      "cell_type": "markdown",
      "metadata": {
        "id": "Sfk14hen5-bl"
      },
      "source": [
        "*PLOTTING QUARTILES*"
      ]
    },
    {
      "cell_type": "code",
      "metadata": {
        "id": "QzTFOyt7jCXC"
      },
      "source": [
        "#Defining data to Seasons' Quartile\n",
        "temp_season = ['tas','season']\n",
        "df_temp_season= df_tas_season[temp_season]\n"
      ],
      "execution_count": 35,
      "outputs": []
    },
    {
      "cell_type": "code",
      "metadata": {
        "colab": {
          "base_uri": "https://localhost:8080/",
          "height": 422
        },
        "id": "44Wj6vvbkUtK",
        "outputId": "ce735052-4489-43f4-a0a2-4b480eb8783d"
      },
      "source": [
        "#Ploting Quartiles\n",
        "fig,(ax1,ax2)=plt.subplots(1,2,figsize=(20,6))\n",
        "fig.suptitle(f\"Quartiles {pais}\", size=20, y=0.99)\n",
        "df_temp_season.pivot(columns='season').plot.box(ax=ax1,title=\"Seasons' Quartiles\")\n",
        "df_tas_season['tas'].plot.box(ax=ax2, title=\"General Quartile\")\n",
        "fig.savefig(f\"/content/drive/MyDrive/Temperatura_Precipitacao_analises/charts/tas_temperatura_media/{pais} Seasons'Quartiles\")"
      ],
      "execution_count": 36,
      "outputs": [
        {
          "output_type": "display_data",
          "data": {
            "image/png": "[encoded data removed]",
            "text/plain": [
              "<Figure size 1440x432 with 2 Axes>"
            ]
          },
          "metadata": {
            "needs_background": "light"
          }
        }
      ]
    },
    {
      "cell_type": "code",
      "metadata": {
        "colab": {
          "base_uri": "https://localhost:8080/",
          "height": 35
        },
        "id": "I9-RSQxzJF5C",
        "outputId": "414345ee-5712-4dd6-bd5f-57d7e33b8194"
      },
      "source": [
        "country=df_tas_season_chart.iloc[0,2]\n",
        "country"
      ],
      "execution_count": 37,
      "outputs": [
        {
          "output_type": "execute_result",
          "data": {
            "application/vnd.google.colaboratory.intrinsic+json": {
              "type": "string"
            },
            "text/plain": [
              "'India'"
            ]
          },
          "metadata": {},
          "execution_count": 37
        }
      ]
    },
    {
      "cell_type": "code",
      "metadata": {
        "colab": {
          "base_uri": "https://localhost:8080/",
          "height": 35
        },
        "id": "q4MFhxneJI6a",
        "outputId": "1d1377b7-1ecc-44e6-df8f-5dfd8912ad87"
      },
      "source": [
        "iso3=df_tas_season_chart.iloc[0,3]\n",
        "iso3"
      ],
      "execution_count": 38,
      "outputs": [
        {
          "output_type": "execute_result",
          "data": {
            "application/vnd.google.colaboratory.intrinsic+json": {
              "type": "string"
            },
            "text/plain": [
              "'IND'"
            ]
          },
          "metadata": {},
          "execution_count": 38
        }
      ]
    },
    {
      "cell_type": "code",
      "metadata": {
        "colab": {
          "base_uri": "https://localhost:8080/",
          "height": 235
        },
        "id": "WUN-rtp8dzRr",
        "outputId": "f27dc8d5-e7e8-44c2-a967-43598813cc08"
      },
      "source": [
        "#Defining data to General Quartile\n",
        "general_quartile= df_tas_season['tas'].describe()[['min','25%','50%','75%','max']].round(2).to_frame().assign(country=country).assign(iso3=iso3)\n",
        "general_quartile.index.name='quartil'\n",
        "general_quartile"
      ],
      "execution_count": 39,
      "outputs": [
        {
          "output_type": "execute_result",
          "data": {
            "text/html": [
              "<div>\n",
              "<style scoped>\n",
              "    .dataframe tbody tr th:only-of-type {\n",
              "        vertical-align: middle;\n",
              "    }\n",
              "\n",
              "    .dataframe tbody tr th {\n",
              "        vertical-align: top;\n",
              "    }\n",
              "\n",
              "    .dataframe thead th {\n",
              "        text-align: right;\n",
              "    }\n",
              "</style>\n",
              "<table border=\"1\" class=\"dataframe\">\n",
              "  <thead>\n",
              "    <tr style=\"text-align: right;\">\n",
              "      <th></th>\n",
              "      <th>tas</th>\n",
              "      <th>country</th>\n",
              "      <th>iso3</th>\n",
              "    </tr>\n",
              "    <tr>\n",
              "      <th>quartil</th>\n",
              "      <th></th>\n",
              "      <th></th>\n",
              "      <th></th>\n",
              "    </tr>\n",
              "  </thead>\n",
              "  <tbody>\n",
              "    <tr>\n",
              "      <th>min</th>\n",
              "      <td>16.1</td>\n",
              "      <td>India</td>\n",
              "      <td>IND</td>\n",
              "    </tr>\n",
              "    <tr>\n",
              "      <th>25%</th>\n",
              "      <td>20.5</td>\n",
              "      <td>India</td>\n",
              "      <td>IND</td>\n",
              "    </tr>\n",
              "    <tr>\n",
              "      <th>50%</th>\n",
              "      <td>25.9</td>\n",
              "      <td>India</td>\n",
              "      <td>IND</td>\n",
              "    </tr>\n",
              "    <tr>\n",
              "      <th>75%</th>\n",
              "      <td>27.6</td>\n",
              "      <td>India</td>\n",
              "      <td>IND</td>\n",
              "    </tr>\n",
              "    <tr>\n",
              "      <th>max</th>\n",
              "      <td>31.1</td>\n",
              "      <td>India</td>\n",
              "      <td>IND</td>\n",
              "    </tr>\n",
              "  </tbody>\n",
              "</table>\n",
              "</div>"
            ],
            "text/plain": [
              "          tas country iso3\n",
              "quartil                   \n",
              "min      16.1   India  IND\n",
              "25%      20.5   India  IND\n",
              "50%      25.9   India  IND\n",
              "75%      27.6   India  IND\n",
              "max      31.1   India  IND"
            ]
          },
          "metadata": {},
          "execution_count": 39
        }
      ]
    },
    {
      "cell_type": "code",
      "metadata": {
        "id": "JMiXGDNrGt4f"
      },
      "source": [
        "general_quartile.to_csv(f\"/content/drive/MyDrive/Temperatura_Precipitacao_analises/notebooks/Quartiles/Temp_tas_AVG/{pais}_General_Quartile.csv\")\n"
      ],
      "execution_count": 40,
      "outputs": []
    },
    {
      "cell_type": "code",
      "metadata": {
        "colab": {
          "base_uri": "https://localhost:8080/",
          "height": 235
        },
        "id": "BDZZA1IYNrH1",
        "outputId": "633bacd3-bb93-4aa9-edac-f1761c6dd005"
      },
      "source": [
        "seasons_quartiles=\\\n",
        "(\n",
        "    df_temp_season.pivot(columns='season')\n",
        "    .describe()\n",
        "    .loc[['min','25%','50%','75%',\"max\"]]\n",
        "    .round(2)\n",
        " \n",
        "     \n",
        ")\n",
        "seasons_quartiles"
      ],
      "execution_count": 41,
      "outputs": [
        {
          "output_type": "execute_result",
          "data": {
            "text/html": [
              "<div>\n",
              "<style scoped>\n",
              "    .dataframe tbody tr th:only-of-type {\n",
              "        vertical-align: middle;\n",
              "    }\n",
              "\n",
              "    .dataframe tbody tr th {\n",
              "        vertical-align: top;\n",
              "    }\n",
              "\n",
              "    .dataframe thead tr th {\n",
              "        text-align: left;\n",
              "    }\n",
              "</style>\n",
              "<table border=\"1\" class=\"dataframe\">\n",
              "  <thead>\n",
              "    <tr>\n",
              "      <th></th>\n",
              "      <th colspan=\"4\" halign=\"left\">tas</th>\n",
              "    </tr>\n",
              "    <tr>\n",
              "      <th>season</th>\n",
              "      <th>autumn</th>\n",
              "      <th>spring</th>\n",
              "      <th>summer</th>\n",
              "      <th>winter</th>\n",
              "    </tr>\n",
              "  </thead>\n",
              "  <tbody>\n",
              "    <tr>\n",
              "      <th>min</th>\n",
              "      <td>19.8</td>\n",
              "      <td>22.60</td>\n",
              "      <td>25.90</td>\n",
              "      <td>16.10</td>\n",
              "    </tr>\n",
              "    <tr>\n",
              "      <th>25%</th>\n",
              "      <td>21.9</td>\n",
              "      <td>24.60</td>\n",
              "      <td>26.65</td>\n",
              "      <td>17.50</td>\n",
              "    </tr>\n",
              "    <tr>\n",
              "      <th>50%</th>\n",
              "      <td>25.0</td>\n",
              "      <td>27.90</td>\n",
              "      <td>27.30</td>\n",
              "      <td>18.10</td>\n",
              "    </tr>\n",
              "    <tr>\n",
              "      <th>75%</th>\n",
              "      <td>26.1</td>\n",
              "      <td>29.65</td>\n",
              "      <td>28.90</td>\n",
              "      <td>19.25</td>\n",
              "    </tr>\n",
              "    <tr>\n",
              "      <th>max</th>\n",
              "      <td>27.3</td>\n",
              "      <td>31.10</td>\n",
              "      <td>30.70</td>\n",
              "      <td>21.80</td>\n",
              "    </tr>\n",
              "  </tbody>\n",
              "</table>\n",
              "</div>"
            ],
            "text/plain": [
              "          tas                     \n",
              "season autumn spring summer winter\n",
              "min      19.8  22.60  25.90  16.10\n",
              "25%      21.9  24.60  26.65  17.50\n",
              "50%      25.0  27.90  27.30  18.10\n",
              "75%      26.1  29.65  28.90  19.25\n",
              "max      27.3  31.10  30.70  21.80"
            ]
          },
          "metadata": {},
          "execution_count": 41
        }
      ]
    },
    {
      "cell_type": "code",
      "metadata": {
        "colab": {
          "base_uri": "https://localhost:8080/",
          "height": 235
        },
        "id": "t1yEvbckJ9Ez",
        "outputId": "0e6f3caf-ce6d-4140-8ee8-aea38a040baa"
      },
      "source": [
        "seasons_quartiles.columns=\\\n",
        "(\n",
        "    seasons_quartiles.columns.droplevel().add_categories(['country','iso3'])\n",
        "       \n",
        ")\n",
        "seasons_quartiles=seasons_quartiles.assign(country=country).assign(iso3=iso3)\n",
        "seasons_quartiles.index.name='quartil'\n",
        "seasons_quartiles"
      ],
      "execution_count": 42,
      "outputs": [
        {
          "output_type": "execute_result",
          "data": {
            "text/html": [
              "<div>\n",
              "<style scoped>\n",
              "    .dataframe tbody tr th:only-of-type {\n",
              "        vertical-align: middle;\n",
              "    }\n",
              "\n",
              "    .dataframe tbody tr th {\n",
              "        vertical-align: top;\n",
              "    }\n",
              "\n",
              "    .dataframe thead th {\n",
              "        text-align: right;\n",
              "    }\n",
              "</style>\n",
              "<table border=\"1\" class=\"dataframe\">\n",
              "  <thead>\n",
              "    <tr style=\"text-align: right;\">\n",
              "      <th>season</th>\n",
              "      <th>autumn</th>\n",
              "      <th>spring</th>\n",
              "      <th>summer</th>\n",
              "      <th>winter</th>\n",
              "      <th>country</th>\n",
              "      <th>iso3</th>\n",
              "    </tr>\n",
              "    <tr>\n",
              "      <th>quartil</th>\n",
              "      <th></th>\n",
              "      <th></th>\n",
              "      <th></th>\n",
              "      <th></th>\n",
              "      <th></th>\n",
              "      <th></th>\n",
              "    </tr>\n",
              "  </thead>\n",
              "  <tbody>\n",
              "    <tr>\n",
              "      <th>min</th>\n",
              "      <td>19.8</td>\n",
              "      <td>22.60</td>\n",
              "      <td>25.90</td>\n",
              "      <td>16.10</td>\n",
              "      <td>India</td>\n",
              "      <td>IND</td>\n",
              "    </tr>\n",
              "    <tr>\n",
              "      <th>25%</th>\n",
              "      <td>21.9</td>\n",
              "      <td>24.60</td>\n",
              "      <td>26.65</td>\n",
              "      <td>17.50</td>\n",
              "      <td>India</td>\n",
              "      <td>IND</td>\n",
              "    </tr>\n",
              "    <tr>\n",
              "      <th>50%</th>\n",
              "      <td>25.0</td>\n",
              "      <td>27.90</td>\n",
              "      <td>27.30</td>\n",
              "      <td>18.10</td>\n",
              "      <td>India</td>\n",
              "      <td>IND</td>\n",
              "    </tr>\n",
              "    <tr>\n",
              "      <th>75%</th>\n",
              "      <td>26.1</td>\n",
              "      <td>29.65</td>\n",
              "      <td>28.90</td>\n",
              "      <td>19.25</td>\n",
              "      <td>India</td>\n",
              "      <td>IND</td>\n",
              "    </tr>\n",
              "    <tr>\n",
              "      <th>max</th>\n",
              "      <td>27.3</td>\n",
              "      <td>31.10</td>\n",
              "      <td>30.70</td>\n",
              "      <td>21.80</td>\n",
              "      <td>India</td>\n",
              "      <td>IND</td>\n",
              "    </tr>\n",
              "  </tbody>\n",
              "</table>\n",
              "</div>"
            ],
            "text/plain": [
              "season   autumn  spring  summer  winter country iso3\n",
              "quartil                                             \n",
              "min        19.8   22.60   25.90   16.10   India  IND\n",
              "25%        21.9   24.60   26.65   17.50   India  IND\n",
              "50%        25.0   27.90   27.30   18.10   India  IND\n",
              "75%        26.1   29.65   28.90   19.25   India  IND\n",
              "max        27.3   31.10   30.70   21.80   India  IND"
            ]
          },
          "metadata": {},
          "execution_count": 42
        }
      ]
    },
    {
      "cell_type": "code",
      "metadata": {
        "id": "s1Utoo0yHNhO"
      },
      "source": [
        "seasons_quartiles.to_csv(f\"/content/drive/MyDrive/Temperatura_Precipitacao_analises/notebooks/Quartiles/Temp_tas_AVG/{pais}_Seasons_Quartiles_tas_Temp.csv\")"
      ],
      "execution_count": 43,
      "outputs": []
    },
    {
      "cell_type": "markdown",
      "metadata": {
        "id": "BgQTblI1bYas"
      },
      "source": [
        "#Quartiles for Year"
      ]
    },
    {
      "cell_type": "code",
      "metadata": {
        "colab": {
          "base_uri": "https://localhost:8080/",
          "height": 450
        },
        "id": "MkSGFM2ibZ4z",
        "outputId": "4a1743e8-1889-49a6-8ed9-b503b8ee8dc7"
      },
      "source": [
        "quartiles_for_year =\\\n",
        "(\n",
        "    df_tas_season_chart.pivot(columns='year')\n",
        "    .describe()\n",
        "    .loc[['min','25%','50%','75%',\"max\"]]\n",
        "    .T\n",
        "    .round(2) \n",
        " ).assign(country=country,iso3=iso3,tipo=tipo[:-1]).droplevel(0,0)\n",
        "    \n",
        "quartiles_for_year"
      ],
      "execution_count": 44,
      "outputs": [
        {
          "output_type": "execute_result",
          "data": {
            "text/html": [
              "<div>\n",
              "<style scoped>\n",
              "    .dataframe tbody tr th:only-of-type {\n",
              "        vertical-align: middle;\n",
              "    }\n",
              "\n",
              "    .dataframe tbody tr th {\n",
              "        vertical-align: top;\n",
              "    }\n",
              "\n",
              "    .dataframe thead th {\n",
              "        text-align: right;\n",
              "    }\n",
              "</style>\n",
              "<table border=\"1\" class=\"dataframe\">\n",
              "  <thead>\n",
              "    <tr style=\"text-align: right;\">\n",
              "      <th></th>\n",
              "      <th>min</th>\n",
              "      <th>25%</th>\n",
              "      <th>50%</th>\n",
              "      <th>75%</th>\n",
              "      <th>max</th>\n",
              "      <th>country</th>\n",
              "      <th>iso3</th>\n",
              "      <th>tipo</th>\n",
              "    </tr>\n",
              "    <tr>\n",
              "      <th>year</th>\n",
              "      <th></th>\n",
              "      <th></th>\n",
              "      <th></th>\n",
              "      <th></th>\n",
              "      <th></th>\n",
              "      <th></th>\n",
              "      <th></th>\n",
              "      <th></th>\n",
              "    </tr>\n",
              "  </thead>\n",
              "  <tbody>\n",
              "    <tr>\n",
              "      <th>1960</th>\n",
              "      <td>16.9</td>\n",
              "      <td>20.68</td>\n",
              "      <td>25.45</td>\n",
              "      <td>27.12</td>\n",
              "      <td>30.1</td>\n",
              "      <td>India</td>\n",
              "      <td>IND</td>\n",
              "      <td>tas</td>\n",
              "    </tr>\n",
              "    <tr>\n",
              "      <th>1961</th>\n",
              "      <td>16.4</td>\n",
              "      <td>19.55</td>\n",
              "      <td>25.20</td>\n",
              "      <td>26.98</td>\n",
              "      <td>29.9</td>\n",
              "      <td>India</td>\n",
              "      <td>IND</td>\n",
              "      <td>tas</td>\n",
              "    </tr>\n",
              "    <tr>\n",
              "      <th>1962</th>\n",
              "      <td>16.1</td>\n",
              "      <td>20.30</td>\n",
              "      <td>24.90</td>\n",
              "      <td>27.40</td>\n",
              "      <td>29.7</td>\n",
              "      <td>India</td>\n",
              "      <td>IND</td>\n",
              "      <td>tas</td>\n",
              "    </tr>\n",
              "    <tr>\n",
              "      <th>1963</th>\n",
              "      <td>16.6</td>\n",
              "      <td>21.15</td>\n",
              "      <td>25.50</td>\n",
              "      <td>26.95</td>\n",
              "      <td>29.2</td>\n",
              "      <td>India</td>\n",
              "      <td>IND</td>\n",
              "      <td>tas</td>\n",
              "    </tr>\n",
              "    <tr>\n",
              "      <th>1964</th>\n",
              "      <td>16.5</td>\n",
              "      <td>20.02</td>\n",
              "      <td>25.40</td>\n",
              "      <td>27.05</td>\n",
              "      <td>29.6</td>\n",
              "      <td>India</td>\n",
              "      <td>IND</td>\n",
              "      <td>tas</td>\n",
              "    </tr>\n",
              "    <tr>\n",
              "      <th>...</th>\n",
              "      <td>...</td>\n",
              "      <td>...</td>\n",
              "      <td>...</td>\n",
              "      <td>...</td>\n",
              "      <td>...</td>\n",
              "      <td>...</td>\n",
              "      <td>...</td>\n",
              "      <td>...</td>\n",
              "    </tr>\n",
              "    <tr>\n",
              "      <th>2016</th>\n",
              "      <td>18.0</td>\n",
              "      <td>21.37</td>\n",
              "      <td>26.10</td>\n",
              "      <td>27.78</td>\n",
              "      <td>30.6</td>\n",
              "      <td>India</td>\n",
              "      <td>IND</td>\n",
              "      <td>tas</td>\n",
              "    </tr>\n",
              "    <tr>\n",
              "      <th>2017</th>\n",
              "      <td>17.8</td>\n",
              "      <td>21.40</td>\n",
              "      <td>26.55</td>\n",
              "      <td>27.72</td>\n",
              "      <td>30.8</td>\n",
              "      <td>India</td>\n",
              "      <td>IND</td>\n",
              "      <td>tas</td>\n",
              "    </tr>\n",
              "    <tr>\n",
              "      <th>2018</th>\n",
              "      <td>17.8</td>\n",
              "      <td>21.65</td>\n",
              "      <td>25.95</td>\n",
              "      <td>27.58</td>\n",
              "      <td>30.5</td>\n",
              "      <td>India</td>\n",
              "      <td>IND</td>\n",
              "      <td>tas</td>\n",
              "    </tr>\n",
              "    <tr>\n",
              "      <th>2019</th>\n",
              "      <td>17.2</td>\n",
              "      <td>21.60</td>\n",
              "      <td>25.85</td>\n",
              "      <td>28.15</td>\n",
              "      <td>30.7</td>\n",
              "      <td>India</td>\n",
              "      <td>IND</td>\n",
              "      <td>tas</td>\n",
              "    </tr>\n",
              "    <tr>\n",
              "      <th>2020</th>\n",
              "      <td>17.0</td>\n",
              "      <td>21.07</td>\n",
              "      <td>26.45</td>\n",
              "      <td>27.92</td>\n",
              "      <td>30.2</td>\n",
              "      <td>India</td>\n",
              "      <td>IND</td>\n",
              "      <td>tas</td>\n",
              "    </tr>\n",
              "  </tbody>\n",
              "</table>\n",
              "<p>61 rows × 8 columns</p>\n",
              "</div>"
            ],
            "text/plain": [
              "       min    25%    50%    75%   max country iso3 tipo\n",
              "year                                                   \n",
              "1960  16.9  20.68  25.45  27.12  30.1   India  IND  tas\n",
              "1961  16.4  19.55  25.20  26.98  29.9   India  IND  tas\n",
              "1962  16.1  20.30  24.90  27.40  29.7   India  IND  tas\n",
              "1963  16.6  21.15  25.50  26.95  29.2   India  IND  tas\n",
              "1964  16.5  20.02  25.40  27.05  29.6   India  IND  tas\n",
              "...    ...    ...    ...    ...   ...     ...  ...  ...\n",
              "2016  18.0  21.37  26.10  27.78  30.6   India  IND  tas\n",
              "2017  17.8  21.40  26.55  27.72  30.8   India  IND  tas\n",
              "2018  17.8  21.65  25.95  27.58  30.5   India  IND  tas\n",
              "2019  17.2  21.60  25.85  28.15  30.7   India  IND  tas\n",
              "2020  17.0  21.07  26.45  27.92  30.2   India  IND  tas\n",
              "\n",
              "[61 rows x 8 columns]"
            ]
          },
          "metadata": {},
          "execution_count": 44
        }
      ]
    },
    {
      "cell_type": "code",
      "metadata": {
        "id": "_K2OcbRDbbq9"
      },
      "source": [
        "path_quartil_year ='/content/drive/MyDrive/Temperatura_Precipitacao_analises/limpos/quartile_for_year/'\n",
        "quartiles_for_year.to_csv(f\"{path_quartil_year}{pais}_quartiles_for_year.csv\")"
      ],
      "execution_count": 45,
      "outputs": []
    }
  ]
}