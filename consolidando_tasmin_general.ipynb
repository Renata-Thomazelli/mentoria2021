{
  "nbformat": 4,
  "nbformat_minor": 0,
  "metadata": {
    "colab": {
      "name": "consolidando_tasmin_general.ipynb",
      "provenance": [],
      "collapsed_sections": [],
      "mount_file_id": "1f2PoYLZxhI-o30NfDCNr-pUDfuKTVYGj",
      "authorship_tag": "ABX9TyN0uTzzyo68lrh/V3SufVqI",
      "include_colab_link": true
    },
    "kernelspec": {
      "name": "python3",
      "display_name": "Python 3"
    },
    "language_info": {
      "name": "python"
    }
  },
  "cells": [
    {
      "cell_type": "markdown",
      "metadata": {
        "id": "view-in-github",
        "colab_type": "text"
      },
      "source": [
        "<a href=\"https://colab.research.google.com/github/Renata-Thomazelli/mentoria2021/blob/main/consolidando_tasmin_general.ipynb\" target=\"_parent\"><img src=\"https://colab.research.google.com/assets/colab-badge.svg\" alt=\"Open In Colab\"/></a>"
      ]
    },
    {
      "cell_type": "code",
      "metadata": {
        "colab": {
          "base_uri": "https://localhost:8080/"
        },
        "id": "svcJKL8PR4MN",
        "outputId": "e4b5edba-872a-46bc-8b5e-f1945fcf9736"
      },
      "source": [
        "# Importing Drive\n",
        "from google.colab import drive\n",
        "\n",
        "drive.mount('/content/drive')"
      ],
      "execution_count": 3,
      "outputs": [
        {
          "output_type": "stream",
          "name": "stdout",
          "text": [
            "Drive already mounted at /content/drive; to attempt to forcibly remount, call drive.mount(\"/content/drive\", force_remount=True).\n"
          ]
        }
      ]
    },
    {
      "cell_type": "code",
      "metadata": {
        "id": "gjhyytEQT6gv"
      },
      "source": [
        "import pandas as pd\n",
        "import numpy as np\n",
        "import chardet\n",
        "import missingno as msno"
      ],
      "execution_count": 4,
      "outputs": []
    },
    {
      "cell_type": "code",
      "metadata": {
        "id": "e27yTsTFSHan"
      },
      "source": [
        "def abrindo_files(pais,tipo):\n",
        "    file_path ='/content/drive/MyDrive/Temperatura_Precipitacao_analises/notebooks/Quartiles/Temp_min_AVG/'\n",
        "    file = f\"{pais}_General_Quartile.csv\"\n",
        "    with open(f\"{file_path}{file}\", 'rb') as encoding:\n",
        "        r_encoding = chardet.detect(encoding.read(100000))\n",
        "    arquivo = f\"{tipo}{pais}\"\n",
        "    with open (f\"{file_path}{file}\",'r',encoding=r_encoding['encoding']) as arquivo :\n",
        "        df = pd.read_csv(arquivo)\n",
        "        return df\n",
        "\n"
      ],
      "execution_count": 5,
      "outputs": []
    },
    {
      "cell_type": "code",
      "metadata": {
        "id": "KDA8Cg99TdIH"
      },
      "source": [
        "df_1 = abrindo_files('TUR','tasmin')"
      ],
      "execution_count": 6,
      "outputs": []
    },
    {
      "cell_type": "code",
      "metadata": {
        "colab": {
          "base_uri": "https://localhost:8080/",
          "height": 204
        },
        "id": "CQCqpVDdUFom",
        "outputId": "5bc8bcd0-c7a6-4d00-9c23-723c1bf79f53"
      },
      "source": [
        "df_1\n"
      ],
      "execution_count": 7,
      "outputs": [
        {
          "output_type": "execute_result",
          "data": {
            "text/html": [
              "<div>\n",
              "<style scoped>\n",
              "    .dataframe tbody tr th:only-of-type {\n",
              "        vertical-align: middle;\n",
              "    }\n",
              "\n",
              "    .dataframe tbody tr th {\n",
              "        vertical-align: top;\n",
              "    }\n",
              "\n",
              "    .dataframe thead th {\n",
              "        text-align: right;\n",
              "    }\n",
              "</style>\n",
              "<table border=\"1\" class=\"dataframe\">\n",
              "  <thead>\n",
              "    <tr style=\"text-align: right;\">\n",
              "      <th></th>\n",
              "      <th>quartil</th>\n",
              "      <th>tasmin</th>\n",
              "      <th>country</th>\n",
              "      <th>iso3</th>\n",
              "    </tr>\n",
              "  </thead>\n",
              "  <tbody>\n",
              "    <tr>\n",
              "      <th>0</th>\n",
              "      <td>min</td>\n",
              "      <td>-10.30</td>\n",
              "      <td>Turkey</td>\n",
              "      <td>TUR</td>\n",
              "    </tr>\n",
              "    <tr>\n",
              "      <th>1</th>\n",
              "      <td>25%</td>\n",
              "      <td>-0.52</td>\n",
              "      <td>Turkey</td>\n",
              "      <td>TUR</td>\n",
              "    </tr>\n",
              "    <tr>\n",
              "      <th>2</th>\n",
              "      <td>50%</td>\n",
              "      <td>5.80</td>\n",
              "      <td>Turkey</td>\n",
              "      <td>TUR</td>\n",
              "    </tr>\n",
              "    <tr>\n",
              "      <th>3</th>\n",
              "      <td>75%</td>\n",
              "      <td>11.70</td>\n",
              "      <td>Turkey</td>\n",
              "      <td>TUR</td>\n",
              "    </tr>\n",
              "    <tr>\n",
              "      <th>4</th>\n",
              "      <td>max</td>\n",
              "      <td>17.00</td>\n",
              "      <td>Turkey</td>\n",
              "      <td>TUR</td>\n",
              "    </tr>\n",
              "  </tbody>\n",
              "</table>\n",
              "</div>"
            ],
            "text/plain": [
              "  quartil  tasmin country iso3\n",
              "0     min  -10.30  Turkey  TUR\n",
              "1     25%   -0.52  Turkey  TUR\n",
              "2     50%    5.80  Turkey  TUR\n",
              "3     75%   11.70  Turkey  TUR\n",
              "4     max   17.00  Turkey  TUR"
            ]
          },
          "metadata": {},
          "execution_count": 7
        }
      ]
    },
    {
      "cell_type": "code",
      "metadata": {
        "id": "g-A3VfDdUGgN"
      },
      "source": [
        "df_2 = abrindo_files('RUS','tasmin')\n",
        "df_3 = abrindo_files('PHL','tasmin')\n",
        "df_4 = abrindo_files('IND','tasmin')\n",
        "df_5 = abrindo_files('GBR','tasmin')\n",
        "df_6 = abrindo_files('FRA','tasmin')\n",
        "df_7 = abrindo_files('EGY','tasmin')\n",
        "df_8 = abrindo_files('DEU','tasmin')\n",
        "df_9 = abrindo_files('CHN','tasmin')\n",
        "df_10 = abrindo_files('CAN','tasmin')\n",
        "df_11 = abrindo_files('USA','tasmin')\n",
        "df_12 = abrindo_files('BRA','tasmin')\n",
        "df_13 = abrindo_files('AUS','tasmin')\n",
        "df_14 = abrindo_files('IDN','tasmin')"
      ],
      "execution_count": 8,
      "outputs": []
    },
    {
      "cell_type": "code",
      "metadata": {
        "id": "NLPKrCTqV6Gf"
      },
      "source": [
        "frames =[df_1,df_2,df_3,df_4,df_5,df_6,df_7,df_8,df_9,df_10,df_11,df_12,df_13,df_14]"
      ],
      "execution_count": 9,
      "outputs": []
    },
    {
      "cell_type": "code",
      "metadata": {
        "id": "XLs_y6VAWiR4"
      },
      "source": [
        "concatenados =pd.concat(frames)"
      ],
      "execution_count": 10,
      "outputs": []
    },
    {
      "cell_type": "code",
      "metadata": {
        "colab": {
          "base_uri": "https://localhost:8080/",
          "height": 419
        },
        "id": "U2XXFXbQXBjt",
        "outputId": "856f866f-c154-4ebc-c1a9-653d4d6cb0bb"
      },
      "source": [
        "concatenados"
      ],
      "execution_count": 11,
      "outputs": [
        {
          "output_type": "execute_result",
          "data": {
            "text/html": [
              "<div>\n",
              "<style scoped>\n",
              "    .dataframe tbody tr th:only-of-type {\n",
              "        vertical-align: middle;\n",
              "    }\n",
              "\n",
              "    .dataframe tbody tr th {\n",
              "        vertical-align: top;\n",
              "    }\n",
              "\n",
              "    .dataframe thead th {\n",
              "        text-align: right;\n",
              "    }\n",
              "</style>\n",
              "<table border=\"1\" class=\"dataframe\">\n",
              "  <thead>\n",
              "    <tr style=\"text-align: right;\">\n",
              "      <th></th>\n",
              "      <th>quartil</th>\n",
              "      <th>tasmin</th>\n",
              "      <th>country</th>\n",
              "      <th>iso3</th>\n",
              "    </tr>\n",
              "  </thead>\n",
              "  <tbody>\n",
              "    <tr>\n",
              "      <th>0</th>\n",
              "      <td>min</td>\n",
              "      <td>-10.30</td>\n",
              "      <td>Turkey</td>\n",
              "      <td>TUR</td>\n",
              "    </tr>\n",
              "    <tr>\n",
              "      <th>1</th>\n",
              "      <td>25%</td>\n",
              "      <td>-0.52</td>\n",
              "      <td>Turkey</td>\n",
              "      <td>TUR</td>\n",
              "    </tr>\n",
              "    <tr>\n",
              "      <th>2</th>\n",
              "      <td>50%</td>\n",
              "      <td>5.80</td>\n",
              "      <td>Turkey</td>\n",
              "      <td>TUR</td>\n",
              "    </tr>\n",
              "    <tr>\n",
              "      <th>3</th>\n",
              "      <td>75%</td>\n",
              "      <td>11.70</td>\n",
              "      <td>Turkey</td>\n",
              "      <td>TUR</td>\n",
              "    </tr>\n",
              "    <tr>\n",
              "      <th>4</th>\n",
              "      <td>max</td>\n",
              "      <td>17.00</td>\n",
              "      <td>Turkey</td>\n",
              "      <td>TUR</td>\n",
              "    </tr>\n",
              "    <tr>\n",
              "      <th>...</th>\n",
              "      <td>...</td>\n",
              "      <td>...</td>\n",
              "      <td>...</td>\n",
              "      <td>...</td>\n",
              "    </tr>\n",
              "    <tr>\n",
              "      <th>0</th>\n",
              "      <td>min</td>\n",
              "      <td>19.90</td>\n",
              "      <td>Indonesia</td>\n",
              "      <td>IDN</td>\n",
              "    </tr>\n",
              "    <tr>\n",
              "      <th>1</th>\n",
              "      <td>25%</td>\n",
              "      <td>20.90</td>\n",
              "      <td>Indonesia</td>\n",
              "      <td>IDN</td>\n",
              "    </tr>\n",
              "    <tr>\n",
              "      <th>2</th>\n",
              "      <td>50%</td>\n",
              "      <td>21.20</td>\n",
              "      <td>Indonesia</td>\n",
              "      <td>IDN</td>\n",
              "    </tr>\n",
              "    <tr>\n",
              "      <th>3</th>\n",
              "      <td>75%</td>\n",
              "      <td>21.50</td>\n",
              "      <td>Indonesia</td>\n",
              "      <td>IDN</td>\n",
              "    </tr>\n",
              "    <tr>\n",
              "      <th>4</th>\n",
              "      <td>max</td>\n",
              "      <td>22.30</td>\n",
              "      <td>Indonesia</td>\n",
              "      <td>IDN</td>\n",
              "    </tr>\n",
              "  </tbody>\n",
              "</table>\n",
              "<p>70 rows × 4 columns</p>\n",
              "</div>"
            ],
            "text/plain": [
              "   quartil  tasmin    country iso3\n",
              "0      min  -10.30     Turkey  TUR\n",
              "1      25%   -0.52     Turkey  TUR\n",
              "2      50%    5.80     Turkey  TUR\n",
              "3      75%   11.70     Turkey  TUR\n",
              "4      max   17.00     Turkey  TUR\n",
              "..     ...     ...        ...  ...\n",
              "0      min   19.90  Indonesia  IDN\n",
              "1      25%   20.90  Indonesia  IDN\n",
              "2      50%   21.20  Indonesia  IDN\n",
              "3      75%   21.50  Indonesia  IDN\n",
              "4      max   22.30  Indonesia  IDN\n",
              "\n",
              "[70 rows x 4 columns]"
            ]
          },
          "metadata": {},
          "execution_count": 11
        }
      ]
    },
    {
      "cell_type": "code",
      "metadata": {
        "colab": {
          "base_uri": "https://localhost:8080/"
        },
        "id": "9TG0nraQXUaG",
        "outputId": "741871e0-f69d-4c0e-87b5-68d4d22d8c6a"
      },
      "source": [
        "concatenados.info()"
      ],
      "execution_count": 12,
      "outputs": [
        {
          "output_type": "stream",
          "name": "stdout",
          "text": [
            "<class 'pandas.core.frame.DataFrame'>\n",
            "Int64Index: 70 entries, 0 to 4\n",
            "Data columns (total 4 columns):\n",
            " #   Column   Non-Null Count  Dtype  \n",
            "---  ------   --------------  -----  \n",
            " 0   quartil  70 non-null     object \n",
            " 1   tasmin   70 non-null     float64\n",
            " 2   country  70 non-null     object \n",
            " 3   iso3     70 non-null     object \n",
            "dtypes: float64(1), object(3)\n",
            "memory usage: 2.7+ KB\n"
          ]
        }
      ]
    },
    {
      "cell_type": "code",
      "metadata": {
        "colab": {
          "base_uri": "https://localhost:8080/",
          "height": 378
        },
        "id": "c-4UiZ7FXN5t",
        "outputId": "18781d8c-011e-4419-fced-c7b92d02826a"
      },
      "source": [
        "msno.matrix(concatenados)"
      ],
      "execution_count": 13,
      "outputs": [
        {
          "output_type": "execute_result",
          "data": {
            "text/plain": [
              "<matplotlib.axes._subplots.AxesSubplot at 0x7f99ee9fb6d0>"
            ]
          },
          "metadata": {},
          "execution_count": 13
        },
        {
          "output_type": "display_data",
          "data": {
            "image/png": "[encoded data removed]",
            "text/plain": [
              "<Figure size 1800x720 with 2 Axes>"
            ]
          },
          "metadata": {
            "needs_background": "light"
          }
        }
      ]
    },
    {
      "cell_type": "code",
      "metadata": {
        "id": "7mb4LxV7Xj9g"
      },
      "source": [
        "path ='/content/drive/MyDrive/Temperatura_Precipitacao_analises/limpos/tasmin_temperatura_min_avg/'"
      ],
      "execution_count": 14,
      "outputs": []
    },
    {
      "cell_type": "code",
      "metadata": {
        "id": "QqNhpIeOXws1"
      },
      "source": [
        "concatenados.to_csv(f\"{path}tasmin_avg_consolidado.csv\", index=False)"
      ],
      "execution_count": 15,
      "outputs": []
    }
  ]
}