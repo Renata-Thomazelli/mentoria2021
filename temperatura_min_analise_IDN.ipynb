{
  "nbformat": 4,
  "nbformat_minor": 0,
  "metadata": {
    "colab": {
      "name": "temperatura_min_analise_IDN.ipynb",
      "provenance": [],
      "collapsed_sections": [],
      "authorship_tag": "ABX9TyN/04GNxFzOLwfG9s04Pjvd",
      "include_colab_link": true
    },
    "kernelspec": {
      "name": "python3",
      "display_name": "Python 3"
    },
    "language_info": {
      "name": "python"
    }
  },
  "cells": [
    {
      "cell_type": "markdown",
      "metadata": {
        "id": "view-in-github",
        "colab_type": "text"
      },
      "source": [
        "<a href=\"https://colab.research.google.com/github/Renata-Thomazelli/mentoria2021/blob/main/temperatura_min_analise_IDN.ipynb\" target=\"_parent\"><img src=\"https://colab.research.google.com/assets/colab-badge.svg\" alt=\"Open In Colab\"/></a>"
      ]
    },
    {
      "cell_type": "markdown",
      "metadata": {
        "id": "5Ui-eWQwEzAL"
      },
      "source": [
        "# <font color='red'>**Analyzing the Average Minimum Temperature**\n",
        "**Analisando a média da Temperatura Mínima**<font>\n",
        "\n",
        "---"
      ]
    },
    {
      "cell_type": "markdown",
      "metadata": {
        "id": "pgYphlkNrC0J"
      },
      "source": [
        "\n",
        "Importing the Data\n",
        "---"
      ]
    },
    {
      "cell_type": "code",
      "metadata": {
        "colab": {
          "base_uri": "https://localhost:8080/"
        },
        "id": "5gnslj1rECdH",
        "outputId": "28bd78d5-01fa-4480-d88e-1f6de2750e7f"
      },
      "source": [
        "# Importing Drive\n",
        "from google.colab import drive\n",
        "\n",
        "drive.mount('/content/drive')"
      ],
      "execution_count": 1,
      "outputs": [
        {
          "output_type": "stream",
          "name": "stdout",
          "text": [
            "Mounted at /content/drive\n"
          ]
        }
      ]
    },
    {
      "cell_type": "code",
      "metadata": {
        "id": "fJaoP1feE9ko"
      },
      "source": [
        "#Importing the packages \n",
        "import pandas as pd\n",
        "import numpy as np\n",
        "import chardet\n",
        "import missingno as msno\n",
        "import matplotlib.pyplot as plt\n",
        "%matplotlib inline"
      ],
      "execution_count": 2,
      "outputs": []
    },
    {
      "cell_type": "markdown",
      "metadata": {
        "id": "ITBqwNDvFGhx"
      },
      "source": [
        "**Reading CSV**"
      ]
    },
    {
      "cell_type": "code",
      "metadata": {
        "id": "kbMAfoiSFER4"
      },
      "source": [
        "file_path ='/content/drive/MyDrive/Data_Lake/temperatura_preciptacao/'\n",
        "tipo = 'tasmin_'\n",
        "anos ='1901_2020_'\n",
        "pais = \"IDN\"\n",
        "\n",
        "file = f\"{tipo}{anos}{pais}.csv\""
      ],
      "execution_count": 3,
      "outputs": []
    },
    {
      "cell_type": "code",
      "metadata": {
        "colab": {
          "base_uri": "https://localhost:8080/"
        },
        "id": "28FmY9rRGO1i",
        "outputId": "67447046-6254-4c6f-a7f8-ea086bb52b5a"
      },
      "source": [
        "with open(f\"{file_path}{file}\", 'rb') as encoding:\n",
        "    r_encoding = chardet.detect(encoding.read(100000))\n",
        "r_encoding"
      ],
      "execution_count": 4,
      "outputs": [
        {
          "output_type": "execute_result",
          "data": {
            "text/plain": [
              "{'confidence': 1.0, 'encoding': 'ascii', 'language': ''}"
            ]
          },
          "metadata": {},
          "execution_count": 4
        }
      ]
    },
    {
      "cell_type": "code",
      "metadata": {
        "id": "Mjs-pOIJGjyw"
      },
      "source": [
        "arquivo = f\"{tipo}{pais}\"\n",
        "with open (f\"{file_path}{file}\",'r',encoding=r_encoding['encoding']) as arquivo :\n",
        "  df_tasmin = pd.read_csv(arquivo)"
      ],
      "execution_count": 5,
      "outputs": []
    },
    {
      "cell_type": "markdown",
      "metadata": {
        "id": "600FfiJFGpHZ"
      },
      "source": [
        " \n",
        "**DataFrame**"
      ]
    },
    {
      "cell_type": "code",
      "metadata": {
        "id": "jEhf_rulGPeA",
        "colab": {
          "base_uri": "https://localhost:8080/",
          "height": 419
        },
        "outputId": "09da4e6a-845b-4738-a60c-e8ac2331b146"
      },
      "source": [
        "df_tasmin"
      ],
      "execution_count": 6,
      "outputs": [
        {
          "output_type": "execute_result",
          "data": {
            "text/html": [
              "<div>\n",
              "<style scoped>\n",
              "    .dataframe tbody tr th:only-of-type {\n",
              "        vertical-align: middle;\n",
              "    }\n",
              "\n",
              "    .dataframe tbody tr th {\n",
              "        vertical-align: top;\n",
              "    }\n",
              "\n",
              "    .dataframe thead th {\n",
              "        text-align: right;\n",
              "    }\n",
              "</style>\n",
              "<table border=\"1\" class=\"dataframe\">\n",
              "  <thead>\n",
              "    <tr style=\"text-align: right;\">\n",
              "      <th></th>\n",
              "      <th>tasmin</th>\n",
              "      <th>Year</th>\n",
              "      <th>Statistics</th>\n",
              "      <th>Country</th>\n",
              "      <th>ISO3</th>\n",
              "    </tr>\n",
              "  </thead>\n",
              "  <tbody>\n",
              "    <tr>\n",
              "      <th>0</th>\n",
              "      <td>20.9</td>\n",
              "      <td>1901</td>\n",
              "      <td>Jan Average</td>\n",
              "      <td>Indonesia</td>\n",
              "      <td>IDN</td>\n",
              "    </tr>\n",
              "    <tr>\n",
              "      <th>1</th>\n",
              "      <td>20.7</td>\n",
              "      <td>1901</td>\n",
              "      <td>Feb Average</td>\n",
              "      <td>Indonesia</td>\n",
              "      <td>IDN</td>\n",
              "    </tr>\n",
              "    <tr>\n",
              "      <th>2</th>\n",
              "      <td>21.1</td>\n",
              "      <td>1901</td>\n",
              "      <td>Mar Average</td>\n",
              "      <td>Indonesia</td>\n",
              "      <td>IDN</td>\n",
              "    </tr>\n",
              "    <tr>\n",
              "      <th>3</th>\n",
              "      <td>21.1</td>\n",
              "      <td>1901</td>\n",
              "      <td>Apr Average</td>\n",
              "      <td>Indonesia</td>\n",
              "      <td>IDN</td>\n",
              "    </tr>\n",
              "    <tr>\n",
              "      <th>4</th>\n",
              "      <td>21.3</td>\n",
              "      <td>1901</td>\n",
              "      <td>May Average</td>\n",
              "      <td>Indonesia</td>\n",
              "      <td>IDN</td>\n",
              "    </tr>\n",
              "    <tr>\n",
              "      <th>...</th>\n",
              "      <td>...</td>\n",
              "      <td>...</td>\n",
              "      <td>...</td>\n",
              "      <td>...</td>\n",
              "      <td>...</td>\n",
              "    </tr>\n",
              "    <tr>\n",
              "      <th>1435</th>\n",
              "      <td>21.4</td>\n",
              "      <td>2020</td>\n",
              "      <td>Aug Average</td>\n",
              "      <td>Indonesia</td>\n",
              "      <td>IDN</td>\n",
              "    </tr>\n",
              "    <tr>\n",
              "      <th>1436</th>\n",
              "      <td>21.2</td>\n",
              "      <td>2020</td>\n",
              "      <td>Sep Average</td>\n",
              "      <td>Indonesia</td>\n",
              "      <td>IDN</td>\n",
              "    </tr>\n",
              "    <tr>\n",
              "      <th>1437</th>\n",
              "      <td>21.6</td>\n",
              "      <td>2020</td>\n",
              "      <td>Oct Average</td>\n",
              "      <td>Indonesia</td>\n",
              "      <td>IDN</td>\n",
              "    </tr>\n",
              "    <tr>\n",
              "      <th>1438</th>\n",
              "      <td>21.6</td>\n",
              "      <td>2020</td>\n",
              "      <td>Nov Average</td>\n",
              "      <td>Indonesia</td>\n",
              "      <td>IDN</td>\n",
              "    </tr>\n",
              "    <tr>\n",
              "      <th>1439</th>\n",
              "      <td>21.7</td>\n",
              "      <td>2020</td>\n",
              "      <td>Dec Average</td>\n",
              "      <td>Indonesia</td>\n",
              "      <td>IDN</td>\n",
              "    </tr>\n",
              "  </tbody>\n",
              "</table>\n",
              "<p>1440 rows × 5 columns</p>\n",
              "</div>"
            ],
            "text/plain": [
              "      tasmin   Year    Statistics     Country  ISO3\n",
              "0       20.9   1901   Jan Average   Indonesia   IDN\n",
              "1       20.7   1901   Feb Average   Indonesia   IDN\n",
              "2       21.1   1901   Mar Average   Indonesia   IDN\n",
              "3       21.1   1901   Apr Average   Indonesia   IDN\n",
              "4       21.3   1901   May Average   Indonesia   IDN\n",
              "...      ...    ...           ...         ...   ...\n",
              "1435    21.4   2020   Aug Average   Indonesia   IDN\n",
              "1436    21.2   2020   Sep Average   Indonesia   IDN\n",
              "1437    21.6   2020   Oct Average   Indonesia   IDN\n",
              "1438    21.6   2020   Nov Average   Indonesia   IDN\n",
              "1439    21.7   2020   Dec Average   Indonesia   IDN\n",
              "\n",
              "[1440 rows x 5 columns]"
            ]
          },
          "metadata": {},
          "execution_count": 6
        }
      ]
    },
    {
      "cell_type": "code",
      "metadata": {
        "id": "dl2UVOODHLNy",
        "colab": {
          "base_uri": "https://localhost:8080/"
        },
        "outputId": "fdffba3e-0b4f-4181-ebe6-dad6f8cf4bb6"
      },
      "source": [
        "#Dataframe size\n",
        "df_tasmin.shape"
      ],
      "execution_count": 7,
      "outputs": [
        {
          "output_type": "execute_result",
          "data": {
            "text/plain": [
              "(1440, 5)"
            ]
          },
          "metadata": {},
          "execution_count": 7
        }
      ]
    },
    {
      "cell_type": "code",
      "metadata": {
        "id": "v46JSa5gHs7K",
        "colab": {
          "base_uri": "https://localhost:8080/"
        },
        "outputId": "406f1f0f-9750-4d75-8049-4fa7d29a4ca9"
      },
      "source": [
        "#Dataframe informations\n",
        "df_tasmin.info()"
      ],
      "execution_count": 8,
      "outputs": [
        {
          "output_type": "stream",
          "name": "stdout",
          "text": [
            "<class 'pandas.core.frame.DataFrame'>\n",
            "RangeIndex: 1440 entries, 0 to 1439\n",
            "Data columns (total 5 columns):\n",
            " #   Column       Non-Null Count  Dtype  \n",
            "---  ------       --------------  -----  \n",
            " 0   tasmin       1440 non-null   float64\n",
            " 1    Year        1440 non-null   int64  \n",
            " 2    Statistics  1440 non-null   object \n",
            " 3    Country     1440 non-null   object \n",
            " 4    ISO3        1440 non-null   object \n",
            "dtypes: float64(1), int64(1), object(3)\n",
            "memory usage: 56.4+ KB\n"
          ]
        }
      ]
    },
    {
      "cell_type": "code",
      "metadata": {
        "id": "DgnCxTQbHU7_",
        "colab": {
          "base_uri": "https://localhost:8080/"
        },
        "outputId": "ce5123b4-7e71-4003-92c4-2ef4572c838c"
      },
      "source": [
        "#identifying coluns's names\n",
        "df_tasmin.columns"
      ],
      "execution_count": 9,
      "outputs": [
        {
          "output_type": "execute_result",
          "data": {
            "text/plain": [
              "Index(['tasmin', ' Year', ' Statistics', ' Country', ' ISO3'], dtype='object')"
            ]
          },
          "metadata": {},
          "execution_count": 9
        }
      ]
    },
    {
      "cell_type": "code",
      "metadata": {
        "id": "iPkGqGKBHm3_",
        "colab": {
          "base_uri": "https://localhost:8080/",
          "height": 204
        },
        "outputId": "6bcb539c-adb8-401e-96ed-a92af2af1a0a"
      },
      "source": [
        "#cleaning columns names\n",
        "colunas = [c.strip().lower().replace(\" \",\"_\") for c in df_tasmin.columns]\n",
        "df_tasmin.columns = colunas\n",
        "   \n",
        "\n",
        "df_tasmin.head(5)"
      ],
      "execution_count": 10,
      "outputs": [
        {
          "output_type": "execute_result",
          "data": {
            "text/html": [
              "<div>\n",
              "<style scoped>\n",
              "    .dataframe tbody tr th:only-of-type {\n",
              "        vertical-align: middle;\n",
              "    }\n",
              "\n",
              "    .dataframe tbody tr th {\n",
              "        vertical-align: top;\n",
              "    }\n",
              "\n",
              "    .dataframe thead th {\n",
              "        text-align: right;\n",
              "    }\n",
              "</style>\n",
              "<table border=\"1\" class=\"dataframe\">\n",
              "  <thead>\n",
              "    <tr style=\"text-align: right;\">\n",
              "      <th></th>\n",
              "      <th>tasmin</th>\n",
              "      <th>year</th>\n",
              "      <th>statistics</th>\n",
              "      <th>country</th>\n",
              "      <th>iso3</th>\n",
              "    </tr>\n",
              "  </thead>\n",
              "  <tbody>\n",
              "    <tr>\n",
              "      <th>0</th>\n",
              "      <td>20.9</td>\n",
              "      <td>1901</td>\n",
              "      <td>Jan Average</td>\n",
              "      <td>Indonesia</td>\n",
              "      <td>IDN</td>\n",
              "    </tr>\n",
              "    <tr>\n",
              "      <th>1</th>\n",
              "      <td>20.7</td>\n",
              "      <td>1901</td>\n",
              "      <td>Feb Average</td>\n",
              "      <td>Indonesia</td>\n",
              "      <td>IDN</td>\n",
              "    </tr>\n",
              "    <tr>\n",
              "      <th>2</th>\n",
              "      <td>21.1</td>\n",
              "      <td>1901</td>\n",
              "      <td>Mar Average</td>\n",
              "      <td>Indonesia</td>\n",
              "      <td>IDN</td>\n",
              "    </tr>\n",
              "    <tr>\n",
              "      <th>3</th>\n",
              "      <td>21.1</td>\n",
              "      <td>1901</td>\n",
              "      <td>Apr Average</td>\n",
              "      <td>Indonesia</td>\n",
              "      <td>IDN</td>\n",
              "    </tr>\n",
              "    <tr>\n",
              "      <th>4</th>\n",
              "      <td>21.3</td>\n",
              "      <td>1901</td>\n",
              "      <td>May Average</td>\n",
              "      <td>Indonesia</td>\n",
              "      <td>IDN</td>\n",
              "    </tr>\n",
              "  </tbody>\n",
              "</table>\n",
              "</div>"
            ],
            "text/plain": [
              "   tasmin  year    statistics     country  iso3\n",
              "0    20.9  1901   Jan Average   Indonesia   IDN\n",
              "1    20.7  1901   Feb Average   Indonesia   IDN\n",
              "2    21.1  1901   Mar Average   Indonesia   IDN\n",
              "3    21.1  1901   Apr Average   Indonesia   IDN\n",
              "4    21.3  1901   May Average   Indonesia   IDN"
            ]
          },
          "metadata": {},
          "execution_count": 10
        }
      ]
    },
    {
      "cell_type": "code",
      "metadata": {
        "id": "Ecq75VT-Ns9I",
        "colab": {
          "base_uri": "https://localhost:8080/"
        },
        "outputId": "782e21dd-982d-4616-ebde-37d1c977fca3"
      },
      "source": [
        "#checking columns' names after modifications\n",
        "df_tasmin.columns"
      ],
      "execution_count": 11,
      "outputs": [
        {
          "output_type": "execute_result",
          "data": {
            "text/plain": [
              "Index(['tasmin', 'year', 'statistics', 'country', 'iso3'], dtype='object')"
            ]
          },
          "metadata": {},
          "execution_count": 11
        }
      ]
    },
    {
      "cell_type": "code",
      "metadata": {
        "id": "2hsaz_bCKj1-"
      },
      "source": [
        "#defining a function to replace values inside the index column \n",
        "def replace (col): \n",
        "    return col.replace(\" Average\",'').strip()"
      ],
      "execution_count": 12,
      "outputs": []
    },
    {
      "cell_type": "code",
      "metadata": {
        "id": "jWlf_vRKQsI6"
      },
      "source": [
        " #creating a dict to redefining some columns' names\n",
        " renomeando = {'statistics':'month'}"
      ],
      "execution_count": 13,
      "outputs": []
    },
    {
      "cell_type": "code",
      "metadata": {
        "id": "ZIKE35ghvJXQ"
      },
      "source": [
        "#defining a function to create a conditional new column\n",
        "def year_season(row):\n",
        "    seasons = {\"spring\":[\"Mar\",\"Apr\",\"May\"], 'summer':[\"Jun\",\"Jul\",\"Aug\"],'autumn':['Sep',\"Oct\",\"Nov\"],'winter':[\"Dec\",\"Jan\",\"Feb\"]}\n",
        "    key_list = list(seasons.keys())\n",
        "    val_list = list(seasons.values())\n",
        "    for meses in seasons.values():\n",
        "        for m in meses:\n",
        "            if m == row['month']:\n",
        "                indice =val_list.index(meses)\n",
        "                #print(indice,meses)\n",
        "                #print(key_list[indice])\n",
        "                return key_list[indice]"
      ],
      "execution_count": 14,
      "outputs": []
    },
    {
      "cell_type": "code",
      "metadata": {
        "id": "zSJkh-nTKco6",
        "colab": {
          "base_uri": "https://localhost:8080/",
          "height": 204
        },
        "outputId": "98babc29-ca04-46ba-909c-235b2d7b1489"
      },
      "source": [
        "#Filtering years from 1960 onwards, cleaning and renaming columns\n",
        "df_tasmin_test_season=\\\n",
        "(\n",
        "    df_tasmin.loc[df_tasmin['year']>=1960,:]\n",
        "    .rename(columns=renomeando)\n",
        "    .set_index(\"month\")\n",
        "    .rename(index=replace)\n",
        "    .reset_index()\n",
        "    \n",
        "    \n",
        ")\n",
        "\n",
        "df_tasmin_test_season.loc[::,['country','iso3']]=df_tasmin_test_season.loc[::,['country','iso3']].applymap(lambda x: x.strip())\n",
        "\n",
        "df_tasmin_test_season.head()"
      ],
      "execution_count": 15,
      "outputs": [
        {
          "output_type": "execute_result",
          "data": {
            "text/html": [
              "<div>\n",
              "<style scoped>\n",
              "    .dataframe tbody tr th:only-of-type {\n",
              "        vertical-align: middle;\n",
              "    }\n",
              "\n",
              "    .dataframe tbody tr th {\n",
              "        vertical-align: top;\n",
              "    }\n",
              "\n",
              "    .dataframe thead th {\n",
              "        text-align: right;\n",
              "    }\n",
              "</style>\n",
              "<table border=\"1\" class=\"dataframe\">\n",
              "  <thead>\n",
              "    <tr style=\"text-align: right;\">\n",
              "      <th></th>\n",
              "      <th>month</th>\n",
              "      <th>tasmin</th>\n",
              "      <th>year</th>\n",
              "      <th>country</th>\n",
              "      <th>iso3</th>\n",
              "    </tr>\n",
              "  </thead>\n",
              "  <tbody>\n",
              "    <tr>\n",
              "      <th>0</th>\n",
              "      <td>Jan</td>\n",
              "      <td>21.1</td>\n",
              "      <td>1960</td>\n",
              "      <td>Indonesia</td>\n",
              "      <td>IDN</td>\n",
              "    </tr>\n",
              "    <tr>\n",
              "      <th>1</th>\n",
              "      <td>Feb</td>\n",
              "      <td>21.0</td>\n",
              "      <td>1960</td>\n",
              "      <td>Indonesia</td>\n",
              "      <td>IDN</td>\n",
              "    </tr>\n",
              "    <tr>\n",
              "      <th>2</th>\n",
              "      <td>Mar</td>\n",
              "      <td>20.9</td>\n",
              "      <td>1960</td>\n",
              "      <td>Indonesia</td>\n",
              "      <td>IDN</td>\n",
              "    </tr>\n",
              "    <tr>\n",
              "      <th>3</th>\n",
              "      <td>Apr</td>\n",
              "      <td>21.3</td>\n",
              "      <td>1960</td>\n",
              "      <td>Indonesia</td>\n",
              "      <td>IDN</td>\n",
              "    </tr>\n",
              "    <tr>\n",
              "      <th>4</th>\n",
              "      <td>May</td>\n",
              "      <td>21.2</td>\n",
              "      <td>1960</td>\n",
              "      <td>Indonesia</td>\n",
              "      <td>IDN</td>\n",
              "    </tr>\n",
              "  </tbody>\n",
              "</table>\n",
              "</div>"
            ],
            "text/plain": [
              "  month  tasmin  year    country iso3\n",
              "0   Jan    21.1  1960  Indonesia  IDN\n",
              "1   Feb    21.0  1960  Indonesia  IDN\n",
              "2   Mar    20.9  1960  Indonesia  IDN\n",
              "3   Apr    21.3  1960  Indonesia  IDN\n",
              "4   May    21.2  1960  Indonesia  IDN"
            ]
          },
          "metadata": {},
          "execution_count": 15
        }
      ]
    },
    {
      "cell_type": "code",
      "metadata": {
        "id": "j92_a-smVEC-",
        "colab": {
          "base_uri": "https://localhost:8080/",
          "height": 35
        },
        "outputId": "1b7b1398-4295-4144-a3c0-fff3fed7d389"
      },
      "source": [
        "df_tasmin_test_season.iloc[0,3]"
      ],
      "execution_count": 16,
      "outputs": [
        {
          "output_type": "execute_result",
          "data": {
            "application/vnd.google.colaboratory.intrinsic+json": {
              "type": "string"
            },
            "text/plain": [
              "'Indonesia'"
            ]
          },
          "metadata": {},
          "execution_count": 16
        }
      ]
    },
    {
      "cell_type": "code",
      "metadata": {
        "id": "d_Gmx97ZEL2S",
        "colab": {
          "base_uri": "https://localhost:8080/",
          "height": 35
        },
        "outputId": "e7f0838c-4ba1-4312-ca2b-7331b57bd218"
      },
      "source": [
        "df_tasmin_test_season.loc[::,['country','iso3']].applymap(lambda x: x.strip())\n",
        "df_tasmin_test_season.country.apply(lambda x: x.strip()).iloc[0]\n"
      ],
      "execution_count": 17,
      "outputs": [
        {
          "output_type": "execute_result",
          "data": {
            "application/vnd.google.colaboratory.intrinsic+json": {
              "type": "string"
            },
            "text/plain": [
              "'Indonesia'"
            ]
          },
          "metadata": {},
          "execution_count": 17
        }
      ]
    },
    {
      "cell_type": "code",
      "metadata": {
        "id": "OElv1zQv0eYe"
      },
      "source": [
        "#Including the conditional column: season\n",
        "df_tasmin_season =df_tasmin_test_season.assign(season = df_tasmin_test_season.apply(year_season,axis=1))\n",
        "\n"
      ],
      "execution_count": 18,
      "outputs": []
    },
    {
      "cell_type": "code",
      "metadata": {
        "id": "7OQxsYzv2Hb9",
        "colab": {
          "base_uri": "https://localhost:8080/",
          "height": 419
        },
        "outputId": "5bfbd175-b602-45e3-e1f8-2f0877d2d311"
      },
      "source": [
        "df_tasmin_season"
      ],
      "execution_count": 19,
      "outputs": [
        {
          "output_type": "execute_result",
          "data": {
            "text/html": [
              "<div>\n",
              "<style scoped>\n",
              "    .dataframe tbody tr th:only-of-type {\n",
              "        vertical-align: middle;\n",
              "    }\n",
              "\n",
              "    .dataframe tbody tr th {\n",
              "        vertical-align: top;\n",
              "    }\n",
              "\n",
              "    .dataframe thead th {\n",
              "        text-align: right;\n",
              "    }\n",
              "</style>\n",
              "<table border=\"1\" class=\"dataframe\">\n",
              "  <thead>\n",
              "    <tr style=\"text-align: right;\">\n",
              "      <th></th>\n",
              "      <th>month</th>\n",
              "      <th>tasmin</th>\n",
              "      <th>year</th>\n",
              "      <th>country</th>\n",
              "      <th>iso3</th>\n",
              "      <th>season</th>\n",
              "    </tr>\n",
              "  </thead>\n",
              "  <tbody>\n",
              "    <tr>\n",
              "      <th>0</th>\n",
              "      <td>Jan</td>\n",
              "      <td>21.1</td>\n",
              "      <td>1960</td>\n",
              "      <td>Indonesia</td>\n",
              "      <td>IDN</td>\n",
              "      <td>winter</td>\n",
              "    </tr>\n",
              "    <tr>\n",
              "      <th>1</th>\n",
              "      <td>Feb</td>\n",
              "      <td>21.0</td>\n",
              "      <td>1960</td>\n",
              "      <td>Indonesia</td>\n",
              "      <td>IDN</td>\n",
              "      <td>winter</td>\n",
              "    </tr>\n",
              "    <tr>\n",
              "      <th>2</th>\n",
              "      <td>Mar</td>\n",
              "      <td>20.9</td>\n",
              "      <td>1960</td>\n",
              "      <td>Indonesia</td>\n",
              "      <td>IDN</td>\n",
              "      <td>spring</td>\n",
              "    </tr>\n",
              "    <tr>\n",
              "      <th>3</th>\n",
              "      <td>Apr</td>\n",
              "      <td>21.3</td>\n",
              "      <td>1960</td>\n",
              "      <td>Indonesia</td>\n",
              "      <td>IDN</td>\n",
              "      <td>spring</td>\n",
              "    </tr>\n",
              "    <tr>\n",
              "      <th>4</th>\n",
              "      <td>May</td>\n",
              "      <td>21.2</td>\n",
              "      <td>1960</td>\n",
              "      <td>Indonesia</td>\n",
              "      <td>IDN</td>\n",
              "      <td>spring</td>\n",
              "    </tr>\n",
              "    <tr>\n",
              "      <th>...</th>\n",
              "      <td>...</td>\n",
              "      <td>...</td>\n",
              "      <td>...</td>\n",
              "      <td>...</td>\n",
              "      <td>...</td>\n",
              "      <td>...</td>\n",
              "    </tr>\n",
              "    <tr>\n",
              "      <th>727</th>\n",
              "      <td>Aug</td>\n",
              "      <td>21.4</td>\n",
              "      <td>2020</td>\n",
              "      <td>Indonesia</td>\n",
              "      <td>IDN</td>\n",
              "      <td>summer</td>\n",
              "    </tr>\n",
              "    <tr>\n",
              "      <th>728</th>\n",
              "      <td>Sep</td>\n",
              "      <td>21.2</td>\n",
              "      <td>2020</td>\n",
              "      <td>Indonesia</td>\n",
              "      <td>IDN</td>\n",
              "      <td>autumn</td>\n",
              "    </tr>\n",
              "    <tr>\n",
              "      <th>729</th>\n",
              "      <td>Oct</td>\n",
              "      <td>21.6</td>\n",
              "      <td>2020</td>\n",
              "      <td>Indonesia</td>\n",
              "      <td>IDN</td>\n",
              "      <td>autumn</td>\n",
              "    </tr>\n",
              "    <tr>\n",
              "      <th>730</th>\n",
              "      <td>Nov</td>\n",
              "      <td>21.6</td>\n",
              "      <td>2020</td>\n",
              "      <td>Indonesia</td>\n",
              "      <td>IDN</td>\n",
              "      <td>autumn</td>\n",
              "    </tr>\n",
              "    <tr>\n",
              "      <th>731</th>\n",
              "      <td>Dec</td>\n",
              "      <td>21.7</td>\n",
              "      <td>2020</td>\n",
              "      <td>Indonesia</td>\n",
              "      <td>IDN</td>\n",
              "      <td>winter</td>\n",
              "    </tr>\n",
              "  </tbody>\n",
              "</table>\n",
              "<p>732 rows × 6 columns</p>\n",
              "</div>"
            ],
            "text/plain": [
              "    month  tasmin  year    country iso3  season\n",
              "0     Jan    21.1  1960  Indonesia  IDN  winter\n",
              "1     Feb    21.0  1960  Indonesia  IDN  winter\n",
              "2     Mar    20.9  1960  Indonesia  IDN  spring\n",
              "3     Apr    21.3  1960  Indonesia  IDN  spring\n",
              "4     May    21.2  1960  Indonesia  IDN  spring\n",
              "..    ...     ...   ...        ...  ...     ...\n",
              "727   Aug    21.4  2020  Indonesia  IDN  summer\n",
              "728   Sep    21.2  2020  Indonesia  IDN  autumn\n",
              "729   Oct    21.6  2020  Indonesia  IDN  autumn\n",
              "730   Nov    21.6  2020  Indonesia  IDN  autumn\n",
              "731   Dec    21.7  2020  Indonesia  IDN  winter\n",
              "\n",
              "[732 rows x 6 columns]"
            ]
          },
          "metadata": {},
          "execution_count": 19
        }
      ]
    },
    {
      "cell_type": "code",
      "metadata": {
        "id": "XJq4ONe02LW8",
        "colab": {
          "base_uri": "https://localhost:8080/",
          "height": 664
        },
        "outputId": "bd567577-92b0-4329-ef28-d7de1bca8e04"
      },
      "source": [
        "#Verifying NAN values\n",
        "msno.matrix(df_tasmin_season)"
      ],
      "execution_count": 20,
      "outputs": [
        {
          "output_type": "execute_result",
          "data": {
            "text/plain": [
              "<matplotlib.axes._subplots.AxesSubplot at 0x7f6ed5bc6f50>"
            ]
          },
          "metadata": {},
          "execution_count": 20
        },
        {
          "output_type": "display_data",
          "data": {
            "image/png": "[encoded data removed]",
            "text/plain": [
              "<Figure size 1800x720 with 2 Axes>"
            ]
          },
          "metadata": {
            "needs_background": "light"
          }
        }
      ]
    },
    {
      "cell_type": "code",
      "metadata": {
        "id": "pSVxcgVn_QE9"
      },
      "source": [
        "df_tasmin_season.to_csv(f\"/content/drive/MyDrive/Temperatura_Precipitacao_analises/limpos/tasmin_temperatura_min_avg/{tipo}{anos}{pais}_seasons.csv\", index=False)"
      ],
      "execution_count": 21,
      "outputs": []
    },
    {
      "cell_type": "markdown",
      "metadata": {
        "id": "AahQ8imU7q5p"
      },
      "source": [
        "**Improving the memory usage**\n",
        "\n",
        "---"
      ]
    },
    {
      "cell_type": "code",
      "metadata": {
        "id": "xWq12DeiwoWn",
        "colab": {
          "base_uri": "https://localhost:8080/"
        },
        "outputId": "c8b3cf80-78f2-499b-8306-ebf02cfa7dc1"
      },
      "source": [
        "#Verifying the shape\n",
        "df_tasmin_season.shape\n"
      ],
      "execution_count": 22,
      "outputs": [
        {
          "output_type": "execute_result",
          "data": {
            "text/plain": [
              "(732, 6)"
            ]
          },
          "metadata": {},
          "execution_count": 22
        }
      ]
    },
    {
      "cell_type": "code",
      "metadata": {
        "id": "DMXaIEhJwuZ1",
        "colab": {
          "base_uri": "https://localhost:8080/"
        },
        "outputId": "1c47fca4-5d77-432a-8fc1-a356122fe854"
      },
      "source": [
        "#Verifying types and memory usage\n",
        "original_info = df_tasmin_season.info()"
      ],
      "execution_count": 23,
      "outputs": [
        {
          "output_type": "stream",
          "name": "stdout",
          "text": [
            "<class 'pandas.core.frame.DataFrame'>\n",
            "RangeIndex: 732 entries, 0 to 731\n",
            "Data columns (total 6 columns):\n",
            " #   Column   Non-Null Count  Dtype  \n",
            "---  ------   --------------  -----  \n",
            " 0   month    732 non-null    object \n",
            " 1   tasmin   732 non-null    float64\n",
            " 2   year     732 non-null    int64  \n",
            " 3   country  732 non-null    object \n",
            " 4   iso3     732 non-null    object \n",
            " 5   season   732 non-null    object \n",
            "dtypes: float64(1), int64(1), object(4)\n",
            "memory usage: 34.4+ KB\n"
          ]
        }
      ]
    },
    {
      "cell_type": "code",
      "metadata": {
        "id": "BOzbWk0Ow2Dd"
      },
      "source": [
        "#Verifying memory usage\n",
        "original_mem = df_tasmin_season.memory_usage(deep=True)\n"
      ],
      "execution_count": 24,
      "outputs": []
    },
    {
      "cell_type": "code",
      "metadata": {
        "id": "1RGtPlZTzQPM",
        "colab": {
          "base_uri": "https://localhost:8080/"
        },
        "outputId": "e783aa38-9ee5-4eed-ccde-0b9a92ce7d32"
      },
      "source": [
        "#Checking the low cardinality\n",
        "df_tasmin_season.select_dtypes(include=[\"object\"]).nunique()"
      ],
      "execution_count": 25,
      "outputs": [
        {
          "output_type": "execute_result",
          "data": {
            "text/plain": [
              "month      12\n",
              "country     1\n",
              "iso3        1\n",
              "season      4\n",
              "dtype: int64"
            ]
          },
          "metadata": {},
          "execution_count": 25
        }
      ]
    },
    {
      "cell_type": "code",
      "metadata": {
        "id": "YYhSvqHv10a8",
        "colab": {
          "base_uri": "https://localhost:8080/",
          "height": 419
        },
        "outputId": "6600b211-0598-4c82-d058-ec1c88eccc6a"
      },
      "source": [
        "#Changing the columns types\n",
        "col_to_category = ['month',\"country\",\"iso3\",\"season\"]\n",
        "\n",
        "df_tasmin_season[\"year\"]= df_tasmin_season[\"year\"].astype(\"int32\")\n",
        "df_tasmin_season[col_to_category]=df_tasmin_season[col_to_category].astype(\"category\")\n",
        "\n",
        "df_tasmin_season"
      ],
      "execution_count": 26,
      "outputs": [
        {
          "output_type": "execute_result",
          "data": {
            "text/html": [
              "<div>\n",
              "<style scoped>\n",
              "    .dataframe tbody tr th:only-of-type {\n",
              "        vertical-align: middle;\n",
              "    }\n",
              "\n",
              "    .dataframe tbody tr th {\n",
              "        vertical-align: top;\n",
              "    }\n",
              "\n",
              "    .dataframe thead th {\n",
              "        text-align: right;\n",
              "    }\n",
              "</style>\n",
              "<table border=\"1\" class=\"dataframe\">\n",
              "  <thead>\n",
              "    <tr style=\"text-align: right;\">\n",
              "      <th></th>\n",
              "      <th>month</th>\n",
              "      <th>tasmin</th>\n",
              "      <th>year</th>\n",
              "      <th>country</th>\n",
              "      <th>iso3</th>\n",
              "      <th>season</th>\n",
              "    </tr>\n",
              "  </thead>\n",
              "  <tbody>\n",
              "    <tr>\n",
              "      <th>0</th>\n",
              "      <td>Jan</td>\n",
              "      <td>21.1</td>\n",
              "      <td>1960</td>\n",
              "      <td>Indonesia</td>\n",
              "      <td>IDN</td>\n",
              "      <td>winter</td>\n",
              "    </tr>\n",
              "    <tr>\n",
              "      <th>1</th>\n",
              "      <td>Feb</td>\n",
              "      <td>21.0</td>\n",
              "      <td>1960</td>\n",
              "      <td>Indonesia</td>\n",
              "      <td>IDN</td>\n",
              "      <td>winter</td>\n",
              "    </tr>\n",
              "    <tr>\n",
              "      <th>2</th>\n",
              "      <td>Mar</td>\n",
              "      <td>20.9</td>\n",
              "      <td>1960</td>\n",
              "      <td>Indonesia</td>\n",
              "      <td>IDN</td>\n",
              "      <td>spring</td>\n",
              "    </tr>\n",
              "    <tr>\n",
              "      <th>3</th>\n",
              "      <td>Apr</td>\n",
              "      <td>21.3</td>\n",
              "      <td>1960</td>\n",
              "      <td>Indonesia</td>\n",
              "      <td>IDN</td>\n",
              "      <td>spring</td>\n",
              "    </tr>\n",
              "    <tr>\n",
              "      <th>4</th>\n",
              "      <td>May</td>\n",
              "      <td>21.2</td>\n",
              "      <td>1960</td>\n",
              "      <td>Indonesia</td>\n",
              "      <td>IDN</td>\n",
              "      <td>spring</td>\n",
              "    </tr>\n",
              "    <tr>\n",
              "      <th>...</th>\n",
              "      <td>...</td>\n",
              "      <td>...</td>\n",
              "      <td>...</td>\n",
              "      <td>...</td>\n",
              "      <td>...</td>\n",
              "      <td>...</td>\n",
              "    </tr>\n",
              "    <tr>\n",
              "      <th>727</th>\n",
              "      <td>Aug</td>\n",
              "      <td>21.4</td>\n",
              "      <td>2020</td>\n",
              "      <td>Indonesia</td>\n",
              "      <td>IDN</td>\n",
              "      <td>summer</td>\n",
              "    </tr>\n",
              "    <tr>\n",
              "      <th>728</th>\n",
              "      <td>Sep</td>\n",
              "      <td>21.2</td>\n",
              "      <td>2020</td>\n",
              "      <td>Indonesia</td>\n",
              "      <td>IDN</td>\n",
              "      <td>autumn</td>\n",
              "    </tr>\n",
              "    <tr>\n",
              "      <th>729</th>\n",
              "      <td>Oct</td>\n",
              "      <td>21.6</td>\n",
              "      <td>2020</td>\n",
              "      <td>Indonesia</td>\n",
              "      <td>IDN</td>\n",
              "      <td>autumn</td>\n",
              "    </tr>\n",
              "    <tr>\n",
              "      <th>730</th>\n",
              "      <td>Nov</td>\n",
              "      <td>21.6</td>\n",
              "      <td>2020</td>\n",
              "      <td>Indonesia</td>\n",
              "      <td>IDN</td>\n",
              "      <td>autumn</td>\n",
              "    </tr>\n",
              "    <tr>\n",
              "      <th>731</th>\n",
              "      <td>Dec</td>\n",
              "      <td>21.7</td>\n",
              "      <td>2020</td>\n",
              "      <td>Indonesia</td>\n",
              "      <td>IDN</td>\n",
              "      <td>winter</td>\n",
              "    </tr>\n",
              "  </tbody>\n",
              "</table>\n",
              "<p>732 rows × 6 columns</p>\n",
              "</div>"
            ],
            "text/plain": [
              "    month  tasmin  year    country iso3  season\n",
              "0     Jan    21.1  1960  Indonesia  IDN  winter\n",
              "1     Feb    21.0  1960  Indonesia  IDN  winter\n",
              "2     Mar    20.9  1960  Indonesia  IDN  spring\n",
              "3     Apr    21.3  1960  Indonesia  IDN  spring\n",
              "4     May    21.2  1960  Indonesia  IDN  spring\n",
              "..    ...     ...   ...        ...  ...     ...\n",
              "727   Aug    21.4  2020  Indonesia  IDN  summer\n",
              "728   Sep    21.2  2020  Indonesia  IDN  autumn\n",
              "729   Oct    21.6  2020  Indonesia  IDN  autumn\n",
              "730   Nov    21.6  2020  Indonesia  IDN  autumn\n",
              "731   Dec    21.7  2020  Indonesia  IDN  winter\n",
              "\n",
              "[732 rows x 6 columns]"
            ]
          },
          "metadata": {},
          "execution_count": 26
        }
      ]
    },
    {
      "cell_type": "markdown",
      "metadata": {
        "id": "nRNWnyol7amc"
      },
      "source": [
        "Comparing Memory Usage"
      ]
    },
    {
      "cell_type": "code",
      "metadata": {
        "id": "FPpsHIaI2_U9"
      },
      "source": [
        "#Verifying new memory usage\n",
        "new_memory = df_tasmin_season.memory_usage(deep=True)\n"
      ],
      "execution_count": 27,
      "outputs": []
    },
    {
      "cell_type": "code",
      "metadata": {
        "id": "YnTrlDPZ3FBs",
        "colab": {
          "base_uri": "https://localhost:8080/"
        },
        "outputId": "8713edca-bcb0-4235-bb16-e982f9e1cf70"
      },
      "source": [
        "# Comparying memory usage\n",
        "old_value ='\\033[91m'\n",
        "new_value ='\\033[1;32m'\n",
        "normal_value = '\\033[0m'\n",
        "print(old_value + \"This is the original memory usage\" + normal_value)\n",
        "print(original_mem)\n",
        "print(new_value + \"\\nAnd this is the new memory usage\" + normal_value)\n",
        "print(new_memory)\n"
      ],
      "execution_count": 28,
      "outputs": [
        {
          "output_type": "stream",
          "name": "stdout",
          "text": [
            "\u001b[91mThis is the original memory usage\u001b[0m\n",
            "Index        128\n",
            "month      43920\n",
            "tasmin      5856\n",
            "year        5856\n",
            "country    48312\n",
            "iso3       43920\n",
            "season     46116\n",
            "dtype: int64\n",
            "\u001b[1;32m\n",
            "And this is the new memory usage\u001b[0m\n",
            "Index       128\n",
            "month      1772\n",
            "tasmin     5856\n",
            "year       2928\n",
            "country     878\n",
            "iso3        872\n",
            "season     1144\n",
            "dtype: int64\n"
          ]
        }
      ]
    },
    {
      "cell_type": "code",
      "metadata": {
        "id": "fESGgRgI7RWS",
        "colab": {
          "base_uri": "https://localhost:8080/"
        },
        "outputId": "a8da7e92-ed6f-46dc-bccc-96ee28a7817b"
      },
      "source": [
        "#Checking new info data\n",
        "new_info = df_tasmin_season.info()\n"
      ],
      "execution_count": 29,
      "outputs": [
        {
          "output_type": "stream",
          "name": "stdout",
          "text": [
            "<class 'pandas.core.frame.DataFrame'>\n",
            "RangeIndex: 732 entries, 0 to 731\n",
            "Data columns (total 6 columns):\n",
            " #   Column   Non-Null Count  Dtype   \n",
            "---  ------   --------------  -----   \n",
            " 0   month    732 non-null    category\n",
            " 1   tasmin   732 non-null    float64 \n",
            " 2   year     732 non-null    int32   \n",
            " 3   country  732 non-null    category\n",
            " 4   iso3     732 non-null    category\n",
            " 5   season   732 non-null    category\n",
            "dtypes: category(4), float64(1), int32(1)\n",
            "memory usage: 12.3 KB\n"
          ]
        }
      ]
    },
    {
      "cell_type": "code",
      "metadata": {
        "id": "m7zwS4rOXzkq",
        "colab": {
          "base_uri": "https://localhost:8080/"
        },
        "outputId": "67303f32-8479-4196-aff2-bf785a40233a"
      },
      "source": [
        "#Checking the describe method\n",
        "df_tasmin_season['tasmin'].describe().T"
      ],
      "execution_count": 30,
      "outputs": [
        {
          "output_type": "execute_result",
          "data": {
            "text/plain": [
              "count    732.000000\n",
              "mean      21.164481\n",
              "std        0.460204\n",
              "min       19.900000\n",
              "25%       20.900000\n",
              "50%       21.200000\n",
              "75%       21.500000\n",
              "max       22.300000\n",
              "Name: tasmin, dtype: float64"
            ]
          },
          "metadata": {},
          "execution_count": 30
        }
      ]
    },
    {
      "cell_type": "markdown",
      "metadata": {
        "id": "802XbvRE6VdE"
      },
      "source": [
        "*PLOTTING YEARS*"
      ]
    },
    {
      "cell_type": "code",
      "metadata": {
        "id": "tfEMMprOsRvb",
        "colab": {
          "base_uri": "https://localhost:8080/",
          "height": 450
        },
        "outputId": "d107f979-89d7-407f-888a-ea88287e3280"
      },
      "source": [
        "#Defining the df to chart\n",
        "df_tasmin_season_chart =\\\n",
        "(\n",
        "    df_tasmin_season.set_index(\"month\")\n",
        ")\n",
        "\n",
        "df_tasmin_season_chart"
      ],
      "execution_count": 31,
      "outputs": [
        {
          "output_type": "execute_result",
          "data": {
            "text/html": [
              "<div>\n",
              "<style scoped>\n",
              "    .dataframe tbody tr th:only-of-type {\n",
              "        vertical-align: middle;\n",
              "    }\n",
              "\n",
              "    .dataframe tbody tr th {\n",
              "        vertical-align: top;\n",
              "    }\n",
              "\n",
              "    .dataframe thead th {\n",
              "        text-align: right;\n",
              "    }\n",
              "</style>\n",
              "<table border=\"1\" class=\"dataframe\">\n",
              "  <thead>\n",
              "    <tr style=\"text-align: right;\">\n",
              "      <th></th>\n",
              "      <th>tasmin</th>\n",
              "      <th>year</th>\n",
              "      <th>country</th>\n",
              "      <th>iso3</th>\n",
              "      <th>season</th>\n",
              "    </tr>\n",
              "    <tr>\n",
              "      <th>month</th>\n",
              "      <th></th>\n",
              "      <th></th>\n",
              "      <th></th>\n",
              "      <th></th>\n",
              "      <th></th>\n",
              "    </tr>\n",
              "  </thead>\n",
              "  <tbody>\n",
              "    <tr>\n",
              "      <th>Jan</th>\n",
              "      <td>21.1</td>\n",
              "      <td>1960</td>\n",
              "      <td>Indonesia</td>\n",
              "      <td>IDN</td>\n",
              "      <td>winter</td>\n",
              "    </tr>\n",
              "    <tr>\n",
              "      <th>Feb</th>\n",
              "      <td>21.0</td>\n",
              "      <td>1960</td>\n",
              "      <td>Indonesia</td>\n",
              "      <td>IDN</td>\n",
              "      <td>winter</td>\n",
              "    </tr>\n",
              "    <tr>\n",
              "      <th>Mar</th>\n",
              "      <td>20.9</td>\n",
              "      <td>1960</td>\n",
              "      <td>Indonesia</td>\n",
              "      <td>IDN</td>\n",
              "      <td>spring</td>\n",
              "    </tr>\n",
              "    <tr>\n",
              "      <th>Apr</th>\n",
              "      <td>21.3</td>\n",
              "      <td>1960</td>\n",
              "      <td>Indonesia</td>\n",
              "      <td>IDN</td>\n",
              "      <td>spring</td>\n",
              "    </tr>\n",
              "    <tr>\n",
              "      <th>May</th>\n",
              "      <td>21.2</td>\n",
              "      <td>1960</td>\n",
              "      <td>Indonesia</td>\n",
              "      <td>IDN</td>\n",
              "      <td>spring</td>\n",
              "    </tr>\n",
              "    <tr>\n",
              "      <th>...</th>\n",
              "      <td>...</td>\n",
              "      <td>...</td>\n",
              "      <td>...</td>\n",
              "      <td>...</td>\n",
              "      <td>...</td>\n",
              "    </tr>\n",
              "    <tr>\n",
              "      <th>Aug</th>\n",
              "      <td>21.4</td>\n",
              "      <td>2020</td>\n",
              "      <td>Indonesia</td>\n",
              "      <td>IDN</td>\n",
              "      <td>summer</td>\n",
              "    </tr>\n",
              "    <tr>\n",
              "      <th>Sep</th>\n",
              "      <td>21.2</td>\n",
              "      <td>2020</td>\n",
              "      <td>Indonesia</td>\n",
              "      <td>IDN</td>\n",
              "      <td>autumn</td>\n",
              "    </tr>\n",
              "    <tr>\n",
              "      <th>Oct</th>\n",
              "      <td>21.6</td>\n",
              "      <td>2020</td>\n",
              "      <td>Indonesia</td>\n",
              "      <td>IDN</td>\n",
              "      <td>autumn</td>\n",
              "    </tr>\n",
              "    <tr>\n",
              "      <th>Nov</th>\n",
              "      <td>21.6</td>\n",
              "      <td>2020</td>\n",
              "      <td>Indonesia</td>\n",
              "      <td>IDN</td>\n",
              "      <td>autumn</td>\n",
              "    </tr>\n",
              "    <tr>\n",
              "      <th>Dec</th>\n",
              "      <td>21.7</td>\n",
              "      <td>2020</td>\n",
              "      <td>Indonesia</td>\n",
              "      <td>IDN</td>\n",
              "      <td>winter</td>\n",
              "    </tr>\n",
              "  </tbody>\n",
              "</table>\n",
              "<p>732 rows × 5 columns</p>\n",
              "</div>"
            ],
            "text/plain": [
              "       tasmin  year    country iso3  season\n",
              "month                                      \n",
              "Jan      21.1  1960  Indonesia  IDN  winter\n",
              "Feb      21.0  1960  Indonesia  IDN  winter\n",
              "Mar      20.9  1960  Indonesia  IDN  spring\n",
              "Apr      21.3  1960  Indonesia  IDN  spring\n",
              "May      21.2  1960  Indonesia  IDN  spring\n",
              "...       ...   ...        ...  ...     ...\n",
              "Aug      21.4  2020  Indonesia  IDN  summer\n",
              "Sep      21.2  2020  Indonesia  IDN  autumn\n",
              "Oct      21.6  2020  Indonesia  IDN  autumn\n",
              "Nov      21.6  2020  Indonesia  IDN  autumn\n",
              "Dec      21.7  2020  Indonesia  IDN  winter\n",
              "\n",
              "[732 rows x 5 columns]"
            ]
          },
          "metadata": {},
          "execution_count": 31
        }
      ]
    },
    {
      "cell_type": "code",
      "metadata": {
        "id": "fS0XHoydGwOz"
      },
      "source": [
        "#Importing the package and defining the colors to plot\n",
        "import matplotlib.dates as mdt\n",
        "blue = '#99ddee'\n",
        "white = '#ffffff'"
      ],
      "execution_count": 32,
      "outputs": []
    },
    {
      "cell_type": "code",
      "metadata": {
        "id": "C7lY59K_Jaia"
      },
      "source": [
        "#Defining the plot's function\n",
        "def plot_year(ax,temp,years):\n",
        "    ax.set_facecolor(blue)\n",
        "    ax.spines['top'].set_visible(False)\n",
        "    ax.spines['right'].set_visible(False)\n",
        "    ax.spines['bottom'].set_visible(False)\n",
        "    ax.spines['left'].set_visible(False)\n",
        "    filtro_1 = df_tasmin_season_chart.year == y\n",
        "    ax.plot(df_tasmin_season_chart.index[filtro_1],df_tasmin_season_chart.loc[filtro_1,'tasmin'].values)\n",
        "    ax.tick_params(axis='x', colors=white)\n",
        "    ax.tick_params(axis='y', colors=white)\n",
        "    ax.set_ylabel('Celsius Min Temperature', color=white)\n",
        "    ax.set_title(f\"Year {y}\", color=white, fontweight='bold')\n",
        "    ax.fill_between(df_tasmin_season_chart.index,min(df_tasmin_season_chart['tasmin']), max(df_tasmin_season_chart['tasmin'])+5,  facecolor='white' )\n"
      ],
      "execution_count": 33,
      "outputs": []
    },
    {
      "cell_type": "code",
      "metadata": {
        "id": "mMsGORGJ9iT7"
      },
      "source": [
        "df_tasmin_season_chart_x = df_tasmin_season_chart.reset_index()"
      ],
      "execution_count": 34,
      "outputs": []
    },
    {
      "cell_type": "code",
      "metadata": {
        "id": "R6wrJIDcThze",
        "colab": {
          "base_uri": "https://localhost:8080/",
          "height": 1000
        },
        "outputId": "a7e93c96-ba31-4db0-a449-538ba56ffa16"
      },
      "source": [
        "#Ploting the years\n",
        "years = range(2000,2020+1)\n",
        "fig, axs = plt.subplots(ncols =3, nrows = int(len(years)/3),figsize=(20,25), linewidth = 5, facecolor = blue)\n",
        "\n",
        "axs = axs.flatten()\n",
        "max_val = None\n",
        "max_data = None\n",
        "max_ax = None\n",
        "for i, y in enumerate(years):\n",
        "\n",
        "    ax= axs[i]\n",
        " \n",
        "    data_1=\\\n",
        "    (\n",
        "        df_tasmin_season_chart_x.assign(YEAR=pd.to_datetime(df_tasmin_season_chart_x.year))\n",
        "        .set_index(\"year\")\n",
        "        .loc[y]\n",
        "        .tasmin\n",
        "        .interpolate()  \n",
        "    )\n",
        " \n",
        "\n",
        "    if max_val is None or max_val < data_1.max():\n",
        "        max_val = data_1.max()\n",
        "        max_data = data_1\n",
        "        max_ax = ax\n",
        "\n",
        "    ax.set_ylim(min(data_1.values), max((data_1.values))+5)\n",
        "    years = {y}\n",
        "    plot_year(ax, data_1, years)\n",
        "\n",
        "\n",
        "fig.suptitle(f'Average Min Temperature {pais}', color='white', fontweight='bold',fontsize=20 )\n",
        "fig.tight_layout( rect= [0,0.03, 1, 0.95])\n",
        "fig.savefig(f'/content/drive/MyDrive/Temperatura_Precipitacao_analises/charts/tasmin_temperatura_min_media/Average Max Temperature by Year {pais}.png', dpi=300, facecolor=blue)\n",
        "\n"
      ],
      "execution_count": 35,
      "outputs": [
        {
          "output_type": "display_data",
          "data": {
            "image/png": "[encoded data removed]",
            "text/plain": [
              "<Figure size 1440x1800 with 21 Axes>"
            ]
          },
          "metadata": {}
        }
      ]
    },
    {
      "cell_type": "markdown",
      "metadata": {
        "id": "Sfk14hen5-bl"
      },
      "source": [
        "*PLOTTING QUARTILES*"
      ]
    },
    {
      "cell_type": "code",
      "metadata": {
        "id": "QzTFOyt7jCXC"
      },
      "source": [
        "#Defining data to Seasons' Quartile\n",
        "temp_season = ['tasmin','season']\n",
        "df_temp_season= df_tasmin_season[temp_season]\n"
      ],
      "execution_count": 36,
      "outputs": []
    },
    {
      "cell_type": "code",
      "metadata": {
        "id": "44Wj6vvbkUtK",
        "colab": {
          "base_uri": "https://localhost:8080/",
          "height": 426
        },
        "outputId": "5a1c3e6e-3e01-4d79-ae60-05c3e6348cf5"
      },
      "source": [
        "#Ploting Quartiles\n",
        "fig,(ax1,ax2)=plt.subplots(1,2,figsize=(20,6))\n",
        "fig.suptitle(f\"Quartiles Min Temp {pais}\", size=20, y=1.00)\n",
        "df_temp_season.pivot(columns='season').plot.box(ax=ax1,title=\"Seasons' Quartiles\")\n",
        "df_tasmin_season['tasmin'].plot.box(ax=ax2, title=\"General Quartile\")\n",
        "fig.savefig(f\"/content/drive/MyDrive/Temperatura_Precipitacao_analises/charts/tasmin_temperatura_min_media/{pais} Seasons'Quartiles\")"
      ],
      "execution_count": 37,
      "outputs": [
        {
          "output_type": "display_data",
          "data": {
            "image/png": "[encoded data removed]",
            "text/plain": [
              "<Figure size 1440x432 with 2 Axes>"
            ]
          },
          "metadata": {
            "needs_background": "light"
          }
        }
      ]
    },
    {
      "cell_type": "code",
      "metadata": {
        "id": "TI7Z9z_X_Zl7"
      },
      "source": [
        "country=df_tasmin_season_chart.iloc[0,2]\n"
      ],
      "execution_count": 38,
      "outputs": []
    },
    {
      "cell_type": "code",
      "metadata": {
        "id": "G3dyhCQj7h7U"
      },
      "source": [
        "iso3=df_tasmin_season_chart.iloc[0,3]\n"
      ],
      "execution_count": 39,
      "outputs": []
    },
    {
      "cell_type": "code",
      "metadata": {
        "id": "epDdzPjD_Zej",
        "colab": {
          "base_uri": "https://localhost:8080/",
          "height": 35
        },
        "outputId": "3d7af5f5-721b-4904-8120-4458f90b4e5e"
      },
      "source": [
        "iso3"
      ],
      "execution_count": 40,
      "outputs": [
        {
          "output_type": "execute_result",
          "data": {
            "application/vnd.google.colaboratory.intrinsic+json": {
              "type": "string"
            },
            "text/plain": [
              "'IDN'"
            ]
          },
          "metadata": {},
          "execution_count": 40
        }
      ]
    },
    {
      "cell_type": "code",
      "metadata": {
        "id": "DPllfMjF_a8a",
        "colab": {
          "base_uri": "https://localhost:8080/",
          "height": 35
        },
        "outputId": "d46bd080-762c-4a2d-bda3-48e260d73e5d"
      },
      "source": [
        "country"
      ],
      "execution_count": 41,
      "outputs": [
        {
          "output_type": "execute_result",
          "data": {
            "application/vnd.google.colaboratory.intrinsic+json": {
              "type": "string"
            },
            "text/plain": [
              "'Indonesia'"
            ]
          },
          "metadata": {},
          "execution_count": 41
        }
      ]
    },
    {
      "cell_type": "code",
      "metadata": {
        "id": "WUN-rtp8dzRr",
        "colab": {
          "base_uri": "https://localhost:8080/",
          "height": 235
        },
        "outputId": "6e8a7f7f-da80-4a27-9af3-986dd478ef57"
      },
      "source": [
        "#Defining data to General Quartile\n",
        "general_quartile= df_tasmin_season['tasmin'].describe()[['min','25%','50%','75%','max']].round(2).to_frame().assign(country=country).assign(iso3=iso3)\n",
        "general_quartile.index.name='quartil'\n",
        "general_quartile"
      ],
      "execution_count": 42,
      "outputs": [
        {
          "output_type": "execute_result",
          "data": {
            "text/html": [
              "<div>\n",
              "<style scoped>\n",
              "    .dataframe tbody tr th:only-of-type {\n",
              "        vertical-align: middle;\n",
              "    }\n",
              "\n",
              "    .dataframe tbody tr th {\n",
              "        vertical-align: top;\n",
              "    }\n",
              "\n",
              "    .dataframe thead th {\n",
              "        text-align: right;\n",
              "    }\n",
              "</style>\n",
              "<table border=\"1\" class=\"dataframe\">\n",
              "  <thead>\n",
              "    <tr style=\"text-align: right;\">\n",
              "      <th></th>\n",
              "      <th>tasmin</th>\n",
              "      <th>country</th>\n",
              "      <th>iso3</th>\n",
              "    </tr>\n",
              "    <tr>\n",
              "      <th>quartil</th>\n",
              "      <th></th>\n",
              "      <th></th>\n",
              "      <th></th>\n",
              "    </tr>\n",
              "  </thead>\n",
              "  <tbody>\n",
              "    <tr>\n",
              "      <th>min</th>\n",
              "      <td>19.9</td>\n",
              "      <td>Indonesia</td>\n",
              "      <td>IDN</td>\n",
              "    </tr>\n",
              "    <tr>\n",
              "      <th>25%</th>\n",
              "      <td>20.9</td>\n",
              "      <td>Indonesia</td>\n",
              "      <td>IDN</td>\n",
              "    </tr>\n",
              "    <tr>\n",
              "      <th>50%</th>\n",
              "      <td>21.2</td>\n",
              "      <td>Indonesia</td>\n",
              "      <td>IDN</td>\n",
              "    </tr>\n",
              "    <tr>\n",
              "      <th>75%</th>\n",
              "      <td>21.5</td>\n",
              "      <td>Indonesia</td>\n",
              "      <td>IDN</td>\n",
              "    </tr>\n",
              "    <tr>\n",
              "      <th>max</th>\n",
              "      <td>22.3</td>\n",
              "      <td>Indonesia</td>\n",
              "      <td>IDN</td>\n",
              "    </tr>\n",
              "  </tbody>\n",
              "</table>\n",
              "</div>"
            ],
            "text/plain": [
              "         tasmin    country iso3\n",
              "quartil                        \n",
              "min        19.9  Indonesia  IDN\n",
              "25%        20.9  Indonesia  IDN\n",
              "50%        21.2  Indonesia  IDN\n",
              "75%        21.5  Indonesia  IDN\n",
              "max        22.3  Indonesia  IDN"
            ]
          },
          "metadata": {},
          "execution_count": 42
        }
      ]
    },
    {
      "cell_type": "code",
      "metadata": {
        "id": "jXPCzcpyQTqS"
      },
      "source": [
        "general_quartile.to_csv(f\"/content/drive/MyDrive/Temperatura_Precipitacao_analises/notebooks/Quartiles/Temp_min_AVG/{pais}_General_Quartile.csv\")"
      ],
      "execution_count": 43,
      "outputs": []
    },
    {
      "cell_type": "code",
      "metadata": {
        "id": "dERTQ7YBQy8F",
        "colab": {
          "base_uri": "https://localhost:8080/",
          "height": 235
        },
        "outputId": "55228f06-734c-4137-c93d-c21af834cf68"
      },
      "source": [
        "seasons_quartiles=\\\n",
        "(\n",
        "    df_temp_season.pivot(columns='season')\n",
        "    .describe()\n",
        "    .loc[['min','25%','50%','75%',\"max\"]]\n",
        "    .round(2)\n",
        "    \n",
        "    \n",
        ")\n",
        "\n",
        "#quartil_temp_seasons.columns=quartil_temp_seasons.columns.droplevel()\n",
        "seasons_quartiles"
      ],
      "execution_count": 44,
      "outputs": [
        {
          "output_type": "execute_result",
          "data": {
            "text/html": [
              "<div>\n",
              "<style scoped>\n",
              "    .dataframe tbody tr th:only-of-type {\n",
              "        vertical-align: middle;\n",
              "    }\n",
              "\n",
              "    .dataframe tbody tr th {\n",
              "        vertical-align: top;\n",
              "    }\n",
              "\n",
              "    .dataframe thead tr th {\n",
              "        text-align: left;\n",
              "    }\n",
              "</style>\n",
              "<table border=\"1\" class=\"dataframe\">\n",
              "  <thead>\n",
              "    <tr>\n",
              "      <th></th>\n",
              "      <th colspan=\"4\" halign=\"left\">tasmin</th>\n",
              "    </tr>\n",
              "    <tr>\n",
              "      <th>season</th>\n",
              "      <th>autumn</th>\n",
              "      <th>spring</th>\n",
              "      <th>summer</th>\n",
              "      <th>winter</th>\n",
              "    </tr>\n",
              "  </thead>\n",
              "  <tbody>\n",
              "    <tr>\n",
              "      <th>min</th>\n",
              "      <td>20.0</td>\n",
              "      <td>20.7</td>\n",
              "      <td>19.9</td>\n",
              "      <td>20.30</td>\n",
              "    </tr>\n",
              "    <tr>\n",
              "      <th>25%</th>\n",
              "      <td>20.8</td>\n",
              "      <td>21.2</td>\n",
              "      <td>20.5</td>\n",
              "      <td>21.00</td>\n",
              "    </tr>\n",
              "    <tr>\n",
              "      <th>50%</th>\n",
              "      <td>21.1</td>\n",
              "      <td>21.5</td>\n",
              "      <td>20.8</td>\n",
              "      <td>21.30</td>\n",
              "    </tr>\n",
              "    <tr>\n",
              "      <th>75%</th>\n",
              "      <td>21.4</td>\n",
              "      <td>21.7</td>\n",
              "      <td>21.1</td>\n",
              "      <td>21.55</td>\n",
              "    </tr>\n",
              "    <tr>\n",
              "      <th>max</th>\n",
              "      <td>21.9</td>\n",
              "      <td>22.3</td>\n",
              "      <td>21.8</td>\n",
              "      <td>22.10</td>\n",
              "    </tr>\n",
              "  </tbody>\n",
              "</table>\n",
              "</div>"
            ],
            "text/plain": [
              "       tasmin                     \n",
              "season autumn spring summer winter\n",
              "min      20.0   20.7   19.9  20.30\n",
              "25%      20.8   21.2   20.5  21.00\n",
              "50%      21.1   21.5   20.8  21.30\n",
              "75%      21.4   21.7   21.1  21.55\n",
              "max      21.9   22.3   21.8  22.10"
            ]
          },
          "metadata": {},
          "execution_count": 44
        }
      ]
    },
    {
      "cell_type": "code",
      "metadata": {
        "id": "SJ5HwFtIsUKm",
        "colab": {
          "base_uri": "https://localhost:8080/",
          "height": 235
        },
        "outputId": "84b31bf4-e0d5-407b-9b0c-4842eddc76b7"
      },
      "source": [
        "seasons_quartiles.columns=\\\n",
        "(\n",
        "    seasons_quartiles.columns.droplevel().add_categories(['country','iso3'])\n",
        "       \n",
        ")\n",
        "seasons_quartiles=seasons_quartiles.assign(country=country).assign(iso3=iso3)\n",
        "seasons_quartiles.index.name='quartil'\n",
        "seasons_quartiles"
      ],
      "execution_count": 45,
      "outputs": [
        {
          "output_type": "execute_result",
          "data": {
            "text/html": [
              "<div>\n",
              "<style scoped>\n",
              "    .dataframe tbody tr th:only-of-type {\n",
              "        vertical-align: middle;\n",
              "    }\n",
              "\n",
              "    .dataframe tbody tr th {\n",
              "        vertical-align: top;\n",
              "    }\n",
              "\n",
              "    .dataframe thead th {\n",
              "        text-align: right;\n",
              "    }\n",
              "</style>\n",
              "<table border=\"1\" class=\"dataframe\">\n",
              "  <thead>\n",
              "    <tr style=\"text-align: right;\">\n",
              "      <th>season</th>\n",
              "      <th>autumn</th>\n",
              "      <th>spring</th>\n",
              "      <th>summer</th>\n",
              "      <th>winter</th>\n",
              "      <th>country</th>\n",
              "      <th>iso3</th>\n",
              "    </tr>\n",
              "    <tr>\n",
              "      <th>quartil</th>\n",
              "      <th></th>\n",
              "      <th></th>\n",
              "      <th></th>\n",
              "      <th></th>\n",
              "      <th></th>\n",
              "      <th></th>\n",
              "    </tr>\n",
              "  </thead>\n",
              "  <tbody>\n",
              "    <tr>\n",
              "      <th>min</th>\n",
              "      <td>20.0</td>\n",
              "      <td>20.7</td>\n",
              "      <td>19.9</td>\n",
              "      <td>20.30</td>\n",
              "      <td>Indonesia</td>\n",
              "      <td>IDN</td>\n",
              "    </tr>\n",
              "    <tr>\n",
              "      <th>25%</th>\n",
              "      <td>20.8</td>\n",
              "      <td>21.2</td>\n",
              "      <td>20.5</td>\n",
              "      <td>21.00</td>\n",
              "      <td>Indonesia</td>\n",
              "      <td>IDN</td>\n",
              "    </tr>\n",
              "    <tr>\n",
              "      <th>50%</th>\n",
              "      <td>21.1</td>\n",
              "      <td>21.5</td>\n",
              "      <td>20.8</td>\n",
              "      <td>21.30</td>\n",
              "      <td>Indonesia</td>\n",
              "      <td>IDN</td>\n",
              "    </tr>\n",
              "    <tr>\n",
              "      <th>75%</th>\n",
              "      <td>21.4</td>\n",
              "      <td>21.7</td>\n",
              "      <td>21.1</td>\n",
              "      <td>21.55</td>\n",
              "      <td>Indonesia</td>\n",
              "      <td>IDN</td>\n",
              "    </tr>\n",
              "    <tr>\n",
              "      <th>max</th>\n",
              "      <td>21.9</td>\n",
              "      <td>22.3</td>\n",
              "      <td>21.8</td>\n",
              "      <td>22.10</td>\n",
              "      <td>Indonesia</td>\n",
              "      <td>IDN</td>\n",
              "    </tr>\n",
              "  </tbody>\n",
              "</table>\n",
              "</div>"
            ],
            "text/plain": [
              "season   autumn  spring  summer  winter    country iso3\n",
              "quartil                                                \n",
              "min        20.0    20.7    19.9   20.30  Indonesia  IDN\n",
              "25%        20.8    21.2    20.5   21.00  Indonesia  IDN\n",
              "50%        21.1    21.5    20.8   21.30  Indonesia  IDN\n",
              "75%        21.4    21.7    21.1   21.55  Indonesia  IDN\n",
              "max        21.9    22.3    21.8   22.10  Indonesia  IDN"
            ]
          },
          "metadata": {},
          "execution_count": 45
        }
      ]
    },
    {
      "cell_type": "code",
      "metadata": {
        "id": "L65OkSR-Q2Uk"
      },
      "source": [
        "seasons_quartiles.to_csv(f\"/content/drive/MyDrive/Temperatura_Precipitacao_analises/notebooks/Quartiles/Temp_min_AVG/{pais}_Seasons_Quartiles_Min_Temp.csv\")"
      ],
      "execution_count": 46,
      "outputs": []
    },
    {
      "cell_type": "markdown",
      "metadata": {
        "id": "R9MFcD0zq7yH"
      },
      "source": [
        "#Quartiles for Year"
      ]
    },
    {
      "cell_type": "code",
      "metadata": {
        "colab": {
          "base_uri": "https://localhost:8080/",
          "height": 450
        },
        "id": "HB6l8dcsq9Eg",
        "outputId": "072c40b5-0538-41f9-87c7-edd3ce585db5"
      },
      "source": [
        "quartiles_for_year =\\\n",
        "(\n",
        "    df_tasmin_season_chart.pivot(columns='year')\n",
        "    .describe()\n",
        "    .loc[['min','25%','50%','75%',\"max\"]]\n",
        "    .T\n",
        "    .round(2) \n",
        " ).assign(country=country,iso3=iso3,tipo=tipo[:-1]).droplevel(0,0)\n",
        "    \n",
        "quartiles_for_year\n"
      ],
      "execution_count": 47,
      "outputs": [
        {
          "output_type": "execute_result",
          "data": {
            "text/html": [
              "<div>\n",
              "<style scoped>\n",
              "    .dataframe tbody tr th:only-of-type {\n",
              "        vertical-align: middle;\n",
              "    }\n",
              "\n",
              "    .dataframe tbody tr th {\n",
              "        vertical-align: top;\n",
              "    }\n",
              "\n",
              "    .dataframe thead th {\n",
              "        text-align: right;\n",
              "    }\n",
              "</style>\n",
              "<table border=\"1\" class=\"dataframe\">\n",
              "  <thead>\n",
              "    <tr style=\"text-align: right;\">\n",
              "      <th></th>\n",
              "      <th>min</th>\n",
              "      <th>25%</th>\n",
              "      <th>50%</th>\n",
              "      <th>75%</th>\n",
              "      <th>max</th>\n",
              "      <th>country</th>\n",
              "      <th>iso3</th>\n",
              "      <th>tipo</th>\n",
              "    </tr>\n",
              "    <tr>\n",
              "      <th>year</th>\n",
              "      <th></th>\n",
              "      <th></th>\n",
              "      <th></th>\n",
              "      <th></th>\n",
              "      <th></th>\n",
              "      <th></th>\n",
              "      <th></th>\n",
              "      <th></th>\n",
              "    </tr>\n",
              "  </thead>\n",
              "  <tbody>\n",
              "    <tr>\n",
              "      <th>1960</th>\n",
              "      <td>20.4</td>\n",
              "      <td>20.67</td>\n",
              "      <td>21.00</td>\n",
              "      <td>21.20</td>\n",
              "      <td>21.3</td>\n",
              "      <td>Indonesia</td>\n",
              "      <td>IDN</td>\n",
              "      <td>tasmin</td>\n",
              "    </tr>\n",
              "    <tr>\n",
              "      <th>1961</th>\n",
              "      <td>19.9</td>\n",
              "      <td>20.30</td>\n",
              "      <td>20.95</td>\n",
              "      <td>21.22</td>\n",
              "      <td>21.3</td>\n",
              "      <td>Indonesia</td>\n",
              "      <td>IDN</td>\n",
              "      <td>tasmin</td>\n",
              "    </tr>\n",
              "    <tr>\n",
              "      <th>1962</th>\n",
              "      <td>20.1</td>\n",
              "      <td>20.58</td>\n",
              "      <td>20.95</td>\n",
              "      <td>21.10</td>\n",
              "      <td>21.3</td>\n",
              "      <td>Indonesia</td>\n",
              "      <td>IDN</td>\n",
              "      <td>tasmin</td>\n",
              "    </tr>\n",
              "    <tr>\n",
              "      <th>1963</th>\n",
              "      <td>20.0</td>\n",
              "      <td>20.72</td>\n",
              "      <td>20.85</td>\n",
              "      <td>21.15</td>\n",
              "      <td>21.3</td>\n",
              "      <td>Indonesia</td>\n",
              "      <td>IDN</td>\n",
              "      <td>tasmin</td>\n",
              "    </tr>\n",
              "    <tr>\n",
              "      <th>1964</th>\n",
              "      <td>20.1</td>\n",
              "      <td>20.60</td>\n",
              "      <td>20.75</td>\n",
              "      <td>21.40</td>\n",
              "      <td>21.5</td>\n",
              "      <td>Indonesia</td>\n",
              "      <td>IDN</td>\n",
              "      <td>tasmin</td>\n",
              "    </tr>\n",
              "    <tr>\n",
              "      <th>...</th>\n",
              "      <td>...</td>\n",
              "      <td>...</td>\n",
              "      <td>...</td>\n",
              "      <td>...</td>\n",
              "      <td>...</td>\n",
              "      <td>...</td>\n",
              "      <td>...</td>\n",
              "      <td>...</td>\n",
              "    </tr>\n",
              "    <tr>\n",
              "      <th>2016</th>\n",
              "      <td>21.3</td>\n",
              "      <td>21.50</td>\n",
              "      <td>21.80</td>\n",
              "      <td>22.02</td>\n",
              "      <td>22.3</td>\n",
              "      <td>Indonesia</td>\n",
              "      <td>IDN</td>\n",
              "      <td>tasmin</td>\n",
              "    </tr>\n",
              "    <tr>\n",
              "      <th>2017</th>\n",
              "      <td>20.9</td>\n",
              "      <td>21.28</td>\n",
              "      <td>21.70</td>\n",
              "      <td>21.80</td>\n",
              "      <td>22.0</td>\n",
              "      <td>Indonesia</td>\n",
              "      <td>IDN</td>\n",
              "      <td>tasmin</td>\n",
              "    </tr>\n",
              "    <tr>\n",
              "      <th>2018</th>\n",
              "      <td>21.1</td>\n",
              "      <td>21.20</td>\n",
              "      <td>21.45</td>\n",
              "      <td>21.70</td>\n",
              "      <td>21.8</td>\n",
              "      <td>Indonesia</td>\n",
              "      <td>IDN</td>\n",
              "      <td>tasmin</td>\n",
              "    </tr>\n",
              "    <tr>\n",
              "      <th>2019</th>\n",
              "      <td>20.8</td>\n",
              "      <td>21.30</td>\n",
              "      <td>21.75</td>\n",
              "      <td>21.92</td>\n",
              "      <td>22.3</td>\n",
              "      <td>Indonesia</td>\n",
              "      <td>IDN</td>\n",
              "      <td>tasmin</td>\n",
              "    </tr>\n",
              "    <tr>\n",
              "      <th>2020</th>\n",
              "      <td>21.0</td>\n",
              "      <td>21.40</td>\n",
              "      <td>21.65</td>\n",
              "      <td>21.95</td>\n",
              "      <td>22.2</td>\n",
              "      <td>Indonesia</td>\n",
              "      <td>IDN</td>\n",
              "      <td>tasmin</td>\n",
              "    </tr>\n",
              "  </tbody>\n",
              "</table>\n",
              "<p>61 rows × 8 columns</p>\n",
              "</div>"
            ],
            "text/plain": [
              "       min    25%    50%    75%   max    country iso3    tipo\n",
              "year                                                         \n",
              "1960  20.4  20.67  21.00  21.20  21.3  Indonesia  IDN  tasmin\n",
              "1961  19.9  20.30  20.95  21.22  21.3  Indonesia  IDN  tasmin\n",
              "1962  20.1  20.58  20.95  21.10  21.3  Indonesia  IDN  tasmin\n",
              "1963  20.0  20.72  20.85  21.15  21.3  Indonesia  IDN  tasmin\n",
              "1964  20.1  20.60  20.75  21.40  21.5  Indonesia  IDN  tasmin\n",
              "...    ...    ...    ...    ...   ...        ...  ...     ...\n",
              "2016  21.3  21.50  21.80  22.02  22.3  Indonesia  IDN  tasmin\n",
              "2017  20.9  21.28  21.70  21.80  22.0  Indonesia  IDN  tasmin\n",
              "2018  21.1  21.20  21.45  21.70  21.8  Indonesia  IDN  tasmin\n",
              "2019  20.8  21.30  21.75  21.92  22.3  Indonesia  IDN  tasmin\n",
              "2020  21.0  21.40  21.65  21.95  22.2  Indonesia  IDN  tasmin\n",
              "\n",
              "[61 rows x 8 columns]"
            ]
          },
          "metadata": {},
          "execution_count": 47
        }
      ]
    },
    {
      "cell_type": "code",
      "metadata": {
        "id": "l1RtqSbrq-zy"
      },
      "source": [
        "path_quartil_year ='/content/drive/MyDrive/Temperatura_Precipitacao_analises/limpos/quartile_for_year/'\n",
        "quartiles_for_year.to_csv(f\"{path_quartil_year}{pais}_{tipo}_quartiles_for_year.csv\")\n",
        "    "
      ],
      "execution_count": 48,
      "outputs": []
    }
  ]
}