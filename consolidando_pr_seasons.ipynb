{
  "nbformat": 4,
  "nbformat_minor": 0,
  "metadata": {
    "colab": {
      "name": "consolidando_pr_seasons.ipynb",
      "provenance": [],
      "collapsed_sections": [],
      "mount_file_id": "1f2PoYLZxhI-o30NfDCNr-pUDfuKTVYGj",
      "authorship_tag": "ABX9TyOx4A3wd3IgAWb2wybedTii",
      "include_colab_link": true
    },
    "kernelspec": {
      "name": "python3",
      "display_name": "Python 3"
    },
    "language_info": {
      "name": "python"
    }
  },
  "cells": [
    {
      "cell_type": "markdown",
      "metadata": {
        "id": "view-in-github",
        "colab_type": "text"
      },
      "source": [
        "<a href=\"https://colab.research.google.com/github/Renata-Thomazelli/mentoria2021/blob/main/consolidando_pr_seasons.ipynb\" target=\"_parent\"><img src=\"https://colab.research.google.com/assets/colab-badge.svg\" alt=\"Open In Colab\"/></a>"
      ]
    },
    {
      "cell_type": "code",
      "metadata": {
        "colab": {
          "base_uri": "https://localhost:8080/"
        },
        "id": "svcJKL8PR4MN",
        "outputId": "1bf90dd5-84c2-48f6-e739-4884e9d63e56"
      },
      "source": [
        "# Importing Drive\n",
        "from google.colab import drive\n",
        "\n",
        "drive.mount('/content/drive')"
      ],
      "execution_count": 1,
      "outputs": [
        {
          "output_type": "stream",
          "name": "stdout",
          "text": [
            "Mounted at /content/drive\n"
          ]
        }
      ]
    },
    {
      "cell_type": "code",
      "metadata": {
        "id": "gjhyytEQT6gv"
      },
      "source": [
        "import pandas as pd\n",
        "import numpy as np\n",
        "import chardet\n",
        "import missingno as msno"
      ],
      "execution_count": 2,
      "outputs": []
    },
    {
      "cell_type": "code",
      "metadata": {
        "id": "e27yTsTFSHan"
      },
      "source": [
        "def abrindo_files(pais,tipo):\n",
        "    file_path ='/content/drive/MyDrive/Temperatura_Precipitacao_analises/notebooks/Quartiles/PR_AVG/'\n",
        "    file = f\"{pais}_Rainfall(MM)_Seasons_Quartiles.csv\"\n",
        "    with open(f\"{file_path}{file}\", 'rb') as encoding:\n",
        "        r_encoding = chardet.detect(encoding.read(100000))\n",
        "    arquivo = f\"{tipo}{pais}\"\n",
        "    with open (f\"{file_path}{file}\",'r',encoding=r_encoding['encoding']) as arquivo :\n",
        "        df = pd.read_csv(arquivo)\n",
        "        return df\n",
        "\n"
      ],
      "execution_count": 5,
      "outputs": []
    },
    {
      "cell_type": "code",
      "metadata": {
        "id": "KDA8Cg99TdIH"
      },
      "source": [
        "df_1 = abrindo_files('TUR','pr')"
      ],
      "execution_count": 6,
      "outputs": []
    },
    {
      "cell_type": "code",
      "metadata": {
        "colab": {
          "base_uri": "https://localhost:8080/",
          "height": 204
        },
        "id": "CQCqpVDdUFom",
        "outputId": "b8b58cd2-e589-4bb2-d2ab-1054ccfb8739"
      },
      "source": [
        "df_1\n"
      ],
      "execution_count": 7,
      "outputs": [
        {
          "output_type": "execute_result",
          "data": {
            "text/html": [
              "<div>\n",
              "<style scoped>\n",
              "    .dataframe tbody tr th:only-of-type {\n",
              "        vertical-align: middle;\n",
              "    }\n",
              "\n",
              "    .dataframe tbody tr th {\n",
              "        vertical-align: top;\n",
              "    }\n",
              "\n",
              "    .dataframe thead th {\n",
              "        text-align: right;\n",
              "    }\n",
              "</style>\n",
              "<table border=\"1\" class=\"dataframe\">\n",
              "  <thead>\n",
              "    <tr style=\"text-align: right;\">\n",
              "      <th></th>\n",
              "      <th>quartil</th>\n",
              "      <th>autumn</th>\n",
              "      <th>spring</th>\n",
              "      <th>summer</th>\n",
              "      <th>winter</th>\n",
              "      <th>country</th>\n",
              "      <th>iso3</th>\n",
              "    </tr>\n",
              "  </thead>\n",
              "  <tbody>\n",
              "    <tr>\n",
              "      <th>0</th>\n",
              "      <td>min</td>\n",
              "      <td>2.10</td>\n",
              "      <td>18.9</td>\n",
              "      <td>4.30</td>\n",
              "      <td>12.20</td>\n",
              "      <td>Turkey</td>\n",
              "      <td>TUR</td>\n",
              "    </tr>\n",
              "    <tr>\n",
              "      <th>1</th>\n",
              "      <td>25%</td>\n",
              "      <td>21.15</td>\n",
              "      <td>46.7</td>\n",
              "      <td>11.25</td>\n",
              "      <td>51.00</td>\n",
              "      <td>Turkey</td>\n",
              "      <td>TUR</td>\n",
              "    </tr>\n",
              "    <tr>\n",
              "      <th>2</th>\n",
              "      <td>50%</td>\n",
              "      <td>37.80</td>\n",
              "      <td>59.7</td>\n",
              "      <td>17.10</td>\n",
              "      <td>67.40</td>\n",
              "      <td>Turkey</td>\n",
              "      <td>TUR</td>\n",
              "    </tr>\n",
              "    <tr>\n",
              "      <th>3</th>\n",
              "      <td>75%</td>\n",
              "      <td>56.25</td>\n",
              "      <td>72.8</td>\n",
              "      <td>28.00</td>\n",
              "      <td>85.85</td>\n",
              "      <td>Turkey</td>\n",
              "      <td>TUR</td>\n",
              "    </tr>\n",
              "    <tr>\n",
              "      <th>4</th>\n",
              "      <td>max</td>\n",
              "      <td>106.80</td>\n",
              "      <td>103.1</td>\n",
              "      <td>66.50</td>\n",
              "      <td>141.00</td>\n",
              "      <td>Turkey</td>\n",
              "      <td>TUR</td>\n",
              "    </tr>\n",
              "  </tbody>\n",
              "</table>\n",
              "</div>"
            ],
            "text/plain": [
              "  quartil  autumn  spring  summer  winter country iso3\n",
              "0     min    2.10    18.9    4.30   12.20  Turkey  TUR\n",
              "1     25%   21.15    46.7   11.25   51.00  Turkey  TUR\n",
              "2     50%   37.80    59.7   17.10   67.40  Turkey  TUR\n",
              "3     75%   56.25    72.8   28.00   85.85  Turkey  TUR\n",
              "4     max  106.80   103.1   66.50  141.00  Turkey  TUR"
            ]
          },
          "metadata": {},
          "execution_count": 7
        }
      ]
    },
    {
      "cell_type": "code",
      "metadata": {
        "id": "g-A3VfDdUGgN"
      },
      "source": [
        "df_2 = abrindo_files('RUS','pr')\n",
        "df_3 = abrindo_files('PHL','pr')\n",
        "df_4 = abrindo_files('IND','pr')\n",
        "df_5 = abrindo_files('GBR','pr')\n",
        "df_6 = abrindo_files('FRA','pr')\n",
        "df_7 = abrindo_files('EGY','pr')\n",
        "df_8 = abrindo_files('DEU','pr')\n",
        "df_9 = abrindo_files('CHN','pr')\n",
        "df_10 = abrindo_files('CAN','pr')\n",
        "df_11 = abrindo_files('USA','pr')\n",
        "df_12 = abrindo_files('BRA','pr')\n",
        "df_13 = abrindo_files('AUS','pr')\n",
        "df_14 = abrindo_files('IDN','pr')"
      ],
      "execution_count": 8,
      "outputs": []
    },
    {
      "cell_type": "code",
      "metadata": {
        "id": "NLPKrCTqV6Gf"
      },
      "source": [
        "frames =[df_1,df_2,df_3,df_4,df_5,df_6,df_7,df_8,df_9,df_10,df_11,df_12,df_13,df_14]"
      ],
      "execution_count": 9,
      "outputs": []
    },
    {
      "cell_type": "code",
      "metadata": {
        "id": "XLs_y6VAWiR4"
      },
      "source": [
        "concatenados =pd.concat(frames)"
      ],
      "execution_count": 10,
      "outputs": []
    },
    {
      "cell_type": "code",
      "metadata": {
        "colab": {
          "base_uri": "https://localhost:8080/",
          "height": 419
        },
        "id": "U2XXFXbQXBjt",
        "outputId": "445d658f-4e6c-40bb-c6ef-9d6232cf26d5"
      },
      "source": [
        "concatenados"
      ],
      "execution_count": 11,
      "outputs": [
        {
          "output_type": "execute_result",
          "data": {
            "text/html": [
              "<div>\n",
              "<style scoped>\n",
              "    .dataframe tbody tr th:only-of-type {\n",
              "        vertical-align: middle;\n",
              "    }\n",
              "\n",
              "    .dataframe tbody tr th {\n",
              "        vertical-align: top;\n",
              "    }\n",
              "\n",
              "    .dataframe thead th {\n",
              "        text-align: right;\n",
              "    }\n",
              "</style>\n",
              "<table border=\"1\" class=\"dataframe\">\n",
              "  <thead>\n",
              "    <tr style=\"text-align: right;\">\n",
              "      <th></th>\n",
              "      <th>quartil</th>\n",
              "      <th>autumn</th>\n",
              "      <th>spring</th>\n",
              "      <th>summer</th>\n",
              "      <th>winter</th>\n",
              "      <th>country</th>\n",
              "      <th>iso3</th>\n",
              "    </tr>\n",
              "  </thead>\n",
              "  <tbody>\n",
              "    <tr>\n",
              "      <th>0</th>\n",
              "      <td>min</td>\n",
              "      <td>2.10</td>\n",
              "      <td>18.90</td>\n",
              "      <td>4.30</td>\n",
              "      <td>12.20</td>\n",
              "      <td>Turkey</td>\n",
              "      <td>TUR</td>\n",
              "    </tr>\n",
              "    <tr>\n",
              "      <th>1</th>\n",
              "      <td>25%</td>\n",
              "      <td>21.15</td>\n",
              "      <td>46.70</td>\n",
              "      <td>11.25</td>\n",
              "      <td>51.00</td>\n",
              "      <td>Turkey</td>\n",
              "      <td>TUR</td>\n",
              "    </tr>\n",
              "    <tr>\n",
              "      <th>2</th>\n",
              "      <td>50%</td>\n",
              "      <td>37.80</td>\n",
              "      <td>59.70</td>\n",
              "      <td>17.10</td>\n",
              "      <td>67.40</td>\n",
              "      <td>Turkey</td>\n",
              "      <td>TUR</td>\n",
              "    </tr>\n",
              "    <tr>\n",
              "      <th>3</th>\n",
              "      <td>75%</td>\n",
              "      <td>56.25</td>\n",
              "      <td>72.80</td>\n",
              "      <td>28.00</td>\n",
              "      <td>85.85</td>\n",
              "      <td>Turkey</td>\n",
              "      <td>TUR</td>\n",
              "    </tr>\n",
              "    <tr>\n",
              "      <th>4</th>\n",
              "      <td>max</td>\n",
              "      <td>106.80</td>\n",
              "      <td>103.10</td>\n",
              "      <td>66.50</td>\n",
              "      <td>141.00</td>\n",
              "      <td>Turkey</td>\n",
              "      <td>TUR</td>\n",
              "    </tr>\n",
              "    <tr>\n",
              "      <th>...</th>\n",
              "      <td>...</td>\n",
              "      <td>...</td>\n",
              "      <td>...</td>\n",
              "      <td>...</td>\n",
              "      <td>...</td>\n",
              "      <td>...</td>\n",
              "      <td>...</td>\n",
              "    </tr>\n",
              "    <tr>\n",
              "      <th>0</th>\n",
              "      <td>min</td>\n",
              "      <td>102.90</td>\n",
              "      <td>192.40</td>\n",
              "      <td>92.00</td>\n",
              "      <td>171.70</td>\n",
              "      <td>Indonesia</td>\n",
              "      <td>IDN</td>\n",
              "    </tr>\n",
              "    <tr>\n",
              "      <th>1</th>\n",
              "      <td>25%</td>\n",
              "      <td>177.35</td>\n",
              "      <td>246.85</td>\n",
              "      <td>154.85</td>\n",
              "      <td>253.25</td>\n",
              "      <td>Indonesia</td>\n",
              "      <td>IDN</td>\n",
              "    </tr>\n",
              "    <tr>\n",
              "      <th>2</th>\n",
              "      <td>50%</td>\n",
              "      <td>227.50</td>\n",
              "      <td>271.50</td>\n",
              "      <td>179.60</td>\n",
              "      <td>278.50</td>\n",
              "      <td>Indonesia</td>\n",
              "      <td>IDN</td>\n",
              "    </tr>\n",
              "    <tr>\n",
              "      <th>3</th>\n",
              "      <td>75%</td>\n",
              "      <td>265.40</td>\n",
              "      <td>296.50</td>\n",
              "      <td>201.35</td>\n",
              "      <td>295.85</td>\n",
              "      <td>Indonesia</td>\n",
              "      <td>IDN</td>\n",
              "    </tr>\n",
              "    <tr>\n",
              "      <th>4</th>\n",
              "      <td>max</td>\n",
              "      <td>334.10</td>\n",
              "      <td>358.30</td>\n",
              "      <td>261.50</td>\n",
              "      <td>344.10</td>\n",
              "      <td>Indonesia</td>\n",
              "      <td>IDN</td>\n",
              "    </tr>\n",
              "  </tbody>\n",
              "</table>\n",
              "<p>70 rows × 7 columns</p>\n",
              "</div>"
            ],
            "text/plain": [
              "   quartil  autumn  spring  summer  winter    country iso3\n",
              "0      min    2.10   18.90    4.30   12.20     Turkey  TUR\n",
              "1      25%   21.15   46.70   11.25   51.00     Turkey  TUR\n",
              "2      50%   37.80   59.70   17.10   67.40     Turkey  TUR\n",
              "3      75%   56.25   72.80   28.00   85.85     Turkey  TUR\n",
              "4      max  106.80  103.10   66.50  141.00     Turkey  TUR\n",
              "..     ...     ...     ...     ...     ...        ...  ...\n",
              "0      min  102.90  192.40   92.00  171.70  Indonesia  IDN\n",
              "1      25%  177.35  246.85  154.85  253.25  Indonesia  IDN\n",
              "2      50%  227.50  271.50  179.60  278.50  Indonesia  IDN\n",
              "3      75%  265.40  296.50  201.35  295.85  Indonesia  IDN\n",
              "4      max  334.10  358.30  261.50  344.10  Indonesia  IDN\n",
              "\n",
              "[70 rows x 7 columns]"
            ]
          },
          "metadata": {},
          "execution_count": 11
        }
      ]
    },
    {
      "cell_type": "code",
      "metadata": {
        "colab": {
          "base_uri": "https://localhost:8080/"
        },
        "id": "9TG0nraQXUaG",
        "outputId": "0ce6eeab-9b01-415f-e223-a69c239943bb"
      },
      "source": [
        "concatenados.info()"
      ],
      "execution_count": 12,
      "outputs": [
        {
          "output_type": "stream",
          "name": "stdout",
          "text": [
            "<class 'pandas.core.frame.DataFrame'>\n",
            "Int64Index: 70 entries, 0 to 4\n",
            "Data columns (total 7 columns):\n",
            " #   Column   Non-Null Count  Dtype  \n",
            "---  ------   --------------  -----  \n",
            " 0   quartil  70 non-null     object \n",
            " 1   autumn   70 non-null     float64\n",
            " 2   spring   70 non-null     float64\n",
            " 3   summer   70 non-null     float64\n",
            " 4   winter   70 non-null     float64\n",
            " 5   country  70 non-null     object \n",
            " 6   iso3     70 non-null     object \n",
            "dtypes: float64(4), object(3)\n",
            "memory usage: 4.4+ KB\n"
          ]
        }
      ]
    },
    {
      "cell_type": "code",
      "metadata": {
        "colab": {
          "base_uri": "https://localhost:8080/",
          "height": 605
        },
        "id": "c-4UiZ7FXN5t",
        "outputId": "6019b85a-268a-4278-9bf1-9097db787683"
      },
      "source": [
        "msno.matrix(concatenados)"
      ],
      "execution_count": 13,
      "outputs": [
        {
          "output_type": "execute_result",
          "data": {
            "text/plain": [
              "<matplotlib.axes._subplots.AxesSubplot at 0x7f1aafac29d0>"
            ]
          },
          "metadata": {},
          "execution_count": 13
        },
        {
          "output_type": "display_data",
          "data": {
            "image/png": "[encoded data removed]",
            "text/plain": [
              "<Figure size 1800x720 with 2 Axes>"
            ]
          },
          "metadata": {
            "needs_background": "light"
          }
        }
      ]
    },
    {
      "cell_type": "code",
      "metadata": {
        "id": "7mb4LxV7Xj9g"
      },
      "source": [
        "path ='/content/drive/MyDrive/Temperatura_Precipitacao_analises/limpos/pr_avg/'"
      ],
      "execution_count": 14,
      "outputs": []
    },
    {
      "cell_type": "code",
      "metadata": {
        "id": "QqNhpIeOXws1"
      },
      "source": [
        "concatenados.to_csv(f\"{path}precipitacao_seasons_consolidado.csv\", index=False)"
      ],
      "execution_count": 15,
      "outputs": []
    }
  ]
}