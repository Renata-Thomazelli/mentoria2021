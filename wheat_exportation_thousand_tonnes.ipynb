{
  "nbformat": 4,
  "nbformat_minor": 0,
  "metadata": {
    "colab": {
      "name": "wheat_exportation_thousand_tonnes.ipynb",
      "provenance": [],
      "collapsed_sections": [],
      "authorship_tag": "ABX9TyMW/gm/+wykyavl0D1G67nO",
      "include_colab_link": true
    },
    "kernelspec": {
      "name": "python3",
      "display_name": "Python 3"
    },
    "language_info": {
      "name": "python"
    }
  },
  "cells": [
    {
      "cell_type": "markdown",
      "metadata": {
        "id": "view-in-github",
        "colab_type": "text"
      },
      "source": [
        "<a href=\"https://colab.research.google.com/github/Renata-Thomazelli/mentoria2021/blob/main/wheat_exportation_thousand_tonnes.ipynb\" target=\"_parent\"><img src=\"https://colab.research.google.com/assets/colab-badge.svg\" alt=\"Open In Colab\"/></a>"
      ]
    },
    {
      "cell_type": "markdown",
      "metadata": {
        "id": "P0kNeHowuC3t"
      },
      "source": [
        "# ***Analysing the wheat exports***\n",
        "\n",
        "---"
      ]
    },
    {
      "cell_type": "code",
      "metadata": {
        "colab": {
          "base_uri": "https://localhost:8080/"
        },
        "id": "wmXlRN-5ZPp-",
        "outputId": "2489f3fe-c88d-415a-be43-07e08b79b75e"
      },
      "source": [
        "# Importing Drive\n",
        "from google.colab import drive\n",
        "\n",
        "drive.mount('/content/drive')"
      ],
      "execution_count": 1,
      "outputs": [
        {
          "output_type": "stream",
          "name": "stdout",
          "text": [
            "Mounted at /content/drive\n"
          ]
        }
      ]
    },
    {
      "cell_type": "code",
      "metadata": {
        "colab": {
          "base_uri": "https://localhost:8080/"
        },
        "id": "BJiiuLroq0Pn",
        "outputId": "38bbf9ff-3797-4b09-c06c-c27fac3e7bba"
      },
      "source": [
        "pip install squarify"
      ],
      "execution_count": 4,
      "outputs": [
        {
          "output_type": "stream",
          "name": "stdout",
          "text": [
            "Collecting squarify\n",
            "  Downloading squarify-0.4.3-py3-none-any.whl (4.3 kB)\n",
            "Installing collected packages: squarify\n",
            "Successfully installed squarify-0.4.3\n"
          ]
        }
      ]
    },
    {
      "cell_type": "code",
      "metadata": {
        "id": "0BOnVmPYZXzE"
      },
      "source": [
        "#Importing \n",
        "import pandas as pd\n",
        "import numpy as np\n",
        "import chardet\n",
        "import missingno as msno\n",
        "import matplotlib.pyplot as plt\n",
        "import squarify\n",
        "%matplotlib inline"
      ],
      "execution_count": 38,
      "outputs": []
    },
    {
      "cell_type": "markdown",
      "metadata": {
        "id": "A-DX9i0E-sq4"
      },
      "source": [
        "Install knoema"
      ]
    },
    {
      "cell_type": "code",
      "metadata": {
        "id": "cM02jHKh-sEf"
      },
      "source": [
        "pip install knoema"
      ],
      "execution_count": null,
      "outputs": []
    },
    {
      "cell_type": "code",
      "metadata": {
        "id": "G3_ItD1U-4DX"
      },
      "source": [
        "import knoema"
      ],
      "execution_count": null,
      "outputs": []
    },
    {
      "cell_type": "code",
      "metadata": {
        "id": "4LzNLxXK-6RZ"
      },
      "source": [
        "paises_exportadores = knoema.get('USDAPSD2021May25', frequency='A', Country='China;India;Russia;United States;Canada;Australia;United Kingdom;Germany;France;Brazil;Egypt;Indonesia;Philippines;Turkey', Commodity='0410000', Attribute='088')"
      ],
      "execution_count": null,
      "outputs": []
    },
    {
      "cell_type": "markdown",
      "metadata": {
        "id": "lxnZfrc5I2Aw"
      },
      "source": [
        "\n",
        "\n",
        "**Alemanha e França não constam na lista de países exportadores**"
      ]
    },
    {
      "cell_type": "code",
      "metadata": {
        "id": "Suzutxuq-_1X"
      },
      "source": [
        "paises_exportadores"
      ],
      "execution_count": null,
      "outputs": []
    },
    {
      "cell_type": "code",
      "metadata": {
        "id": "x8CRsNhK_Cjo"
      },
      "source": [
        "\n",
        "paises_exportadores.to_csv(\"paises_exportadores.csv\")"
      ],
      "execution_count": null,
      "outputs": []
    },
    {
      "cell_type": "markdown",
      "metadata": {
        "id": "hiy_NiY7ZnNp"
      },
      "source": [
        "## Reading CSV\n",
        "\n",
        "---"
      ]
    },
    {
      "cell_type": "code",
      "metadata": {
        "id": "P_BwqZ22ZmFx"
      },
      "source": [
        "\n",
        "file_path ='/content/drive/MyDrive/Data_Lake/wheat_exportation/'\n",
        "file = 'paises_exportadores.csv'"
      ],
      "execution_count": 6,
      "outputs": []
    },
    {
      "cell_type": "markdown",
      "metadata": {
        "id": "J_aDP1yYsXNB"
      },
      "source": [
        "Reading encoding"
      ]
    },
    {
      "cell_type": "code",
      "metadata": {
        "colab": {
          "base_uri": "https://localhost:8080/"
        },
        "id": "qjPVLylDfEBY",
        "outputId": "357eb936-df3b-4d22-df8d-d06bf1e4b5a0"
      },
      "source": [
        "with open(f\"{file_path}{file}\", 'rb') as encoding:\n",
        "    r_encoding = chardet.detect(encoding.read(100000))\n",
        "r_encoding"
      ],
      "execution_count": 7,
      "outputs": [
        {
          "output_type": "execute_result",
          "data": {
            "text/plain": [
              "{'confidence': 1.0, 'encoding': 'ascii', 'language': ''}"
            ]
          },
          "metadata": {},
          "execution_count": 7
        }
      ]
    },
    {
      "cell_type": "markdown",
      "metadata": {
        "id": "WfMO_xSmsafe"
      },
      "source": [
        "Reading CSV"
      ]
    },
    {
      "cell_type": "code",
      "metadata": {
        "id": "9gWVFiMSauTA"
      },
      "source": [
        "with open (f\"{file_path}{file}\",'r',encoding=r_encoding['encoding']) as countries:\n",
        "  df_countries_exportadores = pd.read_csv(countries)\n"
      ],
      "execution_count": 8,
      "outputs": []
    },
    {
      "cell_type": "markdown",
      "metadata": {
        "id": "BtwYOpZ1sd_Z"
      },
      "source": [
        "# Dataframe"
      ]
    },
    {
      "cell_type": "code",
      "metadata": {
        "id": "YoXKHt3GbAb4",
        "colab": {
          "base_uri": "https://localhost:8080/",
          "height": 419
        },
        "outputId": "235557eb-45fb-4ccd-9338-0f735496b556"
      },
      "source": [
        "df_countries_exportadores"
      ],
      "execution_count": 9,
      "outputs": [
        {
          "output_type": "execute_result",
          "data": {
            "text/html": [
              "<div>\n",
              "<style scoped>\n",
              "    .dataframe tbody tr th:only-of-type {\n",
              "        vertical-align: middle;\n",
              "    }\n",
              "\n",
              "    .dataframe tbody tr th {\n",
              "        vertical-align: top;\n",
              "    }\n",
              "\n",
              "    .dataframe thead th {\n",
              "        text-align: right;\n",
              "    }\n",
              "</style>\n",
              "<table border=\"1\" class=\"dataframe\">\n",
              "  <thead>\n",
              "    <tr style=\"text-align: right;\">\n",
              "      <th></th>\n",
              "      <th>Country</th>\n",
              "      <th>Australia</th>\n",
              "      <th>Brazil</th>\n",
              "      <th>Canada</th>\n",
              "      <th>China</th>\n",
              "      <th>Egypt</th>\n",
              "      <th>India</th>\n",
              "      <th>Indonesia</th>\n",
              "      <th>Philippines</th>\n",
              "      <th>Russia</th>\n",
              "      <th>Turkey</th>\n",
              "      <th>United Kingdom</th>\n",
              "      <th>United States</th>\n",
              "    </tr>\n",
              "  </thead>\n",
              "  <tbody>\n",
              "    <tr>\n",
              "      <th>0</th>\n",
              "      <td>Commodity</td>\n",
              "      <td>Wheat</td>\n",
              "      <td>Wheat</td>\n",
              "      <td>Wheat</td>\n",
              "      <td>Wheat</td>\n",
              "      <td>Wheat</td>\n",
              "      <td>Wheat</td>\n",
              "      <td>Wheat</td>\n",
              "      <td>Wheat</td>\n",
              "      <td>Wheat</td>\n",
              "      <td>Wheat</td>\n",
              "      <td>Wheat</td>\n",
              "      <td>Wheat</td>\n",
              "    </tr>\n",
              "    <tr>\n",
              "      <th>1</th>\n",
              "      <td>Attribute</td>\n",
              "      <td>Exports</td>\n",
              "      <td>Exports</td>\n",
              "      <td>Exports</td>\n",
              "      <td>Exports</td>\n",
              "      <td>Exports</td>\n",
              "      <td>Exports</td>\n",
              "      <td>Exports</td>\n",
              "      <td>Exports</td>\n",
              "      <td>Exports</td>\n",
              "      <td>Exports</td>\n",
              "      <td>Exports</td>\n",
              "      <td>Exports</td>\n",
              "    </tr>\n",
              "    <tr>\n",
              "      <th>2</th>\n",
              "      <td>Frequency</td>\n",
              "      <td>A</td>\n",
              "      <td>A</td>\n",
              "      <td>A</td>\n",
              "      <td>A</td>\n",
              "      <td>A</td>\n",
              "      <td>A</td>\n",
              "      <td>A</td>\n",
              "      <td>A</td>\n",
              "      <td>A</td>\n",
              "      <td>A</td>\n",
              "      <td>A</td>\n",
              "      <td>A</td>\n",
              "    </tr>\n",
              "    <tr>\n",
              "      <th>3</th>\n",
              "      <td>1960-01-01</td>\n",
              "      <td>6456.0</td>\n",
              "      <td>0.0</td>\n",
              "      <td>9614.0</td>\n",
              "      <td>2.0</td>\n",
              "      <td>5.0</td>\n",
              "      <td>0.0</td>\n",
              "      <td>0.0</td>\n",
              "      <td>0.0</td>\n",
              "      <td>NaN</td>\n",
              "      <td>1.0</td>\n",
              "      <td>NaN</td>\n",
              "      <td>17799.0</td>\n",
              "    </tr>\n",
              "    <tr>\n",
              "      <th>4</th>\n",
              "      <td>1961-01-01</td>\n",
              "      <td>4950.0</td>\n",
              "      <td>0.0</td>\n",
              "      <td>9744.0</td>\n",
              "      <td>122.0</td>\n",
              "      <td>6.0</td>\n",
              "      <td>0.0</td>\n",
              "      <td>0.0</td>\n",
              "      <td>0.0</td>\n",
              "      <td>NaN</td>\n",
              "      <td>1.0</td>\n",
              "      <td>NaN</td>\n",
              "      <td>19486.0</td>\n",
              "    </tr>\n",
              "    <tr>\n",
              "      <th>...</th>\n",
              "      <td>...</td>\n",
              "      <td>...</td>\n",
              "      <td>...</td>\n",
              "      <td>...</td>\n",
              "      <td>...</td>\n",
              "      <td>...</td>\n",
              "      <td>...</td>\n",
              "      <td>...</td>\n",
              "      <td>...</td>\n",
              "      <td>...</td>\n",
              "      <td>...</td>\n",
              "      <td>...</td>\n",
              "      <td>...</td>\n",
              "    </tr>\n",
              "    <tr>\n",
              "      <th>60</th>\n",
              "      <td>2017-01-01</td>\n",
              "      <td>13849.0</td>\n",
              "      <td>230.0</td>\n",
              "      <td>22000.0</td>\n",
              "      <td>1004.0</td>\n",
              "      <td>781.0</td>\n",
              "      <td>569.0</td>\n",
              "      <td>318.0</td>\n",
              "      <td>60.0</td>\n",
              "      <td>41447.0</td>\n",
              "      <td>6698.0</td>\n",
              "      <td>795.0</td>\n",
              "      <td>24658.0</td>\n",
              "    </tr>\n",
              "    <tr>\n",
              "      <th>61</th>\n",
              "      <td>2018-01-01</td>\n",
              "      <td>9006.0</td>\n",
              "      <td>602.0</td>\n",
              "      <td>24380.0</td>\n",
              "      <td>1006.0</td>\n",
              "      <td>1090.0</td>\n",
              "      <td>496.0</td>\n",
              "      <td>274.0</td>\n",
              "      <td>71.0</td>\n",
              "      <td>35863.0</td>\n",
              "      <td>6814.0</td>\n",
              "      <td>738.0</td>\n",
              "      <td>25502.0</td>\n",
              "    </tr>\n",
              "    <tr>\n",
              "      <th>62</th>\n",
              "      <td>2019-01-01</td>\n",
              "      <td>9136.0</td>\n",
              "      <td>420.0</td>\n",
              "      <td>24627.0</td>\n",
              "      <td>1049.0</td>\n",
              "      <td>978.0</td>\n",
              "      <td>509.0</td>\n",
              "      <td>350.0</td>\n",
              "      <td>75.0</td>\n",
              "      <td>34485.0</td>\n",
              "      <td>6534.0</td>\n",
              "      <td>1621.0</td>\n",
              "      <td>26276.0</td>\n",
              "    </tr>\n",
              "    <tr>\n",
              "      <th>63</th>\n",
              "      <td>2020-01-01</td>\n",
              "      <td>22000.0</td>\n",
              "      <td>950.0</td>\n",
              "      <td>27500.0</td>\n",
              "      <td>1000.0</td>\n",
              "      <td>900.0</td>\n",
              "      <td>2300.0</td>\n",
              "      <td>300.0</td>\n",
              "      <td>65.0</td>\n",
              "      <td>39500.0</td>\n",
              "      <td>6600.0</td>\n",
              "      <td>350.0</td>\n",
              "      <td>26263.0</td>\n",
              "    </tr>\n",
              "    <tr>\n",
              "      <th>64</th>\n",
              "      <td>2021-01-01</td>\n",
              "      <td>20000.0</td>\n",
              "      <td>1000.0</td>\n",
              "      <td>23500.0</td>\n",
              "      <td>1000.0</td>\n",
              "      <td>900.0</td>\n",
              "      <td>2200.0</td>\n",
              "      <td>300.0</td>\n",
              "      <td>70.0</td>\n",
              "      <td>40000.0</td>\n",
              "      <td>6500.0</td>\n",
              "      <td>550.0</td>\n",
              "      <td>24494.0</td>\n",
              "    </tr>\n",
              "  </tbody>\n",
              "</table>\n",
              "<p>65 rows × 13 columns</p>\n",
              "</div>"
            ],
            "text/plain": [
              "       Country Australia   Brazil  ...   Turkey United Kingdom United States\n",
              "0    Commodity     Wheat    Wheat  ...    Wheat          Wheat         Wheat\n",
              "1    Attribute   Exports  Exports  ...  Exports        Exports       Exports\n",
              "2    Frequency         A        A  ...        A              A             A\n",
              "3   1960-01-01    6456.0      0.0  ...      1.0            NaN       17799.0\n",
              "4   1961-01-01    4950.0      0.0  ...      1.0            NaN       19486.0\n",
              "..         ...       ...      ...  ...      ...            ...           ...\n",
              "60  2017-01-01   13849.0    230.0  ...   6698.0          795.0       24658.0\n",
              "61  2018-01-01    9006.0    602.0  ...   6814.0          738.0       25502.0\n",
              "62  2019-01-01    9136.0    420.0  ...   6534.0         1621.0       26276.0\n",
              "63  2020-01-01   22000.0    950.0  ...   6600.0          350.0       26263.0\n",
              "64  2021-01-01   20000.0   1000.0  ...   6500.0          550.0       24494.0\n",
              "\n",
              "[65 rows x 13 columns]"
            ]
          },
          "metadata": {},
          "execution_count": 9
        }
      ]
    },
    {
      "cell_type": "markdown",
      "metadata": {
        "id": "OR5WUEEEsx0m"
      },
      "source": [
        "## <font color = \"green\"> *Renomeando colunas e removendo níveis desnecessários*\n",
        "___\n",
        "\n"
      ]
    },
    {
      "cell_type": "code",
      "metadata": {
        "id": "roeabmgJhKB9"
      },
      "source": [
        "#function to rename index values\n",
        "def replace (col): \n",
        "    return col.replace(\"-01-01\",'')"
      ],
      "execution_count": 10,
      "outputs": []
    },
    {
      "cell_type": "code",
      "metadata": {
        "colab": {
          "base_uri": "https://localhost:8080/"
        },
        "id": "h11zuvma33jp",
        "outputId": "46b683ab-0ded-442a-81b0-a02af1c5ae09"
      },
      "source": [
        "# checking the shape\n",
        "df_countries_exportadores.shape"
      ],
      "execution_count": 11,
      "outputs": [
        {
          "output_type": "execute_result",
          "data": {
            "text/plain": [
              "(65, 13)"
            ]
          },
          "metadata": {},
          "execution_count": 11
        }
      ]
    },
    {
      "cell_type": "code",
      "metadata": {
        "id": "W1M0bFWImfst"
      },
      "source": [
        "#renaming colomns, drops levels and setting index\n",
        "anos = {\"Country\":\"Years\"}\n",
        "df_countries_exportadores=\\\n",
        "(\n",
        "    df_countries_exportadores.drop(range(0,3))\n",
        "    .rename(columns=anos)\n",
        "    .set_index(\"Years\")\n",
        "    .rename(index=replace)\n",
        " )\n"
      ],
      "execution_count": 12,
      "outputs": []
    },
    {
      "cell_type": "code",
      "metadata": {
        "colab": {
          "base_uri": "https://localhost:8080/"
        },
        "id": "2773Jf6k3-cX",
        "outputId": "6b08c915-0bfb-4928-e40f-8f7f0d25ba66"
      },
      "source": [
        "#Veryfing new shape\n",
        "df_countries_exportadores.shape"
      ],
      "execution_count": 13,
      "outputs": [
        {
          "output_type": "execute_result",
          "data": {
            "text/plain": [
              "(62, 12)"
            ]
          },
          "metadata": {},
          "execution_count": 13
        }
      ]
    },
    {
      "cell_type": "code",
      "metadata": {
        "colab": {
          "base_uri": "https://localhost:8080/",
          "height": 450
        },
        "id": "Ginxol_-jIJ0",
        "outputId": "99b87116-e48d-4f6f-95d0-6459644bb6af"
      },
      "source": [
        "df_countries_exportadores"
      ],
      "execution_count": 14,
      "outputs": [
        {
          "output_type": "execute_result",
          "data": {
            "text/html": [
              "<div>\n",
              "<style scoped>\n",
              "    .dataframe tbody tr th:only-of-type {\n",
              "        vertical-align: middle;\n",
              "    }\n",
              "\n",
              "    .dataframe tbody tr th {\n",
              "        vertical-align: top;\n",
              "    }\n",
              "\n",
              "    .dataframe thead th {\n",
              "        text-align: right;\n",
              "    }\n",
              "</style>\n",
              "<table border=\"1\" class=\"dataframe\">\n",
              "  <thead>\n",
              "    <tr style=\"text-align: right;\">\n",
              "      <th></th>\n",
              "      <th>Australia</th>\n",
              "      <th>Brazil</th>\n",
              "      <th>Canada</th>\n",
              "      <th>China</th>\n",
              "      <th>Egypt</th>\n",
              "      <th>India</th>\n",
              "      <th>Indonesia</th>\n",
              "      <th>Philippines</th>\n",
              "      <th>Russia</th>\n",
              "      <th>Turkey</th>\n",
              "      <th>United Kingdom</th>\n",
              "      <th>United States</th>\n",
              "    </tr>\n",
              "    <tr>\n",
              "      <th>Years</th>\n",
              "      <th></th>\n",
              "      <th></th>\n",
              "      <th></th>\n",
              "      <th></th>\n",
              "      <th></th>\n",
              "      <th></th>\n",
              "      <th></th>\n",
              "      <th></th>\n",
              "      <th></th>\n",
              "      <th></th>\n",
              "      <th></th>\n",
              "      <th></th>\n",
              "    </tr>\n",
              "  </thead>\n",
              "  <tbody>\n",
              "    <tr>\n",
              "      <th>1960</th>\n",
              "      <td>6456.0</td>\n",
              "      <td>0.0</td>\n",
              "      <td>9614.0</td>\n",
              "      <td>2.0</td>\n",
              "      <td>5.0</td>\n",
              "      <td>0.0</td>\n",
              "      <td>0.0</td>\n",
              "      <td>0.0</td>\n",
              "      <td>NaN</td>\n",
              "      <td>1.0</td>\n",
              "      <td>NaN</td>\n",
              "      <td>17799.0</td>\n",
              "    </tr>\n",
              "    <tr>\n",
              "      <th>1961</th>\n",
              "      <td>4950.0</td>\n",
              "      <td>0.0</td>\n",
              "      <td>9744.0</td>\n",
              "      <td>122.0</td>\n",
              "      <td>6.0</td>\n",
              "      <td>0.0</td>\n",
              "      <td>0.0</td>\n",
              "      <td>0.0</td>\n",
              "      <td>NaN</td>\n",
              "      <td>1.0</td>\n",
              "      <td>NaN</td>\n",
              "      <td>19486.0</td>\n",
              "    </tr>\n",
              "    <tr>\n",
              "      <th>1962</th>\n",
              "      <td>6148.0</td>\n",
              "      <td>0.0</td>\n",
              "      <td>9018.0</td>\n",
              "      <td>89.0</td>\n",
              "      <td>15.0</td>\n",
              "      <td>0.0</td>\n",
              "      <td>0.0</td>\n",
              "      <td>0.0</td>\n",
              "      <td>NaN</td>\n",
              "      <td>0.0</td>\n",
              "      <td>NaN</td>\n",
              "      <td>17663.0</td>\n",
              "    </tr>\n",
              "    <tr>\n",
              "      <th>1963</th>\n",
              "      <td>6986.0</td>\n",
              "      <td>0.0</td>\n",
              "      <td>16181.0</td>\n",
              "      <td>113.0</td>\n",
              "      <td>19.0</td>\n",
              "      <td>0.0</td>\n",
              "      <td>0.0</td>\n",
              "      <td>0.0</td>\n",
              "      <td>NaN</td>\n",
              "      <td>0.0</td>\n",
              "      <td>NaN</td>\n",
              "      <td>23024.0</td>\n",
              "    </tr>\n",
              "    <tr>\n",
              "      <th>1964</th>\n",
              "      <td>7321.0</td>\n",
              "      <td>0.0</td>\n",
              "      <td>10875.0</td>\n",
              "      <td>115.0</td>\n",
              "      <td>12.0</td>\n",
              "      <td>0.0</td>\n",
              "      <td>0.0</td>\n",
              "      <td>0.0</td>\n",
              "      <td>NaN</td>\n",
              "      <td>0.0</td>\n",
              "      <td>NaN</td>\n",
              "      <td>19677.0</td>\n",
              "    </tr>\n",
              "    <tr>\n",
              "      <th>...</th>\n",
              "      <td>...</td>\n",
              "      <td>...</td>\n",
              "      <td>...</td>\n",
              "      <td>...</td>\n",
              "      <td>...</td>\n",
              "      <td>...</td>\n",
              "      <td>...</td>\n",
              "      <td>...</td>\n",
              "      <td>...</td>\n",
              "      <td>...</td>\n",
              "      <td>...</td>\n",
              "      <td>...</td>\n",
              "    </tr>\n",
              "    <tr>\n",
              "      <th>2017</th>\n",
              "      <td>13849.0</td>\n",
              "      <td>230.0</td>\n",
              "      <td>22000.0</td>\n",
              "      <td>1004.0</td>\n",
              "      <td>781.0</td>\n",
              "      <td>569.0</td>\n",
              "      <td>318.0</td>\n",
              "      <td>60.0</td>\n",
              "      <td>41447.0</td>\n",
              "      <td>6698.0</td>\n",
              "      <td>795.0</td>\n",
              "      <td>24658.0</td>\n",
              "    </tr>\n",
              "    <tr>\n",
              "      <th>2018</th>\n",
              "      <td>9006.0</td>\n",
              "      <td>602.0</td>\n",
              "      <td>24380.0</td>\n",
              "      <td>1006.0</td>\n",
              "      <td>1090.0</td>\n",
              "      <td>496.0</td>\n",
              "      <td>274.0</td>\n",
              "      <td>71.0</td>\n",
              "      <td>35863.0</td>\n",
              "      <td>6814.0</td>\n",
              "      <td>738.0</td>\n",
              "      <td>25502.0</td>\n",
              "    </tr>\n",
              "    <tr>\n",
              "      <th>2019</th>\n",
              "      <td>9136.0</td>\n",
              "      <td>420.0</td>\n",
              "      <td>24627.0</td>\n",
              "      <td>1049.0</td>\n",
              "      <td>978.0</td>\n",
              "      <td>509.0</td>\n",
              "      <td>350.0</td>\n",
              "      <td>75.0</td>\n",
              "      <td>34485.0</td>\n",
              "      <td>6534.0</td>\n",
              "      <td>1621.0</td>\n",
              "      <td>26276.0</td>\n",
              "    </tr>\n",
              "    <tr>\n",
              "      <th>2020</th>\n",
              "      <td>22000.0</td>\n",
              "      <td>950.0</td>\n",
              "      <td>27500.0</td>\n",
              "      <td>1000.0</td>\n",
              "      <td>900.0</td>\n",
              "      <td>2300.0</td>\n",
              "      <td>300.0</td>\n",
              "      <td>65.0</td>\n",
              "      <td>39500.0</td>\n",
              "      <td>6600.0</td>\n",
              "      <td>350.0</td>\n",
              "      <td>26263.0</td>\n",
              "    </tr>\n",
              "    <tr>\n",
              "      <th>2021</th>\n",
              "      <td>20000.0</td>\n",
              "      <td>1000.0</td>\n",
              "      <td>23500.0</td>\n",
              "      <td>1000.0</td>\n",
              "      <td>900.0</td>\n",
              "      <td>2200.0</td>\n",
              "      <td>300.0</td>\n",
              "      <td>70.0</td>\n",
              "      <td>40000.0</td>\n",
              "      <td>6500.0</td>\n",
              "      <td>550.0</td>\n",
              "      <td>24494.0</td>\n",
              "    </tr>\n",
              "  </tbody>\n",
              "</table>\n",
              "<p>62 rows × 12 columns</p>\n",
              "</div>"
            ],
            "text/plain": [
              "      Australia  Brazil   Canada  ...  Turkey United Kingdom United States\n",
              "Years                             ...                                     \n",
              "1960     6456.0     0.0   9614.0  ...     1.0            NaN       17799.0\n",
              "1961     4950.0     0.0   9744.0  ...     1.0            NaN       19486.0\n",
              "1962     6148.0     0.0   9018.0  ...     0.0            NaN       17663.0\n",
              "1963     6986.0     0.0  16181.0  ...     0.0            NaN       23024.0\n",
              "1964     7321.0     0.0  10875.0  ...     0.0            NaN       19677.0\n",
              "...         ...     ...      ...  ...     ...            ...           ...\n",
              "2017    13849.0   230.0  22000.0  ...  6698.0          795.0       24658.0\n",
              "2018     9006.0   602.0  24380.0  ...  6814.0          738.0       25502.0\n",
              "2019     9136.0   420.0  24627.0  ...  6534.0         1621.0       26276.0\n",
              "2020    22000.0   950.0  27500.0  ...  6600.0          350.0       26263.0\n",
              "2021    20000.0  1000.0  23500.0  ...  6500.0          550.0       24494.0\n",
              "\n",
              "[62 rows x 12 columns]"
            ]
          },
          "metadata": {},
          "execution_count": 14
        }
      ]
    },
    {
      "cell_type": "markdown",
      "metadata": {
        "id": "FGitOYwtK6sm"
      },
      "source": [
        "Identificando valores NAN"
      ]
    },
    {
      "cell_type": "code",
      "metadata": {
        "colab": {
          "base_uri": "https://localhost:8080/",
          "height": 707
        },
        "id": "fVUb-o8TK9to",
        "outputId": "a91ead48-de38-4ce2-8880-27fd41e9e849"
      },
      "source": [
        "#Verifing new NAN values\n",
        "msno.matrix(df_countries_exportadores)"
      ],
      "execution_count": 15,
      "outputs": [
        {
          "output_type": "execute_result",
          "data": {
            "text/plain": [
              "<matplotlib.axes._subplots.AxesSubplot at 0x7ff54ff42e10>"
            ]
          },
          "metadata": {},
          "execution_count": 15
        },
        {
          "output_type": "display_data",
          "data": {
            "image/png": "[encoded data removed]",
            "text/plain": [
              "<Figure size 1800x720 with 2 Axes>"
            ]
          },
          "metadata": {
            "needs_background": "light"
          }
        }
      ]
    },
    {
      "cell_type": "code",
      "metadata": {
        "colab": {
          "base_uri": "https://localhost:8080/"
        },
        "id": "LP7oFpPInqfj",
        "outputId": "b017772d-f2af-410e-ef1a-4511a97709b1"
      },
      "source": [
        "df_countries_exportadores.isna().sum()"
      ],
      "execution_count": 16,
      "outputs": [
        {
          "output_type": "execute_result",
          "data": {
            "text/plain": [
              "Australia          0\n",
              "Brazil             0\n",
              "Canada             0\n",
              "China              0\n",
              "Egypt              0\n",
              "India              0\n",
              "Indonesia          0\n",
              "Philippines        0\n",
              "Russia            27\n",
              "Turkey             0\n",
              "United Kingdom    56\n",
              "United States      0\n",
              "dtype: int64"
            ]
          },
          "metadata": {},
          "execution_count": 16
        }
      ]
    },
    {
      "cell_type": "code",
      "metadata": {
        "id": "4aW04gWyn8bi"
      },
      "source": [
        "#fillna and changing types\n",
        "df_countries_exportadores =\\\n",
        "(\n",
        "    df_countries_exportadores.fillna(0)\n",
        "    .astype(float)\n",
        "    .astype(int)\n",
        "   \n",
        ")\n",
        "\n"
      ],
      "execution_count": 17,
      "outputs": []
    },
    {
      "cell_type": "code",
      "metadata": {
        "colab": {
          "base_uri": "https://localhost:8080/",
          "height": 707
        },
        "id": "SIIdJmq-PDVm",
        "outputId": "ca175542-2658-4f29-c232-46ce5d7845f7"
      },
      "source": [
        "#No NAN\n",
        "msno.matrix(df_countries_exportadores)"
      ],
      "execution_count": 18,
      "outputs": [
        {
          "output_type": "execute_result",
          "data": {
            "text/plain": [
              "<matplotlib.axes._subplots.AxesSubplot at 0x7ff547a22390>"
            ]
          },
          "metadata": {},
          "execution_count": 18
        },
        {
          "output_type": "display_data",
          "data": {
            "image/png": "[encoded data removed]",
            "text/plain": [
              "<Figure size 1800x720 with 2 Axes>"
            ]
          },
          "metadata": {
            "needs_background": "light"
          }
        }
      ]
    },
    {
      "cell_type": "code",
      "metadata": {
        "colab": {
          "base_uri": "https://localhost:8080/",
          "height": 450
        },
        "id": "GBibMMLFzr5B",
        "outputId": "bb526ebe-798e-4723-a166-dbcb7cc262c1"
      },
      "source": [
        "df_countries_exportadores"
      ],
      "execution_count": 19,
      "outputs": [
        {
          "output_type": "execute_result",
          "data": {
            "text/html": [
              "<div>\n",
              "<style scoped>\n",
              "    .dataframe tbody tr th:only-of-type {\n",
              "        vertical-align: middle;\n",
              "    }\n",
              "\n",
              "    .dataframe tbody tr th {\n",
              "        vertical-align: top;\n",
              "    }\n",
              "\n",
              "    .dataframe thead th {\n",
              "        text-align: right;\n",
              "    }\n",
              "</style>\n",
              "<table border=\"1\" class=\"dataframe\">\n",
              "  <thead>\n",
              "    <tr style=\"text-align: right;\">\n",
              "      <th></th>\n",
              "      <th>Australia</th>\n",
              "      <th>Brazil</th>\n",
              "      <th>Canada</th>\n",
              "      <th>China</th>\n",
              "      <th>Egypt</th>\n",
              "      <th>India</th>\n",
              "      <th>Indonesia</th>\n",
              "      <th>Philippines</th>\n",
              "      <th>Russia</th>\n",
              "      <th>Turkey</th>\n",
              "      <th>United Kingdom</th>\n",
              "      <th>United States</th>\n",
              "    </tr>\n",
              "    <tr>\n",
              "      <th>Years</th>\n",
              "      <th></th>\n",
              "      <th></th>\n",
              "      <th></th>\n",
              "      <th></th>\n",
              "      <th></th>\n",
              "      <th></th>\n",
              "      <th></th>\n",
              "      <th></th>\n",
              "      <th></th>\n",
              "      <th></th>\n",
              "      <th></th>\n",
              "      <th></th>\n",
              "    </tr>\n",
              "  </thead>\n",
              "  <tbody>\n",
              "    <tr>\n",
              "      <th>1960</th>\n",
              "      <td>6456</td>\n",
              "      <td>0</td>\n",
              "      <td>9614</td>\n",
              "      <td>2</td>\n",
              "      <td>5</td>\n",
              "      <td>0</td>\n",
              "      <td>0</td>\n",
              "      <td>0</td>\n",
              "      <td>0</td>\n",
              "      <td>1</td>\n",
              "      <td>0</td>\n",
              "      <td>17799</td>\n",
              "    </tr>\n",
              "    <tr>\n",
              "      <th>1961</th>\n",
              "      <td>4950</td>\n",
              "      <td>0</td>\n",
              "      <td>9744</td>\n",
              "      <td>122</td>\n",
              "      <td>6</td>\n",
              "      <td>0</td>\n",
              "      <td>0</td>\n",
              "      <td>0</td>\n",
              "      <td>0</td>\n",
              "      <td>1</td>\n",
              "      <td>0</td>\n",
              "      <td>19486</td>\n",
              "    </tr>\n",
              "    <tr>\n",
              "      <th>1962</th>\n",
              "      <td>6148</td>\n",
              "      <td>0</td>\n",
              "      <td>9018</td>\n",
              "      <td>89</td>\n",
              "      <td>15</td>\n",
              "      <td>0</td>\n",
              "      <td>0</td>\n",
              "      <td>0</td>\n",
              "      <td>0</td>\n",
              "      <td>0</td>\n",
              "      <td>0</td>\n",
              "      <td>17663</td>\n",
              "    </tr>\n",
              "    <tr>\n",
              "      <th>1963</th>\n",
              "      <td>6986</td>\n",
              "      <td>0</td>\n",
              "      <td>16181</td>\n",
              "      <td>113</td>\n",
              "      <td>19</td>\n",
              "      <td>0</td>\n",
              "      <td>0</td>\n",
              "      <td>0</td>\n",
              "      <td>0</td>\n",
              "      <td>0</td>\n",
              "      <td>0</td>\n",
              "      <td>23024</td>\n",
              "    </tr>\n",
              "    <tr>\n",
              "      <th>1964</th>\n",
              "      <td>7321</td>\n",
              "      <td>0</td>\n",
              "      <td>10875</td>\n",
              "      <td>115</td>\n",
              "      <td>12</td>\n",
              "      <td>0</td>\n",
              "      <td>0</td>\n",
              "      <td>0</td>\n",
              "      <td>0</td>\n",
              "      <td>0</td>\n",
              "      <td>0</td>\n",
              "      <td>19677</td>\n",
              "    </tr>\n",
              "    <tr>\n",
              "      <th>...</th>\n",
              "      <td>...</td>\n",
              "      <td>...</td>\n",
              "      <td>...</td>\n",
              "      <td>...</td>\n",
              "      <td>...</td>\n",
              "      <td>...</td>\n",
              "      <td>...</td>\n",
              "      <td>...</td>\n",
              "      <td>...</td>\n",
              "      <td>...</td>\n",
              "      <td>...</td>\n",
              "      <td>...</td>\n",
              "    </tr>\n",
              "    <tr>\n",
              "      <th>2017</th>\n",
              "      <td>13849</td>\n",
              "      <td>230</td>\n",
              "      <td>22000</td>\n",
              "      <td>1004</td>\n",
              "      <td>781</td>\n",
              "      <td>569</td>\n",
              "      <td>318</td>\n",
              "      <td>60</td>\n",
              "      <td>41447</td>\n",
              "      <td>6698</td>\n",
              "      <td>795</td>\n",
              "      <td>24658</td>\n",
              "    </tr>\n",
              "    <tr>\n",
              "      <th>2018</th>\n",
              "      <td>9006</td>\n",
              "      <td>602</td>\n",
              "      <td>24380</td>\n",
              "      <td>1006</td>\n",
              "      <td>1090</td>\n",
              "      <td>496</td>\n",
              "      <td>274</td>\n",
              "      <td>71</td>\n",
              "      <td>35863</td>\n",
              "      <td>6814</td>\n",
              "      <td>738</td>\n",
              "      <td>25502</td>\n",
              "    </tr>\n",
              "    <tr>\n",
              "      <th>2019</th>\n",
              "      <td>9136</td>\n",
              "      <td>420</td>\n",
              "      <td>24627</td>\n",
              "      <td>1049</td>\n",
              "      <td>978</td>\n",
              "      <td>509</td>\n",
              "      <td>350</td>\n",
              "      <td>75</td>\n",
              "      <td>34485</td>\n",
              "      <td>6534</td>\n",
              "      <td>1621</td>\n",
              "      <td>26276</td>\n",
              "    </tr>\n",
              "    <tr>\n",
              "      <th>2020</th>\n",
              "      <td>22000</td>\n",
              "      <td>950</td>\n",
              "      <td>27500</td>\n",
              "      <td>1000</td>\n",
              "      <td>900</td>\n",
              "      <td>2300</td>\n",
              "      <td>300</td>\n",
              "      <td>65</td>\n",
              "      <td>39500</td>\n",
              "      <td>6600</td>\n",
              "      <td>350</td>\n",
              "      <td>26263</td>\n",
              "    </tr>\n",
              "    <tr>\n",
              "      <th>2021</th>\n",
              "      <td>20000</td>\n",
              "      <td>1000</td>\n",
              "      <td>23500</td>\n",
              "      <td>1000</td>\n",
              "      <td>900</td>\n",
              "      <td>2200</td>\n",
              "      <td>300</td>\n",
              "      <td>70</td>\n",
              "      <td>40000</td>\n",
              "      <td>6500</td>\n",
              "      <td>550</td>\n",
              "      <td>24494</td>\n",
              "    </tr>\n",
              "  </tbody>\n",
              "</table>\n",
              "<p>62 rows × 12 columns</p>\n",
              "</div>"
            ],
            "text/plain": [
              "       Australia  Brazil  Canada  ...  Turkey  United Kingdom  United States\n",
              "Years                             ...                                       \n",
              "1960        6456       0    9614  ...       1               0          17799\n",
              "1961        4950       0    9744  ...       1               0          19486\n",
              "1962        6148       0    9018  ...       0               0          17663\n",
              "1963        6986       0   16181  ...       0               0          23024\n",
              "1964        7321       0   10875  ...       0               0          19677\n",
              "...          ...     ...     ...  ...     ...             ...            ...\n",
              "2017       13849     230   22000  ...    6698             795          24658\n",
              "2018        9006     602   24380  ...    6814             738          25502\n",
              "2019        9136     420   24627  ...    6534            1621          26276\n",
              "2020       22000     950   27500  ...    6600             350          26263\n",
              "2021       20000    1000   23500  ...    6500             550          24494\n",
              "\n",
              "[62 rows x 12 columns]"
            ]
          },
          "metadata": {},
          "execution_count": 19
        }
      ]
    },
    {
      "cell_type": "code",
      "metadata": {
        "colab": {
          "base_uri": "https://localhost:8080/"
        },
        "id": "OwwdAHYDo847",
        "outputId": "a33c481e-02c1-4a78-aa11-1097da3ab079"
      },
      "source": [
        "#checking the usage\n",
        "df_countries_exportadores.info()"
      ],
      "execution_count": 20,
      "outputs": [
        {
          "output_type": "stream",
          "name": "stdout",
          "text": [
            "<class 'pandas.core.frame.DataFrame'>\n",
            "Index: 62 entries, 1960 to 2021\n",
            "Data columns (total 12 columns):\n",
            " #   Column          Non-Null Count  Dtype\n",
            "---  ------          --------------  -----\n",
            " 0   Australia       62 non-null     int64\n",
            " 1   Brazil          62 non-null     int64\n",
            " 2   Canada          62 non-null     int64\n",
            " 3   China           62 non-null     int64\n",
            " 4   Egypt           62 non-null     int64\n",
            " 5   India           62 non-null     int64\n",
            " 6   Indonesia       62 non-null     int64\n",
            " 7   Philippines     62 non-null     int64\n",
            " 8   Russia          62 non-null     int64\n",
            " 9   Turkey          62 non-null     int64\n",
            " 10  United Kingdom  62 non-null     int64\n",
            " 11  United States   62 non-null     int64\n",
            "dtypes: int64(12)\n",
            "memory usage: 6.3+ KB\n"
          ]
        }
      ]
    },
    {
      "cell_type": "markdown",
      "metadata": {
        "id": "14Fe1xi3tEVz"
      },
      "source": [
        "*DADOS ESTATÍSTICOS*"
      ]
    },
    {
      "cell_type": "code",
      "metadata": {
        "id": "CPyppN820TUe",
        "colab": {
          "base_uri": "https://localhost:8080/",
          "height": 421
        },
        "outputId": "31b1c113-e52c-412e-f164-aabbd55488da"
      },
      "source": [
        "estatistica = \\\n",
        "(\n",
        "    df_countries_exportadores.describe(include=[np.number])\n",
        "    .T\n",
        "    .astype(int)\n",
        "    .sort_values('max',ascending=False)\n",
        "\n",
        ")\n",
        "estatistica"
      ],
      "execution_count": 21,
      "outputs": [
        {
          "output_type": "execute_result",
          "data": {
            "text/html": [
              "<div>\n",
              "<style scoped>\n",
              "    .dataframe tbody tr th:only-of-type {\n",
              "        vertical-align: middle;\n",
              "    }\n",
              "\n",
              "    .dataframe tbody tr th {\n",
              "        vertical-align: top;\n",
              "    }\n",
              "\n",
              "    .dataframe thead th {\n",
              "        text-align: right;\n",
              "    }\n",
              "</style>\n",
              "<table border=\"1\" class=\"dataframe\">\n",
              "  <thead>\n",
              "    <tr style=\"text-align: right;\">\n",
              "      <th></th>\n",
              "      <th>count</th>\n",
              "      <th>mean</th>\n",
              "      <th>std</th>\n",
              "      <th>min</th>\n",
              "      <th>25%</th>\n",
              "      <th>50%</th>\n",
              "      <th>75%</th>\n",
              "      <th>max</th>\n",
              "    </tr>\n",
              "  </thead>\n",
              "  <tbody>\n",
              "    <tr>\n",
              "      <th>United States</th>\n",
              "      <td>62</td>\n",
              "      <td>28539</td>\n",
              "      <td>7032</td>\n",
              "      <td>14805</td>\n",
              "      <td>24071</td>\n",
              "      <td>28017</td>\n",
              "      <td>32964</td>\n",
              "      <td>48191</td>\n",
              "    </tr>\n",
              "    <tr>\n",
              "      <th>Russia</th>\n",
              "      <td>62</td>\n",
              "      <td>6987</td>\n",
              "      <td>11842</td>\n",
              "      <td>0</td>\n",
              "      <td>0</td>\n",
              "      <td>587</td>\n",
              "      <td>10758</td>\n",
              "      <td>41447</td>\n",
              "    </tr>\n",
              "    <tr>\n",
              "      <th>Canada</th>\n",
              "      <td>62</td>\n",
              "      <td>17041</td>\n",
              "      <td>4670</td>\n",
              "      <td>8323</td>\n",
              "      <td>13788</td>\n",
              "      <td>16730</td>\n",
              "      <td>20197</td>\n",
              "      <td>27500</td>\n",
              "    </tr>\n",
              "    <tr>\n",
              "      <th>Australia</th>\n",
              "      <td>62</td>\n",
              "      <td>12092</td>\n",
              "      <td>4951</td>\n",
              "      <td>4281</td>\n",
              "      <td>8059</td>\n",
              "      <td>11151</td>\n",
              "      <td>15991</td>\n",
              "      <td>24661</td>\n",
              "    </tr>\n",
              "    <tr>\n",
              "      <th>India</th>\n",
              "      <td>62</td>\n",
              "      <td>839</td>\n",
              "      <td>1545</td>\n",
              "      <td>0</td>\n",
              "      <td>2</td>\n",
              "      <td>100</td>\n",
              "      <td>676</td>\n",
              "      <td>6824</td>\n",
              "    </tr>\n",
              "    <tr>\n",
              "      <th>Turkey</th>\n",
              "      <td>62</td>\n",
              "      <td>1804</td>\n",
              "      <td>2155</td>\n",
              "      <td>0</td>\n",
              "      <td>52</td>\n",
              "      <td>950</td>\n",
              "      <td>2342</td>\n",
              "      <td>6814</td>\n",
              "    </tr>\n",
              "    <tr>\n",
              "      <th>China</th>\n",
              "      <td>62</td>\n",
              "      <td>533</td>\n",
              "      <td>707</td>\n",
              "      <td>0</td>\n",
              "      <td>4</td>\n",
              "      <td>118</td>\n",
              "      <td>962</td>\n",
              "      <td>2835</td>\n",
              "    </tr>\n",
              "    <tr>\n",
              "      <th>Brazil</th>\n",
              "      <td>62</td>\n",
              "      <td>281</td>\n",
              "      <td>568</td>\n",
              "      <td>0</td>\n",
              "      <td>0</td>\n",
              "      <td>0</td>\n",
              "      <td>192</td>\n",
              "      <td>2535</td>\n",
              "    </tr>\n",
              "    <tr>\n",
              "      <th>United Kingdom</th>\n",
              "      <td>62</td>\n",
              "      <td>94</td>\n",
              "      <td>339</td>\n",
              "      <td>0</td>\n",
              "      <td>0</td>\n",
              "      <td>0</td>\n",
              "      <td>0</td>\n",
              "      <td>1828</td>\n",
              "    </tr>\n",
              "    <tr>\n",
              "      <th>Egypt</th>\n",
              "      <td>62</td>\n",
              "      <td>116</td>\n",
              "      <td>264</td>\n",
              "      <td>0</td>\n",
              "      <td>0</td>\n",
              "      <td>3</td>\n",
              "      <td>27</td>\n",
              "      <td>1090</td>\n",
              "    </tr>\n",
              "    <tr>\n",
              "      <th>Indonesia</th>\n",
              "      <td>62</td>\n",
              "      <td>79</td>\n",
              "      <td>115</td>\n",
              "      <td>0</td>\n",
              "      <td>0</td>\n",
              "      <td>6</td>\n",
              "      <td>184</td>\n",
              "      <td>350</td>\n",
              "    </tr>\n",
              "    <tr>\n",
              "      <th>Philippines</th>\n",
              "      <td>62</td>\n",
              "      <td>14</td>\n",
              "      <td>23</td>\n",
              "      <td>0</td>\n",
              "      <td>0</td>\n",
              "      <td>0</td>\n",
              "      <td>29</td>\n",
              "      <td>77</td>\n",
              "    </tr>\n",
              "  </tbody>\n",
              "</table>\n",
              "</div>"
            ],
            "text/plain": [
              "                count   mean    std    min    25%    50%    75%    max\n",
              "United States      62  28539   7032  14805  24071  28017  32964  48191\n",
              "Russia             62   6987  11842      0      0    587  10758  41447\n",
              "Canada             62  17041   4670   8323  13788  16730  20197  27500\n",
              "Australia          62  12092   4951   4281   8059  11151  15991  24661\n",
              "India              62    839   1545      0      2    100    676   6824\n",
              "Turkey             62   1804   2155      0     52    950   2342   6814\n",
              "China              62    533    707      0      4    118    962   2835\n",
              "Brazil             62    281    568      0      0      0    192   2535\n",
              "United Kingdom     62     94    339      0      0      0      0   1828\n",
              "Egypt              62    116    264      0      0      3     27   1090\n",
              "Indonesia          62     79    115      0      0      6    184    350\n",
              "Philippines        62     14     23      0      0      0     29     77"
            ]
          },
          "metadata": {},
          "execution_count": 21
        }
      ]
    },
    {
      "cell_type": "code",
      "metadata": {
        "colab": {
          "base_uri": "https://localhost:8080/",
          "height": 450
        },
        "id": "tMbWj7417RRr",
        "outputId": "4d2151af-2a9a-42ff-8f81-add4e4b80d84"
      },
      "source": [
        "df_countries_exportadores.sort_index(ascending = False)\n"
      ],
      "execution_count": 22,
      "outputs": [
        {
          "output_type": "execute_result",
          "data": {
            "text/html": [
              "<div>\n",
              "<style scoped>\n",
              "    .dataframe tbody tr th:only-of-type {\n",
              "        vertical-align: middle;\n",
              "    }\n",
              "\n",
              "    .dataframe tbody tr th {\n",
              "        vertical-align: top;\n",
              "    }\n",
              "\n",
              "    .dataframe thead th {\n",
              "        text-align: right;\n",
              "    }\n",
              "</style>\n",
              "<table border=\"1\" class=\"dataframe\">\n",
              "  <thead>\n",
              "    <tr style=\"text-align: right;\">\n",
              "      <th></th>\n",
              "      <th>Australia</th>\n",
              "      <th>Brazil</th>\n",
              "      <th>Canada</th>\n",
              "      <th>China</th>\n",
              "      <th>Egypt</th>\n",
              "      <th>India</th>\n",
              "      <th>Indonesia</th>\n",
              "      <th>Philippines</th>\n",
              "      <th>Russia</th>\n",
              "      <th>Turkey</th>\n",
              "      <th>United Kingdom</th>\n",
              "      <th>United States</th>\n",
              "    </tr>\n",
              "    <tr>\n",
              "      <th>Years</th>\n",
              "      <th></th>\n",
              "      <th></th>\n",
              "      <th></th>\n",
              "      <th></th>\n",
              "      <th></th>\n",
              "      <th></th>\n",
              "      <th></th>\n",
              "      <th></th>\n",
              "      <th></th>\n",
              "      <th></th>\n",
              "      <th></th>\n",
              "      <th></th>\n",
              "    </tr>\n",
              "  </thead>\n",
              "  <tbody>\n",
              "    <tr>\n",
              "      <th>2021</th>\n",
              "      <td>20000</td>\n",
              "      <td>1000</td>\n",
              "      <td>23500</td>\n",
              "      <td>1000</td>\n",
              "      <td>900</td>\n",
              "      <td>2200</td>\n",
              "      <td>300</td>\n",
              "      <td>70</td>\n",
              "      <td>40000</td>\n",
              "      <td>6500</td>\n",
              "      <td>550</td>\n",
              "      <td>24494</td>\n",
              "    </tr>\n",
              "    <tr>\n",
              "      <th>2020</th>\n",
              "      <td>22000</td>\n",
              "      <td>950</td>\n",
              "      <td>27500</td>\n",
              "      <td>1000</td>\n",
              "      <td>900</td>\n",
              "      <td>2300</td>\n",
              "      <td>300</td>\n",
              "      <td>65</td>\n",
              "      <td>39500</td>\n",
              "      <td>6600</td>\n",
              "      <td>350</td>\n",
              "      <td>26263</td>\n",
              "    </tr>\n",
              "    <tr>\n",
              "      <th>2019</th>\n",
              "      <td>9136</td>\n",
              "      <td>420</td>\n",
              "      <td>24627</td>\n",
              "      <td>1049</td>\n",
              "      <td>978</td>\n",
              "      <td>509</td>\n",
              "      <td>350</td>\n",
              "      <td>75</td>\n",
              "      <td>34485</td>\n",
              "      <td>6534</td>\n",
              "      <td>1621</td>\n",
              "      <td>26276</td>\n",
              "    </tr>\n",
              "    <tr>\n",
              "      <th>2018</th>\n",
              "      <td>9006</td>\n",
              "      <td>602</td>\n",
              "      <td>24380</td>\n",
              "      <td>1006</td>\n",
              "      <td>1090</td>\n",
              "      <td>496</td>\n",
              "      <td>274</td>\n",
              "      <td>71</td>\n",
              "      <td>35863</td>\n",
              "      <td>6814</td>\n",
              "      <td>738</td>\n",
              "      <td>25502</td>\n",
              "    </tr>\n",
              "    <tr>\n",
              "      <th>2017</th>\n",
              "      <td>13849</td>\n",
              "      <td>230</td>\n",
              "      <td>22000</td>\n",
              "      <td>1004</td>\n",
              "      <td>781</td>\n",
              "      <td>569</td>\n",
              "      <td>318</td>\n",
              "      <td>60</td>\n",
              "      <td>41447</td>\n",
              "      <td>6698</td>\n",
              "      <td>795</td>\n",
              "      <td>24658</td>\n",
              "    </tr>\n",
              "    <tr>\n",
              "      <th>...</th>\n",
              "      <td>...</td>\n",
              "      <td>...</td>\n",
              "      <td>...</td>\n",
              "      <td>...</td>\n",
              "      <td>...</td>\n",
              "      <td>...</td>\n",
              "      <td>...</td>\n",
              "      <td>...</td>\n",
              "      <td>...</td>\n",
              "      <td>...</td>\n",
              "      <td>...</td>\n",
              "      <td>...</td>\n",
              "    </tr>\n",
              "    <tr>\n",
              "      <th>1964</th>\n",
              "      <td>7321</td>\n",
              "      <td>0</td>\n",
              "      <td>10875</td>\n",
              "      <td>115</td>\n",
              "      <td>12</td>\n",
              "      <td>0</td>\n",
              "      <td>0</td>\n",
              "      <td>0</td>\n",
              "      <td>0</td>\n",
              "      <td>0</td>\n",
              "      <td>0</td>\n",
              "      <td>19677</td>\n",
              "    </tr>\n",
              "    <tr>\n",
              "      <th>1963</th>\n",
              "      <td>6986</td>\n",
              "      <td>0</td>\n",
              "      <td>16181</td>\n",
              "      <td>113</td>\n",
              "      <td>19</td>\n",
              "      <td>0</td>\n",
              "      <td>0</td>\n",
              "      <td>0</td>\n",
              "      <td>0</td>\n",
              "      <td>0</td>\n",
              "      <td>0</td>\n",
              "      <td>23024</td>\n",
              "    </tr>\n",
              "    <tr>\n",
              "      <th>1962</th>\n",
              "      <td>6148</td>\n",
              "      <td>0</td>\n",
              "      <td>9018</td>\n",
              "      <td>89</td>\n",
              "      <td>15</td>\n",
              "      <td>0</td>\n",
              "      <td>0</td>\n",
              "      <td>0</td>\n",
              "      <td>0</td>\n",
              "      <td>0</td>\n",
              "      <td>0</td>\n",
              "      <td>17663</td>\n",
              "    </tr>\n",
              "    <tr>\n",
              "      <th>1961</th>\n",
              "      <td>4950</td>\n",
              "      <td>0</td>\n",
              "      <td>9744</td>\n",
              "      <td>122</td>\n",
              "      <td>6</td>\n",
              "      <td>0</td>\n",
              "      <td>0</td>\n",
              "      <td>0</td>\n",
              "      <td>0</td>\n",
              "      <td>1</td>\n",
              "      <td>0</td>\n",
              "      <td>19486</td>\n",
              "    </tr>\n",
              "    <tr>\n",
              "      <th>1960</th>\n",
              "      <td>6456</td>\n",
              "      <td>0</td>\n",
              "      <td>9614</td>\n",
              "      <td>2</td>\n",
              "      <td>5</td>\n",
              "      <td>0</td>\n",
              "      <td>0</td>\n",
              "      <td>0</td>\n",
              "      <td>0</td>\n",
              "      <td>1</td>\n",
              "      <td>0</td>\n",
              "      <td>17799</td>\n",
              "    </tr>\n",
              "  </tbody>\n",
              "</table>\n",
              "<p>62 rows × 12 columns</p>\n",
              "</div>"
            ],
            "text/plain": [
              "       Australia  Brazil  Canada  ...  Turkey  United Kingdom  United States\n",
              "Years                             ...                                       \n",
              "2021       20000    1000   23500  ...    6500             550          24494\n",
              "2020       22000     950   27500  ...    6600             350          26263\n",
              "2019        9136     420   24627  ...    6534            1621          26276\n",
              "2018        9006     602   24380  ...    6814             738          25502\n",
              "2017       13849     230   22000  ...    6698             795          24658\n",
              "...          ...     ...     ...  ...     ...             ...            ...\n",
              "1964        7321       0   10875  ...       0               0          19677\n",
              "1963        6986       0   16181  ...       0               0          23024\n",
              "1962        6148       0    9018  ...       0               0          17663\n",
              "1961        4950       0    9744  ...       1               0          19486\n",
              "1960        6456       0    9614  ...       1               0          17799\n",
              "\n",
              "[62 rows x 12 columns]"
            ]
          },
          "metadata": {},
          "execution_count": 22
        }
      ]
    },
    {
      "cell_type": "code",
      "metadata": {
        "colab": {
          "base_uri": "https://localhost:8080/"
        },
        "id": "SkFpNyfIGpv8",
        "outputId": "5cb4c03b-5c91-451e-83c7-ad69b93fcf2b"
      },
      "source": [
        "col = df_countries_exportadores.columns\n",
        "col"
      ],
      "execution_count": 23,
      "outputs": [
        {
          "output_type": "execute_result",
          "data": {
            "text/plain": [
              "Index(['Australia', 'Brazil', 'Canada', 'China', 'Egypt', 'India', 'Indonesia',\n",
              "       'Philippines', 'Russia', 'Turkey', 'United Kingdom', 'United States'],\n",
              "      dtype='object')"
            ]
          },
          "metadata": {},
          "execution_count": 23
        }
      ]
    },
    {
      "cell_type": "code",
      "metadata": {
        "id": "J-OP_8j-sBjf"
      },
      "source": [
        "path_to_charts='/content/drive/MyDrive/Trigo_analises/charts/'"
      ],
      "execution_count": 26,
      "outputs": []
    },
    {
      "cell_type": "code",
      "metadata": {
        "colab": {
          "base_uri": "https://localhost:8080/",
          "height": 553
        },
        "id": "cUUcT5RyYs9X",
        "outputId": "ba52ff14-12cb-4771-c708-a7d0cc4bc34c"
      },
      "source": [
        "fig, ax_array = plt.subplots(1,1, figsize = (16,8))\n",
        "ax1= ax_array\n",
        "fig.suptitle(\"Exportations Volume Among The Years \\n From 1960 to 2020\", size=18)\n",
        "ex_1 = df_countries_exportadores.sum().sort_values(ascending= True)\n",
        "ex_1.plot.barh(ax=ax1, title= \"Ranking the exported volume\")\n",
        "fig.savefig(f'{path_to_charts}Exportations Volume Among The Years From 1960 to 2020.png', dpi=300,)\n",
        "                                             \n",
        "#df_countries_exportadores.sum()"
      ],
      "execution_count": 27,
      "outputs": [
        {
          "output_type": "display_data",
          "data": {
            "image/png": "[encoded data removed]",
            "text/plain": [
              "<Figure size 1152x576 with 1 Axes>"
            ]
          },
          "metadata": {
            "needs_background": "light"
          }
        }
      ]
    },
    {
      "cell_type": "code",
      "metadata": {
        "colab": {
          "base_uri": "https://localhost:8080/"
        },
        "id": "0Fcx9I4AbFK_",
        "outputId": "64ef95bf-4c57-43c9-8bc4-63b7a1de2a5d"
      },
      "source": [
        "df_countries_exportadores.sum().sort_values(ascending= False)"
      ],
      "execution_count": 28,
      "outputs": [
        {
          "output_type": "execute_result",
          "data": {
            "text/plain": [
              "United States     1769431\n",
              "Canada            1056586\n",
              "Australia          749738\n",
              "Russia             433238\n",
              "Turkey             111857\n",
              "India               52074\n",
              "China               33092\n",
              "Brazil              17432\n",
              "Egypt                7202\n",
              "United Kingdom       5882\n",
              "Indonesia            4951\n",
              "Philippines           914\n",
              "dtype: int64"
            ]
          },
          "metadata": {},
          "execution_count": 28
        }
      ]
    },
    {
      "cell_type": "code",
      "metadata": {
        "colab": {
          "base_uri": "https://localhost:8080/",
          "height": 419
        },
        "id": "6ZUArXmb_jKR",
        "outputId": "63b6e062-8ef5-4962-d2e7-6f6ea321c178"
      },
      "source": [
        "df_countries_exportadores.reset_index()"
      ],
      "execution_count": 29,
      "outputs": [
        {
          "output_type": "execute_result",
          "data": {
            "text/html": [
              "<div>\n",
              "<style scoped>\n",
              "    .dataframe tbody tr th:only-of-type {\n",
              "        vertical-align: middle;\n",
              "    }\n",
              "\n",
              "    .dataframe tbody tr th {\n",
              "        vertical-align: top;\n",
              "    }\n",
              "\n",
              "    .dataframe thead th {\n",
              "        text-align: right;\n",
              "    }\n",
              "</style>\n",
              "<table border=\"1\" class=\"dataframe\">\n",
              "  <thead>\n",
              "    <tr style=\"text-align: right;\">\n",
              "      <th></th>\n",
              "      <th>Years</th>\n",
              "      <th>Australia</th>\n",
              "      <th>Brazil</th>\n",
              "      <th>Canada</th>\n",
              "      <th>China</th>\n",
              "      <th>Egypt</th>\n",
              "      <th>India</th>\n",
              "      <th>Indonesia</th>\n",
              "      <th>Philippines</th>\n",
              "      <th>Russia</th>\n",
              "      <th>Turkey</th>\n",
              "      <th>United Kingdom</th>\n",
              "      <th>United States</th>\n",
              "    </tr>\n",
              "  </thead>\n",
              "  <tbody>\n",
              "    <tr>\n",
              "      <th>0</th>\n",
              "      <td>1960</td>\n",
              "      <td>6456</td>\n",
              "      <td>0</td>\n",
              "      <td>9614</td>\n",
              "      <td>2</td>\n",
              "      <td>5</td>\n",
              "      <td>0</td>\n",
              "      <td>0</td>\n",
              "      <td>0</td>\n",
              "      <td>0</td>\n",
              "      <td>1</td>\n",
              "      <td>0</td>\n",
              "      <td>17799</td>\n",
              "    </tr>\n",
              "    <tr>\n",
              "      <th>1</th>\n",
              "      <td>1961</td>\n",
              "      <td>4950</td>\n",
              "      <td>0</td>\n",
              "      <td>9744</td>\n",
              "      <td>122</td>\n",
              "      <td>6</td>\n",
              "      <td>0</td>\n",
              "      <td>0</td>\n",
              "      <td>0</td>\n",
              "      <td>0</td>\n",
              "      <td>1</td>\n",
              "      <td>0</td>\n",
              "      <td>19486</td>\n",
              "    </tr>\n",
              "    <tr>\n",
              "      <th>2</th>\n",
              "      <td>1962</td>\n",
              "      <td>6148</td>\n",
              "      <td>0</td>\n",
              "      <td>9018</td>\n",
              "      <td>89</td>\n",
              "      <td>15</td>\n",
              "      <td>0</td>\n",
              "      <td>0</td>\n",
              "      <td>0</td>\n",
              "      <td>0</td>\n",
              "      <td>0</td>\n",
              "      <td>0</td>\n",
              "      <td>17663</td>\n",
              "    </tr>\n",
              "    <tr>\n",
              "      <th>3</th>\n",
              "      <td>1963</td>\n",
              "      <td>6986</td>\n",
              "      <td>0</td>\n",
              "      <td>16181</td>\n",
              "      <td>113</td>\n",
              "      <td>19</td>\n",
              "      <td>0</td>\n",
              "      <td>0</td>\n",
              "      <td>0</td>\n",
              "      <td>0</td>\n",
              "      <td>0</td>\n",
              "      <td>0</td>\n",
              "      <td>23024</td>\n",
              "    </tr>\n",
              "    <tr>\n",
              "      <th>4</th>\n",
              "      <td>1964</td>\n",
              "      <td>7321</td>\n",
              "      <td>0</td>\n",
              "      <td>10875</td>\n",
              "      <td>115</td>\n",
              "      <td>12</td>\n",
              "      <td>0</td>\n",
              "      <td>0</td>\n",
              "      <td>0</td>\n",
              "      <td>0</td>\n",
              "      <td>0</td>\n",
              "      <td>0</td>\n",
              "      <td>19677</td>\n",
              "    </tr>\n",
              "    <tr>\n",
              "      <th>...</th>\n",
              "      <td>...</td>\n",
              "      <td>...</td>\n",
              "      <td>...</td>\n",
              "      <td>...</td>\n",
              "      <td>...</td>\n",
              "      <td>...</td>\n",
              "      <td>...</td>\n",
              "      <td>...</td>\n",
              "      <td>...</td>\n",
              "      <td>...</td>\n",
              "      <td>...</td>\n",
              "      <td>...</td>\n",
              "      <td>...</td>\n",
              "    </tr>\n",
              "    <tr>\n",
              "      <th>57</th>\n",
              "      <td>2017</td>\n",
              "      <td>13849</td>\n",
              "      <td>230</td>\n",
              "      <td>22000</td>\n",
              "      <td>1004</td>\n",
              "      <td>781</td>\n",
              "      <td>569</td>\n",
              "      <td>318</td>\n",
              "      <td>60</td>\n",
              "      <td>41447</td>\n",
              "      <td>6698</td>\n",
              "      <td>795</td>\n",
              "      <td>24658</td>\n",
              "    </tr>\n",
              "    <tr>\n",
              "      <th>58</th>\n",
              "      <td>2018</td>\n",
              "      <td>9006</td>\n",
              "      <td>602</td>\n",
              "      <td>24380</td>\n",
              "      <td>1006</td>\n",
              "      <td>1090</td>\n",
              "      <td>496</td>\n",
              "      <td>274</td>\n",
              "      <td>71</td>\n",
              "      <td>35863</td>\n",
              "      <td>6814</td>\n",
              "      <td>738</td>\n",
              "      <td>25502</td>\n",
              "    </tr>\n",
              "    <tr>\n",
              "      <th>59</th>\n",
              "      <td>2019</td>\n",
              "      <td>9136</td>\n",
              "      <td>420</td>\n",
              "      <td>24627</td>\n",
              "      <td>1049</td>\n",
              "      <td>978</td>\n",
              "      <td>509</td>\n",
              "      <td>350</td>\n",
              "      <td>75</td>\n",
              "      <td>34485</td>\n",
              "      <td>6534</td>\n",
              "      <td>1621</td>\n",
              "      <td>26276</td>\n",
              "    </tr>\n",
              "    <tr>\n",
              "      <th>60</th>\n",
              "      <td>2020</td>\n",
              "      <td>22000</td>\n",
              "      <td>950</td>\n",
              "      <td>27500</td>\n",
              "      <td>1000</td>\n",
              "      <td>900</td>\n",
              "      <td>2300</td>\n",
              "      <td>300</td>\n",
              "      <td>65</td>\n",
              "      <td>39500</td>\n",
              "      <td>6600</td>\n",
              "      <td>350</td>\n",
              "      <td>26263</td>\n",
              "    </tr>\n",
              "    <tr>\n",
              "      <th>61</th>\n",
              "      <td>2021</td>\n",
              "      <td>20000</td>\n",
              "      <td>1000</td>\n",
              "      <td>23500</td>\n",
              "      <td>1000</td>\n",
              "      <td>900</td>\n",
              "      <td>2200</td>\n",
              "      <td>300</td>\n",
              "      <td>70</td>\n",
              "      <td>40000</td>\n",
              "      <td>6500</td>\n",
              "      <td>550</td>\n",
              "      <td>24494</td>\n",
              "    </tr>\n",
              "  </tbody>\n",
              "</table>\n",
              "<p>62 rows × 13 columns</p>\n",
              "</div>"
            ],
            "text/plain": [
              "   Years  Australia  Brazil  ...  Turkey  United Kingdom  United States\n",
              "0   1960       6456       0  ...       1               0          17799\n",
              "1   1961       4950       0  ...       1               0          19486\n",
              "2   1962       6148       0  ...       0               0          17663\n",
              "3   1963       6986       0  ...       0               0          23024\n",
              "4   1964       7321       0  ...       0               0          19677\n",
              "..   ...        ...     ...  ...     ...             ...            ...\n",
              "57  2017      13849     230  ...    6698             795          24658\n",
              "58  2018       9006     602  ...    6814             738          25502\n",
              "59  2019       9136     420  ...    6534            1621          26276\n",
              "60  2020      22000     950  ...    6600             350          26263\n",
              "61  2021      20000    1000  ...    6500             550          24494\n",
              "\n",
              "[62 rows x 13 columns]"
            ]
          },
          "metadata": {},
          "execution_count": 29
        }
      ]
    },
    {
      "cell_type": "markdown",
      "metadata": {
        "id": "xEBqnql-tQeO"
      },
      "source": [
        "## ***The Top exporter of each Year***"
      ]
    },
    {
      "cell_type": "code",
      "metadata": {
        "colab": {
          "base_uri": "https://localhost:8080/",
          "height": 450
        },
        "id": "myXDWOdDD7jb",
        "outputId": "bf072d5b-5f10-415f-aa8b-c13dc09e98dc"
      },
      "source": [
        "tops_for_year_exportadores=\\\n",
        "(\n",
        "    df_countries_exportadores.reset_index()\n",
        "    .melt(id_vars = [\"Years\"],var_name=\"Countries\",value_name = \"Exportation\")\n",
        "    .sort_values(\"Exportation\", ascending= False)\n",
        "    .drop_duplicates(subset=\"Years\")\n",
        "    .set_index(\"Years\")\n",
        ")\n",
        "tops_for_year_exportadores"
      ],
      "execution_count": 30,
      "outputs": [
        {
          "output_type": "execute_result",
          "data": {
            "text/html": [
              "<div>\n",
              "<style scoped>\n",
              "    .dataframe tbody tr th:only-of-type {\n",
              "        vertical-align: middle;\n",
              "    }\n",
              "\n",
              "    .dataframe tbody tr th {\n",
              "        vertical-align: top;\n",
              "    }\n",
              "\n",
              "    .dataframe thead th {\n",
              "        text-align: right;\n",
              "    }\n",
              "</style>\n",
              "<table border=\"1\" class=\"dataframe\">\n",
              "  <thead>\n",
              "    <tr style=\"text-align: right;\">\n",
              "      <th></th>\n",
              "      <th>Countries</th>\n",
              "      <th>Exportation</th>\n",
              "    </tr>\n",
              "    <tr>\n",
              "      <th>Years</th>\n",
              "      <th></th>\n",
              "      <th></th>\n",
              "    </tr>\n",
              "  </thead>\n",
              "  <tbody>\n",
              "    <tr>\n",
              "      <th>1981</th>\n",
              "      <td>United States</td>\n",
              "      <td>48191</td>\n",
              "    </tr>\n",
              "    <tr>\n",
              "      <th>1987</th>\n",
              "      <td>United States</td>\n",
              "      <td>43215</td>\n",
              "    </tr>\n",
              "    <tr>\n",
              "      <th>2017</th>\n",
              "      <td>Russia</td>\n",
              "      <td>41447</td>\n",
              "    </tr>\n",
              "    <tr>\n",
              "      <th>1980</th>\n",
              "      <td>United States</td>\n",
              "      <td>41200</td>\n",
              "    </tr>\n",
              "    <tr>\n",
              "      <th>1982</th>\n",
              "      <td>United States</td>\n",
              "      <td>41058</td>\n",
              "    </tr>\n",
              "    <tr>\n",
              "      <th>...</th>\n",
              "      <td>...</td>\n",
              "      <td>...</td>\n",
              "    </tr>\n",
              "    <tr>\n",
              "      <th>1960</th>\n",
              "      <td>United States</td>\n",
              "      <td>17799</td>\n",
              "    </tr>\n",
              "    <tr>\n",
              "      <th>1962</th>\n",
              "      <td>United States</td>\n",
              "      <td>17663</td>\n",
              "    </tr>\n",
              "    <tr>\n",
              "      <th>1969</th>\n",
              "      <td>United States</td>\n",
              "      <td>16411</td>\n",
              "    </tr>\n",
              "    <tr>\n",
              "      <th>1971</th>\n",
              "      <td>United States</td>\n",
              "      <td>16311</td>\n",
              "    </tr>\n",
              "    <tr>\n",
              "      <th>1968</th>\n",
              "      <td>United States</td>\n",
              "      <td>14805</td>\n",
              "    </tr>\n",
              "  </tbody>\n",
              "</table>\n",
              "<p>62 rows × 2 columns</p>\n",
              "</div>"
            ],
            "text/plain": [
              "           Countries  Exportation\n",
              "Years                            \n",
              "1981   United States        48191\n",
              "1987   United States        43215\n",
              "2017          Russia        41447\n",
              "1980   United States        41200\n",
              "1982   United States        41058\n",
              "...              ...          ...\n",
              "1960   United States        17799\n",
              "1962   United States        17663\n",
              "1969   United States        16411\n",
              "1971   United States        16311\n",
              "1968   United States        14805\n",
              "\n",
              "[62 rows x 2 columns]"
            ]
          },
          "metadata": {},
          "execution_count": 30
        }
      ]
    },
    {
      "cell_type": "code",
      "metadata": {
        "colab": {
          "base_uri": "https://localhost:8080/",
          "height": 1000
        },
        "id": "7bMwM09v0z6-",
        "outputId": "5865b91a-3add-41b5-e80b-5cfe0b960771"
      },
      "source": [
        "#Plotting the Biggest exporter by Year\n",
        "fig, ax_array2 = plt.subplots(1,1, figsize = (16,18))\n",
        "ax2= ax_array2\n",
        "fig.suptitle(\"The Top Exporter by Year\", size=18)\n",
        "ex_2 = tops_for_year_exportadores.pivot(columns= 'Countries')\n",
        "ex_2.plot.barh(ax=ax2, title= \"Year x Thousand Tonnes Exported\",legend=False,width=0.19, align='edge')\n",
        "ax2.figure.legend(framealpha=1, frameon=False, title =\"Type - Country\", handlelength=3.0, handletextpad= 0.8,loc='upper left',bbox_to_anchor=(0.05, 0.85))\n",
        "fig.savefig(f\"{path_to_charts}The Top Exporter by Year.png\",dpi=300)\n"
      ],
      "execution_count": 31,
      "outputs": [
        {
          "output_type": "display_data",
          "data": {
            "image/png": "[encoded data removed]",
            "text/plain": [
              "<Figure size 1152x1296 with 1 Axes>"
            ]
          },
          "metadata": {
            "needs_background": "light"
          }
        }
      ]
    },
    {
      "cell_type": "markdown",
      "metadata": {
        "id": "qtWv-31pt2qm"
      },
      "source": [
        "## **The last-placed exporter at each year**"
      ]
    },
    {
      "cell_type": "markdown",
      "metadata": {
        "id": "sT-imYpnMXaI"
      },
      "source": [
        "Identificando os zeros e eliminando-os para que não ocorra empate nos últimos lugares"
      ]
    },
    {
      "cell_type": "code",
      "metadata": {
        "colab": {
          "base_uri": "https://localhost:8080/"
        },
        "id": "hpyunOsiShNL",
        "outputId": "e0497914-4138-4a1b-ce87-2e9ff61dd012"
      },
      "source": [
        "counting_zeros= (df_countries_exportadores.reset_index().eq(0).sum())\n",
        "counting_zeros"
      ],
      "execution_count": 32,
      "outputs": [
        {
          "output_type": "execute_result",
          "data": {
            "text/plain": [
              "Years              0\n",
              "Australia          0\n",
              "Brazil            32\n",
              "Canada             0\n",
              "China             11\n",
              "Egypt             28\n",
              "India             15\n",
              "Indonesia         30\n",
              "Philippines       40\n",
              "Russia            27\n",
              "Turkey            10\n",
              "United Kingdom    56\n",
              "United States      0\n",
              "dtype: int64"
            ]
          },
          "metadata": {},
          "execution_count": 32
        }
      ]
    },
    {
      "cell_type": "code",
      "metadata": {
        "colab": {
          "base_uri": "https://localhost:8080/"
        },
        "id": "aM7LHnmwTDSn",
        "outputId": "5066e698-8203-4ec8-e44b-cd0e4e2b61fd"
      },
      "source": [
        "counting_no_zeros=df_countries_exportadores.reset_index().astype(bool).sum(axis=0)\n",
        "counting_no_zeros\n",
        "\n"
      ],
      "execution_count": 33,
      "outputs": [
        {
          "output_type": "execute_result",
          "data": {
            "text/plain": [
              "Years             62\n",
              "Australia         62\n",
              "Brazil            30\n",
              "Canada            62\n",
              "China             51\n",
              "Egypt             34\n",
              "India             47\n",
              "Indonesia         32\n",
              "Philippines       22\n",
              "Russia            35\n",
              "Turkey            52\n",
              "United Kingdom     6\n",
              "United States     62\n",
              "dtype: int64"
            ]
          },
          "metadata": {},
          "execution_count": 33
        }
      ]
    },
    {
      "cell_type": "code",
      "metadata": {
        "colab": {
          "base_uri": "https://localhost:8080/"
        },
        "id": "k_ola04MaIjq",
        "outputId": "9112632f-0d7e-4669-f2bb-1f7d9bbf6d03"
      },
      "source": [
        "lista =[]\n",
        "\n",
        "for i,v in counting_no_zeros.iteritems():\n",
        "  if v !=0:\n",
        "    lista.append(i)\n",
        "\n",
        "\n",
        "print(lista)\n"
      ],
      "execution_count": 34,
      "outputs": [
        {
          "output_type": "stream",
          "name": "stdout",
          "text": [
            "['Years', 'Australia', 'Brazil', 'Canada', 'China', 'Egypt', 'India', 'Indonesia', 'Philippines', 'Russia', 'Turkey', 'United Kingdom', 'United States']\n"
          ]
        }
      ]
    },
    {
      "cell_type": "code",
      "metadata": {
        "colab": {
          "base_uri": "https://localhost:8080/",
          "height": 419
        },
        "id": "QLM-YsrYaz-C",
        "outputId": "03feb2f6-3c3a-43cd-e85b-d021155b77fa"
      },
      "source": [
        "last_for_years_exportadores=\\\n",
        "(\n",
        "    #dataframe original\n",
        "    df_countries_exportadores.reset_index()\n",
        "    #filtering years and countries that have no zero in the entire column\n",
        "    .filter(items=lista)\n",
        "    #unpivoting\n",
        "    .melt(id_vars = [\"Years\"],var_name=\"Countries\",value_name = \"Exportation\")\n",
        "    #sorting_values\n",
        "    .sort_values([\"Years\",\"Exportation\"], ascending= [False,True])\n",
        "  )\n",
        "    \n",
        "last_for_years_exportadores\n",
        "\n",
        "                \n",
        "\n",
        "\n"
      ],
      "execution_count": 35,
      "outputs": [
        {
          "output_type": "execute_result",
          "data": {
            "text/html": [
              "<div>\n",
              "<style scoped>\n",
              "    .dataframe tbody tr th:only-of-type {\n",
              "        vertical-align: middle;\n",
              "    }\n",
              "\n",
              "    .dataframe tbody tr th {\n",
              "        vertical-align: top;\n",
              "    }\n",
              "\n",
              "    .dataframe thead th {\n",
              "        text-align: right;\n",
              "    }\n",
              "</style>\n",
              "<table border=\"1\" class=\"dataframe\">\n",
              "  <thead>\n",
              "    <tr style=\"text-align: right;\">\n",
              "      <th></th>\n",
              "      <th>Years</th>\n",
              "      <th>Countries</th>\n",
              "      <th>Exportation</th>\n",
              "    </tr>\n",
              "  </thead>\n",
              "  <tbody>\n",
              "    <tr>\n",
              "      <th>495</th>\n",
              "      <td>2021</td>\n",
              "      <td>Philippines</td>\n",
              "      <td>70</td>\n",
              "    </tr>\n",
              "    <tr>\n",
              "      <th>433</th>\n",
              "      <td>2021</td>\n",
              "      <td>Indonesia</td>\n",
              "      <td>300</td>\n",
              "    </tr>\n",
              "    <tr>\n",
              "      <th>681</th>\n",
              "      <td>2021</td>\n",
              "      <td>United Kingdom</td>\n",
              "      <td>550</td>\n",
              "    </tr>\n",
              "    <tr>\n",
              "      <th>309</th>\n",
              "      <td>2021</td>\n",
              "      <td>Egypt</td>\n",
              "      <td>900</td>\n",
              "    </tr>\n",
              "    <tr>\n",
              "      <th>123</th>\n",
              "      <td>2021</td>\n",
              "      <td>Brazil</td>\n",
              "      <td>1000</td>\n",
              "    </tr>\n",
              "    <tr>\n",
              "      <th>...</th>\n",
              "      <td>...</td>\n",
              "      <td>...</td>\n",
              "      <td>...</td>\n",
              "    </tr>\n",
              "    <tr>\n",
              "      <th>186</th>\n",
              "      <td>1960</td>\n",
              "      <td>China</td>\n",
              "      <td>2</td>\n",
              "    </tr>\n",
              "    <tr>\n",
              "      <th>248</th>\n",
              "      <td>1960</td>\n",
              "      <td>Egypt</td>\n",
              "      <td>5</td>\n",
              "    </tr>\n",
              "    <tr>\n",
              "      <th>0</th>\n",
              "      <td>1960</td>\n",
              "      <td>Australia</td>\n",
              "      <td>6456</td>\n",
              "    </tr>\n",
              "    <tr>\n",
              "      <th>124</th>\n",
              "      <td>1960</td>\n",
              "      <td>Canada</td>\n",
              "      <td>9614</td>\n",
              "    </tr>\n",
              "    <tr>\n",
              "      <th>682</th>\n",
              "      <td>1960</td>\n",
              "      <td>United States</td>\n",
              "      <td>17799</td>\n",
              "    </tr>\n",
              "  </tbody>\n",
              "</table>\n",
              "<p>744 rows × 3 columns</p>\n",
              "</div>"
            ],
            "text/plain": [
              "    Years       Countries  Exportation\n",
              "495  2021     Philippines           70\n",
              "433  2021       Indonesia          300\n",
              "681  2021  United Kingdom          550\n",
              "309  2021           Egypt          900\n",
              "123  2021          Brazil         1000\n",
              "..    ...             ...          ...\n",
              "186  1960           China            2\n",
              "248  1960           Egypt            5\n",
              "0    1960       Australia         6456\n",
              "124  1960          Canada         9614\n",
              "682  1960   United States        17799\n",
              "\n",
              "[744 rows x 3 columns]"
            ]
          },
          "metadata": {},
          "execution_count": 35
        }
      ]
    },
    {
      "cell_type": "code",
      "metadata": {
        "colab": {
          "base_uri": "https://localhost:8080/",
          "height": 450
        },
        "id": "ofkPVrh4RxmS",
        "outputId": "52e4dbe8-5f09-49de-947b-fe7e104c0698"
      },
      "source": [
        "last_for_years_exportadores=\\\n",
        "(\n",
        "    last_for_years_exportadores.loc[last_for_years_exportadores[\"Exportation\"]>0,:]\n",
        "    #drop duplicates\n",
        "    .drop_duplicates(subset=\"Years\")\n",
        "    #setting the index\n",
        "    .set_index(\"Years\")\n",
        "\n",
        ")\n",
        "\n",
        "last_for_years_exportadores"
      ],
      "execution_count": 36,
      "outputs": [
        {
          "output_type": "execute_result",
          "data": {
            "text/html": [
              "<div>\n",
              "<style scoped>\n",
              "    .dataframe tbody tr th:only-of-type {\n",
              "        vertical-align: middle;\n",
              "    }\n",
              "\n",
              "    .dataframe tbody tr th {\n",
              "        vertical-align: top;\n",
              "    }\n",
              "\n",
              "    .dataframe thead th {\n",
              "        text-align: right;\n",
              "    }\n",
              "</style>\n",
              "<table border=\"1\" class=\"dataframe\">\n",
              "  <thead>\n",
              "    <tr style=\"text-align: right;\">\n",
              "      <th></th>\n",
              "      <th>Countries</th>\n",
              "      <th>Exportation</th>\n",
              "    </tr>\n",
              "    <tr>\n",
              "      <th>Years</th>\n",
              "      <th></th>\n",
              "      <th></th>\n",
              "    </tr>\n",
              "  </thead>\n",
              "  <tbody>\n",
              "    <tr>\n",
              "      <th>2021</th>\n",
              "      <td>Philippines</td>\n",
              "      <td>70</td>\n",
              "    </tr>\n",
              "    <tr>\n",
              "      <th>2020</th>\n",
              "      <td>Philippines</td>\n",
              "      <td>65</td>\n",
              "    </tr>\n",
              "    <tr>\n",
              "      <th>2019</th>\n",
              "      <td>Philippines</td>\n",
              "      <td>75</td>\n",
              "    </tr>\n",
              "    <tr>\n",
              "      <th>2018</th>\n",
              "      <td>Philippines</td>\n",
              "      <td>71</td>\n",
              "    </tr>\n",
              "    <tr>\n",
              "      <th>2017</th>\n",
              "      <td>Philippines</td>\n",
              "      <td>60</td>\n",
              "    </tr>\n",
              "    <tr>\n",
              "      <th>...</th>\n",
              "      <td>...</td>\n",
              "      <td>...</td>\n",
              "    </tr>\n",
              "    <tr>\n",
              "      <th>1964</th>\n",
              "      <td>Egypt</td>\n",
              "      <td>12</td>\n",
              "    </tr>\n",
              "    <tr>\n",
              "      <th>1963</th>\n",
              "      <td>Egypt</td>\n",
              "      <td>19</td>\n",
              "    </tr>\n",
              "    <tr>\n",
              "      <th>1962</th>\n",
              "      <td>Egypt</td>\n",
              "      <td>15</td>\n",
              "    </tr>\n",
              "    <tr>\n",
              "      <th>1961</th>\n",
              "      <td>Turkey</td>\n",
              "      <td>1</td>\n",
              "    </tr>\n",
              "    <tr>\n",
              "      <th>1960</th>\n",
              "      <td>Turkey</td>\n",
              "      <td>1</td>\n",
              "    </tr>\n",
              "  </tbody>\n",
              "</table>\n",
              "<p>62 rows × 2 columns</p>\n",
              "</div>"
            ],
            "text/plain": [
              "         Countries  Exportation\n",
              "Years                          \n",
              "2021   Philippines           70\n",
              "2020   Philippines           65\n",
              "2019   Philippines           75\n",
              "2018   Philippines           71\n",
              "2017   Philippines           60\n",
              "...            ...          ...\n",
              "1964         Egypt           12\n",
              "1963         Egypt           19\n",
              "1962         Egypt           15\n",
              "1961        Turkey            1\n",
              "1960        Turkey            1\n",
              "\n",
              "[62 rows x 2 columns]"
            ]
          },
          "metadata": {},
          "execution_count": 36
        }
      ]
    },
    {
      "cell_type": "code",
      "metadata": {
        "colab": {
          "base_uri": "https://localhost:8080/",
          "height": 434
        },
        "id": "_CiWaC8ypBZ_",
        "outputId": "921ebc6b-f48e-45da-972b-d92396c0fa99"
      },
      "source": [
        "fig,ax_t =plt.subplots(1,1,figsize = (10,6))\n",
        "axt=ax_t\n",
        "fig.suptitle(\"Last Placed Exporter by Year\", size=18)\n",
        "squarify.plot(sizes=last_for_years_exportadores['Exportation'], label = last_for_years_exportadores['Countries'])\n",
        "axt.figure.legend(framealpha=1, frameon=False, title =\"Type - Country\", handlelength=3.0, handletextpad= 0.8,loc='upper left',bbox_to_anchor=(0.95, 0.79))"
      ],
      "execution_count": 47,
      "outputs": [
        {
          "output_type": "execute_result",
          "data": {
            "text/plain": [
              "<matplotlib.legend.Legend at 0x7ff545946310>"
            ]
          },
          "metadata": {},
          "execution_count": 47
        },
        {
          "output_type": "display_data",
          "data": {
            "image/png": "[encoded data removed]",
            "text/plain": [
              "<Figure size 720x432 with 1 Axes>"
            ]
          },
          "metadata": {
            "needs_background": "light"
          }
        }
      ]
    },
    {
      "cell_type": "code",
      "metadata": {
        "colab": {
          "base_uri": "https://localhost:8080/",
          "height": 1000
        },
        "id": "PzZzPZsYW7lN",
        "outputId": "120e883e-b5ff-417c-daba-5fb125078ac2"
      },
      "source": [
        "#Plotting the Last placed exporter by Year\n",
        "fig, ax_array3 = plt.subplots(1,1, figsize = (5,18))\n",
        "ax3= ax_array3\n",
        "fig.suptitle(\"Last placed exporter by Year\", size=18)\n",
        "ex_3 = last_for_years_exportadores.pivot(columns= 'Countries')\n",
        "ex_3.plot.barh(ax=ax3, title= \"Year x Thousand Tonnes Exported\",legend=False,width=3.0, align='edge')\n",
        "ax3.figure.legend(framealpha=1, frameon=False, title =\"Type - Country\", handlelength=3.0, handletextpad= 0.8,loc='upper left',bbox_to_anchor=(0.95, 0.79))\n"
      ],
      "execution_count": null,
      "outputs": [
        {
          "output_type": "execute_result",
          "data": {
            "text/plain": [
              "<matplotlib.legend.Legend at 0x7fc7061cf1d0>"
            ]
          },
          "metadata": {},
          "execution_count": 177
        },
        {
          "output_type": "display_data",
          "data": {
            "image/png": "[encoded data removed]",
            "text/plain": [
              "<Figure size 360x1296 with 1 Axes>"
            ]
          },
          "metadata": {
            "needs_background": "light"
          }
        }
      ]
    },
    {
      "cell_type": "code",
      "metadata": {
        "colab": {
          "base_uri": "https://localhost:8080/",
          "height": 638
        },
        "id": "dr3FYVz0Qrdl",
        "outputId": "62d1fe4e-4b6b-45e3-a356-12bd9c5b744c"
      },
      "source": [
        "\n",
        "fig,ax = plt.subplots(figsize=(20,10))\n",
        "\n",
        "df_countries_exportadores.plot.line(ax=ax, title=\"Exportations by year\",)\n"
      ],
      "execution_count": null,
      "outputs": [
        {
          "output_type": "execute_result",
          "data": {
            "text/plain": [
              "<matplotlib.axes._subplots.AxesSubplot at 0x7fc7239a2ad0>"
            ]
          },
          "metadata": {},
          "execution_count": 39
        },
        {
          "output_type": "display_data",
          "data": {
            "image/png": "[encoded data removed]",
            "text/plain": [
              "<Figure size 1440x720 with 1 Axes>"
            ]
          },
          "metadata": {
            "needs_background": "light"
          }
        }
      ]
    },
    {
      "cell_type": "markdown",
      "metadata": {
        "id": "xkBVNxBrN-wX"
      },
      "source": [
        "*Os arquivos estão no mesmo lugar do Colab*"
      ]
    },
    {
      "cell_type": "code",
      "metadata": {
        "id": "ghBPo8MhWFuv"
      },
      "source": [
        "tops_for_year_exportadores.to_csv(\"tops_year_exporter.csv\")\n",
        "last_for_years_exportadores.to_csv(\"last_placed_years_exporter.csv\")"
      ],
      "execution_count": null,
      "outputs": []
    },
    {
      "cell_type": "code",
      "metadata": {
        "id": "TRxKZP3YCpPE"
      },
      "source": [
        "path_to_limpos_trigo ='/content/drive/MyDrive/Trigo_analises/limpos/'\n",
        "df_countries_exportadores.to_csv(f\"{path_to_limpos_trigo} paises_selecionados_exportadores.csv\")"
      ],
      "execution_count": null,
      "outputs": []
    }
  ]
}