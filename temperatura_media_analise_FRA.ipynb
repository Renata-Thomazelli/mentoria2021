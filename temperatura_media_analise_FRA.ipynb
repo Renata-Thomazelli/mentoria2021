{
  "nbformat": 4,
  "nbformat_minor": 0,
  "metadata": {
    "colab": {
      "name": "temperatura_media_analise_FRA.ipynb",
      "provenance": [],
      "collapsed_sections": [],
      "authorship_tag": "ABX9TyNaba/B/XNP2Ryr2n1ffKDS",
      "include_colab_link": true
    },
    "kernelspec": {
      "name": "python3",
      "display_name": "Python 3"
    },
    "language_info": {
      "name": "python"
    }
  },
  "cells": [
    {
      "cell_type": "markdown",
      "metadata": {
        "id": "view-in-github",
        "colab_type": "text"
      },
      "source": [
        "<a href=\"https://colab.research.google.com/github/Renata-Thomazelli/mentoria2021/blob/main/temperatura_media_analise_FRA.ipynb\" target=\"_parent\"><img src=\"https://colab.research.google.com/assets/colab-badge.svg\" alt=\"Open In Colab\"/></a>"
      ]
    },
    {
      "cell_type": "markdown",
      "metadata": {
        "id": "5Ui-eWQwEzAL"
      },
      "source": [
        "# <font color='blue'>**Analisando Temperatura média**<font>\n",
        "\n",
        "**Analisando Temperatura média**\n",
        "\n",
        "\n",
        "---"
      ]
    },
    {
      "cell_type": "markdown",
      "metadata": {
        "id": "pgYphlkNrC0J"
      },
      "source": [
        "##Importing the Data\n",
        "\n",
        "---"
      ]
    },
    {
      "cell_type": "code",
      "metadata": {
        "colab": {
          "base_uri": "https://localhost:8080/"
        },
        "id": "5gnslj1rECdH",
        "outputId": "137300cb-b5ee-4fb0-8016-9e7f7d22446d"
      },
      "source": [
        "# Importing Drive\n",
        "from google.colab import drive\n",
        "\n",
        "drive.mount('/content/drive')"
      ],
      "execution_count": 1,
      "outputs": [
        {
          "output_type": "stream",
          "name": "stdout",
          "text": [
            "Mounted at /content/drive\n"
          ]
        }
      ]
    },
    {
      "cell_type": "code",
      "metadata": {
        "id": "fJaoP1feE9ko"
      },
      "source": [
        "#Importing the packages \n",
        "import pandas as pd\n",
        "import numpy as np\n",
        "import chardet\n",
        "import missingno as msno\n",
        "import matplotlib.pyplot as plt\n",
        "%matplotlib inline"
      ],
      "execution_count": 2,
      "outputs": []
    },
    {
      "cell_type": "markdown",
      "metadata": {
        "id": "ITBqwNDvFGhx"
      },
      "source": [
        "<font color='blue'>  Reading CSV  \n",
        "\n",
        "Reading CSV"
      ]
    },
    {
      "cell_type": "code",
      "metadata": {
        "id": "kbMAfoiSFER4"
      },
      "source": [
        "file_path ='/content/drive/MyDrive/Data_Lake/temperatura_preciptacao/'\n",
        "tipo = 'tas_'\n",
        "anos ='1901_2020_'\n",
        "pais = \"FRA\"\n",
        "\n",
        "file = f\"{tipo}{anos}{pais}.csv\""
      ],
      "execution_count": 3,
      "outputs": []
    },
    {
      "cell_type": "code",
      "metadata": {
        "colab": {
          "base_uri": "https://localhost:8080/"
        },
        "id": "28FmY9rRGO1i",
        "outputId": "5eccc47e-d612-4156-c823-df99884214cd"
      },
      "source": [
        "with open(f\"{file_path}{file}\", 'rb') as encoding:\n",
        "    r_encoding = chardet.detect(encoding.read(100000))\n",
        "r_encoding"
      ],
      "execution_count": 4,
      "outputs": [
        {
          "output_type": "execute_result",
          "data": {
            "text/plain": [
              "{'confidence': 1.0, 'encoding': 'ascii', 'language': ''}"
            ]
          },
          "metadata": {},
          "execution_count": 4
        }
      ]
    },
    {
      "cell_type": "code",
      "metadata": {
        "id": "Mjs-pOIJGjyw"
      },
      "source": [
        "arquivo = f\"{tipo}{pais}\"\n",
        "with open (f\"{file_path}{file}\",'r',encoding=r_encoding['encoding']) as arquivo :\n",
        "  df_tas = pd.read_csv(arquivo)"
      ],
      "execution_count": 5,
      "outputs": []
    },
    {
      "cell_type": "markdown",
      "metadata": {
        "id": "600FfiJFGpHZ"
      },
      "source": [
        "<font color='blue'> DataFrame"
      ]
    },
    {
      "cell_type": "code",
      "metadata": {
        "colab": {
          "base_uri": "https://localhost:8080/",
          "height": 419
        },
        "id": "jEhf_rulGPeA",
        "outputId": "33263ded-6050-4a79-e215-609ab7cecdc3"
      },
      "source": [
        "df_tas"
      ],
      "execution_count": 6,
      "outputs": [
        {
          "output_type": "execute_result",
          "data": {
            "text/html": [
              "<div>\n",
              "<style scoped>\n",
              "    .dataframe tbody tr th:only-of-type {\n",
              "        vertical-align: middle;\n",
              "    }\n",
              "\n",
              "    .dataframe tbody tr th {\n",
              "        vertical-align: top;\n",
              "    }\n",
              "\n",
              "    .dataframe thead th {\n",
              "        text-align: right;\n",
              "    }\n",
              "</style>\n",
              "<table border=\"1\" class=\"dataframe\">\n",
              "  <thead>\n",
              "    <tr style=\"text-align: right;\">\n",
              "      <th></th>\n",
              "      <th>Temperature - (Celsius)</th>\n",
              "      <th>Year</th>\n",
              "      <th>Statistics</th>\n",
              "      <th>Country</th>\n",
              "      <th>ISO3</th>\n",
              "    </tr>\n",
              "  </thead>\n",
              "  <tbody>\n",
              "    <tr>\n",
              "      <th>0</th>\n",
              "      <td>2.0</td>\n",
              "      <td>1901</td>\n",
              "      <td>Jan Average</td>\n",
              "      <td>France</td>\n",
              "      <td>FRA</td>\n",
              "    </tr>\n",
              "    <tr>\n",
              "      <th>1</th>\n",
              "      <td>-0.3</td>\n",
              "      <td>1901</td>\n",
              "      <td>Feb Average</td>\n",
              "      <td>France</td>\n",
              "      <td>FRA</td>\n",
              "    </tr>\n",
              "    <tr>\n",
              "      <th>2</th>\n",
              "      <td>4.5</td>\n",
              "      <td>1901</td>\n",
              "      <td>Mar Average</td>\n",
              "      <td>France</td>\n",
              "      <td>FRA</td>\n",
              "    </tr>\n",
              "    <tr>\n",
              "      <th>3</th>\n",
              "      <td>9.8</td>\n",
              "      <td>1901</td>\n",
              "      <td>Apr Average</td>\n",
              "      <td>France</td>\n",
              "      <td>FRA</td>\n",
              "    </tr>\n",
              "    <tr>\n",
              "      <th>4</th>\n",
              "      <td>12.9</td>\n",
              "      <td>1901</td>\n",
              "      <td>May Average</td>\n",
              "      <td>France</td>\n",
              "      <td>FRA</td>\n",
              "    </tr>\n",
              "    <tr>\n",
              "      <th>...</th>\n",
              "      <td>...</td>\n",
              "      <td>...</td>\n",
              "      <td>...</td>\n",
              "      <td>...</td>\n",
              "      <td>...</td>\n",
              "    </tr>\n",
              "    <tr>\n",
              "      <th>1435</th>\n",
              "      <td>21.2</td>\n",
              "      <td>2020</td>\n",
              "      <td>Aug Average</td>\n",
              "      <td>France</td>\n",
              "      <td>FRA</td>\n",
              "    </tr>\n",
              "    <tr>\n",
              "      <th>1436</th>\n",
              "      <td>17.7</td>\n",
              "      <td>2020</td>\n",
              "      <td>Sep Average</td>\n",
              "      <td>France</td>\n",
              "      <td>FRA</td>\n",
              "    </tr>\n",
              "    <tr>\n",
              "      <th>1437</th>\n",
              "      <td>11.7</td>\n",
              "      <td>2020</td>\n",
              "      <td>Oct Average</td>\n",
              "      <td>France</td>\n",
              "      <td>FRA</td>\n",
              "    </tr>\n",
              "    <tr>\n",
              "      <th>1438</th>\n",
              "      <td>9.1</td>\n",
              "      <td>2020</td>\n",
              "      <td>Nov Average</td>\n",
              "      <td>France</td>\n",
              "      <td>FRA</td>\n",
              "    </tr>\n",
              "    <tr>\n",
              "      <th>1439</th>\n",
              "      <td>5.7</td>\n",
              "      <td>2020</td>\n",
              "      <td>Dec Average</td>\n",
              "      <td>France</td>\n",
              "      <td>FRA</td>\n",
              "    </tr>\n",
              "  </tbody>\n",
              "</table>\n",
              "<p>1440 rows × 5 columns</p>\n",
              "</div>"
            ],
            "text/plain": [
              "      Temperature - (Celsius)   Year    Statistics  Country  ISO3\n",
              "0                         2.0   1901   Jan Average   France   FRA\n",
              "1                        -0.3   1901   Feb Average   France   FRA\n",
              "2                         4.5   1901   Mar Average   France   FRA\n",
              "3                         9.8   1901   Apr Average   France   FRA\n",
              "4                        12.9   1901   May Average   France   FRA\n",
              "...                       ...    ...           ...      ...   ...\n",
              "1435                     21.2   2020   Aug Average   France   FRA\n",
              "1436                     17.7   2020   Sep Average   France   FRA\n",
              "1437                     11.7   2020   Oct Average   France   FRA\n",
              "1438                      9.1   2020   Nov Average   France   FRA\n",
              "1439                      5.7   2020   Dec Average   France   FRA\n",
              "\n",
              "[1440 rows x 5 columns]"
            ]
          },
          "metadata": {},
          "execution_count": 6
        }
      ]
    },
    {
      "cell_type": "code",
      "metadata": {
        "colab": {
          "base_uri": "https://localhost:8080/"
        },
        "id": "dl2UVOODHLNy",
        "outputId": "9e00a2a9-bf8b-4df3-b0b8-1e9966759a26"
      },
      "source": [
        "#Dataframe size\n",
        "df_tas.shape"
      ],
      "execution_count": 7,
      "outputs": [
        {
          "output_type": "execute_result",
          "data": {
            "text/plain": [
              "(1440, 5)"
            ]
          },
          "metadata": {},
          "execution_count": 7
        }
      ]
    },
    {
      "cell_type": "code",
      "metadata": {
        "colab": {
          "base_uri": "https://localhost:8080/"
        },
        "id": "v46JSa5gHs7K",
        "outputId": "fadfd467-4f5a-429f-b4f1-539c23d67630"
      },
      "source": [
        "#Dataframe informations\n",
        "df_tas.info()"
      ],
      "execution_count": 8,
      "outputs": [
        {
          "output_type": "stream",
          "name": "stdout",
          "text": [
            "<class 'pandas.core.frame.DataFrame'>\n",
            "RangeIndex: 1440 entries, 0 to 1439\n",
            "Data columns (total 5 columns):\n",
            " #   Column                   Non-Null Count  Dtype  \n",
            "---  ------                   --------------  -----  \n",
            " 0   Temperature - (Celsius)  1440 non-null   float64\n",
            " 1    Year                    1440 non-null   int64  \n",
            " 2    Statistics              1440 non-null   object \n",
            " 3    Country                 1440 non-null   object \n",
            " 4    ISO3                    1440 non-null   object \n",
            "dtypes: float64(1), int64(1), object(3)\n",
            "memory usage: 56.4+ KB\n"
          ]
        }
      ]
    },
    {
      "cell_type": "code",
      "metadata": {
        "colab": {
          "base_uri": "https://localhost:8080/"
        },
        "id": "DgnCxTQbHU7_",
        "outputId": "f768b71c-fb3f-4889-a157-3ff2a9f4bc31"
      },
      "source": [
        "#identifying coluns's names\n",
        "df_tas.columns"
      ],
      "execution_count": 9,
      "outputs": [
        {
          "output_type": "execute_result",
          "data": {
            "text/plain": [
              "Index(['Temperature - (Celsius)', ' Year', ' Statistics', ' Country', ' ISO3'], dtype='object')"
            ]
          },
          "metadata": {},
          "execution_count": 9
        }
      ]
    },
    {
      "cell_type": "code",
      "metadata": {
        "colab": {
          "base_uri": "https://localhost:8080/",
          "height": 204
        },
        "id": "iPkGqGKBHm3_",
        "outputId": "7bc360dc-e2d2-49f0-89dd-3ce31dc3d570"
      },
      "source": [
        "#cleaning columns names\n",
        "colunas = [c.strip().lower().replace(\" \",\"_\") for c in df_tas.columns]\n",
        "df_tas.columns = colunas\n",
        "   \n",
        "\n",
        "df_tas.head(5)"
      ],
      "execution_count": 10,
      "outputs": [
        {
          "output_type": "execute_result",
          "data": {
            "text/html": [
              "<div>\n",
              "<style scoped>\n",
              "    .dataframe tbody tr th:only-of-type {\n",
              "        vertical-align: middle;\n",
              "    }\n",
              "\n",
              "    .dataframe tbody tr th {\n",
              "        vertical-align: top;\n",
              "    }\n",
              "\n",
              "    .dataframe thead th {\n",
              "        text-align: right;\n",
              "    }\n",
              "</style>\n",
              "<table border=\"1\" class=\"dataframe\">\n",
              "  <thead>\n",
              "    <tr style=\"text-align: right;\">\n",
              "      <th></th>\n",
              "      <th>temperature_-_(celsius)</th>\n",
              "      <th>year</th>\n",
              "      <th>statistics</th>\n",
              "      <th>country</th>\n",
              "      <th>iso3</th>\n",
              "    </tr>\n",
              "  </thead>\n",
              "  <tbody>\n",
              "    <tr>\n",
              "      <th>0</th>\n",
              "      <td>2.0</td>\n",
              "      <td>1901</td>\n",
              "      <td>Jan Average</td>\n",
              "      <td>France</td>\n",
              "      <td>FRA</td>\n",
              "    </tr>\n",
              "    <tr>\n",
              "      <th>1</th>\n",
              "      <td>-0.3</td>\n",
              "      <td>1901</td>\n",
              "      <td>Feb Average</td>\n",
              "      <td>France</td>\n",
              "      <td>FRA</td>\n",
              "    </tr>\n",
              "    <tr>\n",
              "      <th>2</th>\n",
              "      <td>4.5</td>\n",
              "      <td>1901</td>\n",
              "      <td>Mar Average</td>\n",
              "      <td>France</td>\n",
              "      <td>FRA</td>\n",
              "    </tr>\n",
              "    <tr>\n",
              "      <th>3</th>\n",
              "      <td>9.8</td>\n",
              "      <td>1901</td>\n",
              "      <td>Apr Average</td>\n",
              "      <td>France</td>\n",
              "      <td>FRA</td>\n",
              "    </tr>\n",
              "    <tr>\n",
              "      <th>4</th>\n",
              "      <td>12.9</td>\n",
              "      <td>1901</td>\n",
              "      <td>May Average</td>\n",
              "      <td>France</td>\n",
              "      <td>FRA</td>\n",
              "    </tr>\n",
              "  </tbody>\n",
              "</table>\n",
              "</div>"
            ],
            "text/plain": [
              "   temperature_-_(celsius)  year    statistics  country  iso3\n",
              "0                      2.0  1901   Jan Average   France   FRA\n",
              "1                     -0.3  1901   Feb Average   France   FRA\n",
              "2                      4.5  1901   Mar Average   France   FRA\n",
              "3                      9.8  1901   Apr Average   France   FRA\n",
              "4                     12.9  1901   May Average   France   FRA"
            ]
          },
          "metadata": {},
          "execution_count": 10
        }
      ]
    },
    {
      "cell_type": "code",
      "metadata": {
        "colab": {
          "base_uri": "https://localhost:8080/"
        },
        "id": "Ecq75VT-Ns9I",
        "outputId": "056d5b97-ad0f-4b7f-dd5f-f62dceca9bdf"
      },
      "source": [
        "#checking columns' names after modifications\n",
        "df_tas.columns"
      ],
      "execution_count": 11,
      "outputs": [
        {
          "output_type": "execute_result",
          "data": {
            "text/plain": [
              "Index(['temperature_-_(celsius)', 'year', 'statistics', 'country', 'iso3'], dtype='object')"
            ]
          },
          "metadata": {},
          "execution_count": 11
        }
      ]
    },
    {
      "cell_type": "code",
      "metadata": {
        "id": "2hsaz_bCKj1-"
      },
      "source": [
        "#defining a function to replace values inside the index column \n",
        "def replace (col): \n",
        "    return col.replace(\" Average\",'').strip()"
      ],
      "execution_count": 12,
      "outputs": []
    },
    {
      "cell_type": "code",
      "metadata": {
        "id": "jWlf_vRKQsI6"
      },
      "source": [
        " #creating a dict to redefining some columns' names\n",
        " renomeando = {'temperature_-_(celsius)':'tas', 'statistics':'month'}"
      ],
      "execution_count": 13,
      "outputs": []
    },
    {
      "cell_type": "code",
      "metadata": {
        "id": "ZIKE35ghvJXQ"
      },
      "source": [
        "#defining a function to create a conditional new column\n",
        "def year_season(row):\n",
        "    seasons = {\"spring\":[\"Mar\",\"Apr\",\"May\"], 'summer':[\"Jun\",\"Jul\",\"Aug\"],'autumn':['Sep',\"Oct\",\"Nov\"],'winter':[\"Dec\",\"Jan\",\"Feb\"]}\n",
        "    key_list = list(seasons.keys())\n",
        "    val_list = list(seasons.values())\n",
        "    for meses in seasons.values():\n",
        "        for m in meses:\n",
        "            if m == row['month']:\n",
        "                indice =val_list.index(meses)\n",
        "                #print(indice,meses)\n",
        "                #print(key_list[indice])\n",
        "                return key_list[indice]"
      ],
      "execution_count": 14,
      "outputs": []
    },
    {
      "cell_type": "code",
      "metadata": {
        "id": "zSJkh-nTKco6",
        "colab": {
          "base_uri": "https://localhost:8080/",
          "height": 204
        },
        "outputId": "71f7d6cd-7855-414f-93b7-e21ef6198c6f"
      },
      "source": [
        "#Filtering years from 1960 onwards, cleaning and renaming columns\n",
        "df_tas_test_season=\\\n",
        "(\n",
        "    df_tas.loc[df_tas['year']>=1960,:]\n",
        "    .rename(columns=renomeando)\n",
        "    .set_index(\"month\")\n",
        "    .rename(index=replace)\n",
        "    .reset_index()\n",
        "    \n",
        "    \n",
        ")\n",
        "##cleaning string values:\n",
        "df_tas_test_season.loc[::,['country','iso3']]=df_tas_test_season.loc[::,['country','iso3']].applymap(lambda x: x.strip())\n",
        "df_tas_test_season.head()"
      ],
      "execution_count": 15,
      "outputs": [
        {
          "output_type": "execute_result",
          "data": {
            "text/html": [
              "<div>\n",
              "<style scoped>\n",
              "    .dataframe tbody tr th:only-of-type {\n",
              "        vertical-align: middle;\n",
              "    }\n",
              "\n",
              "    .dataframe tbody tr th {\n",
              "        vertical-align: top;\n",
              "    }\n",
              "\n",
              "    .dataframe thead th {\n",
              "        text-align: right;\n",
              "    }\n",
              "</style>\n",
              "<table border=\"1\" class=\"dataframe\">\n",
              "  <thead>\n",
              "    <tr style=\"text-align: right;\">\n",
              "      <th></th>\n",
              "      <th>month</th>\n",
              "      <th>tas</th>\n",
              "      <th>year</th>\n",
              "      <th>country</th>\n",
              "      <th>iso3</th>\n",
              "    </tr>\n",
              "  </thead>\n",
              "  <tbody>\n",
              "    <tr>\n",
              "      <th>0</th>\n",
              "      <td>Jan</td>\n",
              "      <td>3.2</td>\n",
              "      <td>1960</td>\n",
              "      <td>France</td>\n",
              "      <td>FRA</td>\n",
              "    </tr>\n",
              "    <tr>\n",
              "      <th>1</th>\n",
              "      <td>Feb</td>\n",
              "      <td>4.8</td>\n",
              "      <td>1960</td>\n",
              "      <td>France</td>\n",
              "      <td>FRA</td>\n",
              "    </tr>\n",
              "    <tr>\n",
              "      <th>2</th>\n",
              "      <td>Mar</td>\n",
              "      <td>8.0</td>\n",
              "      <td>1960</td>\n",
              "      <td>France</td>\n",
              "      <td>FRA</td>\n",
              "    </tr>\n",
              "    <tr>\n",
              "      <th>3</th>\n",
              "      <td>Apr</td>\n",
              "      <td>9.6</td>\n",
              "      <td>1960</td>\n",
              "      <td>France</td>\n",
              "      <td>FRA</td>\n",
              "    </tr>\n",
              "    <tr>\n",
              "      <th>4</th>\n",
              "      <td>May</td>\n",
              "      <td>14.6</td>\n",
              "      <td>1960</td>\n",
              "      <td>France</td>\n",
              "      <td>FRA</td>\n",
              "    </tr>\n",
              "  </tbody>\n",
              "</table>\n",
              "</div>"
            ],
            "text/plain": [
              "  month   tas  year country iso3\n",
              "0   Jan   3.2  1960  France  FRA\n",
              "1   Feb   4.8  1960  France  FRA\n",
              "2   Mar   8.0  1960  France  FRA\n",
              "3   Apr   9.6  1960  France  FRA\n",
              "4   May  14.6  1960  France  FRA"
            ]
          },
          "metadata": {},
          "execution_count": 15
        }
      ]
    },
    {
      "cell_type": "code",
      "metadata": {
        "colab": {
          "base_uri": "https://localhost:8080/",
          "height": 35
        },
        "id": "fw0_5VO3HhTk",
        "outputId": "c32f3e40-7b65-4941-b442-c6180fe4f91f"
      },
      "source": [
        "df_tas_test_season.iloc[0,3]"
      ],
      "execution_count": 16,
      "outputs": [
        {
          "output_type": "execute_result",
          "data": {
            "application/vnd.google.colaboratory.intrinsic+json": {
              "type": "string"
            },
            "text/plain": [
              "'France'"
            ]
          },
          "metadata": {},
          "execution_count": 16
        }
      ]
    },
    {
      "cell_type": "code",
      "metadata": {
        "id": "OElv1zQv0eYe"
      },
      "source": [
        "#Including the conditional column: season\n",
        "df_tas_season =df_tas_test_season.assign(season = df_tas_test_season.apply(year_season,axis=1))\n",
        "\n"
      ],
      "execution_count": 17,
      "outputs": []
    },
    {
      "cell_type": "code",
      "metadata": {
        "colab": {
          "base_uri": "https://localhost:8080/",
          "height": 419
        },
        "id": "7OQxsYzv2Hb9",
        "outputId": "d7baf82f-d28b-4661-eab2-e36c320197ac"
      },
      "source": [
        "df_tas_season"
      ],
      "execution_count": 18,
      "outputs": [
        {
          "output_type": "execute_result",
          "data": {
            "text/html": [
              "<div>\n",
              "<style scoped>\n",
              "    .dataframe tbody tr th:only-of-type {\n",
              "        vertical-align: middle;\n",
              "    }\n",
              "\n",
              "    .dataframe tbody tr th {\n",
              "        vertical-align: top;\n",
              "    }\n",
              "\n",
              "    .dataframe thead th {\n",
              "        text-align: right;\n",
              "    }\n",
              "</style>\n",
              "<table border=\"1\" class=\"dataframe\">\n",
              "  <thead>\n",
              "    <tr style=\"text-align: right;\">\n",
              "      <th></th>\n",
              "      <th>month</th>\n",
              "      <th>tas</th>\n",
              "      <th>year</th>\n",
              "      <th>country</th>\n",
              "      <th>iso3</th>\n",
              "      <th>season</th>\n",
              "    </tr>\n",
              "  </thead>\n",
              "  <tbody>\n",
              "    <tr>\n",
              "      <th>0</th>\n",
              "      <td>Jan</td>\n",
              "      <td>3.2</td>\n",
              "      <td>1960</td>\n",
              "      <td>France</td>\n",
              "      <td>FRA</td>\n",
              "      <td>winter</td>\n",
              "    </tr>\n",
              "    <tr>\n",
              "      <th>1</th>\n",
              "      <td>Feb</td>\n",
              "      <td>4.8</td>\n",
              "      <td>1960</td>\n",
              "      <td>France</td>\n",
              "      <td>FRA</td>\n",
              "      <td>winter</td>\n",
              "    </tr>\n",
              "    <tr>\n",
              "      <th>2</th>\n",
              "      <td>Mar</td>\n",
              "      <td>8.0</td>\n",
              "      <td>1960</td>\n",
              "      <td>France</td>\n",
              "      <td>FRA</td>\n",
              "      <td>spring</td>\n",
              "    </tr>\n",
              "    <tr>\n",
              "      <th>3</th>\n",
              "      <td>Apr</td>\n",
              "      <td>9.6</td>\n",
              "      <td>1960</td>\n",
              "      <td>France</td>\n",
              "      <td>FRA</td>\n",
              "      <td>spring</td>\n",
              "    </tr>\n",
              "    <tr>\n",
              "      <th>4</th>\n",
              "      <td>May</td>\n",
              "      <td>14.6</td>\n",
              "      <td>1960</td>\n",
              "      <td>France</td>\n",
              "      <td>FRA</td>\n",
              "      <td>spring</td>\n",
              "    </tr>\n",
              "    <tr>\n",
              "      <th>...</th>\n",
              "      <td>...</td>\n",
              "      <td>...</td>\n",
              "      <td>...</td>\n",
              "      <td>...</td>\n",
              "      <td>...</td>\n",
              "      <td>...</td>\n",
              "    </tr>\n",
              "    <tr>\n",
              "      <th>727</th>\n",
              "      <td>Aug</td>\n",
              "      <td>21.2</td>\n",
              "      <td>2020</td>\n",
              "      <td>France</td>\n",
              "      <td>FRA</td>\n",
              "      <td>summer</td>\n",
              "    </tr>\n",
              "    <tr>\n",
              "      <th>728</th>\n",
              "      <td>Sep</td>\n",
              "      <td>17.7</td>\n",
              "      <td>2020</td>\n",
              "      <td>France</td>\n",
              "      <td>FRA</td>\n",
              "      <td>autumn</td>\n",
              "    </tr>\n",
              "    <tr>\n",
              "      <th>729</th>\n",
              "      <td>Oct</td>\n",
              "      <td>11.7</td>\n",
              "      <td>2020</td>\n",
              "      <td>France</td>\n",
              "      <td>FRA</td>\n",
              "      <td>autumn</td>\n",
              "    </tr>\n",
              "    <tr>\n",
              "      <th>730</th>\n",
              "      <td>Nov</td>\n",
              "      <td>9.1</td>\n",
              "      <td>2020</td>\n",
              "      <td>France</td>\n",
              "      <td>FRA</td>\n",
              "      <td>autumn</td>\n",
              "    </tr>\n",
              "    <tr>\n",
              "      <th>731</th>\n",
              "      <td>Dec</td>\n",
              "      <td>5.7</td>\n",
              "      <td>2020</td>\n",
              "      <td>France</td>\n",
              "      <td>FRA</td>\n",
              "      <td>winter</td>\n",
              "    </tr>\n",
              "  </tbody>\n",
              "</table>\n",
              "<p>732 rows × 6 columns</p>\n",
              "</div>"
            ],
            "text/plain": [
              "    month   tas  year country iso3  season\n",
              "0     Jan   3.2  1960  France  FRA  winter\n",
              "1     Feb   4.8  1960  France  FRA  winter\n",
              "2     Mar   8.0  1960  France  FRA  spring\n",
              "3     Apr   9.6  1960  France  FRA  spring\n",
              "4     May  14.6  1960  France  FRA  spring\n",
              "..    ...   ...   ...     ...  ...     ...\n",
              "727   Aug  21.2  2020  France  FRA  summer\n",
              "728   Sep  17.7  2020  France  FRA  autumn\n",
              "729   Oct  11.7  2020  France  FRA  autumn\n",
              "730   Nov   9.1  2020  France  FRA  autumn\n",
              "731   Dec   5.7  2020  France  FRA  winter\n",
              "\n",
              "[732 rows x 6 columns]"
            ]
          },
          "metadata": {},
          "execution_count": 18
        }
      ]
    },
    {
      "cell_type": "code",
      "metadata": {
        "id": "XJq4ONe02LW8",
        "colab": {
          "base_uri": "https://localhost:8080/",
          "height": 664
        },
        "outputId": "355df698-0248-4df9-a48a-696c7cbe3c33"
      },
      "source": [
        "#Verifying NAN values\n",
        "msno.matrix(df_tas_season)"
      ],
      "execution_count": 19,
      "outputs": [
        {
          "output_type": "execute_result",
          "data": {
            "text/plain": [
              "<matplotlib.axes._subplots.AxesSubplot at 0x7fb07b0a7b50>"
            ]
          },
          "metadata": {},
          "execution_count": 19
        },
        {
          "output_type": "display_data",
          "data": {
            "image/png": "[encoded data removed]",
            "text/plain": [
              "<Figure size 1800x720 with 2 Axes>"
            ]
          },
          "metadata": {
            "needs_background": "light"
          }
        }
      ]
    },
    {
      "cell_type": "code",
      "metadata": {
        "id": "pSVxcgVn_QE9"
      },
      "source": [
        "df_tas_season.to_csv(f\"/content/drive/MyDrive/Temperatura_Precipitacao_analises/limpos/tas_temperatura_avg/{tipo}{anos}{pais}_seasons.csv\", index=False)"
      ],
      "execution_count": 20,
      "outputs": []
    },
    {
      "cell_type": "markdown",
      "metadata": {
        "id": "AahQ8imU7q5p"
      },
      "source": [
        "**Improving the memory usage**\n",
        "\n",
        "---"
      ]
    },
    {
      "cell_type": "code",
      "metadata": {
        "colab": {
          "base_uri": "https://localhost:8080/"
        },
        "id": "xWq12DeiwoWn",
        "outputId": "90e08a04-954e-4564-fc36-2a1a2b11d9bc"
      },
      "source": [
        "#Verifying the shape\n",
        "df_tas_season.shape\n"
      ],
      "execution_count": 21,
      "outputs": [
        {
          "output_type": "execute_result",
          "data": {
            "text/plain": [
              "(732, 6)"
            ]
          },
          "metadata": {},
          "execution_count": 21
        }
      ]
    },
    {
      "cell_type": "code",
      "metadata": {
        "colab": {
          "base_uri": "https://localhost:8080/"
        },
        "id": "DMXaIEhJwuZ1",
        "outputId": "a0351c57-d59d-40ae-f5cc-dd665cd77374"
      },
      "source": [
        "#Verifying types and memory usage\n",
        "original_info = df_tas_season.info()"
      ],
      "execution_count": 22,
      "outputs": [
        {
          "output_type": "stream",
          "name": "stdout",
          "text": [
            "<class 'pandas.core.frame.DataFrame'>\n",
            "RangeIndex: 732 entries, 0 to 731\n",
            "Data columns (total 6 columns):\n",
            " #   Column   Non-Null Count  Dtype  \n",
            "---  ------   --------------  -----  \n",
            " 0   month    732 non-null    object \n",
            " 1   tas      732 non-null    float64\n",
            " 2   year     732 non-null    int64  \n",
            " 3   country  732 non-null    object \n",
            " 4   iso3     732 non-null    object \n",
            " 5   season   732 non-null    object \n",
            "dtypes: float64(1), int64(1), object(4)\n",
            "memory usage: 34.4+ KB\n"
          ]
        }
      ]
    },
    {
      "cell_type": "code",
      "metadata": {
        "id": "BOzbWk0Ow2Dd"
      },
      "source": [
        "#Verifying memory usage\n",
        "original_mem = df_tas_season.memory_usage(deep=True)\n"
      ],
      "execution_count": 23,
      "outputs": []
    },
    {
      "cell_type": "code",
      "metadata": {
        "colab": {
          "base_uri": "https://localhost:8080/"
        },
        "id": "1RGtPlZTzQPM",
        "outputId": "deecad6e-9dc0-4552-c5cb-3e650630434c"
      },
      "source": [
        "#Checking the low cardinality\n",
        "df_tas_season.select_dtypes(include=[\"object\"]).nunique()"
      ],
      "execution_count": 24,
      "outputs": [
        {
          "output_type": "execute_result",
          "data": {
            "text/plain": [
              "month      12\n",
              "country     1\n",
              "iso3        1\n",
              "season      4\n",
              "dtype: int64"
            ]
          },
          "metadata": {},
          "execution_count": 24
        }
      ]
    },
    {
      "cell_type": "code",
      "metadata": {
        "colab": {
          "base_uri": "https://localhost:8080/",
          "height": 419
        },
        "id": "YYhSvqHv10a8",
        "outputId": "7d5b6c80-baff-4090-9c34-c0138a28ccd3"
      },
      "source": [
        "#Changing the columns types\n",
        "col_to_category = ['month',\"country\",\"iso3\",\"season\"]\n",
        "\n",
        "df_tas_season[\"year\"]= df_tas_season[\"year\"].astype(\"int32\")\n",
        "df_tas_season[col_to_category]=df_tas_season[col_to_category].astype(\"category\")\n",
        "\n",
        "df_tas_season"
      ],
      "execution_count": 25,
      "outputs": [
        {
          "output_type": "execute_result",
          "data": {
            "text/html": [
              "<div>\n",
              "<style scoped>\n",
              "    .dataframe tbody tr th:only-of-type {\n",
              "        vertical-align: middle;\n",
              "    }\n",
              "\n",
              "    .dataframe tbody tr th {\n",
              "        vertical-align: top;\n",
              "    }\n",
              "\n",
              "    .dataframe thead th {\n",
              "        text-align: right;\n",
              "    }\n",
              "</style>\n",
              "<table border=\"1\" class=\"dataframe\">\n",
              "  <thead>\n",
              "    <tr style=\"text-align: right;\">\n",
              "      <th></th>\n",
              "      <th>month</th>\n",
              "      <th>tas</th>\n",
              "      <th>year</th>\n",
              "      <th>country</th>\n",
              "      <th>iso3</th>\n",
              "      <th>season</th>\n",
              "    </tr>\n",
              "  </thead>\n",
              "  <tbody>\n",
              "    <tr>\n",
              "      <th>0</th>\n",
              "      <td>Jan</td>\n",
              "      <td>3.2</td>\n",
              "      <td>1960</td>\n",
              "      <td>France</td>\n",
              "      <td>FRA</td>\n",
              "      <td>winter</td>\n",
              "    </tr>\n",
              "    <tr>\n",
              "      <th>1</th>\n",
              "      <td>Feb</td>\n",
              "      <td>4.8</td>\n",
              "      <td>1960</td>\n",
              "      <td>France</td>\n",
              "      <td>FRA</td>\n",
              "      <td>winter</td>\n",
              "    </tr>\n",
              "    <tr>\n",
              "      <th>2</th>\n",
              "      <td>Mar</td>\n",
              "      <td>8.0</td>\n",
              "      <td>1960</td>\n",
              "      <td>France</td>\n",
              "      <td>FRA</td>\n",
              "      <td>spring</td>\n",
              "    </tr>\n",
              "    <tr>\n",
              "      <th>3</th>\n",
              "      <td>Apr</td>\n",
              "      <td>9.6</td>\n",
              "      <td>1960</td>\n",
              "      <td>France</td>\n",
              "      <td>FRA</td>\n",
              "      <td>spring</td>\n",
              "    </tr>\n",
              "    <tr>\n",
              "      <th>4</th>\n",
              "      <td>May</td>\n",
              "      <td>14.6</td>\n",
              "      <td>1960</td>\n",
              "      <td>France</td>\n",
              "      <td>FRA</td>\n",
              "      <td>spring</td>\n",
              "    </tr>\n",
              "    <tr>\n",
              "      <th>...</th>\n",
              "      <td>...</td>\n",
              "      <td>...</td>\n",
              "      <td>...</td>\n",
              "      <td>...</td>\n",
              "      <td>...</td>\n",
              "      <td>...</td>\n",
              "    </tr>\n",
              "    <tr>\n",
              "      <th>727</th>\n",
              "      <td>Aug</td>\n",
              "      <td>21.2</td>\n",
              "      <td>2020</td>\n",
              "      <td>France</td>\n",
              "      <td>FRA</td>\n",
              "      <td>summer</td>\n",
              "    </tr>\n",
              "    <tr>\n",
              "      <th>728</th>\n",
              "      <td>Sep</td>\n",
              "      <td>17.7</td>\n",
              "      <td>2020</td>\n",
              "      <td>France</td>\n",
              "      <td>FRA</td>\n",
              "      <td>autumn</td>\n",
              "    </tr>\n",
              "    <tr>\n",
              "      <th>729</th>\n",
              "      <td>Oct</td>\n",
              "      <td>11.7</td>\n",
              "      <td>2020</td>\n",
              "      <td>France</td>\n",
              "      <td>FRA</td>\n",
              "      <td>autumn</td>\n",
              "    </tr>\n",
              "    <tr>\n",
              "      <th>730</th>\n",
              "      <td>Nov</td>\n",
              "      <td>9.1</td>\n",
              "      <td>2020</td>\n",
              "      <td>France</td>\n",
              "      <td>FRA</td>\n",
              "      <td>autumn</td>\n",
              "    </tr>\n",
              "    <tr>\n",
              "      <th>731</th>\n",
              "      <td>Dec</td>\n",
              "      <td>5.7</td>\n",
              "      <td>2020</td>\n",
              "      <td>France</td>\n",
              "      <td>FRA</td>\n",
              "      <td>winter</td>\n",
              "    </tr>\n",
              "  </tbody>\n",
              "</table>\n",
              "<p>732 rows × 6 columns</p>\n",
              "</div>"
            ],
            "text/plain": [
              "    month   tas  year country iso3  season\n",
              "0     Jan   3.2  1960  France  FRA  winter\n",
              "1     Feb   4.8  1960  France  FRA  winter\n",
              "2     Mar   8.0  1960  France  FRA  spring\n",
              "3     Apr   9.6  1960  France  FRA  spring\n",
              "4     May  14.6  1960  France  FRA  spring\n",
              "..    ...   ...   ...     ...  ...     ...\n",
              "727   Aug  21.2  2020  France  FRA  summer\n",
              "728   Sep  17.7  2020  France  FRA  autumn\n",
              "729   Oct  11.7  2020  France  FRA  autumn\n",
              "730   Nov   9.1  2020  France  FRA  autumn\n",
              "731   Dec   5.7  2020  France  FRA  winter\n",
              "\n",
              "[732 rows x 6 columns]"
            ]
          },
          "metadata": {},
          "execution_count": 25
        }
      ]
    },
    {
      "cell_type": "markdown",
      "metadata": {
        "id": "nRNWnyol7amc"
      },
      "source": [
        "Comparing Memory Usage\n"
      ]
    },
    {
      "cell_type": "code",
      "metadata": {
        "id": "FPpsHIaI2_U9"
      },
      "source": [
        "#Verifying new memory usage\n",
        "new_memory = df_tas_season.memory_usage(deep=True)\n"
      ],
      "execution_count": 26,
      "outputs": []
    },
    {
      "cell_type": "code",
      "metadata": {
        "colab": {
          "base_uri": "https://localhost:8080/"
        },
        "id": "YnTrlDPZ3FBs",
        "outputId": "7263bbf8-af56-4ad7-8bc5-239a45f88431"
      },
      "source": [
        "# Comparying memory usage\n",
        "old_value ='\\033[91m'\n",
        "new_value ='\\033[1;32m'\n",
        "normal_value = '\\033[0m'\n",
        "print(old_value + \"This is the original memory usage\" + normal_value)\n",
        "print(original_mem)\n",
        "print(new_value + \"\\nAnd this is the new memory usage\" + normal_value)\n",
        "print(new_memory)\n"
      ],
      "execution_count": 27,
      "outputs": [
        {
          "output_type": "stream",
          "name": "stdout",
          "text": [
            "\u001b[91mThis is the original memory usage\u001b[0m\n",
            "Index        128\n",
            "month      43920\n",
            "tas         5856\n",
            "year        5856\n",
            "country    46116\n",
            "iso3       43920\n",
            "season     46116\n",
            "dtype: int64\n",
            "\u001b[1;32m\n",
            "And this is the new memory usage\u001b[0m\n",
            "Index       128\n",
            "month      1772\n",
            "tas        5856\n",
            "year       2928\n",
            "country     875\n",
            "iso3        872\n",
            "season     1144\n",
            "dtype: int64\n"
          ]
        }
      ]
    },
    {
      "cell_type": "code",
      "metadata": {
        "colab": {
          "base_uri": "https://localhost:8080/"
        },
        "id": "fESGgRgI7RWS",
        "outputId": "a8197264-5da4-43e2-b83a-4bafc10d66ba"
      },
      "source": [
        "#Checking new info data\n",
        "new_info = df_tas_season.info()\n"
      ],
      "execution_count": 28,
      "outputs": [
        {
          "output_type": "stream",
          "name": "stdout",
          "text": [
            "<class 'pandas.core.frame.DataFrame'>\n",
            "RangeIndex: 732 entries, 0 to 731\n",
            "Data columns (total 6 columns):\n",
            " #   Column   Non-Null Count  Dtype   \n",
            "---  ------   --------------  -----   \n",
            " 0   month    732 non-null    category\n",
            " 1   tas      732 non-null    float64 \n",
            " 2   year     732 non-null    int32   \n",
            " 3   country  732 non-null    category\n",
            " 4   iso3     732 non-null    category\n",
            " 5   season   732 non-null    category\n",
            "dtypes: category(4), float64(1), int32(1)\n",
            "memory usage: 12.3 KB\n"
          ]
        }
      ]
    },
    {
      "cell_type": "code",
      "metadata": {
        "colab": {
          "base_uri": "https://localhost:8080/"
        },
        "id": "m7zwS4rOXzkq",
        "outputId": "dba8bc13-2d80-473b-919c-74631fb1dace"
      },
      "source": [
        "#Checking the describe method\n",
        "df_tas_season['tas'].describe().T"
      ],
      "execution_count": 29,
      "outputs": [
        {
          "output_type": "execute_result",
          "data": {
            "text/plain": [
              "count    732.000000\n",
              "mean      11.126639\n",
              "std        5.729480\n",
              "min       -1.700000\n",
              "25%        6.200000\n",
              "50%       10.750000\n",
              "75%       16.400000\n",
              "max       22.800000\n",
              "Name: tas, dtype: float64"
            ]
          },
          "metadata": {},
          "execution_count": 29
        }
      ]
    },
    {
      "cell_type": "markdown",
      "metadata": {
        "id": "802XbvRE6VdE"
      },
      "source": [
        "##  *PLOTTING YEARS*"
      ]
    },
    {
      "cell_type": "code",
      "metadata": {
        "id": "tfEMMprOsRvb",
        "colab": {
          "base_uri": "https://localhost:8080/",
          "height": 450
        },
        "outputId": "f559330b-1776-45bf-b187-c79a9b1c90be"
      },
      "source": [
        "#Defining the df to chart\n",
        "df_tas_season_chart =\\\n",
        "(\n",
        "    df_tas_season.set_index(\"month\")\n",
        ")\n",
        "\n",
        "df_tas_season_chart"
      ],
      "execution_count": 30,
      "outputs": [
        {
          "output_type": "execute_result",
          "data": {
            "text/html": [
              "<div>\n",
              "<style scoped>\n",
              "    .dataframe tbody tr th:only-of-type {\n",
              "        vertical-align: middle;\n",
              "    }\n",
              "\n",
              "    .dataframe tbody tr th {\n",
              "        vertical-align: top;\n",
              "    }\n",
              "\n",
              "    .dataframe thead th {\n",
              "        text-align: right;\n",
              "    }\n",
              "</style>\n",
              "<table border=\"1\" class=\"dataframe\">\n",
              "  <thead>\n",
              "    <tr style=\"text-align: right;\">\n",
              "      <th></th>\n",
              "      <th>tas</th>\n",
              "      <th>year</th>\n",
              "      <th>country</th>\n",
              "      <th>iso3</th>\n",
              "      <th>season</th>\n",
              "    </tr>\n",
              "    <tr>\n",
              "      <th>month</th>\n",
              "      <th></th>\n",
              "      <th></th>\n",
              "      <th></th>\n",
              "      <th></th>\n",
              "      <th></th>\n",
              "    </tr>\n",
              "  </thead>\n",
              "  <tbody>\n",
              "    <tr>\n",
              "      <th>Jan</th>\n",
              "      <td>3.2</td>\n",
              "      <td>1960</td>\n",
              "      <td>France</td>\n",
              "      <td>FRA</td>\n",
              "      <td>winter</td>\n",
              "    </tr>\n",
              "    <tr>\n",
              "      <th>Feb</th>\n",
              "      <td>4.8</td>\n",
              "      <td>1960</td>\n",
              "      <td>France</td>\n",
              "      <td>FRA</td>\n",
              "      <td>winter</td>\n",
              "    </tr>\n",
              "    <tr>\n",
              "      <th>Mar</th>\n",
              "      <td>8.0</td>\n",
              "      <td>1960</td>\n",
              "      <td>France</td>\n",
              "      <td>FRA</td>\n",
              "      <td>spring</td>\n",
              "    </tr>\n",
              "    <tr>\n",
              "      <th>Apr</th>\n",
              "      <td>9.6</td>\n",
              "      <td>1960</td>\n",
              "      <td>France</td>\n",
              "      <td>FRA</td>\n",
              "      <td>spring</td>\n",
              "    </tr>\n",
              "    <tr>\n",
              "      <th>May</th>\n",
              "      <td>14.6</td>\n",
              "      <td>1960</td>\n",
              "      <td>France</td>\n",
              "      <td>FRA</td>\n",
              "      <td>spring</td>\n",
              "    </tr>\n",
              "    <tr>\n",
              "      <th>...</th>\n",
              "      <td>...</td>\n",
              "      <td>...</td>\n",
              "      <td>...</td>\n",
              "      <td>...</td>\n",
              "      <td>...</td>\n",
              "    </tr>\n",
              "    <tr>\n",
              "      <th>Aug</th>\n",
              "      <td>21.2</td>\n",
              "      <td>2020</td>\n",
              "      <td>France</td>\n",
              "      <td>FRA</td>\n",
              "      <td>summer</td>\n",
              "    </tr>\n",
              "    <tr>\n",
              "      <th>Sep</th>\n",
              "      <td>17.7</td>\n",
              "      <td>2020</td>\n",
              "      <td>France</td>\n",
              "      <td>FRA</td>\n",
              "      <td>autumn</td>\n",
              "    </tr>\n",
              "    <tr>\n",
              "      <th>Oct</th>\n",
              "      <td>11.7</td>\n",
              "      <td>2020</td>\n",
              "      <td>France</td>\n",
              "      <td>FRA</td>\n",
              "      <td>autumn</td>\n",
              "    </tr>\n",
              "    <tr>\n",
              "      <th>Nov</th>\n",
              "      <td>9.1</td>\n",
              "      <td>2020</td>\n",
              "      <td>France</td>\n",
              "      <td>FRA</td>\n",
              "      <td>autumn</td>\n",
              "    </tr>\n",
              "    <tr>\n",
              "      <th>Dec</th>\n",
              "      <td>5.7</td>\n",
              "      <td>2020</td>\n",
              "      <td>France</td>\n",
              "      <td>FRA</td>\n",
              "      <td>winter</td>\n",
              "    </tr>\n",
              "  </tbody>\n",
              "</table>\n",
              "<p>732 rows × 5 columns</p>\n",
              "</div>"
            ],
            "text/plain": [
              "        tas  year country iso3  season\n",
              "month                                 \n",
              "Jan     3.2  1960  France  FRA  winter\n",
              "Feb     4.8  1960  France  FRA  winter\n",
              "Mar     8.0  1960  France  FRA  spring\n",
              "Apr     9.6  1960  France  FRA  spring\n",
              "May    14.6  1960  France  FRA  spring\n",
              "...     ...   ...     ...  ...     ...\n",
              "Aug    21.2  2020  France  FRA  summer\n",
              "Sep    17.7  2020  France  FRA  autumn\n",
              "Oct    11.7  2020  France  FRA  autumn\n",
              "Nov     9.1  2020  France  FRA  autumn\n",
              "Dec     5.7  2020  France  FRA  winter\n",
              "\n",
              "[732 rows x 5 columns]"
            ]
          },
          "metadata": {},
          "execution_count": 30
        }
      ]
    },
    {
      "cell_type": "code",
      "metadata": {
        "id": "fS0XHoydGwOz"
      },
      "source": [
        "#Importing the package and defining the colors to plot\n",
        "import matplotlib.dates as mdt\n",
        "blue = '#99ddee'\n",
        "white = '#ffffff'"
      ],
      "execution_count": 31,
      "outputs": []
    },
    {
      "cell_type": "code",
      "metadata": {
        "id": "C7lY59K_Jaia"
      },
      "source": [
        "#Defining the plot's function\n",
        "def plot_year(ax,temp,years):\n",
        "    ax.set_facecolor(blue)\n",
        "    ax.spines['top'].set_visible(False)\n",
        "    ax.spines['right'].set_visible(False)\n",
        "    ax.spines['bottom'].set_visible(False)\n",
        "    ax.spines['left'].set_visible(False)\n",
        "    filtro_1 = df_tas_season_chart.year == y\n",
        "    ax.plot(df_tas_season_chart.index[filtro_1],df_tas_season_chart.loc[filtro_1,'tas'].values)\n",
        "    ax.tick_params(axis='x', colors=white)\n",
        "    ax.tick_params(axis='y', colors=white)\n",
        "    ax.set_ylabel('Celsius Temperature', color=white)\n",
        "    ax.set_title(f\"Year {y}\", color=white, fontweight='bold')\n",
        "    ax.fill_between(df_tas_season_chart.index,min(df_tas_season_chart['tas']), max(df_tas_season_chart['tas'])+5,  facecolor='white' )\n"
      ],
      "execution_count": 32,
      "outputs": []
    },
    {
      "cell_type": "code",
      "metadata": {
        "id": "mMsGORGJ9iT7"
      },
      "source": [
        "df_tas_season_chart_x = df_tas_season_chart.reset_index()"
      ],
      "execution_count": 33,
      "outputs": []
    },
    {
      "cell_type": "code",
      "metadata": {
        "colab": {
          "base_uri": "https://localhost:8080/",
          "height": 1000
        },
        "id": "R6wrJIDcThze",
        "outputId": "1ffdfe1d-f20e-4c18-f088-2d372f002379"
      },
      "source": [
        "#Ploting the years\n",
        "years = range(2000,2020+1)\n",
        "fig, axs = plt.subplots(ncols =3, nrows = int(len(years)/3),figsize=(20,25), linewidth = 5, facecolor = blue)\n",
        "\n",
        "axs = axs.flatten()\n",
        "max_val = None\n",
        "max_data = None\n",
        "max_ax = None\n",
        "for i, y in enumerate(years):\n",
        "\n",
        "    ax= axs[i]\n",
        " \n",
        "    data_1=\\\n",
        "    (\n",
        "        df_tas_season_chart_x.assign(YEAR=pd.to_datetime(df_tas_season_chart_x.year))\n",
        "        .set_index(\"year\")\n",
        "        .loc[y]\n",
        "        .tas\n",
        "        .interpolate()  \n",
        "    )\n",
        " \n",
        "\n",
        "    if max_val is None or max_val < data_1.max():\n",
        "        max_val = data_1.max()\n",
        "        max_data = data_1\n",
        "        max_ax = ax\n",
        "\n",
        "    ax.set_ylim(min(data_1.values), max((data_1.values))+5)\n",
        "    years = {y}\n",
        "    plot_year(ax, data_1, years)\n",
        "\n",
        "\n",
        "fig.suptitle(f'Average Temperature {pais}', color='white', fontweight='bold',fontsize=20 )\n",
        "fig.tight_layout( rect= [0,0.03, 1, 0.95])\n",
        "fig.savefig(f'/content/drive/MyDrive/Temperatura_Precipitacao_analises/charts/tas_temperatura_media/Average Tas Temperature by Year {pais}.png', dpi=300, facecolor=blue)\n",
        "\n"
      ],
      "execution_count": 34,
      "outputs": [
        {
          "output_type": "display_data",
          "data": {
            "image/png": "[encoded data removed]",
            "text/plain": [
              "<Figure size 1440x1800 with 21 Axes>"
            ]
          },
          "metadata": {}
        }
      ]
    },
    {
      "cell_type": "markdown",
      "metadata": {
        "id": "Sfk14hen5-bl"
      },
      "source": [
        "*PLOTTING QUARTILES*"
      ]
    },
    {
      "cell_type": "code",
      "metadata": {
        "id": "QzTFOyt7jCXC"
      },
      "source": [
        "#Defining data to Seasons' Quartile\n",
        "temp_season = ['tas','season']\n",
        "df_temp_season= df_tas_season[temp_season]\n"
      ],
      "execution_count": 35,
      "outputs": []
    },
    {
      "cell_type": "code",
      "metadata": {
        "colab": {
          "base_uri": "https://localhost:8080/",
          "height": 422
        },
        "id": "44Wj6vvbkUtK",
        "outputId": "dd3d48fc-9f8f-406c-ca1e-184ece86a388"
      },
      "source": [
        "#Ploting Quartiles\n",
        "fig,(ax1,ax2)=plt.subplots(1,2,figsize=(20,6))\n",
        "fig.suptitle(f\"Quartiles {pais}\", size=20, y=0.99)\n",
        "df_temp_season.pivot(columns='season').plot.box(ax=ax1,title=\"Seasons' Quartiles\")\n",
        "df_tas_season['tas'].plot.box(ax=ax2, title=\"General Quartile\")\n",
        "fig.savefig(f\"/content/drive/MyDrive/Temperatura_Precipitacao_analises/charts/tas_temperatura_media/{pais} Seasons'Quartiles\")"
      ],
      "execution_count": 36,
      "outputs": [
        {
          "output_type": "display_data",
          "data": {
            "image/png": "[encoded data removed]",
            "text/plain": [
              "<Figure size 1440x432 with 2 Axes>"
            ]
          },
          "metadata": {
            "needs_background": "light"
          }
        }
      ]
    },
    {
      "cell_type": "code",
      "metadata": {
        "colab": {
          "base_uri": "https://localhost:8080/",
          "height": 35
        },
        "id": "I9-RSQxzJF5C",
        "outputId": "6cbd20c4-cd6a-4ad3-986c-5f076ad1411b"
      },
      "source": [
        "country=df_tas_season_chart.iloc[0,2]\n",
        "country"
      ],
      "execution_count": 37,
      "outputs": [
        {
          "output_type": "execute_result",
          "data": {
            "application/vnd.google.colaboratory.intrinsic+json": {
              "type": "string"
            },
            "text/plain": [
              "'France'"
            ]
          },
          "metadata": {},
          "execution_count": 37
        }
      ]
    },
    {
      "cell_type": "code",
      "metadata": {
        "colab": {
          "base_uri": "https://localhost:8080/",
          "height": 35
        },
        "id": "q4MFhxneJI6a",
        "outputId": "2c4d2f58-80ba-432b-a003-2f768be04351"
      },
      "source": [
        "iso3=df_tas_season_chart.iloc[0,3]\n",
        "iso3"
      ],
      "execution_count": 38,
      "outputs": [
        {
          "output_type": "execute_result",
          "data": {
            "application/vnd.google.colaboratory.intrinsic+json": {
              "type": "string"
            },
            "text/plain": [
              "'FRA'"
            ]
          },
          "metadata": {},
          "execution_count": 38
        }
      ]
    },
    {
      "cell_type": "code",
      "metadata": {
        "colab": {
          "base_uri": "https://localhost:8080/",
          "height": 235
        },
        "id": "WUN-rtp8dzRr",
        "outputId": "1699f0e5-0966-4ad0-e746-51d12794cab4"
      },
      "source": [
        "#Defining data to General Quartile\n",
        "general_quartile= df_tas_season['tas'].describe()[['min','25%','50%','75%','max']].round(2).to_frame().assign(country=country).assign(iso3=iso3)\n",
        "general_quartile.index.name='quartil'\n",
        "general_quartile"
      ],
      "execution_count": 39,
      "outputs": [
        {
          "output_type": "execute_result",
          "data": {
            "text/html": [
              "<div>\n",
              "<style scoped>\n",
              "    .dataframe tbody tr th:only-of-type {\n",
              "        vertical-align: middle;\n",
              "    }\n",
              "\n",
              "    .dataframe tbody tr th {\n",
              "        vertical-align: top;\n",
              "    }\n",
              "\n",
              "    .dataframe thead th {\n",
              "        text-align: right;\n",
              "    }\n",
              "</style>\n",
              "<table border=\"1\" class=\"dataframe\">\n",
              "  <thead>\n",
              "    <tr style=\"text-align: right;\">\n",
              "      <th></th>\n",
              "      <th>tas</th>\n",
              "      <th>country</th>\n",
              "      <th>iso3</th>\n",
              "    </tr>\n",
              "    <tr>\n",
              "      <th>quartil</th>\n",
              "      <th></th>\n",
              "      <th></th>\n",
              "      <th></th>\n",
              "    </tr>\n",
              "  </thead>\n",
              "  <tbody>\n",
              "    <tr>\n",
              "      <th>min</th>\n",
              "      <td>-1.70</td>\n",
              "      <td>France</td>\n",
              "      <td>FRA</td>\n",
              "    </tr>\n",
              "    <tr>\n",
              "      <th>25%</th>\n",
              "      <td>6.20</td>\n",
              "      <td>France</td>\n",
              "      <td>FRA</td>\n",
              "    </tr>\n",
              "    <tr>\n",
              "      <th>50%</th>\n",
              "      <td>10.75</td>\n",
              "      <td>France</td>\n",
              "      <td>FRA</td>\n",
              "    </tr>\n",
              "    <tr>\n",
              "      <th>75%</th>\n",
              "      <td>16.40</td>\n",
              "      <td>France</td>\n",
              "      <td>FRA</td>\n",
              "    </tr>\n",
              "    <tr>\n",
              "      <th>max</th>\n",
              "      <td>22.80</td>\n",
              "      <td>France</td>\n",
              "      <td>FRA</td>\n",
              "    </tr>\n",
              "  </tbody>\n",
              "</table>\n",
              "</div>"
            ],
            "text/plain": [
              "           tas country iso3\n",
              "quartil                    \n",
              "min      -1.70  France  FRA\n",
              "25%       6.20  France  FRA\n",
              "50%      10.75  France  FRA\n",
              "75%      16.40  France  FRA\n",
              "max      22.80  France  FRA"
            ]
          },
          "metadata": {},
          "execution_count": 39
        }
      ]
    },
    {
      "cell_type": "code",
      "metadata": {
        "id": "JMiXGDNrGt4f"
      },
      "source": [
        "general_quartile.to_csv(f\"/content/drive/MyDrive/Temperatura_Precipitacao_analises/notebooks/Quartiles/Temp_tas_AVG/{pais}_General_Quartile.csv\")\n"
      ],
      "execution_count": 40,
      "outputs": []
    },
    {
      "cell_type": "code",
      "metadata": {
        "colab": {
          "base_uri": "https://localhost:8080/",
          "height": 235
        },
        "id": "BDZZA1IYNrH1",
        "outputId": "a9858cde-8f83-4c62-b053-27e1cca023aa"
      },
      "source": [
        "seasons_quartiles=\\\n",
        "(\n",
        "    df_temp_season.pivot(columns='season')\n",
        "    .describe()\n",
        "    .loc[['min','25%','50%','75%',\"max\"]]\n",
        "    .round(2)\n",
        " \n",
        "     \n",
        ")\n",
        "seasons_quartiles"
      ],
      "execution_count": 41,
      "outputs": [
        {
          "output_type": "execute_result",
          "data": {
            "text/html": [
              "<div>\n",
              "<style scoped>\n",
              "    .dataframe tbody tr th:only-of-type {\n",
              "        vertical-align: middle;\n",
              "    }\n",
              "\n",
              "    .dataframe tbody tr th {\n",
              "        vertical-align: top;\n",
              "    }\n",
              "\n",
              "    .dataframe thead tr th {\n",
              "        text-align: left;\n",
              "    }\n",
              "</style>\n",
              "<table border=\"1\" class=\"dataframe\">\n",
              "  <thead>\n",
              "    <tr>\n",
              "      <th></th>\n",
              "      <th colspan=\"4\" halign=\"left\">tas</th>\n",
              "    </tr>\n",
              "    <tr>\n",
              "      <th>season</th>\n",
              "      <th>autumn</th>\n",
              "      <th>spring</th>\n",
              "      <th>summer</th>\n",
              "      <th>winter</th>\n",
              "    </tr>\n",
              "  </thead>\n",
              "  <tbody>\n",
              "    <tr>\n",
              "      <th>min</th>\n",
              "      <td>4.10</td>\n",
              "      <td>3.60</td>\n",
              "      <td>14.2</td>\n",
              "      <td>-1.7</td>\n",
              "    </tr>\n",
              "    <tr>\n",
              "      <th>25%</th>\n",
              "      <td>8.30</td>\n",
              "      <td>8.05</td>\n",
              "      <td>17.2</td>\n",
              "      <td>3.1</td>\n",
              "    </tr>\n",
              "    <tr>\n",
              "      <th>50%</th>\n",
              "      <td>12.00</td>\n",
              "      <td>9.70</td>\n",
              "      <td>18.4</td>\n",
              "      <td>4.3</td>\n",
              "    </tr>\n",
              "    <tr>\n",
              "      <th>75%</th>\n",
              "      <td>15.05</td>\n",
              "      <td>12.50</td>\n",
              "      <td>19.7</td>\n",
              "      <td>5.4</td>\n",
              "    </tr>\n",
              "    <tr>\n",
              "      <th>max</th>\n",
              "      <td>18.60</td>\n",
              "      <td>15.80</td>\n",
              "      <td>22.8</td>\n",
              "      <td>8.7</td>\n",
              "    </tr>\n",
              "  </tbody>\n",
              "</table>\n",
              "</div>"
            ],
            "text/plain": [
              "          tas                     \n",
              "season autumn spring summer winter\n",
              "min      4.10   3.60   14.2   -1.7\n",
              "25%      8.30   8.05   17.2    3.1\n",
              "50%     12.00   9.70   18.4    4.3\n",
              "75%     15.05  12.50   19.7    5.4\n",
              "max     18.60  15.80   22.8    8.7"
            ]
          },
          "metadata": {},
          "execution_count": 41
        }
      ]
    },
    {
      "cell_type": "code",
      "metadata": {
        "colab": {
          "base_uri": "https://localhost:8080/",
          "height": 235
        },
        "id": "t1yEvbckJ9Ez",
        "outputId": "78c628fe-d244-49ea-ff1c-0c6c439118de"
      },
      "source": [
        "seasons_quartiles.columns=\\\n",
        "(\n",
        "    seasons_quartiles.columns.droplevel().add_categories(['country','iso3'])\n",
        "       \n",
        ")\n",
        "seasons_quartiles=seasons_quartiles.assign(country=country).assign(iso3=iso3)\n",
        "seasons_quartiles.index.name='quartil'\n",
        "seasons_quartiles"
      ],
      "execution_count": 42,
      "outputs": [
        {
          "output_type": "execute_result",
          "data": {
            "text/html": [
              "<div>\n",
              "<style scoped>\n",
              "    .dataframe tbody tr th:only-of-type {\n",
              "        vertical-align: middle;\n",
              "    }\n",
              "\n",
              "    .dataframe tbody tr th {\n",
              "        vertical-align: top;\n",
              "    }\n",
              "\n",
              "    .dataframe thead th {\n",
              "        text-align: right;\n",
              "    }\n",
              "</style>\n",
              "<table border=\"1\" class=\"dataframe\">\n",
              "  <thead>\n",
              "    <tr style=\"text-align: right;\">\n",
              "      <th>season</th>\n",
              "      <th>autumn</th>\n",
              "      <th>spring</th>\n",
              "      <th>summer</th>\n",
              "      <th>winter</th>\n",
              "      <th>country</th>\n",
              "      <th>iso3</th>\n",
              "    </tr>\n",
              "    <tr>\n",
              "      <th>quartil</th>\n",
              "      <th></th>\n",
              "      <th></th>\n",
              "      <th></th>\n",
              "      <th></th>\n",
              "      <th></th>\n",
              "      <th></th>\n",
              "    </tr>\n",
              "  </thead>\n",
              "  <tbody>\n",
              "    <tr>\n",
              "      <th>min</th>\n",
              "      <td>4.10</td>\n",
              "      <td>3.60</td>\n",
              "      <td>14.2</td>\n",
              "      <td>-1.7</td>\n",
              "      <td>France</td>\n",
              "      <td>FRA</td>\n",
              "    </tr>\n",
              "    <tr>\n",
              "      <th>25%</th>\n",
              "      <td>8.30</td>\n",
              "      <td>8.05</td>\n",
              "      <td>17.2</td>\n",
              "      <td>3.1</td>\n",
              "      <td>France</td>\n",
              "      <td>FRA</td>\n",
              "    </tr>\n",
              "    <tr>\n",
              "      <th>50%</th>\n",
              "      <td>12.00</td>\n",
              "      <td>9.70</td>\n",
              "      <td>18.4</td>\n",
              "      <td>4.3</td>\n",
              "      <td>France</td>\n",
              "      <td>FRA</td>\n",
              "    </tr>\n",
              "    <tr>\n",
              "      <th>75%</th>\n",
              "      <td>15.05</td>\n",
              "      <td>12.50</td>\n",
              "      <td>19.7</td>\n",
              "      <td>5.4</td>\n",
              "      <td>France</td>\n",
              "      <td>FRA</td>\n",
              "    </tr>\n",
              "    <tr>\n",
              "      <th>max</th>\n",
              "      <td>18.60</td>\n",
              "      <td>15.80</td>\n",
              "      <td>22.8</td>\n",
              "      <td>8.7</td>\n",
              "      <td>France</td>\n",
              "      <td>FRA</td>\n",
              "    </tr>\n",
              "  </tbody>\n",
              "</table>\n",
              "</div>"
            ],
            "text/plain": [
              "season   autumn  spring  summer  winter country iso3\n",
              "quartil                                             \n",
              "min        4.10    3.60    14.2    -1.7  France  FRA\n",
              "25%        8.30    8.05    17.2     3.1  France  FRA\n",
              "50%       12.00    9.70    18.4     4.3  France  FRA\n",
              "75%       15.05   12.50    19.7     5.4  France  FRA\n",
              "max       18.60   15.80    22.8     8.7  France  FRA"
            ]
          },
          "metadata": {},
          "execution_count": 42
        }
      ]
    },
    {
      "cell_type": "code",
      "metadata": {
        "id": "s1Utoo0yHNhO"
      },
      "source": [
        "seasons_quartiles.to_csv(f\"/content/drive/MyDrive/Temperatura_Precipitacao_analises/notebooks/Quartiles/Temp_tas_AVG/{pais}_Seasons_Quartiles_tas_Temp.csv\")"
      ],
      "execution_count": 43,
      "outputs": []
    },
    {
      "cell_type": "markdown",
      "metadata": {
        "id": "cfWWh7TObEKT"
      },
      "source": [
        "#Quartiles for Year"
      ]
    },
    {
      "cell_type": "code",
      "metadata": {
        "colab": {
          "base_uri": "https://localhost:8080/",
          "height": 197
        },
        "id": "0YeFF70ebFYp",
        "outputId": "3072c7dd-d026-4556-929e-8bec07df3713"
      },
      "source": [
        "uartiles_for_year =\\\n",
        "(\n",
        "    df_tas_season_chart.pivot(columns='year')\n",
        "    .describe()\n",
        "    .loc[['min','25%','50%','75%',\"max\"]]\n",
        "    .T\n",
        "    .round(2) \n",
        " ).assign(country=country,iso3=iso3,tipo=tipo[:-1]).droplevel(0,0)\n",
        "    \n",
        "quartiles_for_year\n"
      ],
      "execution_count": 44,
      "outputs": [
        {
          "output_type": "error",
          "ename": "NameError",
          "evalue": "ignored",
          "traceback": [
            "\u001b[0;31m---------------------------------------------------------------------------\u001b[0m",
            "\u001b[0;31mNameError\u001b[0m                                 Traceback (most recent call last)",
            "\u001b[0;32m<ipython-input-44-7592095f6e19>\u001b[0m in \u001b[0;36m<module>\u001b[0;34m()\u001b[0m\n\u001b[1;32m      7\u001b[0m  ).assign(country=country,iso3=iso3,tipo=tipo[:-1]).droplevel(0,0)\n\u001b[1;32m      8\u001b[0m \u001b[0;34m\u001b[0m\u001b[0m\n\u001b[0;32m----> 9\u001b[0;31m \u001b[0mquartiles_for_year\u001b[0m\u001b[0;34m\u001b[0m\u001b[0;34m\u001b[0m\u001b[0m\n\u001b[0m",
            "\u001b[0;31mNameError\u001b[0m: name 'quartiles_for_year' is not defined"
          ]
        }
      ]
    },
    {
      "cell_type": "code",
      "metadata": {
        "id": "rIa2bhUdbHD7"
      },
      "source": [
        "\n",
        "path_quartil_year ='/content/drive/MyDrive/Temperatura_Precipitacao_analises/limpos/quartile_for_year/'\n",
        "quartiles_for_year.to_csv(f\"{path_quartil_year}{pais}_quartiles_for_year.csv\")"
      ],
      "execution_count": null,
      "outputs": []
    }
  ]
}