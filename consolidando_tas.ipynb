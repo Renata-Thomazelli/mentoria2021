{
  "nbformat": 4,
  "nbformat_minor": 0,
  "metadata": {
    "colab": {
      "name": "consolidando_tas.ipynb",
      "provenance": [],
      "collapsed_sections": [],
      "mount_file_id": "1f2PoYLZxhI-o30NfDCNr-pUDfuKTVYGj",
      "authorship_tag": "ABX9TyM36Ife8Og2M3cifiEoLfyj",
      "include_colab_link": true
    },
    "kernelspec": {
      "name": "python3",
      "display_name": "Python 3"
    },
    "language_info": {
      "name": "python"
    }
  },
  "cells": [
    {
      "cell_type": "markdown",
      "metadata": {
        "id": "view-in-github",
        "colab_type": "text"
      },
      "source": [
        "<a href=\"https://colab.research.google.com/github/Renata-Thomazelli/mentoria2021/blob/main/consolidando_tas.ipynb\" target=\"_parent\"><img src=\"https://colab.research.google.com/assets/colab-badge.svg\" alt=\"Open In Colab\"/></a>"
      ]
    },
    {
      "cell_type": "code",
      "metadata": {
        "colab": {
          "base_uri": "https://localhost:8080/"
        },
        "id": "svcJKL8PR4MN",
        "outputId": "3e5c6df7-56bb-4c9b-985f-f905c1f5ac1a"
      },
      "source": [
        "# Importing Drive\n",
        "from google.colab import drive\n",
        "\n",
        "drive.mount('/content/drive')"
      ],
      "execution_count": 3,
      "outputs": [
        {
          "output_type": "stream",
          "name": "stdout",
          "text": [
            "Drive already mounted at /content/drive; to attempt to forcibly remount, call drive.mount(\"/content/drive\", force_remount=True).\n"
          ]
        }
      ]
    },
    {
      "cell_type": "code",
      "metadata": {
        "id": "gjhyytEQT6gv"
      },
      "source": [
        "import pandas as pd\n",
        "import numpy as np\n",
        "import chardet\n",
        "import missingno as msno"
      ],
      "execution_count": 4,
      "outputs": []
    },
    {
      "cell_type": "code",
      "metadata": {
        "id": "e27yTsTFSHan"
      },
      "source": [
        "def abrindo_files(pais,tipo):\n",
        "    file_path ='/content/drive/MyDrive/Temperatura_Precipitacao_analises/notebooks/Quartiles/Temp_tas_AVG/'\n",
        "    file = f\"{pais}_General_Quartile.csv\"\n",
        "    with open(f\"{file_path}{file}\", 'rb') as encoding:\n",
        "        r_encoding = chardet.detect(encoding.read(100000))\n",
        "    arquivo = f\"{tipo}{pais}\"\n",
        "    with open (f\"{file_path}{file}\",'r',encoding=r_encoding['encoding']) as arquivo :\n",
        "        df = pd.read_csv(arquivo)\n",
        "        return df\n",
        "\n"
      ],
      "execution_count": 5,
      "outputs": []
    },
    {
      "cell_type": "code",
      "metadata": {
        "id": "KDA8Cg99TdIH"
      },
      "source": [
        "df_1 = abrindo_files('TUR','tas')"
      ],
      "execution_count": 6,
      "outputs": []
    },
    {
      "cell_type": "code",
      "metadata": {
        "colab": {
          "base_uri": "https://localhost:8080/",
          "height": 204
        },
        "id": "CQCqpVDdUFom",
        "outputId": "6756fd53-04cd-411b-8aa2-cce955b8b721"
      },
      "source": [
        "df_1\n"
      ],
      "execution_count": 7,
      "outputs": [
        {
          "output_type": "execute_result",
          "data": {
            "text/html": [
              "<div>\n",
              "<style scoped>\n",
              "    .dataframe tbody tr th:only-of-type {\n",
              "        vertical-align: middle;\n",
              "    }\n",
              "\n",
              "    .dataframe tbody tr th {\n",
              "        vertical-align: top;\n",
              "    }\n",
              "\n",
              "    .dataframe thead th {\n",
              "        text-align: right;\n",
              "    }\n",
              "</style>\n",
              "<table border=\"1\" class=\"dataframe\">\n",
              "  <thead>\n",
              "    <tr style=\"text-align: right;\">\n",
              "      <th></th>\n",
              "      <th>quartil</th>\n",
              "      <th>tas</th>\n",
              "      <th>country</th>\n",
              "      <th>iso3</th>\n",
              "    </tr>\n",
              "  </thead>\n",
              "  <tbody>\n",
              "    <tr>\n",
              "      <th>0</th>\n",
              "      <td>min</td>\n",
              "      <td>-4.80</td>\n",
              "      <td>Turkey</td>\n",
              "      <td>TUR</td>\n",
              "    </tr>\n",
              "    <tr>\n",
              "      <th>1</th>\n",
              "      <td>25%</td>\n",
              "      <td>3.88</td>\n",
              "      <td>Turkey</td>\n",
              "      <td>TUR</td>\n",
              "    </tr>\n",
              "    <tr>\n",
              "      <th>2</th>\n",
              "      <td>50%</td>\n",
              "      <td>11.75</td>\n",
              "      <td>Turkey</td>\n",
              "      <td>TUR</td>\n",
              "    </tr>\n",
              "    <tr>\n",
              "      <th>3</th>\n",
              "      <td>75%</td>\n",
              "      <td>18.72</td>\n",
              "      <td>Turkey</td>\n",
              "      <td>TUR</td>\n",
              "    </tr>\n",
              "    <tr>\n",
              "      <th>4</th>\n",
              "      <td>max</td>\n",
              "      <td>24.60</td>\n",
              "      <td>Turkey</td>\n",
              "      <td>TUR</td>\n",
              "    </tr>\n",
              "  </tbody>\n",
              "</table>\n",
              "</div>"
            ],
            "text/plain": [
              "  quartil    tas country iso3\n",
              "0     min  -4.80  Turkey  TUR\n",
              "1     25%   3.88  Turkey  TUR\n",
              "2     50%  11.75  Turkey  TUR\n",
              "3     75%  18.72  Turkey  TUR\n",
              "4     max  24.60  Turkey  TUR"
            ]
          },
          "metadata": {},
          "execution_count": 7
        }
      ]
    },
    {
      "cell_type": "code",
      "metadata": {
        "id": "g-A3VfDdUGgN"
      },
      "source": [
        "df_2 = abrindo_files('RUS','tas')\n",
        "df_3 = abrindo_files('PHL','tas')\n",
        "df_4 = abrindo_files('IND','tas')\n",
        "df_5 = abrindo_files('GBR','tas')\n",
        "df_6 = abrindo_files('FRA','tas')\n",
        "df_7 = abrindo_files('EGY','tas')\n",
        "df_8 = abrindo_files('DEU','tas')\n",
        "df_9 = abrindo_files('CHN','tas')\n",
        "df_10 = abrindo_files('CAN','tas')\n",
        "df_11 = abrindo_files('USA','tas')\n",
        "df_12 = abrindo_files('BRA','tas')\n",
        "df_13 = abrindo_files('AUS','tas')\n",
        "df_14 = abrindo_files('IDN','tas')"
      ],
      "execution_count": 8,
      "outputs": []
    },
    {
      "cell_type": "code",
      "metadata": {
        "id": "NLPKrCTqV6Gf"
      },
      "source": [
        "frames =[df_1,df_2,df_3,df_4,df_5,df_6,df_7,df_8,df_9,df_10,df_11,df_12,df_13,df_14]"
      ],
      "execution_count": 9,
      "outputs": []
    },
    {
      "cell_type": "code",
      "metadata": {
        "id": "XLs_y6VAWiR4"
      },
      "source": [
        "concatenados =pd.concat(frames)"
      ],
      "execution_count": 10,
      "outputs": []
    },
    {
      "cell_type": "code",
      "metadata": {
        "colab": {
          "base_uri": "https://localhost:8080/",
          "height": 419
        },
        "id": "U2XXFXbQXBjt",
        "outputId": "bf413cfa-1724-4863-bdcb-4a28a78aa411"
      },
      "source": [
        "concatenados"
      ],
      "execution_count": 11,
      "outputs": [
        {
          "output_type": "execute_result",
          "data": {
            "text/html": [
              "<div>\n",
              "<style scoped>\n",
              "    .dataframe tbody tr th:only-of-type {\n",
              "        vertical-align: middle;\n",
              "    }\n",
              "\n",
              "    .dataframe tbody tr th {\n",
              "        vertical-align: top;\n",
              "    }\n",
              "\n",
              "    .dataframe thead th {\n",
              "        text-align: right;\n",
              "    }\n",
              "</style>\n",
              "<table border=\"1\" class=\"dataframe\">\n",
              "  <thead>\n",
              "    <tr style=\"text-align: right;\">\n",
              "      <th></th>\n",
              "      <th>quartil</th>\n",
              "      <th>tas</th>\n",
              "      <th>country</th>\n",
              "      <th>iso3</th>\n",
              "    </tr>\n",
              "  </thead>\n",
              "  <tbody>\n",
              "    <tr>\n",
              "      <th>0</th>\n",
              "      <td>min</td>\n",
              "      <td>-4.80</td>\n",
              "      <td>Turkey</td>\n",
              "      <td>TUR</td>\n",
              "    </tr>\n",
              "    <tr>\n",
              "      <th>1</th>\n",
              "      <td>25%</td>\n",
              "      <td>3.88</td>\n",
              "      <td>Turkey</td>\n",
              "      <td>TUR</td>\n",
              "    </tr>\n",
              "    <tr>\n",
              "      <th>2</th>\n",
              "      <td>50%</td>\n",
              "      <td>11.75</td>\n",
              "      <td>Turkey</td>\n",
              "      <td>TUR</td>\n",
              "    </tr>\n",
              "    <tr>\n",
              "      <th>3</th>\n",
              "      <td>75%</td>\n",
              "      <td>18.72</td>\n",
              "      <td>Turkey</td>\n",
              "      <td>TUR</td>\n",
              "    </tr>\n",
              "    <tr>\n",
              "      <th>4</th>\n",
              "      <td>max</td>\n",
              "      <td>24.60</td>\n",
              "      <td>Turkey</td>\n",
              "      <td>TUR</td>\n",
              "    </tr>\n",
              "    <tr>\n",
              "      <th>...</th>\n",
              "      <td>...</td>\n",
              "      <td>...</td>\n",
              "      <td>...</td>\n",
              "      <td>...</td>\n",
              "    </tr>\n",
              "    <tr>\n",
              "      <th>0</th>\n",
              "      <td>min</td>\n",
              "      <td>24.90</td>\n",
              "      <td>Indonesia</td>\n",
              "      <td>IDN</td>\n",
              "    </tr>\n",
              "    <tr>\n",
              "      <th>1</th>\n",
              "      <td>25%</td>\n",
              "      <td>25.70</td>\n",
              "      <td>Indonesia</td>\n",
              "      <td>IDN</td>\n",
              "    </tr>\n",
              "    <tr>\n",
              "      <th>2</th>\n",
              "      <td>50%</td>\n",
              "      <td>26.00</td>\n",
              "      <td>Indonesia</td>\n",
              "      <td>IDN</td>\n",
              "    </tr>\n",
              "    <tr>\n",
              "      <th>3</th>\n",
              "      <td>75%</td>\n",
              "      <td>26.20</td>\n",
              "      <td>Indonesia</td>\n",
              "      <td>IDN</td>\n",
              "    </tr>\n",
              "    <tr>\n",
              "      <th>4</th>\n",
              "      <td>max</td>\n",
              "      <td>26.90</td>\n",
              "      <td>Indonesia</td>\n",
              "      <td>IDN</td>\n",
              "    </tr>\n",
              "  </tbody>\n",
              "</table>\n",
              "<p>70 rows × 4 columns</p>\n",
              "</div>"
            ],
            "text/plain": [
              "   quartil    tas    country iso3\n",
              "0      min  -4.80     Turkey  TUR\n",
              "1      25%   3.88     Turkey  TUR\n",
              "2      50%  11.75     Turkey  TUR\n",
              "3      75%  18.72     Turkey  TUR\n",
              "4      max  24.60     Turkey  TUR\n",
              "..     ...    ...        ...  ...\n",
              "0      min  24.90  Indonesia  IDN\n",
              "1      25%  25.70  Indonesia  IDN\n",
              "2      50%  26.00  Indonesia  IDN\n",
              "3      75%  26.20  Indonesia  IDN\n",
              "4      max  26.90  Indonesia  IDN\n",
              "\n",
              "[70 rows x 4 columns]"
            ]
          },
          "metadata": {},
          "execution_count": 11
        }
      ]
    },
    {
      "cell_type": "code",
      "metadata": {
        "colab": {
          "base_uri": "https://localhost:8080/"
        },
        "id": "9TG0nraQXUaG",
        "outputId": "241d03e5-e3b0-409f-ca96-455549d6ed8f"
      },
      "source": [
        "concatenados.info()"
      ],
      "execution_count": 12,
      "outputs": [
        {
          "output_type": "stream",
          "name": "stdout",
          "text": [
            "<class 'pandas.core.frame.DataFrame'>\n",
            "Int64Index: 70 entries, 0 to 4\n",
            "Data columns (total 4 columns):\n",
            " #   Column   Non-Null Count  Dtype  \n",
            "---  ------   --------------  -----  \n",
            " 0   quartil  70 non-null     object \n",
            " 1   tas      70 non-null     float64\n",
            " 2   country  70 non-null     object \n",
            " 3   iso3     70 non-null     object \n",
            "dtypes: float64(1), object(3)\n",
            "memory usage: 2.7+ KB\n"
          ]
        }
      ]
    },
    {
      "cell_type": "code",
      "metadata": {
        "colab": {
          "base_uri": "https://localhost:8080/",
          "height": 609
        },
        "id": "c-4UiZ7FXN5t",
        "outputId": "3bfadaf9-abb7-4332-b783-1a4ced42b0f9"
      },
      "source": [
        "msno.matrix(concatenados)"
      ],
      "execution_count": 13,
      "outputs": [
        {
          "output_type": "execute_result",
          "data": {
            "text/plain": [
              "<matplotlib.axes._subplots.AxesSubplot at 0x7f6a6e5458d0>"
            ]
          },
          "metadata": {},
          "execution_count": 13
        },
        {
          "output_type": "display_data",
          "data": {
            "image/png": "[encoded data removed]",
            "text/plain": [
              "<Figure size 1800x720 with 2 Axes>"
            ]
          },
          "metadata": {
            "needs_background": "light"
          }
        }
      ]
    },
    {
      "cell_type": "code",
      "metadata": {
        "id": "7mb4LxV7Xj9g"
      },
      "source": [
        "path ='/content/drive/MyDrive/Temperatura_Precipitacao_analises/limpos/tas_temperatura_avg/'"
      ],
      "execution_count": 14,
      "outputs": []
    },
    {
      "cell_type": "code",
      "metadata": {
        "id": "QqNhpIeOXws1"
      },
      "source": [
        "concatenados.to_csv(f\"{path}tas_avg_consolidado.csv\", index=False)"
      ],
      "execution_count": 15,
      "outputs": []
    }
  ]
}