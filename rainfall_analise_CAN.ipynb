{
  "nbformat": 4,
  "nbformat_minor": 0,
  "metadata": {
    "colab": {
      "name": "rainfall_analise_CAN.ipynb",
      "provenance": [],
      "collapsed_sections": [],
      "authorship_tag": "ABX9TyNocaBzJWhpTm5Y2ofSG5rL",
      "include_colab_link": true
    },
    "kernelspec": {
      "name": "python3",
      "display_name": "Python 3"
    },
    "language_info": {
      "name": "python"
    }
  },
  "cells": [
    {
      "cell_type": "markdown",
      "metadata": {
        "id": "view-in-github",
        "colab_type": "text"
      },
      "source": [
        "<a href=\"https://colab.research.google.com/github/Renata-Thomazelli/mentoria2021/blob/main/rainfall_analise_CAN.ipynb\" target=\"_parent\"><img src=\"https://colab.research.google.com/assets/colab-badge.svg\" alt=\"Open In Colab\"/></a>"
      ]
    },
    {
      "cell_type": "markdown",
      "metadata": {
        "id": "5Ui-eWQwEzAL"
      },
      "source": [
        "# <font color='red'>**Analyzing Rainfall**\n",
        "**Analyzing Rainfall**<font>\n",
        "\n",
        "---"
      ]
    },
    {
      "cell_type": "markdown",
      "metadata": {
        "id": "pgYphlkNrC0J"
      },
      "source": [
        "\n",
        "Importing the Data\n",
        "---"
      ]
    },
    {
      "cell_type": "code",
      "metadata": {
        "colab": {
          "base_uri": "https://localhost:8080/"
        },
        "id": "5gnslj1rECdH",
        "outputId": "ec672129-6180-4e5f-fe7e-9540d17cdedf"
      },
      "source": [
        "# Importing Drive\n",
        "from google.colab import drive\n",
        "\n",
        "drive.mount('/content/drive')"
      ],
      "execution_count": 1,
      "outputs": [
        {
          "output_type": "stream",
          "name": "stdout",
          "text": [
            "Mounted at /content/drive\n"
          ]
        }
      ]
    },
    {
      "cell_type": "code",
      "metadata": {
        "id": "fJaoP1feE9ko"
      },
      "source": [
        "#Importing the packages \n",
        "import pandas as pd\n",
        "import numpy as np\n",
        "import chardet\n",
        "import missingno as msno\n",
        "import matplotlib.pyplot as plt\n",
        "%matplotlib inline"
      ],
      "execution_count": 2,
      "outputs": []
    },
    {
      "cell_type": "markdown",
      "metadata": {
        "id": "ITBqwNDvFGhx"
      },
      "source": [
        "**Reading CSV**"
      ]
    },
    {
      "cell_type": "code",
      "metadata": {
        "id": "kbMAfoiSFER4"
      },
      "source": [
        "file_path ='/content/drive/MyDrive/Data_Lake/temperatura_preciptacao/'\n",
        "tipo = 'pr_'\n",
        "anos ='1901_2020_'\n",
        "pais = \"CAN\"\n",
        "\n",
        "file = f\"{tipo}{anos}{pais}.csv\""
      ],
      "execution_count": 3,
      "outputs": []
    },
    {
      "cell_type": "code",
      "metadata": {
        "colab": {
          "base_uri": "https://localhost:8080/"
        },
        "id": "28FmY9rRGO1i",
        "outputId": "a169b1da-d1ea-415f-d241-f0f05d9fd9e3"
      },
      "source": [
        "with open(f\"{file_path}{file}\", 'rb') as encoding:\n",
        "    r_encoding = chardet.detect(encoding.read(100000))\n",
        "r_encoding"
      ],
      "execution_count": 4,
      "outputs": [
        {
          "output_type": "execute_result",
          "data": {
            "text/plain": [
              "{'confidence': 1.0, 'encoding': 'ascii', 'language': ''}"
            ]
          },
          "metadata": {},
          "execution_count": 4
        }
      ]
    },
    {
      "cell_type": "code",
      "metadata": {
        "id": "Mjs-pOIJGjyw"
      },
      "source": [
        "arquivo = f\"{tipo}{pais}\"\n",
        "with open (f\"{file_path}{file}\",'r',encoding=r_encoding['encoding']) as arquivo :\n",
        "  df_pr = pd.read_csv(arquivo)"
      ],
      "execution_count": 5,
      "outputs": []
    },
    {
      "cell_type": "markdown",
      "metadata": {
        "id": "600FfiJFGpHZ"
      },
      "source": [
        " \n",
        "**DataFrame**"
      ]
    },
    {
      "cell_type": "code",
      "metadata": {
        "id": "jEhf_rulGPeA",
        "colab": {
          "base_uri": "https://localhost:8080/",
          "height": 419
        },
        "outputId": "d96b2a6b-bce4-4476-e3c3-b1184d835841"
      },
      "source": [
        "df_pr"
      ],
      "execution_count": 6,
      "outputs": [
        {
          "output_type": "execute_result",
          "data": {
            "text/html": [
              "<div>\n",
              "<style scoped>\n",
              "    .dataframe tbody tr th:only-of-type {\n",
              "        vertical-align: middle;\n",
              "    }\n",
              "\n",
              "    .dataframe tbody tr th {\n",
              "        vertical-align: top;\n",
              "    }\n",
              "\n",
              "    .dataframe thead th {\n",
              "        text-align: right;\n",
              "    }\n",
              "</style>\n",
              "<table border=\"1\" class=\"dataframe\">\n",
              "  <thead>\n",
              "    <tr style=\"text-align: right;\">\n",
              "      <th></th>\n",
              "      <th>Rainfall - (MM)</th>\n",
              "      <th>Year</th>\n",
              "      <th>Statistics</th>\n",
              "      <th>Country</th>\n",
              "      <th>ISO3</th>\n",
              "    </tr>\n",
              "  </thead>\n",
              "  <tbody>\n",
              "    <tr>\n",
              "      <th>0</th>\n",
              "      <td>27.5</td>\n",
              "      <td>1901</td>\n",
              "      <td>Jan Average</td>\n",
              "      <td>Canada</td>\n",
              "      <td>CAN</td>\n",
              "    </tr>\n",
              "    <tr>\n",
              "      <th>1</th>\n",
              "      <td>23.1</td>\n",
              "      <td>1901</td>\n",
              "      <td>Feb Average</td>\n",
              "      <td>Canada</td>\n",
              "      <td>CAN</td>\n",
              "    </tr>\n",
              "    <tr>\n",
              "      <th>2</th>\n",
              "      <td>26.1</td>\n",
              "      <td>1901</td>\n",
              "      <td>Mar Average</td>\n",
              "      <td>Canada</td>\n",
              "      <td>CAN</td>\n",
              "    </tr>\n",
              "    <tr>\n",
              "      <th>3</th>\n",
              "      <td>24.5</td>\n",
              "      <td>1901</td>\n",
              "      <td>Apr Average</td>\n",
              "      <td>Canada</td>\n",
              "      <td>CAN</td>\n",
              "    </tr>\n",
              "    <tr>\n",
              "      <th>4</th>\n",
              "      <td>32.0</td>\n",
              "      <td>1901</td>\n",
              "      <td>May Average</td>\n",
              "      <td>Canada</td>\n",
              "      <td>CAN</td>\n",
              "    </tr>\n",
              "    <tr>\n",
              "      <th>...</th>\n",
              "      <td>...</td>\n",
              "      <td>...</td>\n",
              "      <td>...</td>\n",
              "      <td>...</td>\n",
              "      <td>...</td>\n",
              "    </tr>\n",
              "    <tr>\n",
              "      <th>1435</th>\n",
              "      <td>55.5</td>\n",
              "      <td>2020</td>\n",
              "      <td>Aug Average</td>\n",
              "      <td>Canada</td>\n",
              "      <td>CAN</td>\n",
              "    </tr>\n",
              "    <tr>\n",
              "      <th>1436</th>\n",
              "      <td>44.5</td>\n",
              "      <td>2020</td>\n",
              "      <td>Sep Average</td>\n",
              "      <td>Canada</td>\n",
              "      <td>CAN</td>\n",
              "    </tr>\n",
              "    <tr>\n",
              "      <th>1437</th>\n",
              "      <td>43.6</td>\n",
              "      <td>2020</td>\n",
              "      <td>Oct Average</td>\n",
              "      <td>Canada</td>\n",
              "      <td>CAN</td>\n",
              "    </tr>\n",
              "    <tr>\n",
              "      <th>1438</th>\n",
              "      <td>35.7</td>\n",
              "      <td>2020</td>\n",
              "      <td>Nov Average</td>\n",
              "      <td>Canada</td>\n",
              "      <td>CAN</td>\n",
              "    </tr>\n",
              "    <tr>\n",
              "      <th>1439</th>\n",
              "      <td>31.1</td>\n",
              "      <td>2020</td>\n",
              "      <td>Dec Average</td>\n",
              "      <td>Canada</td>\n",
              "      <td>CAN</td>\n",
              "    </tr>\n",
              "  </tbody>\n",
              "</table>\n",
              "<p>1440 rows × 5 columns</p>\n",
              "</div>"
            ],
            "text/plain": [
              "      Rainfall - (MM)   Year    Statistics  Country  ISO3\n",
              "0                27.5   1901   Jan Average   Canada   CAN\n",
              "1                23.1   1901   Feb Average   Canada   CAN\n",
              "2                26.1   1901   Mar Average   Canada   CAN\n",
              "3                24.5   1901   Apr Average   Canada   CAN\n",
              "4                32.0   1901   May Average   Canada   CAN\n",
              "...               ...    ...           ...      ...   ...\n",
              "1435             55.5   2020   Aug Average   Canada   CAN\n",
              "1436             44.5   2020   Sep Average   Canada   CAN\n",
              "1437             43.6   2020   Oct Average   Canada   CAN\n",
              "1438             35.7   2020   Nov Average   Canada   CAN\n",
              "1439             31.1   2020   Dec Average   Canada   CAN\n",
              "\n",
              "[1440 rows x 5 columns]"
            ]
          },
          "metadata": {},
          "execution_count": 6
        }
      ]
    },
    {
      "cell_type": "code",
      "metadata": {
        "id": "dl2UVOODHLNy",
        "colab": {
          "base_uri": "https://localhost:8080/"
        },
        "outputId": "458a8c72-4801-4ec0-baf6-2fcfcf4e0c4b"
      },
      "source": [
        "#Dataframe size\n",
        "df_pr.shape"
      ],
      "execution_count": 7,
      "outputs": [
        {
          "output_type": "execute_result",
          "data": {
            "text/plain": [
              "(1440, 5)"
            ]
          },
          "metadata": {},
          "execution_count": 7
        }
      ]
    },
    {
      "cell_type": "code",
      "metadata": {
        "id": "v46JSa5gHs7K",
        "colab": {
          "base_uri": "https://localhost:8080/"
        },
        "outputId": "ef8a6c97-4cf4-47ed-dea0-b210f67e16b8"
      },
      "source": [
        "#Dataframe informations\n",
        "df_pr.info()"
      ],
      "execution_count": 8,
      "outputs": [
        {
          "output_type": "stream",
          "name": "stdout",
          "text": [
            "<class 'pandas.core.frame.DataFrame'>\n",
            "RangeIndex: 1440 entries, 0 to 1439\n",
            "Data columns (total 5 columns):\n",
            " #   Column           Non-Null Count  Dtype  \n",
            "---  ------           --------------  -----  \n",
            " 0   Rainfall - (MM)  1440 non-null   float64\n",
            " 1    Year            1440 non-null   int64  \n",
            " 2    Statistics      1440 non-null   object \n",
            " 3    Country         1440 non-null   object \n",
            " 4    ISO3            1440 non-null   object \n",
            "dtypes: float64(1), int64(1), object(3)\n",
            "memory usage: 56.4+ KB\n"
          ]
        }
      ]
    },
    {
      "cell_type": "code",
      "metadata": {
        "id": "DgnCxTQbHU7_",
        "colab": {
          "base_uri": "https://localhost:8080/"
        },
        "outputId": "41b54e05-a3fe-413d-9e2c-8c47ec123400"
      },
      "source": [
        "#identifying coluns's names\n",
        "df_pr.columns"
      ],
      "execution_count": 9,
      "outputs": [
        {
          "output_type": "execute_result",
          "data": {
            "text/plain": [
              "Index(['Rainfall - (MM)', ' Year', ' Statistics', ' Country', ' ISO3'], dtype='object')"
            ]
          },
          "metadata": {},
          "execution_count": 9
        }
      ]
    },
    {
      "cell_type": "code",
      "metadata": {
        "id": "iPkGqGKBHm3_",
        "colab": {
          "base_uri": "https://localhost:8080/",
          "height": 204
        },
        "outputId": "2e96e699-87e3-489a-e545-2bfbb880b0ab"
      },
      "source": [
        "#cleaning columns names\n",
        "colunas = [c.strip().lower().replace(\" \",\"_\") for c in df_pr.columns]\n",
        "df_pr.columns = colunas\n",
        "   \n",
        "\n",
        "df_pr.head(5)"
      ],
      "execution_count": 10,
      "outputs": [
        {
          "output_type": "execute_result",
          "data": {
            "text/html": [
              "<div>\n",
              "<style scoped>\n",
              "    .dataframe tbody tr th:only-of-type {\n",
              "        vertical-align: middle;\n",
              "    }\n",
              "\n",
              "    .dataframe tbody tr th {\n",
              "        vertical-align: top;\n",
              "    }\n",
              "\n",
              "    .dataframe thead th {\n",
              "        text-align: right;\n",
              "    }\n",
              "</style>\n",
              "<table border=\"1\" class=\"dataframe\">\n",
              "  <thead>\n",
              "    <tr style=\"text-align: right;\">\n",
              "      <th></th>\n",
              "      <th>rainfall_-_(mm)</th>\n",
              "      <th>year</th>\n",
              "      <th>statistics</th>\n",
              "      <th>country</th>\n",
              "      <th>iso3</th>\n",
              "    </tr>\n",
              "  </thead>\n",
              "  <tbody>\n",
              "    <tr>\n",
              "      <th>0</th>\n",
              "      <td>27.5</td>\n",
              "      <td>1901</td>\n",
              "      <td>Jan Average</td>\n",
              "      <td>Canada</td>\n",
              "      <td>CAN</td>\n",
              "    </tr>\n",
              "    <tr>\n",
              "      <th>1</th>\n",
              "      <td>23.1</td>\n",
              "      <td>1901</td>\n",
              "      <td>Feb Average</td>\n",
              "      <td>Canada</td>\n",
              "      <td>CAN</td>\n",
              "    </tr>\n",
              "    <tr>\n",
              "      <th>2</th>\n",
              "      <td>26.1</td>\n",
              "      <td>1901</td>\n",
              "      <td>Mar Average</td>\n",
              "      <td>Canada</td>\n",
              "      <td>CAN</td>\n",
              "    </tr>\n",
              "    <tr>\n",
              "      <th>3</th>\n",
              "      <td>24.5</td>\n",
              "      <td>1901</td>\n",
              "      <td>Apr Average</td>\n",
              "      <td>Canada</td>\n",
              "      <td>CAN</td>\n",
              "    </tr>\n",
              "    <tr>\n",
              "      <th>4</th>\n",
              "      <td>32.0</td>\n",
              "      <td>1901</td>\n",
              "      <td>May Average</td>\n",
              "      <td>Canada</td>\n",
              "      <td>CAN</td>\n",
              "    </tr>\n",
              "  </tbody>\n",
              "</table>\n",
              "</div>"
            ],
            "text/plain": [
              "   rainfall_-_(mm)  year    statistics  country  iso3\n",
              "0             27.5  1901   Jan Average   Canada   CAN\n",
              "1             23.1  1901   Feb Average   Canada   CAN\n",
              "2             26.1  1901   Mar Average   Canada   CAN\n",
              "3             24.5  1901   Apr Average   Canada   CAN\n",
              "4             32.0  1901   May Average   Canada   CAN"
            ]
          },
          "metadata": {},
          "execution_count": 10
        }
      ]
    },
    {
      "cell_type": "code",
      "metadata": {
        "id": "Ecq75VT-Ns9I",
        "colab": {
          "base_uri": "https://localhost:8080/"
        },
        "outputId": "343075fc-2e9a-4eaf-99ca-39d4717eab6b"
      },
      "source": [
        "#checking columns' names after modifications\n",
        "df_pr.columns"
      ],
      "execution_count": 11,
      "outputs": [
        {
          "output_type": "execute_result",
          "data": {
            "text/plain": [
              "Index(['rainfall_-_(mm)', 'year', 'statistics', 'country', 'iso3'], dtype='object')"
            ]
          },
          "metadata": {},
          "execution_count": 11
        }
      ]
    },
    {
      "cell_type": "code",
      "metadata": {
        "id": "2hsaz_bCKj1-"
      },
      "source": [
        "#defining a function to replace values inside the index column \n",
        "def replace (col): \n",
        "    return col.replace(\" Average\",'').strip()"
      ],
      "execution_count": 12,
      "outputs": []
    },
    {
      "cell_type": "code",
      "metadata": {
        "id": "jWlf_vRKQsI6"
      },
      "source": [
        " #creating a dict to redefining some columns' names\n",
        " renomeando = {'rainfall_-_(mm)':'rainfall_mm','statistics':'month'}"
      ],
      "execution_count": 13,
      "outputs": []
    },
    {
      "cell_type": "code",
      "metadata": {
        "id": "ZIKE35ghvJXQ"
      },
      "source": [
        "#defining a function to create a conditional new column\n",
        "def year_season(row):\n",
        "    seasons = {\"spring\":[\"Mar\",\"Apr\",\"May\"], 'summer':[\"Jun\",\"Jul\",\"Aug\"],'autumn':['Sep',\"Oct\",\"Nov\"],'winter':[\"Dec\",\"Jan\",\"Feb\"]}\n",
        "    key_list = list(seasons.keys())\n",
        "    val_list = list(seasons.values())\n",
        "    for meses in seasons.values():\n",
        "        for m in meses:\n",
        "            if m == row['month']:\n",
        "                indice =val_list.index(meses)\n",
        "                #print(indice,meses)\n",
        "                #print(key_list[indice])\n",
        "                return key_list[indice]"
      ],
      "execution_count": 14,
      "outputs": []
    },
    {
      "cell_type": "code",
      "metadata": {
        "id": "zSJkh-nTKco6",
        "colab": {
          "base_uri": "https://localhost:8080/",
          "height": 204
        },
        "outputId": "f89699d1-c39a-4962-81db-c0a4ad5f24ea"
      },
      "source": [
        "#Filtering years from 1960 onwards, cleaning and renaming columns\n",
        "df_pr_test_season=\\\n",
        "(\n",
        "    df_pr.loc[df_pr['year']>=1960,:]\n",
        "    .rename(columns=renomeando)\n",
        "    .set_index(\"month\")\n",
        "    .rename(index=replace)\n",
        "    .reset_index()\n",
        "    \n",
        "    \n",
        ")\n",
        "\n",
        "df_pr_test_season.loc[::,['country','iso3']]=df_pr_test_season.loc[::,['country','iso3']].applymap(lambda x: x.strip())\n",
        "\n",
        "df_pr_test_season.head()"
      ],
      "execution_count": 15,
      "outputs": [
        {
          "output_type": "execute_result",
          "data": {
            "text/html": [
              "<div>\n",
              "<style scoped>\n",
              "    .dataframe tbody tr th:only-of-type {\n",
              "        vertical-align: middle;\n",
              "    }\n",
              "\n",
              "    .dataframe tbody tr th {\n",
              "        vertical-align: top;\n",
              "    }\n",
              "\n",
              "    .dataframe thead th {\n",
              "        text-align: right;\n",
              "    }\n",
              "</style>\n",
              "<table border=\"1\" class=\"dataframe\">\n",
              "  <thead>\n",
              "    <tr style=\"text-align: right;\">\n",
              "      <th></th>\n",
              "      <th>month</th>\n",
              "      <th>rainfall_mm</th>\n",
              "      <th>year</th>\n",
              "      <th>country</th>\n",
              "      <th>iso3</th>\n",
              "    </tr>\n",
              "  </thead>\n",
              "  <tbody>\n",
              "    <tr>\n",
              "      <th>0</th>\n",
              "      <td>Jan</td>\n",
              "      <td>25.8</td>\n",
              "      <td>1960</td>\n",
              "      <td>Canada</td>\n",
              "      <td>CAN</td>\n",
              "    </tr>\n",
              "    <tr>\n",
              "      <th>1</th>\n",
              "      <td>Feb</td>\n",
              "      <td>28.5</td>\n",
              "      <td>1960</td>\n",
              "      <td>Canada</td>\n",
              "      <td>CAN</td>\n",
              "    </tr>\n",
              "    <tr>\n",
              "      <th>2</th>\n",
              "      <td>Mar</td>\n",
              "      <td>22.7</td>\n",
              "      <td>1960</td>\n",
              "      <td>Canada</td>\n",
              "      <td>CAN</td>\n",
              "    </tr>\n",
              "    <tr>\n",
              "      <th>3</th>\n",
              "      <td>Apr</td>\n",
              "      <td>24.2</td>\n",
              "      <td>1960</td>\n",
              "      <td>Canada</td>\n",
              "      <td>CAN</td>\n",
              "    </tr>\n",
              "    <tr>\n",
              "      <th>4</th>\n",
              "      <td>May</td>\n",
              "      <td>33.2</td>\n",
              "      <td>1960</td>\n",
              "      <td>Canada</td>\n",
              "      <td>CAN</td>\n",
              "    </tr>\n",
              "  </tbody>\n",
              "</table>\n",
              "</div>"
            ],
            "text/plain": [
              "  month  rainfall_mm  year country iso3\n",
              "0   Jan         25.8  1960  Canada  CAN\n",
              "1   Feb         28.5  1960  Canada  CAN\n",
              "2   Mar         22.7  1960  Canada  CAN\n",
              "3   Apr         24.2  1960  Canada  CAN\n",
              "4   May         33.2  1960  Canada  CAN"
            ]
          },
          "metadata": {},
          "execution_count": 15
        }
      ]
    },
    {
      "cell_type": "code",
      "metadata": {
        "id": "j92_a-smVEC-",
        "colab": {
          "base_uri": "https://localhost:8080/",
          "height": 35
        },
        "outputId": "763cb6ef-9e8f-44c2-c254-ff4e961cb200"
      },
      "source": [
        "df_pr_test_season.iloc[0,3]"
      ],
      "execution_count": 16,
      "outputs": [
        {
          "output_type": "execute_result",
          "data": {
            "application/vnd.google.colaboratory.intrinsic+json": {
              "type": "string"
            },
            "text/plain": [
              "'Canada'"
            ]
          },
          "metadata": {},
          "execution_count": 16
        }
      ]
    },
    {
      "cell_type": "code",
      "metadata": {
        "id": "d_Gmx97ZEL2S",
        "colab": {
          "base_uri": "https://localhost:8080/",
          "height": 35
        },
        "outputId": "cccbbb3b-7038-4288-8dcb-7ab5beadd529"
      },
      "source": [
        "df_pr_test_season.loc[::,['country','iso3']].applymap(lambda x: x.strip())\n",
        "df_pr_test_season.country.apply(lambda x: x.strip()).iloc[0]\n"
      ],
      "execution_count": 17,
      "outputs": [
        {
          "output_type": "execute_result",
          "data": {
            "application/vnd.google.colaboratory.intrinsic+json": {
              "type": "string"
            },
            "text/plain": [
              "'Canada'"
            ]
          },
          "metadata": {},
          "execution_count": 17
        }
      ]
    },
    {
      "cell_type": "code",
      "metadata": {
        "id": "OElv1zQv0eYe"
      },
      "source": [
        "#Including the conditional column: season\n",
        "df_pr_season =df_pr_test_season.assign(season = df_pr_test_season.apply(year_season,axis=1))\n",
        "\n"
      ],
      "execution_count": 18,
      "outputs": []
    },
    {
      "cell_type": "code",
      "metadata": {
        "id": "7OQxsYzv2Hb9",
        "colab": {
          "base_uri": "https://localhost:8080/",
          "height": 419
        },
        "outputId": "5931d530-d984-44e6-a2c8-bf78c9a9ab72"
      },
      "source": [
        "df_pr_season"
      ],
      "execution_count": 19,
      "outputs": [
        {
          "output_type": "execute_result",
          "data": {
            "text/html": [
              "<div>\n",
              "<style scoped>\n",
              "    .dataframe tbody tr th:only-of-type {\n",
              "        vertical-align: middle;\n",
              "    }\n",
              "\n",
              "    .dataframe tbody tr th {\n",
              "        vertical-align: top;\n",
              "    }\n",
              "\n",
              "    .dataframe thead th {\n",
              "        text-align: right;\n",
              "    }\n",
              "</style>\n",
              "<table border=\"1\" class=\"dataframe\">\n",
              "  <thead>\n",
              "    <tr style=\"text-align: right;\">\n",
              "      <th></th>\n",
              "      <th>month</th>\n",
              "      <th>rainfall_mm</th>\n",
              "      <th>year</th>\n",
              "      <th>country</th>\n",
              "      <th>iso3</th>\n",
              "      <th>season</th>\n",
              "    </tr>\n",
              "  </thead>\n",
              "  <tbody>\n",
              "    <tr>\n",
              "      <th>0</th>\n",
              "      <td>Jan</td>\n",
              "      <td>25.8</td>\n",
              "      <td>1960</td>\n",
              "      <td>Canada</td>\n",
              "      <td>CAN</td>\n",
              "      <td>winter</td>\n",
              "    </tr>\n",
              "    <tr>\n",
              "      <th>1</th>\n",
              "      <td>Feb</td>\n",
              "      <td>28.5</td>\n",
              "      <td>1960</td>\n",
              "      <td>Canada</td>\n",
              "      <td>CAN</td>\n",
              "      <td>winter</td>\n",
              "    </tr>\n",
              "    <tr>\n",
              "      <th>2</th>\n",
              "      <td>Mar</td>\n",
              "      <td>22.7</td>\n",
              "      <td>1960</td>\n",
              "      <td>Canada</td>\n",
              "      <td>CAN</td>\n",
              "      <td>spring</td>\n",
              "    </tr>\n",
              "    <tr>\n",
              "      <th>3</th>\n",
              "      <td>Apr</td>\n",
              "      <td>24.2</td>\n",
              "      <td>1960</td>\n",
              "      <td>Canada</td>\n",
              "      <td>CAN</td>\n",
              "      <td>spring</td>\n",
              "    </tr>\n",
              "    <tr>\n",
              "      <th>4</th>\n",
              "      <td>May</td>\n",
              "      <td>33.2</td>\n",
              "      <td>1960</td>\n",
              "      <td>Canada</td>\n",
              "      <td>CAN</td>\n",
              "      <td>spring</td>\n",
              "    </tr>\n",
              "    <tr>\n",
              "      <th>...</th>\n",
              "      <td>...</td>\n",
              "      <td>...</td>\n",
              "      <td>...</td>\n",
              "      <td>...</td>\n",
              "      <td>...</td>\n",
              "      <td>...</td>\n",
              "    </tr>\n",
              "    <tr>\n",
              "      <th>727</th>\n",
              "      <td>Aug</td>\n",
              "      <td>55.5</td>\n",
              "      <td>2020</td>\n",
              "      <td>Canada</td>\n",
              "      <td>CAN</td>\n",
              "      <td>summer</td>\n",
              "    </tr>\n",
              "    <tr>\n",
              "      <th>728</th>\n",
              "      <td>Sep</td>\n",
              "      <td>44.5</td>\n",
              "      <td>2020</td>\n",
              "      <td>Canada</td>\n",
              "      <td>CAN</td>\n",
              "      <td>autumn</td>\n",
              "    </tr>\n",
              "    <tr>\n",
              "      <th>729</th>\n",
              "      <td>Oct</td>\n",
              "      <td>43.6</td>\n",
              "      <td>2020</td>\n",
              "      <td>Canada</td>\n",
              "      <td>CAN</td>\n",
              "      <td>autumn</td>\n",
              "    </tr>\n",
              "    <tr>\n",
              "      <th>730</th>\n",
              "      <td>Nov</td>\n",
              "      <td>35.7</td>\n",
              "      <td>2020</td>\n",
              "      <td>Canada</td>\n",
              "      <td>CAN</td>\n",
              "      <td>autumn</td>\n",
              "    </tr>\n",
              "    <tr>\n",
              "      <th>731</th>\n",
              "      <td>Dec</td>\n",
              "      <td>31.1</td>\n",
              "      <td>2020</td>\n",
              "      <td>Canada</td>\n",
              "      <td>CAN</td>\n",
              "      <td>winter</td>\n",
              "    </tr>\n",
              "  </tbody>\n",
              "</table>\n",
              "<p>732 rows × 6 columns</p>\n",
              "</div>"
            ],
            "text/plain": [
              "    month  rainfall_mm  year country iso3  season\n",
              "0     Jan         25.8  1960  Canada  CAN  winter\n",
              "1     Feb         28.5  1960  Canada  CAN  winter\n",
              "2     Mar         22.7  1960  Canada  CAN  spring\n",
              "3     Apr         24.2  1960  Canada  CAN  spring\n",
              "4     May         33.2  1960  Canada  CAN  spring\n",
              "..    ...          ...   ...     ...  ...     ...\n",
              "727   Aug         55.5  2020  Canada  CAN  summer\n",
              "728   Sep         44.5  2020  Canada  CAN  autumn\n",
              "729   Oct         43.6  2020  Canada  CAN  autumn\n",
              "730   Nov         35.7  2020  Canada  CAN  autumn\n",
              "731   Dec         31.1  2020  Canada  CAN  winter\n",
              "\n",
              "[732 rows x 6 columns]"
            ]
          },
          "metadata": {},
          "execution_count": 19
        }
      ]
    },
    {
      "cell_type": "code",
      "metadata": {
        "id": "XJq4ONe02LW8",
        "colab": {
          "base_uri": "https://localhost:8080/",
          "height": 688
        },
        "outputId": "0ae5be1d-a1bd-46c1-fcc9-d5318093fcd6"
      },
      "source": [
        "#Verifying NAN values\n",
        "msno.matrix(df_pr_season)"
      ],
      "execution_count": 20,
      "outputs": [
        {
          "output_type": "execute_result",
          "data": {
            "text/plain": [
              "<matplotlib.axes._subplots.AxesSubplot at 0x7f4df1325f10>"
            ]
          },
          "metadata": {},
          "execution_count": 20
        },
        {
          "output_type": "display_data",
          "data": {
            "image/png": "[encoded data removed]",
            "text/plain": [
              "<Figure size 1800x720 with 2 Axes>"
            ]
          },
          "metadata": {
            "needs_background": "light"
          }
        }
      ]
    },
    {
      "cell_type": "code",
      "metadata": {
        "id": "pSVxcgVn_QE9"
      },
      "source": [
        "df_pr_season.to_csv(f\"/content/drive/MyDrive/Temperatura_Precipitacao_analises/limpos/pr_avg/{tipo}{anos}{pais}_seasons.csv\", index=False)"
      ],
      "execution_count": 21,
      "outputs": []
    },
    {
      "cell_type": "markdown",
      "metadata": {
        "id": "AahQ8imU7q5p"
      },
      "source": [
        "**Improving the memory usage**\n",
        "\n",
        "---"
      ]
    },
    {
      "cell_type": "code",
      "metadata": {
        "id": "xWq12DeiwoWn",
        "colab": {
          "base_uri": "https://localhost:8080/"
        },
        "outputId": "9585e555-69c9-40e3-d4d1-21eae8a24f9e"
      },
      "source": [
        "#Verifying the shape\n",
        "df_pr_season.shape\n"
      ],
      "execution_count": 22,
      "outputs": [
        {
          "output_type": "execute_result",
          "data": {
            "text/plain": [
              "(732, 6)"
            ]
          },
          "metadata": {},
          "execution_count": 22
        }
      ]
    },
    {
      "cell_type": "code",
      "metadata": {
        "id": "DMXaIEhJwuZ1",
        "colab": {
          "base_uri": "https://localhost:8080/"
        },
        "outputId": "ebc64d7a-6f62-4091-a361-fb7aee738575"
      },
      "source": [
        "#Verifying types and memory usage\n",
        "original_info = df_pr_season.info()"
      ],
      "execution_count": 23,
      "outputs": [
        {
          "output_type": "stream",
          "name": "stdout",
          "text": [
            "<class 'pandas.core.frame.DataFrame'>\n",
            "RangeIndex: 732 entries, 0 to 731\n",
            "Data columns (total 6 columns):\n",
            " #   Column       Non-Null Count  Dtype  \n",
            "---  ------       --------------  -----  \n",
            " 0   month        732 non-null    object \n",
            " 1   rainfall_mm  732 non-null    float64\n",
            " 2   year         732 non-null    int64  \n",
            " 3   country      732 non-null    object \n",
            " 4   iso3         732 non-null    object \n",
            " 5   season       732 non-null    object \n",
            "dtypes: float64(1), int64(1), object(4)\n",
            "memory usage: 34.4+ KB\n"
          ]
        }
      ]
    },
    {
      "cell_type": "code",
      "metadata": {
        "id": "BOzbWk0Ow2Dd"
      },
      "source": [
        "#Verifying memory usage\n",
        "original_mem = df_pr_season.memory_usage(deep=True)\n"
      ],
      "execution_count": 24,
      "outputs": []
    },
    {
      "cell_type": "code",
      "metadata": {
        "id": "1RGtPlZTzQPM",
        "colab": {
          "base_uri": "https://localhost:8080/"
        },
        "outputId": "0b33bdc5-2cbe-46ac-b7e0-90de58ed2637"
      },
      "source": [
        "#Checking the low cardinality\n",
        "df_pr_season.select_dtypes(include=[\"object\"]).nunique()"
      ],
      "execution_count": 25,
      "outputs": [
        {
          "output_type": "execute_result",
          "data": {
            "text/plain": [
              "month      12\n",
              "country     1\n",
              "iso3        1\n",
              "season      4\n",
              "dtype: int64"
            ]
          },
          "metadata": {},
          "execution_count": 25
        }
      ]
    },
    {
      "cell_type": "code",
      "metadata": {
        "id": "YYhSvqHv10a8",
        "colab": {
          "base_uri": "https://localhost:8080/",
          "height": 419
        },
        "outputId": "2c117a6f-8a50-4b95-f468-c7c4038e8f82"
      },
      "source": [
        "#Changing the columns types\n",
        "col_to_category = ['month',\"country\",\"iso3\",\"season\"]\n",
        "\n",
        "df_pr_season[\"year\"]= df_pr_season[\"year\"].astype(\"int32\")\n",
        "df_pr_season[col_to_category]=df_pr_season[col_to_category].astype(\"category\")\n",
        "\n",
        "df_pr_season"
      ],
      "execution_count": 26,
      "outputs": [
        {
          "output_type": "execute_result",
          "data": {
            "text/html": [
              "<div>\n",
              "<style scoped>\n",
              "    .dataframe tbody tr th:only-of-type {\n",
              "        vertical-align: middle;\n",
              "    }\n",
              "\n",
              "    .dataframe tbody tr th {\n",
              "        vertical-align: top;\n",
              "    }\n",
              "\n",
              "    .dataframe thead th {\n",
              "        text-align: right;\n",
              "    }\n",
              "</style>\n",
              "<table border=\"1\" class=\"dataframe\">\n",
              "  <thead>\n",
              "    <tr style=\"text-align: right;\">\n",
              "      <th></th>\n",
              "      <th>month</th>\n",
              "      <th>rainfall_mm</th>\n",
              "      <th>year</th>\n",
              "      <th>country</th>\n",
              "      <th>iso3</th>\n",
              "      <th>season</th>\n",
              "    </tr>\n",
              "  </thead>\n",
              "  <tbody>\n",
              "    <tr>\n",
              "      <th>0</th>\n",
              "      <td>Jan</td>\n",
              "      <td>25.8</td>\n",
              "      <td>1960</td>\n",
              "      <td>Canada</td>\n",
              "      <td>CAN</td>\n",
              "      <td>winter</td>\n",
              "    </tr>\n",
              "    <tr>\n",
              "      <th>1</th>\n",
              "      <td>Feb</td>\n",
              "      <td>28.5</td>\n",
              "      <td>1960</td>\n",
              "      <td>Canada</td>\n",
              "      <td>CAN</td>\n",
              "      <td>winter</td>\n",
              "    </tr>\n",
              "    <tr>\n",
              "      <th>2</th>\n",
              "      <td>Mar</td>\n",
              "      <td>22.7</td>\n",
              "      <td>1960</td>\n",
              "      <td>Canada</td>\n",
              "      <td>CAN</td>\n",
              "      <td>spring</td>\n",
              "    </tr>\n",
              "    <tr>\n",
              "      <th>3</th>\n",
              "      <td>Apr</td>\n",
              "      <td>24.2</td>\n",
              "      <td>1960</td>\n",
              "      <td>Canada</td>\n",
              "      <td>CAN</td>\n",
              "      <td>spring</td>\n",
              "    </tr>\n",
              "    <tr>\n",
              "      <th>4</th>\n",
              "      <td>May</td>\n",
              "      <td>33.2</td>\n",
              "      <td>1960</td>\n",
              "      <td>Canada</td>\n",
              "      <td>CAN</td>\n",
              "      <td>spring</td>\n",
              "    </tr>\n",
              "    <tr>\n",
              "      <th>...</th>\n",
              "      <td>...</td>\n",
              "      <td>...</td>\n",
              "      <td>...</td>\n",
              "      <td>...</td>\n",
              "      <td>...</td>\n",
              "      <td>...</td>\n",
              "    </tr>\n",
              "    <tr>\n",
              "      <th>727</th>\n",
              "      <td>Aug</td>\n",
              "      <td>55.5</td>\n",
              "      <td>2020</td>\n",
              "      <td>Canada</td>\n",
              "      <td>CAN</td>\n",
              "      <td>summer</td>\n",
              "    </tr>\n",
              "    <tr>\n",
              "      <th>728</th>\n",
              "      <td>Sep</td>\n",
              "      <td>44.5</td>\n",
              "      <td>2020</td>\n",
              "      <td>Canada</td>\n",
              "      <td>CAN</td>\n",
              "      <td>autumn</td>\n",
              "    </tr>\n",
              "    <tr>\n",
              "      <th>729</th>\n",
              "      <td>Oct</td>\n",
              "      <td>43.6</td>\n",
              "      <td>2020</td>\n",
              "      <td>Canada</td>\n",
              "      <td>CAN</td>\n",
              "      <td>autumn</td>\n",
              "    </tr>\n",
              "    <tr>\n",
              "      <th>730</th>\n",
              "      <td>Nov</td>\n",
              "      <td>35.7</td>\n",
              "      <td>2020</td>\n",
              "      <td>Canada</td>\n",
              "      <td>CAN</td>\n",
              "      <td>autumn</td>\n",
              "    </tr>\n",
              "    <tr>\n",
              "      <th>731</th>\n",
              "      <td>Dec</td>\n",
              "      <td>31.1</td>\n",
              "      <td>2020</td>\n",
              "      <td>Canada</td>\n",
              "      <td>CAN</td>\n",
              "      <td>winter</td>\n",
              "    </tr>\n",
              "  </tbody>\n",
              "</table>\n",
              "<p>732 rows × 6 columns</p>\n",
              "</div>"
            ],
            "text/plain": [
              "    month  rainfall_mm  year country iso3  season\n",
              "0     Jan         25.8  1960  Canada  CAN  winter\n",
              "1     Feb         28.5  1960  Canada  CAN  winter\n",
              "2     Mar         22.7  1960  Canada  CAN  spring\n",
              "3     Apr         24.2  1960  Canada  CAN  spring\n",
              "4     May         33.2  1960  Canada  CAN  spring\n",
              "..    ...          ...   ...     ...  ...     ...\n",
              "727   Aug         55.5  2020  Canada  CAN  summer\n",
              "728   Sep         44.5  2020  Canada  CAN  autumn\n",
              "729   Oct         43.6  2020  Canada  CAN  autumn\n",
              "730   Nov         35.7  2020  Canada  CAN  autumn\n",
              "731   Dec         31.1  2020  Canada  CAN  winter\n",
              "\n",
              "[732 rows x 6 columns]"
            ]
          },
          "metadata": {},
          "execution_count": 26
        }
      ]
    },
    {
      "cell_type": "markdown",
      "metadata": {
        "id": "nRNWnyol7amc"
      },
      "source": [
        "Comparing Memory Usage"
      ]
    },
    {
      "cell_type": "code",
      "metadata": {
        "id": "FPpsHIaI2_U9"
      },
      "source": [
        "#Verifying new memory usage\n",
        "new_memory = df_pr_season.memory_usage(deep=True)\n"
      ],
      "execution_count": 27,
      "outputs": []
    },
    {
      "cell_type": "code",
      "metadata": {
        "id": "YnTrlDPZ3FBs",
        "colab": {
          "base_uri": "https://localhost:8080/"
        },
        "outputId": "a1261a1a-dc44-4e8d-c3b1-e136829876a1"
      },
      "source": [
        "# Comparying memory usage\n",
        "old_value ='\\033[91m'\n",
        "new_value ='\\033[1;32m'\n",
        "normal_value = '\\033[0m'\n",
        "print(old_value + \"This is the original memory usage\" + normal_value)\n",
        "print(original_mem)\n",
        "print(new_value + \"\\nAnd this is the new memory usage\" + normal_value)\n",
        "print(new_memory)\n"
      ],
      "execution_count": 28,
      "outputs": [
        {
          "output_type": "stream",
          "name": "stdout",
          "text": [
            "\u001b[91mThis is the original memory usage\u001b[0m\n",
            "Index            128\n",
            "month          43920\n",
            "rainfall_mm     5856\n",
            "year            5856\n",
            "country        46116\n",
            "iso3           43920\n",
            "season         46116\n",
            "dtype: int64\n",
            "\u001b[1;32m\n",
            "And this is the new memory usage\u001b[0m\n",
            "Index           128\n",
            "month          1772\n",
            "rainfall_mm    5856\n",
            "year           2928\n",
            "country         875\n",
            "iso3            872\n",
            "season         1144\n",
            "dtype: int64\n"
          ]
        }
      ]
    },
    {
      "cell_type": "code",
      "metadata": {
        "id": "fESGgRgI7RWS",
        "colab": {
          "base_uri": "https://localhost:8080/"
        },
        "outputId": "8db21015-16db-4043-e4eb-1d86405c4a69"
      },
      "source": [
        "#Checking new info data\n",
        "new_info = df_pr_season.info()\n"
      ],
      "execution_count": 29,
      "outputs": [
        {
          "output_type": "stream",
          "name": "stdout",
          "text": [
            "<class 'pandas.core.frame.DataFrame'>\n",
            "RangeIndex: 732 entries, 0 to 731\n",
            "Data columns (total 6 columns):\n",
            " #   Column       Non-Null Count  Dtype   \n",
            "---  ------       --------------  -----   \n",
            " 0   month        732 non-null    category\n",
            " 1   rainfall_mm  732 non-null    float64 \n",
            " 2   year         732 non-null    int32   \n",
            " 3   country      732 non-null    category\n",
            " 4   iso3         732 non-null    category\n",
            " 5   season       732 non-null    category\n",
            "dtypes: category(4), float64(1), int32(1)\n",
            "memory usage: 12.3 KB\n"
          ]
        }
      ]
    },
    {
      "cell_type": "code",
      "metadata": {
        "id": "m7zwS4rOXzkq",
        "colab": {
          "base_uri": "https://localhost:8080/"
        },
        "outputId": "c279ff46-b1bc-4f6e-f737-166aafe298e4"
      },
      "source": [
        "#Checking the describe method\n",
        "df_pr_season['rainfall_mm'].describe().T"
      ],
      "execution_count": 30,
      "outputs": [
        {
          "output_type": "execute_result",
          "data": {
            "text/plain": [
              "count    732.000000\n",
              "mean      37.808470\n",
              "std       12.656075\n",
              "min       15.400000\n",
              "25%       26.800000\n",
              "50%       34.500000\n",
              "75%       48.300000\n",
              "max       69.600000\n",
              "Name: rainfall_mm, dtype: float64"
            ]
          },
          "metadata": {},
          "execution_count": 30
        }
      ]
    },
    {
      "cell_type": "markdown",
      "metadata": {
        "id": "802XbvRE6VdE"
      },
      "source": [
        "*PLOTTING YEARS*"
      ]
    },
    {
      "cell_type": "code",
      "metadata": {
        "id": "tfEMMprOsRvb",
        "colab": {
          "base_uri": "https://localhost:8080/",
          "height": 450
        },
        "outputId": "8c2d865d-d6ac-4d0b-e467-d8f23fd13dab"
      },
      "source": [
        "#Defining the df to chart\n",
        "df_pr_season_chart =\\\n",
        "(\n",
        "    df_pr_season.set_index(\"month\")\n",
        ")\n",
        "\n",
        "df_pr_season_chart"
      ],
      "execution_count": 31,
      "outputs": [
        {
          "output_type": "execute_result",
          "data": {
            "text/html": [
              "<div>\n",
              "<style scoped>\n",
              "    .dataframe tbody tr th:only-of-type {\n",
              "        vertical-align: middle;\n",
              "    }\n",
              "\n",
              "    .dataframe tbody tr th {\n",
              "        vertical-align: top;\n",
              "    }\n",
              "\n",
              "    .dataframe thead th {\n",
              "        text-align: right;\n",
              "    }\n",
              "</style>\n",
              "<table border=\"1\" class=\"dataframe\">\n",
              "  <thead>\n",
              "    <tr style=\"text-align: right;\">\n",
              "      <th></th>\n",
              "      <th>rainfall_mm</th>\n",
              "      <th>year</th>\n",
              "      <th>country</th>\n",
              "      <th>iso3</th>\n",
              "      <th>season</th>\n",
              "    </tr>\n",
              "    <tr>\n",
              "      <th>month</th>\n",
              "      <th></th>\n",
              "      <th></th>\n",
              "      <th></th>\n",
              "      <th></th>\n",
              "      <th></th>\n",
              "    </tr>\n",
              "  </thead>\n",
              "  <tbody>\n",
              "    <tr>\n",
              "      <th>Jan</th>\n",
              "      <td>25.8</td>\n",
              "      <td>1960</td>\n",
              "      <td>Canada</td>\n",
              "      <td>CAN</td>\n",
              "      <td>winter</td>\n",
              "    </tr>\n",
              "    <tr>\n",
              "      <th>Feb</th>\n",
              "      <td>28.5</td>\n",
              "      <td>1960</td>\n",
              "      <td>Canada</td>\n",
              "      <td>CAN</td>\n",
              "      <td>winter</td>\n",
              "    </tr>\n",
              "    <tr>\n",
              "      <th>Mar</th>\n",
              "      <td>22.7</td>\n",
              "      <td>1960</td>\n",
              "      <td>Canada</td>\n",
              "      <td>CAN</td>\n",
              "      <td>spring</td>\n",
              "    </tr>\n",
              "    <tr>\n",
              "      <th>Apr</th>\n",
              "      <td>24.2</td>\n",
              "      <td>1960</td>\n",
              "      <td>Canada</td>\n",
              "      <td>CAN</td>\n",
              "      <td>spring</td>\n",
              "    </tr>\n",
              "    <tr>\n",
              "      <th>May</th>\n",
              "      <td>33.2</td>\n",
              "      <td>1960</td>\n",
              "      <td>Canada</td>\n",
              "      <td>CAN</td>\n",
              "      <td>spring</td>\n",
              "    </tr>\n",
              "    <tr>\n",
              "      <th>...</th>\n",
              "      <td>...</td>\n",
              "      <td>...</td>\n",
              "      <td>...</td>\n",
              "      <td>...</td>\n",
              "      <td>...</td>\n",
              "    </tr>\n",
              "    <tr>\n",
              "      <th>Aug</th>\n",
              "      <td>55.5</td>\n",
              "      <td>2020</td>\n",
              "      <td>Canada</td>\n",
              "      <td>CAN</td>\n",
              "      <td>summer</td>\n",
              "    </tr>\n",
              "    <tr>\n",
              "      <th>Sep</th>\n",
              "      <td>44.5</td>\n",
              "      <td>2020</td>\n",
              "      <td>Canada</td>\n",
              "      <td>CAN</td>\n",
              "      <td>autumn</td>\n",
              "    </tr>\n",
              "    <tr>\n",
              "      <th>Oct</th>\n",
              "      <td>43.6</td>\n",
              "      <td>2020</td>\n",
              "      <td>Canada</td>\n",
              "      <td>CAN</td>\n",
              "      <td>autumn</td>\n",
              "    </tr>\n",
              "    <tr>\n",
              "      <th>Nov</th>\n",
              "      <td>35.7</td>\n",
              "      <td>2020</td>\n",
              "      <td>Canada</td>\n",
              "      <td>CAN</td>\n",
              "      <td>autumn</td>\n",
              "    </tr>\n",
              "    <tr>\n",
              "      <th>Dec</th>\n",
              "      <td>31.1</td>\n",
              "      <td>2020</td>\n",
              "      <td>Canada</td>\n",
              "      <td>CAN</td>\n",
              "      <td>winter</td>\n",
              "    </tr>\n",
              "  </tbody>\n",
              "</table>\n",
              "<p>732 rows × 5 columns</p>\n",
              "</div>"
            ],
            "text/plain": [
              "       rainfall_mm  year country iso3  season\n",
              "month                                        \n",
              "Jan           25.8  1960  Canada  CAN  winter\n",
              "Feb           28.5  1960  Canada  CAN  winter\n",
              "Mar           22.7  1960  Canada  CAN  spring\n",
              "Apr           24.2  1960  Canada  CAN  spring\n",
              "May           33.2  1960  Canada  CAN  spring\n",
              "...            ...   ...     ...  ...     ...\n",
              "Aug           55.5  2020  Canada  CAN  summer\n",
              "Sep           44.5  2020  Canada  CAN  autumn\n",
              "Oct           43.6  2020  Canada  CAN  autumn\n",
              "Nov           35.7  2020  Canada  CAN  autumn\n",
              "Dec           31.1  2020  Canada  CAN  winter\n",
              "\n",
              "[732 rows x 5 columns]"
            ]
          },
          "metadata": {},
          "execution_count": 31
        }
      ]
    },
    {
      "cell_type": "code",
      "metadata": {
        "id": "fS0XHoydGwOz"
      },
      "source": [
        "#Importing the package and defining the colors to plot\n",
        "import matplotlib.dates as mdt\n",
        "blue = '#99ddee'\n",
        "white = '#ffffff'"
      ],
      "execution_count": 32,
      "outputs": []
    },
    {
      "cell_type": "code",
      "metadata": {
        "id": "C7lY59K_Jaia"
      },
      "source": [
        "#Defining the plot's function\n",
        "def plot_year(ax,temp,years):\n",
        "    ax.set_facecolor(blue)\n",
        "    ax.spines['top'].set_visible(False)\n",
        "    ax.spines['right'].set_visible(False)\n",
        "    ax.spines['bottom'].set_visible(False)\n",
        "    ax.spines['left'].set_visible(False)\n",
        "    filtro_1 = df_pr_season_chart.year == y\n",
        "    ax.plot(df_pr_season_chart.index[filtro_1],df_pr_season_chart.loc[filtro_1,'rainfall_mm'].values)\n",
        "    ax.tick_params(axis='x', colors=white)\n",
        "    ax.tick_params(axis='y', colors=white)\n",
        "    ax.set_ylabel('Rainfall (mm)', color=white)\n",
        "    ax.set_title(f\"Year {y}\", color=white, fontweight='bold')\n",
        "    ax.fill_between(df_pr_season_chart.index,min(df_pr_season_chart['rainfall_mm']), max(df_pr_season_chart['rainfall_mm'])+5,  facecolor='white' )\n"
      ],
      "execution_count": 33,
      "outputs": []
    },
    {
      "cell_type": "code",
      "metadata": {
        "id": "mMsGORGJ9iT7"
      },
      "source": [
        "df_pr_season_chart_x = df_pr_season_chart.reset_index()"
      ],
      "execution_count": 34,
      "outputs": []
    },
    {
      "cell_type": "code",
      "metadata": {
        "id": "whFjj7zHRFjg"
      },
      "source": [
        "path_chart_pr = '/content/drive/MyDrive/Temperatura_Precipitacao_analises/charts/pr_avg/'"
      ],
      "execution_count": 35,
      "outputs": []
    },
    {
      "cell_type": "code",
      "metadata": {
        "id": "R6wrJIDcThze",
        "colab": {
          "base_uri": "https://localhost:8080/",
          "height": 1000
        },
        "outputId": "9d128688-99db-4c3c-fbfa-5d74ec1e462b"
      },
      "source": [
        "#Ploting the years\n",
        "years = range(2000,2020+1)\n",
        "fig, axs = plt.subplots(ncols =3, nrows = int(len(years)/3),figsize=(20,25), linewidth = 5, facecolor = blue)\n",
        "\n",
        "axs = axs.flatten()\n",
        "max_val = None\n",
        "max_data = None\n",
        "max_ax = None\n",
        "for i, y in enumerate(years):\n",
        "\n",
        "    ax= axs[i]\n",
        " \n",
        "    data_1=\\\n",
        "    (\n",
        "        df_pr_season_chart_x.assign(YEAR=pd.to_datetime(df_pr_season_chart_x.year))\n",
        "        .set_index(\"year\")\n",
        "        .loc[y]\n",
        "        .rainfall_mm\n",
        "        .interpolate()  \n",
        "    )\n",
        " \n",
        "\n",
        "    if max_val is None or max_val < data_1.max():\n",
        "        max_val = data_1.max()\n",
        "        max_data = data_1\n",
        "        max_ax = ax\n",
        "\n",
        "    ax.set_ylim(min(data_1.values), max((data_1.values))+5)\n",
        "    years = {y}\n",
        "    plot_year(ax, data_1, years)\n",
        "\n",
        "\n",
        "fig.suptitle(f'Rainfall (mm) {pais}', color='white', fontweight='bold',fontsize=20 )\n",
        "fig.tight_layout( rect= [0,0.03, 1, 0.95])\n",
        "fig.savefig(f'{path_chart_pr}Rainfall(mm) by Year {pais}.png', dpi=300, facecolor=blue)\n",
        "\n"
      ],
      "execution_count": 36,
      "outputs": [
        {
          "output_type": "display_data",
          "data": {
            "image/png": "[encoded data removed]",
            "text/plain": [
              "<Figure size 1440x1800 with 21 Axes>"
            ]
          },
          "metadata": {}
        }
      ]
    },
    {
      "cell_type": "markdown",
      "metadata": {
        "id": "Sfk14hen5-bl"
      },
      "source": [
        "*PLOTTING QUARTILES*"
      ]
    },
    {
      "cell_type": "code",
      "metadata": {
        "id": "QzTFOyt7jCXC"
      },
      "source": [
        "#Defining data to Seasons' Quartile\n",
        "pr_season = ['rainfall_mm','season']\n",
        "df_pr_season= df_pr_season[pr_season]\n"
      ],
      "execution_count": 37,
      "outputs": []
    },
    {
      "cell_type": "code",
      "metadata": {
        "id": "44Wj6vvbkUtK",
        "colab": {
          "base_uri": "https://localhost:8080/",
          "height": 427
        },
        "outputId": "348ee64c-f3f8-4ab5-de21-6776469eb150"
      },
      "source": [
        "#Ploting Quartiles\n",
        "fig,(ax1,ax2)=plt.subplots(1,2,figsize=(20,6))\n",
        "fig.suptitle(f\"Rainfall (MM) Seasons'Quartiles {pais}\", size=20, y=1.00)\n",
        "df_pr_season.pivot(columns='season').plot.box(ax=ax1,title=\"Seasons' Quartiles\")\n",
        "df_pr_season['rainfall_mm'].plot.box(ax=ax2, title=\"General Quartile\")\n",
        "fig.savefig(f\"{path_chart_pr}{pais} Rainfall (MM) Seasons'Quartiles\")"
      ],
      "execution_count": 38,
      "outputs": [
        {
          "output_type": "display_data",
          "data": {
            "image/png": "[encoded data removed]",
            "text/plain": [
              "<Figure size 1440x432 with 2 Axes>"
            ]
          },
          "metadata": {
            "needs_background": "light"
          }
        }
      ]
    },
    {
      "cell_type": "code",
      "metadata": {
        "id": "TI7Z9z_X_Zl7"
      },
      "source": [
        "country=df_pr_season_chart.iloc[0,2]\n"
      ],
      "execution_count": 39,
      "outputs": []
    },
    {
      "cell_type": "code",
      "metadata": {
        "id": "G3dyhCQj7h7U"
      },
      "source": [
        "iso3=df_pr_season_chart.iloc[0,3]\n"
      ],
      "execution_count": 40,
      "outputs": []
    },
    {
      "cell_type": "code",
      "metadata": {
        "id": "epDdzPjD_Zej",
        "colab": {
          "base_uri": "https://localhost:8080/",
          "height": 35
        },
        "outputId": "c2d061e4-6018-43a9-c7dc-b38f95352a59"
      },
      "source": [
        "iso3"
      ],
      "execution_count": 41,
      "outputs": [
        {
          "output_type": "execute_result",
          "data": {
            "application/vnd.google.colaboratory.intrinsic+json": {
              "type": "string"
            },
            "text/plain": [
              "'CAN'"
            ]
          },
          "metadata": {},
          "execution_count": 41
        }
      ]
    },
    {
      "cell_type": "code",
      "metadata": {
        "id": "DPllfMjF_a8a",
        "colab": {
          "base_uri": "https://localhost:8080/",
          "height": 35
        },
        "outputId": "a93e2fd2-b691-41dd-db8d-694afd9d7d76"
      },
      "source": [
        "country"
      ],
      "execution_count": 42,
      "outputs": [
        {
          "output_type": "execute_result",
          "data": {
            "application/vnd.google.colaboratory.intrinsic+json": {
              "type": "string"
            },
            "text/plain": [
              "'Canada'"
            ]
          },
          "metadata": {},
          "execution_count": 42
        }
      ]
    },
    {
      "cell_type": "code",
      "metadata": {
        "id": "WUN-rtp8dzRr",
        "colab": {
          "base_uri": "https://localhost:8080/",
          "height": 235
        },
        "outputId": "4a4083a4-4676-412f-92b7-0e9f774b895f"
      },
      "source": [
        "#Defining data to General Quartile\n",
        "general_quartile= df_pr_season['rainfall_mm'].describe()[['min','25%','50%','75%','max']].round(2).to_frame().assign(country=country).assign(iso3=iso3)\n",
        "general_quartile.index.name='quartil'\n",
        "general_quartile"
      ],
      "execution_count": 43,
      "outputs": [
        {
          "output_type": "execute_result",
          "data": {
            "text/html": [
              "<div>\n",
              "<style scoped>\n",
              "    .dataframe tbody tr th:only-of-type {\n",
              "        vertical-align: middle;\n",
              "    }\n",
              "\n",
              "    .dataframe tbody tr th {\n",
              "        vertical-align: top;\n",
              "    }\n",
              "\n",
              "    .dataframe thead th {\n",
              "        text-align: right;\n",
              "    }\n",
              "</style>\n",
              "<table border=\"1\" class=\"dataframe\">\n",
              "  <thead>\n",
              "    <tr style=\"text-align: right;\">\n",
              "      <th></th>\n",
              "      <th>rainfall_mm</th>\n",
              "      <th>country</th>\n",
              "      <th>iso3</th>\n",
              "    </tr>\n",
              "    <tr>\n",
              "      <th>quartil</th>\n",
              "      <th></th>\n",
              "      <th></th>\n",
              "      <th></th>\n",
              "    </tr>\n",
              "  </thead>\n",
              "  <tbody>\n",
              "    <tr>\n",
              "      <th>min</th>\n",
              "      <td>15.4</td>\n",
              "      <td>Canada</td>\n",
              "      <td>CAN</td>\n",
              "    </tr>\n",
              "    <tr>\n",
              "      <th>25%</th>\n",
              "      <td>26.8</td>\n",
              "      <td>Canada</td>\n",
              "      <td>CAN</td>\n",
              "    </tr>\n",
              "    <tr>\n",
              "      <th>50%</th>\n",
              "      <td>34.5</td>\n",
              "      <td>Canada</td>\n",
              "      <td>CAN</td>\n",
              "    </tr>\n",
              "    <tr>\n",
              "      <th>75%</th>\n",
              "      <td>48.3</td>\n",
              "      <td>Canada</td>\n",
              "      <td>CAN</td>\n",
              "    </tr>\n",
              "    <tr>\n",
              "      <th>max</th>\n",
              "      <td>69.6</td>\n",
              "      <td>Canada</td>\n",
              "      <td>CAN</td>\n",
              "    </tr>\n",
              "  </tbody>\n",
              "</table>\n",
              "</div>"
            ],
            "text/plain": [
              "         rainfall_mm country iso3\n",
              "quartil                          \n",
              "min             15.4  Canada  CAN\n",
              "25%             26.8  Canada  CAN\n",
              "50%             34.5  Canada  CAN\n",
              "75%             48.3  Canada  CAN\n",
              "max             69.6  Canada  CAN"
            ]
          },
          "metadata": {},
          "execution_count": 43
        }
      ]
    },
    {
      "cell_type": "code",
      "metadata": {
        "id": "3aQcDIjuSDFJ"
      },
      "source": [
        "path_quartil_pr ='/content/drive/MyDrive/Temperatura_Precipitacao_analises/notebooks/Quartiles/PR_AVG/'"
      ],
      "execution_count": 44,
      "outputs": []
    },
    {
      "cell_type": "code",
      "metadata": {
        "id": "jXPCzcpyQTqS"
      },
      "source": [
        "general_quartile.to_csv(f\"{path_quartil_pr}{pais}_Rainfall(MM)_General_Quartile.csv\")"
      ],
      "execution_count": 45,
      "outputs": []
    },
    {
      "cell_type": "code",
      "metadata": {
        "id": "dERTQ7YBQy8F",
        "colab": {
          "base_uri": "https://localhost:8080/",
          "height": 235
        },
        "outputId": "75ecdf68-c4e1-476b-a765-af0845b05907"
      },
      "source": [
        "seasons_quartiles=\\\n",
        "(\n",
        "    df_pr_season.pivot(columns='season')\n",
        "    .describe()\n",
        "    .loc[['min','25%','50%','75%',\"max\"]]\n",
        "    .round(2)\n",
        "    \n",
        "    \n",
        ")\n",
        "\n",
        "#quartil_temp_seasons.columns=quartil_temp_seasons.columns.droplevel()\n",
        "seasons_quartiles"
      ],
      "execution_count": 46,
      "outputs": [
        {
          "output_type": "execute_result",
          "data": {
            "text/html": [
              "<div>\n",
              "<style scoped>\n",
              "    .dataframe tbody tr th:only-of-type {\n",
              "        vertical-align: middle;\n",
              "    }\n",
              "\n",
              "    .dataframe tbody tr th {\n",
              "        vertical-align: top;\n",
              "    }\n",
              "\n",
              "    .dataframe thead tr th {\n",
              "        text-align: left;\n",
              "    }\n",
              "</style>\n",
              "<table border=\"1\" class=\"dataframe\">\n",
              "  <thead>\n",
              "    <tr>\n",
              "      <th></th>\n",
              "      <th colspan=\"4\" halign=\"left\">rainfall_mm</th>\n",
              "    </tr>\n",
              "    <tr>\n",
              "      <th>season</th>\n",
              "      <th>autumn</th>\n",
              "      <th>spring</th>\n",
              "      <th>summer</th>\n",
              "      <th>winter</th>\n",
              "    </tr>\n",
              "  </thead>\n",
              "  <tbody>\n",
              "    <tr>\n",
              "      <th>min</th>\n",
              "      <td>27.00</td>\n",
              "      <td>16.90</td>\n",
              "      <td>39.3</td>\n",
              "      <td>15.40</td>\n",
              "    </tr>\n",
              "    <tr>\n",
              "      <th>25%</th>\n",
              "      <td>36.75</td>\n",
              "      <td>24.20</td>\n",
              "      <td>50.3</td>\n",
              "      <td>23.15</td>\n",
              "    </tr>\n",
              "    <tr>\n",
              "      <th>50%</th>\n",
              "      <td>41.50</td>\n",
              "      <td>26.40</td>\n",
              "      <td>55.6</td>\n",
              "      <td>27.60</td>\n",
              "    </tr>\n",
              "    <tr>\n",
              "      <th>75%</th>\n",
              "      <td>46.50</td>\n",
              "      <td>30.65</td>\n",
              "      <td>59.2</td>\n",
              "      <td>30.40</td>\n",
              "    </tr>\n",
              "    <tr>\n",
              "      <th>max</th>\n",
              "      <td>57.30</td>\n",
              "      <td>40.40</td>\n",
              "      <td>69.6</td>\n",
              "      <td>38.50</td>\n",
              "    </tr>\n",
              "  </tbody>\n",
              "</table>\n",
              "</div>"
            ],
            "text/plain": [
              "       rainfall_mm                     \n",
              "season      autumn spring summer winter\n",
              "min          27.00  16.90   39.3  15.40\n",
              "25%          36.75  24.20   50.3  23.15\n",
              "50%          41.50  26.40   55.6  27.60\n",
              "75%          46.50  30.65   59.2  30.40\n",
              "max          57.30  40.40   69.6  38.50"
            ]
          },
          "metadata": {},
          "execution_count": 46
        }
      ]
    },
    {
      "cell_type": "code",
      "metadata": {
        "id": "SJ5HwFtIsUKm",
        "colab": {
          "base_uri": "https://localhost:8080/",
          "height": 235
        },
        "outputId": "2028d128-6cc2-47f0-c047-d7d7164f438f"
      },
      "source": [
        "seasons_quartiles.columns=\\\n",
        "(\n",
        "    seasons_quartiles.columns.droplevel().add_categories(['country','iso3'])\n",
        "       \n",
        ")\n",
        "seasons_quartiles=seasons_quartiles.assign(country=country).assign(iso3=iso3)\n",
        "seasons_quartiles.index.name='quartil'\n",
        "seasons_quartiles"
      ],
      "execution_count": 47,
      "outputs": [
        {
          "output_type": "execute_result",
          "data": {
            "text/html": [
              "<div>\n",
              "<style scoped>\n",
              "    .dataframe tbody tr th:only-of-type {\n",
              "        vertical-align: middle;\n",
              "    }\n",
              "\n",
              "    .dataframe tbody tr th {\n",
              "        vertical-align: top;\n",
              "    }\n",
              "\n",
              "    .dataframe thead th {\n",
              "        text-align: right;\n",
              "    }\n",
              "</style>\n",
              "<table border=\"1\" class=\"dataframe\">\n",
              "  <thead>\n",
              "    <tr style=\"text-align: right;\">\n",
              "      <th>season</th>\n",
              "      <th>autumn</th>\n",
              "      <th>spring</th>\n",
              "      <th>summer</th>\n",
              "      <th>winter</th>\n",
              "      <th>country</th>\n",
              "      <th>iso3</th>\n",
              "    </tr>\n",
              "    <tr>\n",
              "      <th>quartil</th>\n",
              "      <th></th>\n",
              "      <th></th>\n",
              "      <th></th>\n",
              "      <th></th>\n",
              "      <th></th>\n",
              "      <th></th>\n",
              "    </tr>\n",
              "  </thead>\n",
              "  <tbody>\n",
              "    <tr>\n",
              "      <th>min</th>\n",
              "      <td>27.00</td>\n",
              "      <td>16.90</td>\n",
              "      <td>39.3</td>\n",
              "      <td>15.40</td>\n",
              "      <td>Canada</td>\n",
              "      <td>CAN</td>\n",
              "    </tr>\n",
              "    <tr>\n",
              "      <th>25%</th>\n",
              "      <td>36.75</td>\n",
              "      <td>24.20</td>\n",
              "      <td>50.3</td>\n",
              "      <td>23.15</td>\n",
              "      <td>Canada</td>\n",
              "      <td>CAN</td>\n",
              "    </tr>\n",
              "    <tr>\n",
              "      <th>50%</th>\n",
              "      <td>41.50</td>\n",
              "      <td>26.40</td>\n",
              "      <td>55.6</td>\n",
              "      <td>27.60</td>\n",
              "      <td>Canada</td>\n",
              "      <td>CAN</td>\n",
              "    </tr>\n",
              "    <tr>\n",
              "      <th>75%</th>\n",
              "      <td>46.50</td>\n",
              "      <td>30.65</td>\n",
              "      <td>59.2</td>\n",
              "      <td>30.40</td>\n",
              "      <td>Canada</td>\n",
              "      <td>CAN</td>\n",
              "    </tr>\n",
              "    <tr>\n",
              "      <th>max</th>\n",
              "      <td>57.30</td>\n",
              "      <td>40.40</td>\n",
              "      <td>69.6</td>\n",
              "      <td>38.50</td>\n",
              "      <td>Canada</td>\n",
              "      <td>CAN</td>\n",
              "    </tr>\n",
              "  </tbody>\n",
              "</table>\n",
              "</div>"
            ],
            "text/plain": [
              "season   autumn  spring  summer  winter country iso3\n",
              "quartil                                             \n",
              "min       27.00   16.90    39.3   15.40  Canada  CAN\n",
              "25%       36.75   24.20    50.3   23.15  Canada  CAN\n",
              "50%       41.50   26.40    55.6   27.60  Canada  CAN\n",
              "75%       46.50   30.65    59.2   30.40  Canada  CAN\n",
              "max       57.30   40.40    69.6   38.50  Canada  CAN"
            ]
          },
          "metadata": {},
          "execution_count": 47
        }
      ]
    },
    {
      "cell_type": "code",
      "metadata": {
        "id": "L65OkSR-Q2Uk"
      },
      "source": [
        "seasons_quartiles.to_csv(f\"{path_quartil_pr}{pais}_Rainfall(MM)_Seasons_Quartiles.csv\")"
      ],
      "execution_count": 48,
      "outputs": []
    },
    {
      "cell_type": "markdown",
      "metadata": {
        "id": "ZgomclVWxdBc"
      },
      "source": [
        "#Quartiles for Year"
      ]
    },
    {
      "cell_type": "code",
      "metadata": {
        "id": "x_5TxFTZxeT-",
        "colab": {
          "base_uri": "https://localhost:8080/",
          "height": 450
        },
        "outputId": "ee6f4a99-afab-44d9-858e-c924ca8c3354"
      },
      "source": [
        "quartiles_for_year =\\\n",
        "(\n",
        "    df_pr_season_chart.pivot(columns='year')\n",
        "    .describe()\n",
        "    .loc[['min','25%','50%','75%',\"max\"]]\n",
        "    .T\n",
        "    .round(2) \n",
        " ).assign(country=country,iso3=iso3,tipo=tipo[:-1]).droplevel(0,0)\n",
        "    \n",
        "quartiles_for_year"
      ],
      "execution_count": 49,
      "outputs": [
        {
          "output_type": "execute_result",
          "data": {
            "text/html": [
              "<div>\n",
              "<style scoped>\n",
              "    .dataframe tbody tr th:only-of-type {\n",
              "        vertical-align: middle;\n",
              "    }\n",
              "\n",
              "    .dataframe tbody tr th {\n",
              "        vertical-align: top;\n",
              "    }\n",
              "\n",
              "    .dataframe thead th {\n",
              "        text-align: right;\n",
              "    }\n",
              "</style>\n",
              "<table border=\"1\" class=\"dataframe\">\n",
              "  <thead>\n",
              "    <tr style=\"text-align: right;\">\n",
              "      <th></th>\n",
              "      <th>min</th>\n",
              "      <th>25%</th>\n",
              "      <th>50%</th>\n",
              "      <th>75%</th>\n",
              "      <th>max</th>\n",
              "      <th>country</th>\n",
              "      <th>iso3</th>\n",
              "      <th>tipo</th>\n",
              "    </tr>\n",
              "    <tr>\n",
              "      <th>year</th>\n",
              "      <th></th>\n",
              "      <th></th>\n",
              "      <th></th>\n",
              "      <th></th>\n",
              "      <th></th>\n",
              "      <th></th>\n",
              "      <th></th>\n",
              "      <th></th>\n",
              "    </tr>\n",
              "  </thead>\n",
              "  <tbody>\n",
              "    <tr>\n",
              "      <th>1960</th>\n",
              "      <td>22.7</td>\n",
              "      <td>27.45</td>\n",
              "      <td>34.10</td>\n",
              "      <td>44.08</td>\n",
              "      <td>59.2</td>\n",
              "      <td>Canada</td>\n",
              "      <td>CAN</td>\n",
              "      <td>pr</td>\n",
              "    </tr>\n",
              "    <tr>\n",
              "      <th>1961</th>\n",
              "      <td>23.3</td>\n",
              "      <td>26.15</td>\n",
              "      <td>33.45</td>\n",
              "      <td>45.30</td>\n",
              "      <td>54.0</td>\n",
              "      <td>Canada</td>\n",
              "      <td>CAN</td>\n",
              "      <td>pr</td>\n",
              "    </tr>\n",
              "    <tr>\n",
              "      <th>1962</th>\n",
              "      <td>20.1</td>\n",
              "      <td>29.38</td>\n",
              "      <td>34.45</td>\n",
              "      <td>45.62</td>\n",
              "      <td>60.8</td>\n",
              "      <td>Canada</td>\n",
              "      <td>CAN</td>\n",
              "      <td>pr</td>\n",
              "    </tr>\n",
              "    <tr>\n",
              "      <th>1963</th>\n",
              "      <td>24.0</td>\n",
              "      <td>27.35</td>\n",
              "      <td>32.30</td>\n",
              "      <td>45.90</td>\n",
              "      <td>64.9</td>\n",
              "      <td>Canada</td>\n",
              "      <td>CAN</td>\n",
              "      <td>pr</td>\n",
              "    </tr>\n",
              "    <tr>\n",
              "      <th>1964</th>\n",
              "      <td>23.1</td>\n",
              "      <td>29.50</td>\n",
              "      <td>34.60</td>\n",
              "      <td>47.82</td>\n",
              "      <td>58.3</td>\n",
              "      <td>Canada</td>\n",
              "      <td>CAN</td>\n",
              "      <td>pr</td>\n",
              "    </tr>\n",
              "    <tr>\n",
              "      <th>...</th>\n",
              "      <td>...</td>\n",
              "      <td>...</td>\n",
              "      <td>...</td>\n",
              "      <td>...</td>\n",
              "      <td>...</td>\n",
              "      <td>...</td>\n",
              "      <td>...</td>\n",
              "      <td>...</td>\n",
              "    </tr>\n",
              "    <tr>\n",
              "      <th>2016</th>\n",
              "      <td>24.9</td>\n",
              "      <td>26.30</td>\n",
              "      <td>32.60</td>\n",
              "      <td>49.00</td>\n",
              "      <td>60.0</td>\n",
              "      <td>Canada</td>\n",
              "      <td>CAN</td>\n",
              "      <td>pr</td>\n",
              "    </tr>\n",
              "    <tr>\n",
              "      <th>2017</th>\n",
              "      <td>23.3</td>\n",
              "      <td>27.67</td>\n",
              "      <td>36.15</td>\n",
              "      <td>46.42</td>\n",
              "      <td>57.2</td>\n",
              "      <td>Canada</td>\n",
              "      <td>CAN</td>\n",
              "      <td>pr</td>\n",
              "    </tr>\n",
              "    <tr>\n",
              "      <th>2018</th>\n",
              "      <td>22.0</td>\n",
              "      <td>27.50</td>\n",
              "      <td>33.25</td>\n",
              "      <td>47.38</td>\n",
              "      <td>54.5</td>\n",
              "      <td>Canada</td>\n",
              "      <td>CAN</td>\n",
              "      <td>pr</td>\n",
              "    </tr>\n",
              "    <tr>\n",
              "      <th>2019</th>\n",
              "      <td>19.6</td>\n",
              "      <td>27.55</td>\n",
              "      <td>31.90</td>\n",
              "      <td>49.30</td>\n",
              "      <td>58.9</td>\n",
              "      <td>Canada</td>\n",
              "      <td>CAN</td>\n",
              "      <td>pr</td>\n",
              "    </tr>\n",
              "    <tr>\n",
              "      <th>2020</th>\n",
              "      <td>20.3</td>\n",
              "      <td>26.55</td>\n",
              "      <td>33.40</td>\n",
              "      <td>45.68</td>\n",
              "      <td>56.7</td>\n",
              "      <td>Canada</td>\n",
              "      <td>CAN</td>\n",
              "      <td>pr</td>\n",
              "    </tr>\n",
              "  </tbody>\n",
              "</table>\n",
              "<p>61 rows × 8 columns</p>\n",
              "</div>"
            ],
            "text/plain": [
              "       min    25%    50%    75%   max country iso3 tipo\n",
              "year                                                   \n",
              "1960  22.7  27.45  34.10  44.08  59.2  Canada  CAN   pr\n",
              "1961  23.3  26.15  33.45  45.30  54.0  Canada  CAN   pr\n",
              "1962  20.1  29.38  34.45  45.62  60.8  Canada  CAN   pr\n",
              "1963  24.0  27.35  32.30  45.90  64.9  Canada  CAN   pr\n",
              "1964  23.1  29.50  34.60  47.82  58.3  Canada  CAN   pr\n",
              "...    ...    ...    ...    ...   ...     ...  ...  ...\n",
              "2016  24.9  26.30  32.60  49.00  60.0  Canada  CAN   pr\n",
              "2017  23.3  27.67  36.15  46.42  57.2  Canada  CAN   pr\n",
              "2018  22.0  27.50  33.25  47.38  54.5  Canada  CAN   pr\n",
              "2019  19.6  27.55  31.90  49.30  58.9  Canada  CAN   pr\n",
              "2020  20.3  26.55  33.40  45.68  56.7  Canada  CAN   pr\n",
              "\n",
              "[61 rows x 8 columns]"
            ]
          },
          "metadata": {},
          "execution_count": 49
        }
      ]
    },
    {
      "cell_type": "code",
      "metadata": {
        "id": "I2LCQGUkxgE2"
      },
      "source": [
        "path_quartil_year ='/content/drive/MyDrive/Temperatura_Precipitacao_analises/limpos/quartile_for_year/'\n",
        "quartiles_for_year.to_csv(f\"{path_quartil_year}{pais}_{tipo}_quartiles_for_year.csv\")\n",
        "    "
      ],
      "execution_count": 50,
      "outputs": []
    }
  ]
}