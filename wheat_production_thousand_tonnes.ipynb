{
  "nbformat": 4,
  "nbformat_minor": 0,
  "metadata": {
    "colab": {
      "name": "wheat_production_thousand_tonnes.ipynb",
      "provenance": [],
      "collapsed_sections": [],
      "authorship_tag": "ABX9TyOlHuAjlo2TEpAJSzP4rciM",
      "include_colab_link": true
    },
    "kernelspec": {
      "name": "python3",
      "display_name": "Python 3"
    },
    "language_info": {
      "name": "python"
    }
  },
  "cells": [
    {
      "cell_type": "markdown",
      "metadata": {
        "id": "view-in-github",
        "colab_type": "text"
      },
      "source": [
        "<a href=\"https://colab.research.google.com/github/Renata-Thomazelli/mentoria2021/blob/main/wheat_production_thousand_tonnes.ipynb\" target=\"_parent\"><img src=\"https://colab.research.google.com/assets/colab-badge.svg\" alt=\"Open In Colab\"/></a>"
      ]
    },
    {
      "cell_type": "markdown",
      "metadata": {
        "id": "P0kNeHowuC3t"
      },
      "source": [
        "# ***Analysing the wheat production***\n",
        "\n",
        "---"
      ]
    },
    {
      "cell_type": "code",
      "metadata": {
        "colab": {
          "base_uri": "https://localhost:8080/"
        },
        "id": "wmXlRN-5ZPp-",
        "outputId": "66b3c8e2-4f50-47f2-fffa-d9cf6cc4628b"
      },
      "source": [
        "# Importing Drive\n",
        "from google.colab import drive\n",
        "\n",
        "drive.mount('/content/drive')"
      ],
      "execution_count": 26,
      "outputs": [
        {
          "output_type": "stream",
          "name": "stdout",
          "text": [
            "Drive already mounted at /content/drive; to attempt to forcibly remount, call drive.mount(\"/content/drive\", force_remount=True).\n"
          ]
        }
      ]
    },
    {
      "cell_type": "code",
      "metadata": {
        "id": "0BOnVmPYZXzE"
      },
      "source": [
        "#Importing \n",
        "import pandas as pd\n",
        "import numpy as np\n",
        "import chardet\n",
        "import missingno as msno\n",
        "import matplotlib.pyplot as plt\n",
        "\n",
        "%matplotlib inline"
      ],
      "execution_count": 27,
      "outputs": []
    },
    {
      "cell_type": "markdown",
      "metadata": {
        "id": "hiy_NiY7ZnNp"
      },
      "source": [
        "## Reading CSV\n",
        "\n",
        "---"
      ]
    },
    {
      "cell_type": "code",
      "metadata": {
        "id": "P_BwqZ22ZmFx"
      },
      "source": [
        "\n",
        "file_path ='/content/drive/MyDrive/Data_Lake/wheat_production/'\n",
        "file = 'paises_produtores.csv'"
      ],
      "execution_count": 28,
      "outputs": []
    },
    {
      "cell_type": "markdown",
      "metadata": {
        "id": "J_aDP1yYsXNB"
      },
      "source": [
        "Reading encoding"
      ]
    },
    {
      "cell_type": "code",
      "metadata": {
        "colab": {
          "base_uri": "https://localhost:8080/"
        },
        "id": "qjPVLylDfEBY",
        "outputId": "a3b96955-9011-40c6-d2c0-da69b5d4bb40"
      },
      "source": [
        "with open(f\"{file_path}{file}\", 'rb') as encoding:\n",
        "    r_encoding = chardet.detect(encoding.read(100000))\n",
        "r_encoding"
      ],
      "execution_count": 29,
      "outputs": [
        {
          "output_type": "execute_result",
          "data": {
            "text/plain": [
              "{'confidence': 1.0, 'encoding': 'ascii', 'language': ''}"
            ]
          },
          "metadata": {},
          "execution_count": 29
        }
      ]
    },
    {
      "cell_type": "markdown",
      "metadata": {
        "id": "WfMO_xSmsafe"
      },
      "source": [
        "Reading CSV"
      ]
    },
    {
      "cell_type": "code",
      "metadata": {
        "id": "9gWVFiMSauTA"
      },
      "source": [
        "with open (f\"{file_path}{file}\",'r',encoding=r_encoding['encoding']) as countries:\n",
        "  df_countries = pd.read_csv(countries)\n"
      ],
      "execution_count": 30,
      "outputs": []
    },
    {
      "cell_type": "markdown",
      "metadata": {
        "id": "BtwYOpZ1sd_Z"
      },
      "source": [
        "# Dataframe"
      ]
    },
    {
      "cell_type": "markdown",
      "metadata": {
        "id": "5ewE_Wg1EGX5"
      },
      "source": [
        "**A Alemanha e a França não constam na base original dos países com produção de Trigo**\n",
        "\n",
        "---"
      ]
    },
    {
      "cell_type": "code",
      "metadata": {
        "id": "YoXKHt3GbAb4",
        "colab": {
          "base_uri": "https://localhost:8080/",
          "height": 419
        },
        "outputId": "07242c16-1862-4433-c5ba-f80b28e4fc72"
      },
      "source": [
        "df_countries"
      ],
      "execution_count": 31,
      "outputs": [
        {
          "output_type": "execute_result",
          "data": {
            "text/html": [
              "<div>\n",
              "<style scoped>\n",
              "    .dataframe tbody tr th:only-of-type {\n",
              "        vertical-align: middle;\n",
              "    }\n",
              "\n",
              "    .dataframe tbody tr th {\n",
              "        vertical-align: top;\n",
              "    }\n",
              "\n",
              "    .dataframe thead th {\n",
              "        text-align: right;\n",
              "    }\n",
              "</style>\n",
              "<table border=\"1\" class=\"dataframe\">\n",
              "  <thead>\n",
              "    <tr style=\"text-align: right;\">\n",
              "      <th></th>\n",
              "      <th>Country</th>\n",
              "      <th>Australia</th>\n",
              "      <th>Brazil</th>\n",
              "      <th>Canada</th>\n",
              "      <th>China</th>\n",
              "      <th>Egypt</th>\n",
              "      <th>India</th>\n",
              "      <th>Indonesia</th>\n",
              "      <th>Philippines</th>\n",
              "      <th>Russia</th>\n",
              "      <th>Turkey</th>\n",
              "      <th>United Kingdom</th>\n",
              "      <th>United States</th>\n",
              "    </tr>\n",
              "  </thead>\n",
              "  <tbody>\n",
              "    <tr>\n",
              "      <th>0</th>\n",
              "      <td>Commodity</td>\n",
              "      <td>Wheat</td>\n",
              "      <td>Wheat</td>\n",
              "      <td>Wheat</td>\n",
              "      <td>Wheat</td>\n",
              "      <td>Wheat</td>\n",
              "      <td>Wheat</td>\n",
              "      <td>Wheat</td>\n",
              "      <td>Wheat</td>\n",
              "      <td>Wheat</td>\n",
              "      <td>Wheat</td>\n",
              "      <td>Wheat</td>\n",
              "      <td>Wheat</td>\n",
              "    </tr>\n",
              "    <tr>\n",
              "      <th>1</th>\n",
              "      <td>Attribute</td>\n",
              "      <td>Production</td>\n",
              "      <td>Production</td>\n",
              "      <td>Production</td>\n",
              "      <td>Production</td>\n",
              "      <td>Production</td>\n",
              "      <td>Production</td>\n",
              "      <td>Production</td>\n",
              "      <td>Production</td>\n",
              "      <td>Production</td>\n",
              "      <td>Production</td>\n",
              "      <td>Production</td>\n",
              "      <td>Production</td>\n",
              "    </tr>\n",
              "    <tr>\n",
              "      <th>2</th>\n",
              "      <td>Frequency</td>\n",
              "      <td>A</td>\n",
              "      <td>A</td>\n",
              "      <td>A</td>\n",
              "      <td>A</td>\n",
              "      <td>A</td>\n",
              "      <td>A</td>\n",
              "      <td>A</td>\n",
              "      <td>A</td>\n",
              "      <td>A</td>\n",
              "      <td>A</td>\n",
              "      <td>A</td>\n",
              "      <td>A</td>\n",
              "    </tr>\n",
              "    <tr>\n",
              "      <th>3</th>\n",
              "      <td>1960-01-01</td>\n",
              "      <td>7450.0</td>\n",
              "      <td>350.0</td>\n",
              "      <td>14108.0</td>\n",
              "      <td>20960.0</td>\n",
              "      <td>1499.0</td>\n",
              "      <td>10320.0</td>\n",
              "      <td>0.0</td>\n",
              "      <td>0.0</td>\n",
              "      <td>NaN</td>\n",
              "      <td>7000.0</td>\n",
              "      <td>NaN</td>\n",
              "      <td>36877.0</td>\n",
              "    </tr>\n",
              "    <tr>\n",
              "      <th>4</th>\n",
              "      <td>1961-01-01</td>\n",
              "      <td>6727.0</td>\n",
              "      <td>250.0</td>\n",
              "      <td>7713.0</td>\n",
              "      <td>14250.0</td>\n",
              "      <td>1436.0</td>\n",
              "      <td>10995.0</td>\n",
              "      <td>0.0</td>\n",
              "      <td>0.0</td>\n",
              "      <td>NaN</td>\n",
              "      <td>6336.0</td>\n",
              "      <td>NaN</td>\n",
              "      <td>33557.0</td>\n",
              "    </tr>\n",
              "    <tr>\n",
              "      <th>...</th>\n",
              "      <td>...</td>\n",
              "      <td>...</td>\n",
              "      <td>...</td>\n",
              "      <td>...</td>\n",
              "      <td>...</td>\n",
              "      <td>...</td>\n",
              "      <td>...</td>\n",
              "      <td>...</td>\n",
              "      <td>...</td>\n",
              "      <td>...</td>\n",
              "      <td>...</td>\n",
              "      <td>...</td>\n",
              "      <td>...</td>\n",
              "    </tr>\n",
              "    <tr>\n",
              "      <th>60</th>\n",
              "      <td>2017-01-01</td>\n",
              "      <td>20941.0</td>\n",
              "      <td>4264.0</td>\n",
              "      <td>30377.0</td>\n",
              "      <td>134334.0</td>\n",
              "      <td>8450.0</td>\n",
              "      <td>98510.0</td>\n",
              "      <td>0.0</td>\n",
              "      <td>0.0</td>\n",
              "      <td>85167.0</td>\n",
              "      <td>21000.0</td>\n",
              "      <td>14444.0</td>\n",
              "      <td>47380.0</td>\n",
              "    </tr>\n",
              "    <tr>\n",
              "      <th>61</th>\n",
              "      <td>2018-01-01</td>\n",
              "      <td>17598.0</td>\n",
              "      <td>5428.0</td>\n",
              "      <td>32352.0</td>\n",
              "      <td>131430.0</td>\n",
              "      <td>8450.0</td>\n",
              "      <td>99870.0</td>\n",
              "      <td>0.0</td>\n",
              "      <td>0.0</td>\n",
              "      <td>71685.0</td>\n",
              "      <td>19000.0</td>\n",
              "      <td>13455.0</td>\n",
              "      <td>51306.0</td>\n",
              "    </tr>\n",
              "    <tr>\n",
              "      <th>62</th>\n",
              "      <td>2019-01-01</td>\n",
              "      <td>15200.0</td>\n",
              "      <td>5200.0</td>\n",
              "      <td>32670.0</td>\n",
              "      <td>133590.0</td>\n",
              "      <td>8770.0</td>\n",
              "      <td>103600.0</td>\n",
              "      <td>0.0</td>\n",
              "      <td>0.0</td>\n",
              "      <td>73610.0</td>\n",
              "      <td>17500.0</td>\n",
              "      <td>15600.0</td>\n",
              "      <td>52581.0</td>\n",
              "    </tr>\n",
              "    <tr>\n",
              "      <th>63</th>\n",
              "      <td>2020-01-01</td>\n",
              "      <td>33000.0</td>\n",
              "      <td>6250.0</td>\n",
              "      <td>35183.0</td>\n",
              "      <td>134250.0</td>\n",
              "      <td>8900.0</td>\n",
              "      <td>107860.0</td>\n",
              "      <td>0.0</td>\n",
              "      <td>0.0</td>\n",
              "      <td>85354.0</td>\n",
              "      <td>18250.0</td>\n",
              "      <td>9658.0</td>\n",
              "      <td>49691.0</td>\n",
              "    </tr>\n",
              "    <tr>\n",
              "      <th>64</th>\n",
              "      <td>2021-01-01</td>\n",
              "      <td>27000.0</td>\n",
              "      <td>6800.0</td>\n",
              "      <td>32000.0</td>\n",
              "      <td>136000.0</td>\n",
              "      <td>9000.0</td>\n",
              "      <td>108000.0</td>\n",
              "      <td>0.0</td>\n",
              "      <td>0.0</td>\n",
              "      <td>85000.0</td>\n",
              "      <td>17250.0</td>\n",
              "      <td>14100.0</td>\n",
              "      <td>50948.0</td>\n",
              "    </tr>\n",
              "  </tbody>\n",
              "</table>\n",
              "<p>65 rows × 13 columns</p>\n",
              "</div>"
            ],
            "text/plain": [
              "       Country   Australia      Brazil  ...      Turkey United Kingdom United States\n",
              "0    Commodity       Wheat       Wheat  ...       Wheat          Wheat         Wheat\n",
              "1    Attribute  Production  Production  ...  Production     Production    Production\n",
              "2    Frequency           A           A  ...           A              A             A\n",
              "3   1960-01-01      7450.0       350.0  ...      7000.0            NaN       36877.0\n",
              "4   1961-01-01      6727.0       250.0  ...      6336.0            NaN       33557.0\n",
              "..         ...         ...         ...  ...         ...            ...           ...\n",
              "60  2017-01-01     20941.0      4264.0  ...     21000.0        14444.0       47380.0\n",
              "61  2018-01-01     17598.0      5428.0  ...     19000.0        13455.0       51306.0\n",
              "62  2019-01-01     15200.0      5200.0  ...     17500.0        15600.0       52581.0\n",
              "63  2020-01-01     33000.0      6250.0  ...     18250.0         9658.0       49691.0\n",
              "64  2021-01-01     27000.0      6800.0  ...     17250.0        14100.0       50948.0\n",
              "\n",
              "[65 rows x 13 columns]"
            ]
          },
          "metadata": {},
          "execution_count": 31
        }
      ]
    },
    {
      "cell_type": "markdown",
      "metadata": {
        "id": "OR5WUEEEsx0m"
      },
      "source": [
        "## Renomeando as Colunas e dropando níveis desnecessários\n",
        "\n",
        "---"
      ]
    },
    {
      "cell_type": "code",
      "metadata": {
        "id": "roeabmgJhKB9"
      },
      "source": [
        "def replace (col): \n",
        "    return col.replace(\"-01-01\",'')"
      ],
      "execution_count": 32,
      "outputs": []
    },
    {
      "cell_type": "code",
      "metadata": {
        "colab": {
          "base_uri": "https://localhost:8080/"
        },
        "id": "h11zuvma33jp",
        "outputId": "53c8048a-f9c9-4f81-80ca-77ab3b2d81c7"
      },
      "source": [
        "df_countries.shape"
      ],
      "execution_count": 33,
      "outputs": [
        {
          "output_type": "execute_result",
          "data": {
            "text/plain": [
              "(65, 13)"
            ]
          },
          "metadata": {},
          "execution_count": 33
        }
      ]
    },
    {
      "cell_type": "code",
      "metadata": {
        "id": "W1M0bFWImfst"
      },
      "source": [
        "anos = {\"Country\":\"Years\"}\n",
        "df_countries=\\\n",
        "(\n",
        "    df_countries.drop(range(0,3))\n",
        "    .rename(columns=anos)\n",
        "    .set_index(\"Years\")\n",
        "    .rename(index=replace)\n",
        " )\n"
      ],
      "execution_count": 34,
      "outputs": []
    },
    {
      "cell_type": "code",
      "metadata": {
        "colab": {
          "base_uri": "https://localhost:8080/"
        },
        "id": "2773Jf6k3-cX",
        "outputId": "5b5e5296-8380-4258-92c3-e1c3c607fec7"
      },
      "source": [
        "df_countries.shape"
      ],
      "execution_count": 35,
      "outputs": [
        {
          "output_type": "execute_result",
          "data": {
            "text/plain": [
              "(62, 12)"
            ]
          },
          "metadata": {},
          "execution_count": 35
        }
      ]
    },
    {
      "cell_type": "code",
      "metadata": {
        "colab": {
          "base_uri": "https://localhost:8080/",
          "height": 450
        },
        "id": "Ginxol_-jIJ0",
        "outputId": "dac2cbaf-d796-404d-ac40-fb4803827636"
      },
      "source": [
        "df_countries"
      ],
      "execution_count": 36,
      "outputs": [
        {
          "output_type": "execute_result",
          "data": {
            "text/html": [
              "<div>\n",
              "<style scoped>\n",
              "    .dataframe tbody tr th:only-of-type {\n",
              "        vertical-align: middle;\n",
              "    }\n",
              "\n",
              "    .dataframe tbody tr th {\n",
              "        vertical-align: top;\n",
              "    }\n",
              "\n",
              "    .dataframe thead th {\n",
              "        text-align: right;\n",
              "    }\n",
              "</style>\n",
              "<table border=\"1\" class=\"dataframe\">\n",
              "  <thead>\n",
              "    <tr style=\"text-align: right;\">\n",
              "      <th></th>\n",
              "      <th>Australia</th>\n",
              "      <th>Brazil</th>\n",
              "      <th>Canada</th>\n",
              "      <th>China</th>\n",
              "      <th>Egypt</th>\n",
              "      <th>India</th>\n",
              "      <th>Indonesia</th>\n",
              "      <th>Philippines</th>\n",
              "      <th>Russia</th>\n",
              "      <th>Turkey</th>\n",
              "      <th>United Kingdom</th>\n",
              "      <th>United States</th>\n",
              "    </tr>\n",
              "    <tr>\n",
              "      <th>Years</th>\n",
              "      <th></th>\n",
              "      <th></th>\n",
              "      <th></th>\n",
              "      <th></th>\n",
              "      <th></th>\n",
              "      <th></th>\n",
              "      <th></th>\n",
              "      <th></th>\n",
              "      <th></th>\n",
              "      <th></th>\n",
              "      <th></th>\n",
              "      <th></th>\n",
              "    </tr>\n",
              "  </thead>\n",
              "  <tbody>\n",
              "    <tr>\n",
              "      <th>1960</th>\n",
              "      <td>7450.0</td>\n",
              "      <td>350.0</td>\n",
              "      <td>14108.0</td>\n",
              "      <td>20960.0</td>\n",
              "      <td>1499.0</td>\n",
              "      <td>10320.0</td>\n",
              "      <td>0.0</td>\n",
              "      <td>0.0</td>\n",
              "      <td>NaN</td>\n",
              "      <td>7000.0</td>\n",
              "      <td>NaN</td>\n",
              "      <td>36877.0</td>\n",
              "    </tr>\n",
              "    <tr>\n",
              "      <th>1961</th>\n",
              "      <td>6727.0</td>\n",
              "      <td>250.0</td>\n",
              "      <td>7713.0</td>\n",
              "      <td>14250.0</td>\n",
              "      <td>1436.0</td>\n",
              "      <td>10995.0</td>\n",
              "      <td>0.0</td>\n",
              "      <td>0.0</td>\n",
              "      <td>NaN</td>\n",
              "      <td>6336.0</td>\n",
              "      <td>NaN</td>\n",
              "      <td>33557.0</td>\n",
              "    </tr>\n",
              "    <tr>\n",
              "      <th>1962</th>\n",
              "      <td>8353.0</td>\n",
              "      <td>256.0</td>\n",
              "      <td>15392.0</td>\n",
              "      <td>16665.0</td>\n",
              "      <td>1593.0</td>\n",
              "      <td>12076.0</td>\n",
              "      <td>0.0</td>\n",
              "      <td>0.0</td>\n",
              "      <td>NaN</td>\n",
              "      <td>6804.0</td>\n",
              "      <td>NaN</td>\n",
              "      <td>29719.0</td>\n",
              "    </tr>\n",
              "    <tr>\n",
              "      <th>1963</th>\n",
              "      <td>8925.0</td>\n",
              "      <td>100.0</td>\n",
              "      <td>19690.0</td>\n",
              "      <td>18475.0</td>\n",
              "      <td>1493.0</td>\n",
              "      <td>10779.0</td>\n",
              "      <td>0.0</td>\n",
              "      <td>0.0</td>\n",
              "      <td>NaN</td>\n",
              "      <td>7892.0</td>\n",
              "      <td>NaN</td>\n",
              "      <td>31216.0</td>\n",
              "    </tr>\n",
              "    <tr>\n",
              "      <th>1964</th>\n",
              "      <td>10037.0</td>\n",
              "      <td>226.0</td>\n",
              "      <td>16349.0</td>\n",
              "      <td>20840.0</td>\n",
              "      <td>1500.0</td>\n",
              "      <td>9854.0</td>\n",
              "      <td>0.0</td>\n",
              "      <td>0.0</td>\n",
              "      <td>NaN</td>\n",
              "      <td>7000.0</td>\n",
              "      <td>NaN</td>\n",
              "      <td>34917.0</td>\n",
              "    </tr>\n",
              "    <tr>\n",
              "      <th>...</th>\n",
              "      <td>...</td>\n",
              "      <td>...</td>\n",
              "      <td>...</td>\n",
              "      <td>...</td>\n",
              "      <td>...</td>\n",
              "      <td>...</td>\n",
              "      <td>...</td>\n",
              "      <td>...</td>\n",
              "      <td>...</td>\n",
              "      <td>...</td>\n",
              "      <td>...</td>\n",
              "      <td>...</td>\n",
              "    </tr>\n",
              "    <tr>\n",
              "      <th>2017</th>\n",
              "      <td>20941.0</td>\n",
              "      <td>4264.0</td>\n",
              "      <td>30377.0</td>\n",
              "      <td>134334.0</td>\n",
              "      <td>8450.0</td>\n",
              "      <td>98510.0</td>\n",
              "      <td>0.0</td>\n",
              "      <td>0.0</td>\n",
              "      <td>85167.0</td>\n",
              "      <td>21000.0</td>\n",
              "      <td>14444.0</td>\n",
              "      <td>47380.0</td>\n",
              "    </tr>\n",
              "    <tr>\n",
              "      <th>2018</th>\n",
              "      <td>17598.0</td>\n",
              "      <td>5428.0</td>\n",
              "      <td>32352.0</td>\n",
              "      <td>131430.0</td>\n",
              "      <td>8450.0</td>\n",
              "      <td>99870.0</td>\n",
              "      <td>0.0</td>\n",
              "      <td>0.0</td>\n",
              "      <td>71685.0</td>\n",
              "      <td>19000.0</td>\n",
              "      <td>13455.0</td>\n",
              "      <td>51306.0</td>\n",
              "    </tr>\n",
              "    <tr>\n",
              "      <th>2019</th>\n",
              "      <td>15200.0</td>\n",
              "      <td>5200.0</td>\n",
              "      <td>32670.0</td>\n",
              "      <td>133590.0</td>\n",
              "      <td>8770.0</td>\n",
              "      <td>103600.0</td>\n",
              "      <td>0.0</td>\n",
              "      <td>0.0</td>\n",
              "      <td>73610.0</td>\n",
              "      <td>17500.0</td>\n",
              "      <td>15600.0</td>\n",
              "      <td>52581.0</td>\n",
              "    </tr>\n",
              "    <tr>\n",
              "      <th>2020</th>\n",
              "      <td>33000.0</td>\n",
              "      <td>6250.0</td>\n",
              "      <td>35183.0</td>\n",
              "      <td>134250.0</td>\n",
              "      <td>8900.0</td>\n",
              "      <td>107860.0</td>\n",
              "      <td>0.0</td>\n",
              "      <td>0.0</td>\n",
              "      <td>85354.0</td>\n",
              "      <td>18250.0</td>\n",
              "      <td>9658.0</td>\n",
              "      <td>49691.0</td>\n",
              "    </tr>\n",
              "    <tr>\n",
              "      <th>2021</th>\n",
              "      <td>27000.0</td>\n",
              "      <td>6800.0</td>\n",
              "      <td>32000.0</td>\n",
              "      <td>136000.0</td>\n",
              "      <td>9000.0</td>\n",
              "      <td>108000.0</td>\n",
              "      <td>0.0</td>\n",
              "      <td>0.0</td>\n",
              "      <td>85000.0</td>\n",
              "      <td>17250.0</td>\n",
              "      <td>14100.0</td>\n",
              "      <td>50948.0</td>\n",
              "    </tr>\n",
              "  </tbody>\n",
              "</table>\n",
              "<p>62 rows × 12 columns</p>\n",
              "</div>"
            ],
            "text/plain": [
              "      Australia  Brazil   Canada  ...   Turkey United Kingdom United States\n",
              "Years                             ...                                      \n",
              "1960     7450.0   350.0  14108.0  ...   7000.0            NaN       36877.0\n",
              "1961     6727.0   250.0   7713.0  ...   6336.0            NaN       33557.0\n",
              "1962     8353.0   256.0  15392.0  ...   6804.0            NaN       29719.0\n",
              "1963     8925.0   100.0  19690.0  ...   7892.0            NaN       31216.0\n",
              "1964    10037.0   226.0  16349.0  ...   7000.0            NaN       34917.0\n",
              "...         ...     ...      ...  ...      ...            ...           ...\n",
              "2017    20941.0  4264.0  30377.0  ...  21000.0        14444.0       47380.0\n",
              "2018    17598.0  5428.0  32352.0  ...  19000.0        13455.0       51306.0\n",
              "2019    15200.0  5200.0  32670.0  ...  17500.0        15600.0       52581.0\n",
              "2020    33000.0  6250.0  35183.0  ...  18250.0         9658.0       49691.0\n",
              "2021    27000.0  6800.0  32000.0  ...  17250.0        14100.0       50948.0\n",
              "\n",
              "[62 rows x 12 columns]"
            ]
          },
          "metadata": {},
          "execution_count": 36
        }
      ]
    },
    {
      "cell_type": "code",
      "metadata": {
        "colab": {
          "base_uri": "https://localhost:8080/",
          "height": 707
        },
        "id": "RaB3rHQzE8OC",
        "outputId": "7c335a54-6ae6-4953-9b75-aedfbd92bec0"
      },
      "source": [
        "msno.matrix(df_countries)"
      ],
      "execution_count": 37,
      "outputs": [
        {
          "output_type": "execute_result",
          "data": {
            "text/plain": [
              "<matplotlib.axes._subplots.AxesSubplot at 0x7f049475a0d0>"
            ]
          },
          "metadata": {},
          "execution_count": 37
        },
        {
          "output_type": "display_data",
          "data": {
            "image/png": "[encoded data removed]",
            "text/plain": [
              "<Figure size 1800x720 with 2 Axes>"
            ]
          },
          "metadata": {
            "needs_background": "light"
          }
        }
      ]
    },
    {
      "cell_type": "code",
      "metadata": {
        "colab": {
          "base_uri": "https://localhost:8080/"
        },
        "id": "LP7oFpPInqfj",
        "outputId": "ed3246cf-14ea-4f03-c183-c2f2c7f7da68"
      },
      "source": [
        "df_countries.isna().sum()"
      ],
      "execution_count": 38,
      "outputs": [
        {
          "output_type": "execute_result",
          "data": {
            "text/plain": [
              "Australia          0\n",
              "Brazil             0\n",
              "Canada             0\n",
              "China              0\n",
              "Egypt              0\n",
              "India              0\n",
              "Indonesia          0\n",
              "Philippines        0\n",
              "Russia            27\n",
              "Turkey             0\n",
              "United Kingdom    56\n",
              "United States      0\n",
              "dtype: int64"
            ]
          },
          "metadata": {},
          "execution_count": 38
        }
      ]
    },
    {
      "cell_type": "code",
      "metadata": {
        "id": "4aW04gWyn8bi"
      },
      "source": [
        "#fillna and changing types\n",
        "df_countries =\\\n",
        "(\n",
        "    df_countries.fillna(0)\n",
        "    .astype(float)\n",
        "    .astype(int)\n",
        "   \n",
        ")\n",
        "\n"
      ],
      "execution_count": 39,
      "outputs": []
    },
    {
      "cell_type": "code",
      "metadata": {
        "colab": {
          "base_uri": "https://localhost:8080/",
          "height": 707
        },
        "id": "CveDqlcNFxuQ",
        "outputId": "44ada86f-d609-4991-cc2c-89b6ea684674"
      },
      "source": [
        "msno.matrix(df_countries)"
      ],
      "execution_count": 40,
      "outputs": [
        {
          "output_type": "execute_result",
          "data": {
            "text/plain": [
              "<matplotlib.axes._subplots.AxesSubplot at 0x7f0493ea0410>"
            ]
          },
          "metadata": {},
          "execution_count": 40
        },
        {
          "output_type": "display_data",
          "data": {
            "image/png": "[encoded data removed]",
            "text/plain": [
              "<Figure size 1800x720 with 2 Axes>"
            ]
          },
          "metadata": {
            "needs_background": "light"
          }
        }
      ]
    },
    {
      "cell_type": "code",
      "metadata": {
        "colab": {
          "base_uri": "https://localhost:8080/",
          "height": 235
        },
        "id": "CXyxASc-P-Rx",
        "outputId": "b45d5ee2-3263-496f-bb19-a8d09cf7a66d"
      },
      "source": [
        "#replacing name for ISO3 cod\n",
        "iso3 = {'Australia' :\"AUS\", 'Brazil':\"BRA\", 'Canada':\"CAN\", 'China':\"CHN\", 'Egypt':\"EGY\", 'India':\"IND\", 'Indonesia':\"IDN\",\n",
        "       'Philippines':\"PHL\", 'Russia':\"RUS\", 'Turkey':\"TUR\", 'United Kingdom':\"GBR\", 'United States':\"USA\"}\n",
        "\n",
        "df_countries_iso3=df_countries.rename(columns=iso3)\n",
        "df_countries_iso3.head()"
      ],
      "execution_count": 41,
      "outputs": [
        {
          "output_type": "execute_result",
          "data": {
            "text/html": [
              "<div>\n",
              "<style scoped>\n",
              "    .dataframe tbody tr th:only-of-type {\n",
              "        vertical-align: middle;\n",
              "    }\n",
              "\n",
              "    .dataframe tbody tr th {\n",
              "        vertical-align: top;\n",
              "    }\n",
              "\n",
              "    .dataframe thead th {\n",
              "        text-align: right;\n",
              "    }\n",
              "</style>\n",
              "<table border=\"1\" class=\"dataframe\">\n",
              "  <thead>\n",
              "    <tr style=\"text-align: right;\">\n",
              "      <th></th>\n",
              "      <th>AUS</th>\n",
              "      <th>BRA</th>\n",
              "      <th>CAN</th>\n",
              "      <th>CHN</th>\n",
              "      <th>EGY</th>\n",
              "      <th>IND</th>\n",
              "      <th>IDN</th>\n",
              "      <th>PHL</th>\n",
              "      <th>RUS</th>\n",
              "      <th>TUR</th>\n",
              "      <th>GBR</th>\n",
              "      <th>USA</th>\n",
              "    </tr>\n",
              "    <tr>\n",
              "      <th>Years</th>\n",
              "      <th></th>\n",
              "      <th></th>\n",
              "      <th></th>\n",
              "      <th></th>\n",
              "      <th></th>\n",
              "      <th></th>\n",
              "      <th></th>\n",
              "      <th></th>\n",
              "      <th></th>\n",
              "      <th></th>\n",
              "      <th></th>\n",
              "      <th></th>\n",
              "    </tr>\n",
              "  </thead>\n",
              "  <tbody>\n",
              "    <tr>\n",
              "      <th>1960</th>\n",
              "      <td>7450</td>\n",
              "      <td>350</td>\n",
              "      <td>14108</td>\n",
              "      <td>20960</td>\n",
              "      <td>1499</td>\n",
              "      <td>10320</td>\n",
              "      <td>0</td>\n",
              "      <td>0</td>\n",
              "      <td>0</td>\n",
              "      <td>7000</td>\n",
              "      <td>0</td>\n",
              "      <td>36877</td>\n",
              "    </tr>\n",
              "    <tr>\n",
              "      <th>1961</th>\n",
              "      <td>6727</td>\n",
              "      <td>250</td>\n",
              "      <td>7713</td>\n",
              "      <td>14250</td>\n",
              "      <td>1436</td>\n",
              "      <td>10995</td>\n",
              "      <td>0</td>\n",
              "      <td>0</td>\n",
              "      <td>0</td>\n",
              "      <td>6336</td>\n",
              "      <td>0</td>\n",
              "      <td>33557</td>\n",
              "    </tr>\n",
              "    <tr>\n",
              "      <th>1962</th>\n",
              "      <td>8353</td>\n",
              "      <td>256</td>\n",
              "      <td>15392</td>\n",
              "      <td>16665</td>\n",
              "      <td>1593</td>\n",
              "      <td>12076</td>\n",
              "      <td>0</td>\n",
              "      <td>0</td>\n",
              "      <td>0</td>\n",
              "      <td>6804</td>\n",
              "      <td>0</td>\n",
              "      <td>29719</td>\n",
              "    </tr>\n",
              "    <tr>\n",
              "      <th>1963</th>\n",
              "      <td>8925</td>\n",
              "      <td>100</td>\n",
              "      <td>19690</td>\n",
              "      <td>18475</td>\n",
              "      <td>1493</td>\n",
              "      <td>10779</td>\n",
              "      <td>0</td>\n",
              "      <td>0</td>\n",
              "      <td>0</td>\n",
              "      <td>7892</td>\n",
              "      <td>0</td>\n",
              "      <td>31216</td>\n",
              "    </tr>\n",
              "    <tr>\n",
              "      <th>1964</th>\n",
              "      <td>10037</td>\n",
              "      <td>226</td>\n",
              "      <td>16349</td>\n",
              "      <td>20840</td>\n",
              "      <td>1500</td>\n",
              "      <td>9854</td>\n",
              "      <td>0</td>\n",
              "      <td>0</td>\n",
              "      <td>0</td>\n",
              "      <td>7000</td>\n",
              "      <td>0</td>\n",
              "      <td>34917</td>\n",
              "    </tr>\n",
              "  </tbody>\n",
              "</table>\n",
              "</div>"
            ],
            "text/plain": [
              "         AUS  BRA    CAN    CHN   EGY    IND  IDN  PHL  RUS   TUR  GBR    USA\n",
              "Years                                                                        \n",
              "1960    7450  350  14108  20960  1499  10320    0    0    0  7000    0  36877\n",
              "1961    6727  250   7713  14250  1436  10995    0    0    0  6336    0  33557\n",
              "1962    8353  256  15392  16665  1593  12076    0    0    0  6804    0  29719\n",
              "1963    8925  100  19690  18475  1493  10779    0    0    0  7892    0  31216\n",
              "1964   10037  226  16349  20840  1500   9854    0    0    0  7000    0  34917"
            ]
          },
          "metadata": {},
          "execution_count": 41
        }
      ]
    },
    {
      "cell_type": "code",
      "metadata": {
        "colab": {
          "base_uri": "https://localhost:8080/"
        },
        "id": "OwwdAHYDo847",
        "outputId": "7ee782c4-1db4-4852-bae5-20d69d85c3da"
      },
      "source": [
        "#checking the usage\n",
        "df_countries_iso3.info()"
      ],
      "execution_count": 105,
      "outputs": [
        {
          "output_type": "stream",
          "name": "stdout",
          "text": [
            "<class 'pandas.core.frame.DataFrame'>\n",
            "Index: 62 entries, 1960 to 2021\n",
            "Data columns (total 12 columns):\n",
            " #   Column  Non-Null Count  Dtype\n",
            "---  ------  --------------  -----\n",
            " 0   AUS     62 non-null     int64\n",
            " 1   BRA     62 non-null     int64\n",
            " 2   CAN     62 non-null     int64\n",
            " 3   CHN     62 non-null     int64\n",
            " 4   EGY     62 non-null     int64\n",
            " 5   IND     62 non-null     int64\n",
            " 6   IDN     62 non-null     int64\n",
            " 7   PHL     62 non-null     int64\n",
            " 8   RUS     62 non-null     int64\n",
            " 9   TUR     62 non-null     int64\n",
            " 10  GBR     62 non-null     int64\n",
            " 11  USA     62 non-null     int64\n",
            "dtypes: int64(12)\n",
            "memory usage: 8.8+ KB\n"
          ]
        }
      ]
    },
    {
      "cell_type": "markdown",
      "metadata": {
        "id": "14Fe1xi3tEVz"
      },
      "source": [
        "*DADOS ESTATÍSTICOS*\n",
        "\n",
        "---"
      ]
    },
    {
      "cell_type": "code",
      "metadata": {
        "id": "CPyppN820TUe",
        "colab": {
          "base_uri": "https://localhost:8080/",
          "height": 421
        },
        "outputId": "406edb65-9877-454e-c213-2e5d157ef8a4"
      },
      "source": [
        "estatistica = \\\n",
        "(\n",
        "    df_countries_iso3.describe(include=[np.number])\n",
        "    .T\n",
        "    .astype(int)\n",
        "    .sort_values('max',ascending=False)\n",
        "\n",
        ")\n",
        "estatistica"
      ],
      "execution_count": 106,
      "outputs": [
        {
          "output_type": "execute_result",
          "data": {
            "text/html": [
              "<div>\n",
              "<style scoped>\n",
              "    .dataframe tbody tr th:only-of-type {\n",
              "        vertical-align: middle;\n",
              "    }\n",
              "\n",
              "    .dataframe tbody tr th {\n",
              "        vertical-align: top;\n",
              "    }\n",
              "\n",
              "    .dataframe thead th {\n",
              "        text-align: right;\n",
              "    }\n",
              "</style>\n",
              "<table border=\"1\" class=\"dataframe\">\n",
              "  <thead>\n",
              "    <tr style=\"text-align: right;\">\n",
              "      <th></th>\n",
              "      <th>count</th>\n",
              "      <th>mean</th>\n",
              "      <th>std</th>\n",
              "      <th>min</th>\n",
              "      <th>25%</th>\n",
              "      <th>50%</th>\n",
              "      <th>75%</th>\n",
              "      <th>max</th>\n",
              "    </tr>\n",
              "  </thead>\n",
              "  <tbody>\n",
              "    <tr>\n",
              "      <th>CHN</th>\n",
              "      <td>62</td>\n",
              "      <td>81563</td>\n",
              "      <td>38683</td>\n",
              "      <td>14250</td>\n",
              "      <td>42133</td>\n",
              "      <td>90548</td>\n",
              "      <td>112341</td>\n",
              "      <td>136000</td>\n",
              "    </tr>\n",
              "    <tr>\n",
              "      <th>IND</th>\n",
              "      <td>62</td>\n",
              "      <td>53294</td>\n",
              "      <td>29405</td>\n",
              "      <td>9854</td>\n",
              "      <td>27019</td>\n",
              "      <td>54622</td>\n",
              "      <td>75046</td>\n",
              "      <td>108000</td>\n",
              "    </tr>\n",
              "    <tr>\n",
              "      <th>RUS</th>\n",
              "      <td>62</td>\n",
              "      <td>28359</td>\n",
              "      <td>27883</td>\n",
              "      <td>0</td>\n",
              "      <td>0</td>\n",
              "      <td>33085</td>\n",
              "      <td>47456</td>\n",
              "      <td>85354</td>\n",
              "    </tr>\n",
              "    <tr>\n",
              "      <th>USA</th>\n",
              "      <td>62</td>\n",
              "      <td>54305</td>\n",
              "      <td>11406</td>\n",
              "      <td>29719</td>\n",
              "      <td>47615</td>\n",
              "      <td>55969</td>\n",
              "      <td>62351</td>\n",
              "      <td>75805</td>\n",
              "    </tr>\n",
              "    <tr>\n",
              "      <th>CAN</th>\n",
              "      <td>62</td>\n",
              "      <td>23379</td>\n",
              "      <td>6491</td>\n",
              "      <td>7713</td>\n",
              "      <td>17833</td>\n",
              "      <td>24266</td>\n",
              "      <td>27241</td>\n",
              "      <td>37589</td>\n",
              "    </tr>\n",
              "    <tr>\n",
              "      <th>AUS</th>\n",
              "      <td>62</td>\n",
              "      <td>16519</td>\n",
              "      <td>6893</td>\n",
              "      <td>6590</td>\n",
              "      <td>10623</td>\n",
              "      <td>16143</td>\n",
              "      <td>21988</td>\n",
              "      <td>33000</td>\n",
              "    </tr>\n",
              "    <tr>\n",
              "      <th>TUR</th>\n",
              "      <td>62</td>\n",
              "      <td>14017</td>\n",
              "      <td>3950</td>\n",
              "      <td>6336</td>\n",
              "      <td>11750</td>\n",
              "      <td>15375</td>\n",
              "      <td>16950</td>\n",
              "      <td>21000</td>\n",
              "    </tr>\n",
              "    <tr>\n",
              "      <th>GBR</th>\n",
              "      <td>62</td>\n",
              "      <td>1316</td>\n",
              "      <td>4098</td>\n",
              "      <td>0</td>\n",
              "      <td>0</td>\n",
              "      <td>0</td>\n",
              "      <td>0</td>\n",
              "      <td>15600</td>\n",
              "    </tr>\n",
              "    <tr>\n",
              "      <th>EGY</th>\n",
              "      <td>62</td>\n",
              "      <td>4506</td>\n",
              "      <td>2863</td>\n",
              "      <td>1272</td>\n",
              "      <td>1820</td>\n",
              "      <td>4193</td>\n",
              "      <td>7334</td>\n",
              "      <td>9000</td>\n",
              "    </tr>\n",
              "    <tr>\n",
              "      <th>BRA</th>\n",
              "      <td>62</td>\n",
              "      <td>3195</td>\n",
              "      <td>2003</td>\n",
              "      <td>100</td>\n",
              "      <td>1894</td>\n",
              "      <td>2798</td>\n",
              "      <td>5275</td>\n",
              "      <td>6800</td>\n",
              "    </tr>\n",
              "    <tr>\n",
              "      <th>IDN</th>\n",
              "      <td>62</td>\n",
              "      <td>0</td>\n",
              "      <td>0</td>\n",
              "      <td>0</td>\n",
              "      <td>0</td>\n",
              "      <td>0</td>\n",
              "      <td>0</td>\n",
              "      <td>0</td>\n",
              "    </tr>\n",
              "    <tr>\n",
              "      <th>PHL</th>\n",
              "      <td>62</td>\n",
              "      <td>0</td>\n",
              "      <td>0</td>\n",
              "      <td>0</td>\n",
              "      <td>0</td>\n",
              "      <td>0</td>\n",
              "      <td>0</td>\n",
              "      <td>0</td>\n",
              "    </tr>\n",
              "  </tbody>\n",
              "</table>\n",
              "</div>"
            ],
            "text/plain": [
              "     count   mean    std    min    25%    50%     75%     max\n",
              "CHN     62  81563  38683  14250  42133  90548  112341  136000\n",
              "IND     62  53294  29405   9854  27019  54622   75046  108000\n",
              "RUS     62  28359  27883      0      0  33085   47456   85354\n",
              "USA     62  54305  11406  29719  47615  55969   62351   75805\n",
              "CAN     62  23379   6491   7713  17833  24266   27241   37589\n",
              "AUS     62  16519   6893   6590  10623  16143   21988   33000\n",
              "TUR     62  14017   3950   6336  11750  15375   16950   21000\n",
              "GBR     62   1316   4098      0      0      0       0   15600\n",
              "EGY     62   4506   2863   1272   1820   4193    7334    9000\n",
              "BRA     62   3195   2003    100   1894   2798    5275    6800\n",
              "IDN     62      0      0      0      0      0       0       0\n",
              "PHL     62      0      0      0      0      0       0       0"
            ]
          },
          "metadata": {},
          "execution_count": 106
        }
      ]
    },
    {
      "cell_type": "code",
      "metadata": {
        "colab": {
          "base_uri": "https://localhost:8080/",
          "height": 450
        },
        "id": "tMbWj7417RRr",
        "outputId": "5423e823-729f-4e1f-c908-7eec44cb82ca"
      },
      "source": [
        "df_countries_iso3.sort_index(ascending = False)\n"
      ],
      "execution_count": 107,
      "outputs": [
        {
          "output_type": "execute_result",
          "data": {
            "text/html": [
              "<div>\n",
              "<style scoped>\n",
              "    .dataframe tbody tr th:only-of-type {\n",
              "        vertical-align: middle;\n",
              "    }\n",
              "\n",
              "    .dataframe tbody tr th {\n",
              "        vertical-align: top;\n",
              "    }\n",
              "\n",
              "    .dataframe thead th {\n",
              "        text-align: right;\n",
              "    }\n",
              "</style>\n",
              "<table border=\"1\" class=\"dataframe\">\n",
              "  <thead>\n",
              "    <tr style=\"text-align: right;\">\n",
              "      <th></th>\n",
              "      <th>AUS</th>\n",
              "      <th>BRA</th>\n",
              "      <th>CAN</th>\n",
              "      <th>CHN</th>\n",
              "      <th>EGY</th>\n",
              "      <th>IND</th>\n",
              "      <th>IDN</th>\n",
              "      <th>PHL</th>\n",
              "      <th>RUS</th>\n",
              "      <th>TUR</th>\n",
              "      <th>GBR</th>\n",
              "      <th>USA</th>\n",
              "    </tr>\n",
              "    <tr>\n",
              "      <th>Years</th>\n",
              "      <th></th>\n",
              "      <th></th>\n",
              "      <th></th>\n",
              "      <th></th>\n",
              "      <th></th>\n",
              "      <th></th>\n",
              "      <th></th>\n",
              "      <th></th>\n",
              "      <th></th>\n",
              "      <th></th>\n",
              "      <th></th>\n",
              "      <th></th>\n",
              "    </tr>\n",
              "  </thead>\n",
              "  <tbody>\n",
              "    <tr>\n",
              "      <th>2021</th>\n",
              "      <td>27000</td>\n",
              "      <td>6800</td>\n",
              "      <td>32000</td>\n",
              "      <td>136000</td>\n",
              "      <td>9000</td>\n",
              "      <td>108000</td>\n",
              "      <td>0</td>\n",
              "      <td>0</td>\n",
              "      <td>85000</td>\n",
              "      <td>17250</td>\n",
              "      <td>14100</td>\n",
              "      <td>50948</td>\n",
              "    </tr>\n",
              "    <tr>\n",
              "      <th>2020</th>\n",
              "      <td>33000</td>\n",
              "      <td>6250</td>\n",
              "      <td>35183</td>\n",
              "      <td>134250</td>\n",
              "      <td>8900</td>\n",
              "      <td>107860</td>\n",
              "      <td>0</td>\n",
              "      <td>0</td>\n",
              "      <td>85354</td>\n",
              "      <td>18250</td>\n",
              "      <td>9658</td>\n",
              "      <td>49691</td>\n",
              "    </tr>\n",
              "    <tr>\n",
              "      <th>2019</th>\n",
              "      <td>15200</td>\n",
              "      <td>5200</td>\n",
              "      <td>32670</td>\n",
              "      <td>133590</td>\n",
              "      <td>8770</td>\n",
              "      <td>103600</td>\n",
              "      <td>0</td>\n",
              "      <td>0</td>\n",
              "      <td>73610</td>\n",
              "      <td>17500</td>\n",
              "      <td>15600</td>\n",
              "      <td>52581</td>\n",
              "    </tr>\n",
              "    <tr>\n",
              "      <th>2018</th>\n",
              "      <td>17598</td>\n",
              "      <td>5428</td>\n",
              "      <td>32352</td>\n",
              "      <td>131430</td>\n",
              "      <td>8450</td>\n",
              "      <td>99870</td>\n",
              "      <td>0</td>\n",
              "      <td>0</td>\n",
              "      <td>71685</td>\n",
              "      <td>19000</td>\n",
              "      <td>13455</td>\n",
              "      <td>51306</td>\n",
              "    </tr>\n",
              "    <tr>\n",
              "      <th>2017</th>\n",
              "      <td>20941</td>\n",
              "      <td>4264</td>\n",
              "      <td>30377</td>\n",
              "      <td>134334</td>\n",
              "      <td>8450</td>\n",
              "      <td>98510</td>\n",
              "      <td>0</td>\n",
              "      <td>0</td>\n",
              "      <td>85167</td>\n",
              "      <td>21000</td>\n",
              "      <td>14444</td>\n",
              "      <td>47380</td>\n",
              "    </tr>\n",
              "    <tr>\n",
              "      <th>...</th>\n",
              "      <td>...</td>\n",
              "      <td>...</td>\n",
              "      <td>...</td>\n",
              "      <td>...</td>\n",
              "      <td>...</td>\n",
              "      <td>...</td>\n",
              "      <td>...</td>\n",
              "      <td>...</td>\n",
              "      <td>...</td>\n",
              "      <td>...</td>\n",
              "      <td>...</td>\n",
              "      <td>...</td>\n",
              "    </tr>\n",
              "    <tr>\n",
              "      <th>1964</th>\n",
              "      <td>10037</td>\n",
              "      <td>226</td>\n",
              "      <td>16349</td>\n",
              "      <td>20840</td>\n",
              "      <td>1500</td>\n",
              "      <td>9854</td>\n",
              "      <td>0</td>\n",
              "      <td>0</td>\n",
              "      <td>0</td>\n",
              "      <td>7000</td>\n",
              "      <td>0</td>\n",
              "      <td>34917</td>\n",
              "    </tr>\n",
              "    <tr>\n",
              "      <th>1963</th>\n",
              "      <td>8925</td>\n",
              "      <td>100</td>\n",
              "      <td>19690</td>\n",
              "      <td>18475</td>\n",
              "      <td>1493</td>\n",
              "      <td>10779</td>\n",
              "      <td>0</td>\n",
              "      <td>0</td>\n",
              "      <td>0</td>\n",
              "      <td>7892</td>\n",
              "      <td>0</td>\n",
              "      <td>31216</td>\n",
              "    </tr>\n",
              "    <tr>\n",
              "      <th>1962</th>\n",
              "      <td>8353</td>\n",
              "      <td>256</td>\n",
              "      <td>15392</td>\n",
              "      <td>16665</td>\n",
              "      <td>1593</td>\n",
              "      <td>12076</td>\n",
              "      <td>0</td>\n",
              "      <td>0</td>\n",
              "      <td>0</td>\n",
              "      <td>6804</td>\n",
              "      <td>0</td>\n",
              "      <td>29719</td>\n",
              "    </tr>\n",
              "    <tr>\n",
              "      <th>1961</th>\n",
              "      <td>6727</td>\n",
              "      <td>250</td>\n",
              "      <td>7713</td>\n",
              "      <td>14250</td>\n",
              "      <td>1436</td>\n",
              "      <td>10995</td>\n",
              "      <td>0</td>\n",
              "      <td>0</td>\n",
              "      <td>0</td>\n",
              "      <td>6336</td>\n",
              "      <td>0</td>\n",
              "      <td>33557</td>\n",
              "    </tr>\n",
              "    <tr>\n",
              "      <th>1960</th>\n",
              "      <td>7450</td>\n",
              "      <td>350</td>\n",
              "      <td>14108</td>\n",
              "      <td>20960</td>\n",
              "      <td>1499</td>\n",
              "      <td>10320</td>\n",
              "      <td>0</td>\n",
              "      <td>0</td>\n",
              "      <td>0</td>\n",
              "      <td>7000</td>\n",
              "      <td>0</td>\n",
              "      <td>36877</td>\n",
              "    </tr>\n",
              "  </tbody>\n",
              "</table>\n",
              "<p>62 rows × 12 columns</p>\n",
              "</div>"
            ],
            "text/plain": [
              "         AUS   BRA    CAN     CHN   EGY  ...  PHL    RUS    TUR    GBR    USA\n",
              "Years                                    ...                                 \n",
              "2021   27000  6800  32000  136000  9000  ...    0  85000  17250  14100  50948\n",
              "2020   33000  6250  35183  134250  8900  ...    0  85354  18250   9658  49691\n",
              "2019   15200  5200  32670  133590  8770  ...    0  73610  17500  15600  52581\n",
              "2018   17598  5428  32352  131430  8450  ...    0  71685  19000  13455  51306\n",
              "2017   20941  4264  30377  134334  8450  ...    0  85167  21000  14444  47380\n",
              "...      ...   ...    ...     ...   ...  ...  ...    ...    ...    ...    ...\n",
              "1964   10037   226  16349   20840  1500  ...    0      0   7000      0  34917\n",
              "1963    8925   100  19690   18475  1493  ...    0      0   7892      0  31216\n",
              "1962    8353   256  15392   16665  1593  ...    0      0   6804      0  29719\n",
              "1961    6727   250   7713   14250  1436  ...    0      0   6336      0  33557\n",
              "1960    7450   350  14108   20960  1499  ...    0      0   7000      0  36877\n",
              "\n",
              "[62 rows x 12 columns]"
            ]
          },
          "metadata": {},
          "execution_count": 107
        }
      ]
    },
    {
      "cell_type": "code",
      "metadata": {
        "colab": {
          "base_uri": "https://localhost:8080/"
        },
        "id": "SkFpNyfIGpv8",
        "outputId": "58401dae-65b4-459e-81f9-d57d6ee766cb"
      },
      "source": [
        "#Verificando as colunas\n",
        "col = df_countries.columns\n",
        "col"
      ],
      "execution_count": 108,
      "outputs": [
        {
          "output_type": "execute_result",
          "data": {
            "text/plain": [
              "Index(['Australia', 'Brazil', 'Canada', 'China', 'Egypt', 'India', 'Indonesia',\n",
              "       'Philippines', 'Russia', 'Turkey', 'United Kingdom', 'United States'],\n",
              "      dtype='object')"
            ]
          },
          "metadata": {},
          "execution_count": 108
        }
      ]
    },
    {
      "cell_type": "code",
      "metadata": {
        "id": "scvBnyqMdkiu"
      },
      "source": [
        "path_to_charts='/content/drive/MyDrive/Trigo_analises/charts/'"
      ],
      "execution_count": 109,
      "outputs": []
    },
    {
      "cell_type": "code",
      "metadata": {
        "colab": {
          "base_uri": "https://localhost:8080/",
          "height": 553
        },
        "id": "s66So7om1Cxi",
        "outputId": "4fa43839-4374-4a28-83ab-696c8a72b41c"
      },
      "source": [
        "fig, ax_array = plt.subplots(1,1, figsize = (16,8))\n",
        "ax1= ax_array\n",
        "fig.suptitle(\"Production Volume Among The Years \\n From 1960 to 2020\", size=18)\n",
        "ex_1 = df_countries_iso3.sum().sort_values(ascending= True)\n",
        "ex_1.plot.barh(ax=ax1, title= \"xx\")\n",
        "fig.savefig(f'{path_to_charts}Production Volume Among The Years From 1960 to 2020.png', dpi=300,)"
      ],
      "execution_count": 110,
      "outputs": [
        {
          "output_type": "display_data",
          "data": {
            "image/png": "[encoded data removed]",
            "text/plain": [
              "<Figure size 1152x576 with 1 Axes>"
            ]
          },
          "metadata": {
            "needs_background": "light"
          }
        }
      ]
    },
    {
      "cell_type": "code",
      "metadata": {
        "colab": {
          "base_uri": "https://localhost:8080/"
        },
        "id": "UUH9emo-eGkd",
        "outputId": "5af11842-1b55-4533-bce9-2e6e19e77769"
      },
      "source": [
        "df_countries_iso3.sum().sort_values(ascending= False)"
      ],
      "execution_count": 111,
      "outputs": [
        {
          "output_type": "execute_result",
          "data": {
            "text/plain": [
              "CHN    5056955\n",
              "USA    3366934\n",
              "IND    3304256\n",
              "RUS    1758282\n",
              "CAN    1449554\n",
              "AUS    1024226\n",
              "TUR     869062\n",
              "EGY     279413\n",
              "BRA     198137\n",
              "GBR      81640\n",
              "PHL          0\n",
              "IDN          0\n",
              "dtype: int64"
            ]
          },
          "metadata": {},
          "execution_count": 111
        }
      ]
    },
    {
      "cell_type": "markdown",
      "metadata": {
        "id": "xEBqnql-tQeO"
      },
      "source": [
        "##***The Top producer of each Year***\n",
        "\n",
        "---"
      ]
    },
    {
      "cell_type": "code",
      "metadata": {
        "id": "myXDWOdDD7jb",
        "colab": {
          "base_uri": "https://localhost:8080/",
          "height": 450
        },
        "outputId": "eedd9400-3619-4c97-fce7-61b0c2d7d842"
      },
      "source": [
        "tops_for_year=\\\n",
        "(\n",
        "    df_countries_iso3.reset_index()\n",
        "    .melt(id_vars = [\"Years\"],var_name=\"Countries\",value_name = \"Production\")\n",
        "    .sort_values(\"Production\", ascending= False)\n",
        "    .drop_duplicates(subset=\"Years\")\n",
        "    .set_index(\"Years\")\n",
        ")\n",
        "tops_for_year"
      ],
      "execution_count": 112,
      "outputs": [
        {
          "output_type": "execute_result",
          "data": {
            "text/html": [
              "<div>\n",
              "<style scoped>\n",
              "    .dataframe tbody tr th:only-of-type {\n",
              "        vertical-align: middle;\n",
              "    }\n",
              "\n",
              "    .dataframe tbody tr th {\n",
              "        vertical-align: top;\n",
              "    }\n",
              "\n",
              "    .dataframe thead th {\n",
              "        text-align: right;\n",
              "    }\n",
              "</style>\n",
              "<table border=\"1\" class=\"dataframe\">\n",
              "  <thead>\n",
              "    <tr style=\"text-align: right;\">\n",
              "      <th></th>\n",
              "      <th>Countries</th>\n",
              "      <th>Production</th>\n",
              "    </tr>\n",
              "    <tr>\n",
              "      <th>Years</th>\n",
              "      <th></th>\n",
              "      <th></th>\n",
              "    </tr>\n",
              "  </thead>\n",
              "  <tbody>\n",
              "    <tr>\n",
              "      <th>2021</th>\n",
              "      <td>CHN</td>\n",
              "      <td>136000</td>\n",
              "    </tr>\n",
              "    <tr>\n",
              "      <th>2017</th>\n",
              "      <td>CHN</td>\n",
              "      <td>134334</td>\n",
              "    </tr>\n",
              "    <tr>\n",
              "      <th>2020</th>\n",
              "      <td>CHN</td>\n",
              "      <td>134250</td>\n",
              "    </tr>\n",
              "    <tr>\n",
              "      <th>2019</th>\n",
              "      <td>CHN</td>\n",
              "      <td>133590</td>\n",
              "    </tr>\n",
              "    <tr>\n",
              "      <th>2016</th>\n",
              "      <td>CHN</td>\n",
              "      <td>133271</td>\n",
              "    </tr>\n",
              "    <tr>\n",
              "      <th>...</th>\n",
              "      <td>...</td>\n",
              "      <td>...</td>\n",
              "    </tr>\n",
              "    <tr>\n",
              "      <th>1965</th>\n",
              "      <td>USA</td>\n",
              "      <td>34917</td>\n",
              "    </tr>\n",
              "    <tr>\n",
              "      <th>1964</th>\n",
              "      <td>USA</td>\n",
              "      <td>34917</td>\n",
              "    </tr>\n",
              "    <tr>\n",
              "      <th>1961</th>\n",
              "      <td>USA</td>\n",
              "      <td>33557</td>\n",
              "    </tr>\n",
              "    <tr>\n",
              "      <th>1963</th>\n",
              "      <td>USA</td>\n",
              "      <td>31216</td>\n",
              "    </tr>\n",
              "    <tr>\n",
              "      <th>1962</th>\n",
              "      <td>USA</td>\n",
              "      <td>29719</td>\n",
              "    </tr>\n",
              "  </tbody>\n",
              "</table>\n",
              "<p>62 rows × 2 columns</p>\n",
              "</div>"
            ],
            "text/plain": [
              "      Countries  Production\n",
              "Years                      \n",
              "2021        CHN      136000\n",
              "2017        CHN      134334\n",
              "2020        CHN      134250\n",
              "2019        CHN      133590\n",
              "2016        CHN      133271\n",
              "...         ...         ...\n",
              "1965        USA       34917\n",
              "1964        USA       34917\n",
              "1961        USA       33557\n",
              "1963        USA       31216\n",
              "1962        USA       29719\n",
              "\n",
              "[62 rows x 2 columns]"
            ]
          },
          "metadata": {},
          "execution_count": 112
        }
      ]
    },
    {
      "cell_type": "code",
      "metadata": {
        "colab": {
          "base_uri": "https://localhost:8080/",
          "height": 1000
        },
        "id": "kW48u1GfeZAk",
        "outputId": "ff884de2-b576-4210-9f87-38f6b8208358"
      },
      "source": [
        "#Plotting the Biggest Producer by Year\n",
        "fig, ax_array2 = plt.subplots(1,1, figsize = (16,18))\n",
        "ax2= ax_array2\n",
        "fig.suptitle(\"The Top Producer by Year\", size=18)\n",
        "ex_2 = tops_for_year.pivot(columns= 'Countries')\n",
        "ex_2.plot.barh(ax=ax2, title= \"Year x Thousand Tonnes Produced\",legend=False,width=0.13, align='edge')\n",
        "ax2.figure.legend(framealpha=1, frameon=False, title =\"Type - Country\", handlelength=3.0, handletextpad= 0.8,loc='upper left',bbox_to_anchor=(0.05, 0.85))\n",
        "fig.savefig(f\"{path_to_charts}The Top Producer by Year.png\",dpi=300)"
      ],
      "execution_count": 120,
      "outputs": [
        {
          "output_type": "display_data",
          "data": {
            "image/png": "[encoded data removed]",
            "text/plain": [
              "<Figure size 1152x1296 with 1 Axes>"
            ]
          },
          "metadata": {
            "needs_background": "light"
          }
        }
      ]
    },
    {
      "cell_type": "code",
      "metadata": {
        "id": "hpyunOsiShNL",
        "colab": {
          "base_uri": "https://localhost:8080/"
        },
        "outputId": "eadd51f8-ac9c-41f4-fef0-a06a0d64c0d9"
      },
      "source": [
        "counting_zeros= (df_countries_iso3.reset_index().eq(0).sum())\n",
        "counting_zeros"
      ],
      "execution_count": 113,
      "outputs": [
        {
          "output_type": "execute_result",
          "data": {
            "text/plain": [
              "Years     0\n",
              "AUS       0\n",
              "BRA       0\n",
              "CAN       0\n",
              "CHN       0\n",
              "EGY       0\n",
              "IND       0\n",
              "IDN      62\n",
              "PHL      62\n",
              "RUS      27\n",
              "TUR       0\n",
              "GBR      56\n",
              "USA       0\n",
              "dtype: int64"
            ]
          },
          "metadata": {},
          "execution_count": 113
        }
      ]
    },
    {
      "cell_type": "code",
      "metadata": {
        "id": "aM7LHnmwTDSn",
        "colab": {
          "base_uri": "https://localhost:8080/"
        },
        "outputId": "9257dcac-4794-4327-f487-c18416dfadb8"
      },
      "source": [
        "counting_no_zeros=df_countries_iso3.reset_index().astype(bool).sum(axis=0)\n",
        "counting_no_zeros\n",
        "\n"
      ],
      "execution_count": 114,
      "outputs": [
        {
          "output_type": "execute_result",
          "data": {
            "text/plain": [
              "Years    62\n",
              "AUS      62\n",
              "BRA      62\n",
              "CAN      62\n",
              "CHN      62\n",
              "EGY      62\n",
              "IND      62\n",
              "IDN       0\n",
              "PHL       0\n",
              "RUS      35\n",
              "TUR      62\n",
              "GBR       6\n",
              "USA      62\n",
              "dtype: int64"
            ]
          },
          "metadata": {},
          "execution_count": 114
        }
      ]
    },
    {
      "cell_type": "code",
      "metadata": {
        "id": "k_ola04MaIjq",
        "colab": {
          "base_uri": "https://localhost:8080/"
        },
        "outputId": "a1a28a1e-b078-4a4c-fb59-f809aa2afe2d"
      },
      "source": [
        "lista =[]\n",
        "\n",
        "for i,v in counting_no_zeros.iteritems():\n",
        "  if v !=0:\n",
        "    lista.append(i)\n",
        "\n",
        "\n",
        "print(lista)\n"
      ],
      "execution_count": 121,
      "outputs": [
        {
          "output_type": "stream",
          "name": "stdout",
          "text": [
            "['Years', 'AUS', 'BRA', 'CAN', 'CHN', 'EGY', 'IND', 'RUS', 'TUR', 'GBR', 'USA']\n"
          ]
        }
      ]
    },
    {
      "cell_type": "markdown",
      "metadata": {
        "id": "qtWv-31pt2qm"
      },
      "source": [
        "## ***The last-placed producer at each year***\n",
        "\n",
        "---"
      ]
    },
    {
      "cell_type": "code",
      "metadata": {
        "id": "QLM-YsrYaz-C",
        "colab": {
          "base_uri": "https://localhost:8080/",
          "height": 419
        },
        "outputId": "1e0591af-4156-459b-bfc2-336eabab1873"
      },
      "source": [
        "last_for_years=\\\n",
        "(\n",
        "    #dataframe original\n",
        "    df_countries_iso3.reset_index()\n",
        "    #filtering years and countries that have no zero in the entire column\n",
        "    .filter(items=lista)\n",
        "    #unpivoting\n",
        "    .melt(id_vars = [\"Years\"],var_name=\"Countries\",value_name = \"Production\")\n",
        "    #sorting_values\n",
        "    .sort_values([\"Years\",\"Production\"], ascending= [False,True])\n",
        "  )\n",
        "    \n",
        "last_for_years\n",
        "\n",
        "                \n",
        "\n",
        "\n"
      ],
      "execution_count": 123,
      "outputs": [
        {
          "output_type": "execute_result",
          "data": {
            "text/html": [
              "<div>\n",
              "<style scoped>\n",
              "    .dataframe tbody tr th:only-of-type {\n",
              "        vertical-align: middle;\n",
              "    }\n",
              "\n",
              "    .dataframe tbody tr th {\n",
              "        vertical-align: top;\n",
              "    }\n",
              "\n",
              "    .dataframe thead th {\n",
              "        text-align: right;\n",
              "    }\n",
              "</style>\n",
              "<table border=\"1\" class=\"dataframe\">\n",
              "  <thead>\n",
              "    <tr style=\"text-align: right;\">\n",
              "      <th></th>\n",
              "      <th>Years</th>\n",
              "      <th>Countries</th>\n",
              "      <th>Production</th>\n",
              "    </tr>\n",
              "  </thead>\n",
              "  <tbody>\n",
              "    <tr>\n",
              "      <th>123</th>\n",
              "      <td>2021</td>\n",
              "      <td>BRA</td>\n",
              "      <td>6800</td>\n",
              "    </tr>\n",
              "    <tr>\n",
              "      <th>309</th>\n",
              "      <td>2021</td>\n",
              "      <td>EGY</td>\n",
              "      <td>9000</td>\n",
              "    </tr>\n",
              "    <tr>\n",
              "      <th>557</th>\n",
              "      <td>2021</td>\n",
              "      <td>GBR</td>\n",
              "      <td>14100</td>\n",
              "    </tr>\n",
              "    <tr>\n",
              "      <th>495</th>\n",
              "      <td>2021</td>\n",
              "      <td>TUR</td>\n",
              "      <td>17250</td>\n",
              "    </tr>\n",
              "    <tr>\n",
              "      <th>61</th>\n",
              "      <td>2021</td>\n",
              "      <td>AUS</td>\n",
              "      <td>27000</td>\n",
              "    </tr>\n",
              "    <tr>\n",
              "      <th>...</th>\n",
              "      <td>...</td>\n",
              "      <td>...</td>\n",
              "      <td>...</td>\n",
              "    </tr>\n",
              "    <tr>\n",
              "      <th>0</th>\n",
              "      <td>1960</td>\n",
              "      <td>AUS</td>\n",
              "      <td>7450</td>\n",
              "    </tr>\n",
              "    <tr>\n",
              "      <th>310</th>\n",
              "      <td>1960</td>\n",
              "      <td>IND</td>\n",
              "      <td>10320</td>\n",
              "    </tr>\n",
              "    <tr>\n",
              "      <th>124</th>\n",
              "      <td>1960</td>\n",
              "      <td>CAN</td>\n",
              "      <td>14108</td>\n",
              "    </tr>\n",
              "    <tr>\n",
              "      <th>186</th>\n",
              "      <td>1960</td>\n",
              "      <td>CHN</td>\n",
              "      <td>20960</td>\n",
              "    </tr>\n",
              "    <tr>\n",
              "      <th>558</th>\n",
              "      <td>1960</td>\n",
              "      <td>USA</td>\n",
              "      <td>36877</td>\n",
              "    </tr>\n",
              "  </tbody>\n",
              "</table>\n",
              "<p>620 rows × 3 columns</p>\n",
              "</div>"
            ],
            "text/plain": [
              "    Years Countries  Production\n",
              "123  2021       BRA        6800\n",
              "309  2021       EGY        9000\n",
              "557  2021       GBR       14100\n",
              "495  2021       TUR       17250\n",
              "61   2021       AUS       27000\n",
              "..    ...       ...         ...\n",
              "0    1960       AUS        7450\n",
              "310  1960       IND       10320\n",
              "124  1960       CAN       14108\n",
              "186  1960       CHN       20960\n",
              "558  1960       USA       36877\n",
              "\n",
              "[620 rows x 3 columns]"
            ]
          },
          "metadata": {},
          "execution_count": 123
        }
      ]
    },
    {
      "cell_type": "code",
      "metadata": {
        "id": "ofkPVrh4RxmS",
        "colab": {
          "base_uri": "https://localhost:8080/",
          "height": 450
        },
        "outputId": "db80d861-8ea0-4887-999e-337c5368c188"
      },
      "source": [
        "last_for_years=\\\n",
        "(\n",
        "    last_for_years.loc[last_for_years[\"Production\"]>0,:]\n",
        "    #drop duplicates\n",
        "    .drop_duplicates(subset=\"Years\")\n",
        "    #setting the index\n",
        "    .set_index(\"Years\")\n",
        "\n",
        ")\n",
        "\n",
        "last_for_years"
      ],
      "execution_count": 124,
      "outputs": [
        {
          "output_type": "execute_result",
          "data": {
            "text/html": [
              "<div>\n",
              "<style scoped>\n",
              "    .dataframe tbody tr th:only-of-type {\n",
              "        vertical-align: middle;\n",
              "    }\n",
              "\n",
              "    .dataframe tbody tr th {\n",
              "        vertical-align: top;\n",
              "    }\n",
              "\n",
              "    .dataframe thead th {\n",
              "        text-align: right;\n",
              "    }\n",
              "</style>\n",
              "<table border=\"1\" class=\"dataframe\">\n",
              "  <thead>\n",
              "    <tr style=\"text-align: right;\">\n",
              "      <th></th>\n",
              "      <th>Countries</th>\n",
              "      <th>Production</th>\n",
              "    </tr>\n",
              "    <tr>\n",
              "      <th>Years</th>\n",
              "      <th></th>\n",
              "      <th></th>\n",
              "    </tr>\n",
              "  </thead>\n",
              "  <tbody>\n",
              "    <tr>\n",
              "      <th>2021</th>\n",
              "      <td>BRA</td>\n",
              "      <td>6800</td>\n",
              "    </tr>\n",
              "    <tr>\n",
              "      <th>2020</th>\n",
              "      <td>BRA</td>\n",
              "      <td>6250</td>\n",
              "    </tr>\n",
              "    <tr>\n",
              "      <th>2019</th>\n",
              "      <td>BRA</td>\n",
              "      <td>5200</td>\n",
              "    </tr>\n",
              "    <tr>\n",
              "      <th>2018</th>\n",
              "      <td>BRA</td>\n",
              "      <td>5428</td>\n",
              "    </tr>\n",
              "    <tr>\n",
              "      <th>2017</th>\n",
              "      <td>BRA</td>\n",
              "      <td>4264</td>\n",
              "    </tr>\n",
              "    <tr>\n",
              "      <th>...</th>\n",
              "      <td>...</td>\n",
              "      <td>...</td>\n",
              "    </tr>\n",
              "    <tr>\n",
              "      <th>1964</th>\n",
              "      <td>BRA</td>\n",
              "      <td>226</td>\n",
              "    </tr>\n",
              "    <tr>\n",
              "      <th>1963</th>\n",
              "      <td>BRA</td>\n",
              "      <td>100</td>\n",
              "    </tr>\n",
              "    <tr>\n",
              "      <th>1962</th>\n",
              "      <td>BRA</td>\n",
              "      <td>256</td>\n",
              "    </tr>\n",
              "    <tr>\n",
              "      <th>1961</th>\n",
              "      <td>BRA</td>\n",
              "      <td>250</td>\n",
              "    </tr>\n",
              "    <tr>\n",
              "      <th>1960</th>\n",
              "      <td>BRA</td>\n",
              "      <td>350</td>\n",
              "    </tr>\n",
              "  </tbody>\n",
              "</table>\n",
              "<p>62 rows × 2 columns</p>\n",
              "</div>"
            ],
            "text/plain": [
              "      Countries  Production\n",
              "Years                      \n",
              "2021        BRA        6800\n",
              "2020        BRA        6250\n",
              "2019        BRA        5200\n",
              "2018        BRA        5428\n",
              "2017        BRA        4264\n",
              "...         ...         ...\n",
              "1964        BRA         226\n",
              "1963        BRA         100\n",
              "1962        BRA         256\n",
              "1961        BRA         250\n",
              "1960        BRA         350\n",
              "\n",
              "[62 rows x 2 columns]"
            ]
          },
          "metadata": {},
          "execution_count": 124
        }
      ]
    },
    {
      "cell_type": "code",
      "metadata": {
        "colab": {
          "base_uri": "https://localhost:8080/",
          "height": 296
        },
        "id": "1bK3nVF_rFHq",
        "outputId": "b788a547-e410-4b96-b18b-d219e9e40c23"
      },
      "source": [
        "last_for_years.plot()"
      ],
      "execution_count": 135,
      "outputs": [
        {
          "output_type": "execute_result",
          "data": {
            "text/plain": [
              "<matplotlib.axes._subplots.AxesSubplot at 0x7f048dfd7310>"
            ]
          },
          "metadata": {},
          "execution_count": 135
        },
        {
          "output_type": "display_data",
          "data": {
            "image/png": "[encoded data removed]",
            "text/plain": [
              "<Figure size 432x288 with 1 Axes>"
            ]
          },
          "metadata": {
            "needs_background": "light"
          }
        }
      ]
    },
    {
      "cell_type": "code",
      "metadata": {
        "colab": {
          "base_uri": "https://localhost:8080/",
          "height": 621
        },
        "id": "2Xr9RzSNfZmd",
        "outputId": "af75a135-1d5f-4182-9ac9-7577931b8a8f"
      },
      "source": [
        "fig,ax = plt.subplots(figsize=(20,10))\n",
        "\n",
        "df_countries_iso3.plot.line(ax=ax, title=\"Production by year\", style=['-.','-','-.','--o','--','-.',':',':v','-o','-H',':+',':p'], color=['black','gray','blue','green','gray','cyan','gray','gray','red','gray','gray','brown'])\n",
        "\n",
        "fig.savefig(f\"{path_to_charts}Productions by year.png\",dpi=300)"
      ],
      "execution_count": 130,
      "outputs": [
        {
          "output_type": "display_data",
          "data": {
            "image/png": "[encoded data removed]",
            "text/plain": [
              "<Figure size 1440x720 with 1 Axes>"
            ]
          },
          "metadata": {
            "needs_background": "light"
          }
        }
      ]
    },
    {
      "cell_type": "markdown",
      "metadata": {
        "id": "AHp9IHblILbH"
      },
      "source": [
        "SAVING"
      ]
    },
    {
      "cell_type": "code",
      "metadata": {
        "id": "hS7CVbcjgXFd"
      },
      "source": [
        "path_analises_trigo = \"/content/drive/MyDrive/Trigo_analises/notebooks/analises/\""
      ],
      "execution_count": 131,
      "outputs": []
    },
    {
      "cell_type": "code",
      "metadata": {
        "id": "ghBPo8MhWFuv"
      },
      "source": [
        "tops_for_year.to_csv(f\"{path_analises_trigo}tops_year_producer.csv\")\n",
        "last_for_years.to_csv(f\"{path_analises_trigo}last_placed_years_producer.csv\")"
      ],
      "execution_count": 133,
      "outputs": []
    },
    {
      "cell_type": "code",
      "metadata": {
        "id": "TRxKZP3YCpPE"
      },
      "source": [
        "path_to_limpos_trigo ='/content/drive/MyDrive/Trigo_analises/limpos/'\n",
        "df_countries_iso3.to_csv(f\"{path_to_limpos_trigo}paises_selecionados_produtores.csv\")"
      ],
      "execution_count": 134,
      "outputs": []
    }
  ]
}