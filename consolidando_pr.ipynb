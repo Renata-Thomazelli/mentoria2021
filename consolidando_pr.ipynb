{
  "nbformat": 4,
  "nbformat_minor": 0,
  "metadata": {
    "colab": {
      "name": "consolidando_pr.ipynb",
      "provenance": [],
      "collapsed_sections": [],
      "mount_file_id": "1f2PoYLZxhI-o30NfDCNr-pUDfuKTVYGj",
      "authorship_tag": "ABX9TyNWiGXRGaQ97uGJUUflzs8e",
      "include_colab_link": true
    },
    "kernelspec": {
      "name": "python3",
      "display_name": "Python 3"
    },
    "language_info": {
      "name": "python"
    }
  },
  "cells": [
    {
      "cell_type": "markdown",
      "metadata": {
        "id": "view-in-github",
        "colab_type": "text"
      },
      "source": [
        "<a href=\"https://colab.research.google.com/github/Renata-Thomazelli/mentoria2021/blob/main/consolidando_pr.ipynb\" target=\"_parent\"><img src=\"https://colab.research.google.com/assets/colab-badge.svg\" alt=\"Open In Colab\"/></a>"
      ]
    },
    {
      "cell_type": "code",
      "metadata": {
        "colab": {
          "base_uri": "https://localhost:8080/"
        },
        "id": "svcJKL8PR4MN",
        "outputId": "ddf2c159-2e91-44ef-d494-0a7e72c7506f"
      },
      "source": [
        "# Importing Drive\n",
        "from google.colab import drive\n",
        "\n",
        "drive.mount('/content/drive')"
      ],
      "execution_count": 1,
      "outputs": [
        {
          "output_type": "stream",
          "name": "stdout",
          "text": [
            "Drive already mounted at /content/drive; to attempt to forcibly remount, call drive.mount(\"/content/drive\", force_remount=True).\n"
          ]
        }
      ]
    },
    {
      "cell_type": "code",
      "metadata": {
        "id": "gjhyytEQT6gv"
      },
      "source": [
        "import pandas as pd\n",
        "import numpy as np\n",
        "import chardet\n",
        "import missingno as msno"
      ],
      "execution_count": 25,
      "outputs": []
    },
    {
      "cell_type": "code",
      "metadata": {
        "id": "e27yTsTFSHan"
      },
      "source": [
        "def abrindo_files(pais,tipo):\n",
        "    file_path ='/content/drive/MyDrive/Temperatura_Precipitacao_analises/notebooks/Quartiles/PR_AVG/'\n",
        "    file = f\"{pais}_Rainfall(MM)_General_Quartile.csv\"\n",
        "    with open(f\"{file_path}{file}\", 'rb') as encoding:\n",
        "        r_encoding = chardet.detect(encoding.read(100000))\n",
        "    arquivo = f\"{tipo}{pais}\"\n",
        "    with open (f\"{file_path}{file}\",'r',encoding=r_encoding['encoding']) as arquivo :\n",
        "        df = pd.read_csv(arquivo)\n",
        "        return df\n",
        "\n"
      ],
      "execution_count": 14,
      "outputs": []
    },
    {
      "cell_type": "code",
      "metadata": {
        "id": "KDA8Cg99TdIH"
      },
      "source": [
        "df_1 = abrindo_files('TUR','pr')"
      ],
      "execution_count": 15,
      "outputs": []
    },
    {
      "cell_type": "code",
      "metadata": {
        "colab": {
          "base_uri": "https://localhost:8080/",
          "height": 204
        },
        "id": "CQCqpVDdUFom",
        "outputId": "e1369b30-5e23-4212-fc1d-dfa1849ce8ba"
      },
      "source": [
        "df_1\n"
      ],
      "execution_count": 16,
      "outputs": [
        {
          "output_type": "execute_result",
          "data": {
            "text/html": [
              "<div>\n",
              "<style scoped>\n",
              "    .dataframe tbody tr th:only-of-type {\n",
              "        vertical-align: middle;\n",
              "    }\n",
              "\n",
              "    .dataframe tbody tr th {\n",
              "        vertical-align: top;\n",
              "    }\n",
              "\n",
              "    .dataframe thead th {\n",
              "        text-align: right;\n",
              "    }\n",
              "</style>\n",
              "<table border=\"1\" class=\"dataframe\">\n",
              "  <thead>\n",
              "    <tr style=\"text-align: right;\">\n",
              "      <th></th>\n",
              "      <th>quartil</th>\n",
              "      <th>rainfall_mm</th>\n",
              "      <th>country</th>\n",
              "      <th>iso3</th>\n",
              "    </tr>\n",
              "  </thead>\n",
              "  <tbody>\n",
              "    <tr>\n",
              "      <th>0</th>\n",
              "      <td>min</td>\n",
              "      <td>2.1</td>\n",
              "      <td>Turkey</td>\n",
              "      <td>TUR</td>\n",
              "    </tr>\n",
              "    <tr>\n",
              "      <th>1</th>\n",
              "      <td>25%</td>\n",
              "      <td>23.9</td>\n",
              "      <td>Turkey</td>\n",
              "      <td>TUR</td>\n",
              "    </tr>\n",
              "    <tr>\n",
              "      <th>2</th>\n",
              "      <td>50%</td>\n",
              "      <td>46.2</td>\n",
              "      <td>Turkey</td>\n",
              "      <td>TUR</td>\n",
              "    </tr>\n",
              "    <tr>\n",
              "      <th>3</th>\n",
              "      <td>75%</td>\n",
              "      <td>67.8</td>\n",
              "      <td>Turkey</td>\n",
              "      <td>TUR</td>\n",
              "    </tr>\n",
              "    <tr>\n",
              "      <th>4</th>\n",
              "      <td>max</td>\n",
              "      <td>141.0</td>\n",
              "      <td>Turkey</td>\n",
              "      <td>TUR</td>\n",
              "    </tr>\n",
              "  </tbody>\n",
              "</table>\n",
              "</div>"
            ],
            "text/plain": [
              "  quartil  rainfall_mm country iso3\n",
              "0     min          2.1  Turkey  TUR\n",
              "1     25%         23.9  Turkey  TUR\n",
              "2     50%         46.2  Turkey  TUR\n",
              "3     75%         67.8  Turkey  TUR\n",
              "4     max        141.0  Turkey  TUR"
            ]
          },
          "metadata": {},
          "execution_count": 16
        }
      ]
    },
    {
      "cell_type": "code",
      "metadata": {
        "id": "g-A3VfDdUGgN"
      },
      "source": [
        "df_2 = abrindo_files('RUS','pr')\n",
        "df_3 = abrindo_files('PHL','pr')\n",
        "df_4 = abrindo_files('IND','pr')\n",
        "df_5 = abrindo_files('GBR','pr')\n",
        "df_6 = abrindo_files('FRA','pr')\n",
        "df_7 = abrindo_files('EGY','pr')\n",
        "df_8 = abrindo_files('DEU','pr')\n",
        "df_9 = abrindo_files('CHN','pr')\n",
        "df_10 = abrindo_files('CAN','pr')\n",
        "df_11 = abrindo_files('USA','pr')\n",
        "df_12 = abrindo_files('BRA','pr')\n",
        "df_13 = abrindo_files('AUS','pr')\n",
        "df_14 = abrindo_files('IDN','pr')"
      ],
      "execution_count": 18,
      "outputs": []
    },
    {
      "cell_type": "code",
      "metadata": {
        "id": "NLPKrCTqV6Gf"
      },
      "source": [
        "frames =[df_1,df_2,df_3,df_4,df_5,df_6,df_7,df_8,df_9,df_10,df_11,df_12,df_13,df_14]"
      ],
      "execution_count": 19,
      "outputs": []
    },
    {
      "cell_type": "code",
      "metadata": {
        "id": "XLs_y6VAWiR4"
      },
      "source": [
        "concatenados =pd.concat(frames)"
      ],
      "execution_count": 22,
      "outputs": []
    },
    {
      "cell_type": "code",
      "metadata": {
        "colab": {
          "base_uri": "https://localhost:8080/",
          "height": 419
        },
        "id": "U2XXFXbQXBjt",
        "outputId": "33ba0968-cd69-4d36-eeb2-bf0d5ba7dfdc"
      },
      "source": [
        "concatenados"
      ],
      "execution_count": 23,
      "outputs": [
        {
          "output_type": "execute_result",
          "data": {
            "text/html": [
              "<div>\n",
              "<style scoped>\n",
              "    .dataframe tbody tr th:only-of-type {\n",
              "        vertical-align: middle;\n",
              "    }\n",
              "\n",
              "    .dataframe tbody tr th {\n",
              "        vertical-align: top;\n",
              "    }\n",
              "\n",
              "    .dataframe thead th {\n",
              "        text-align: right;\n",
              "    }\n",
              "</style>\n",
              "<table border=\"1\" class=\"dataframe\">\n",
              "  <thead>\n",
              "    <tr style=\"text-align: right;\">\n",
              "      <th></th>\n",
              "      <th>quartil</th>\n",
              "      <th>rainfall_mm</th>\n",
              "      <th>country</th>\n",
              "      <th>iso3</th>\n",
              "    </tr>\n",
              "  </thead>\n",
              "  <tbody>\n",
              "    <tr>\n",
              "      <th>0</th>\n",
              "      <td>min</td>\n",
              "      <td>2.10</td>\n",
              "      <td>Turkey</td>\n",
              "      <td>TUR</td>\n",
              "    </tr>\n",
              "    <tr>\n",
              "      <th>1</th>\n",
              "      <td>25%</td>\n",
              "      <td>23.90</td>\n",
              "      <td>Turkey</td>\n",
              "      <td>TUR</td>\n",
              "    </tr>\n",
              "    <tr>\n",
              "      <th>2</th>\n",
              "      <td>50%</td>\n",
              "      <td>46.20</td>\n",
              "      <td>Turkey</td>\n",
              "      <td>TUR</td>\n",
              "    </tr>\n",
              "    <tr>\n",
              "      <th>3</th>\n",
              "      <td>75%</td>\n",
              "      <td>67.80</td>\n",
              "      <td>Turkey</td>\n",
              "      <td>TUR</td>\n",
              "    </tr>\n",
              "    <tr>\n",
              "      <th>4</th>\n",
              "      <td>max</td>\n",
              "      <td>141.00</td>\n",
              "      <td>Turkey</td>\n",
              "      <td>TUR</td>\n",
              "    </tr>\n",
              "    <tr>\n",
              "      <th>...</th>\n",
              "      <td>...</td>\n",
              "      <td>...</td>\n",
              "      <td>...</td>\n",
              "      <td>...</td>\n",
              "    </tr>\n",
              "    <tr>\n",
              "      <th>0</th>\n",
              "      <td>min</td>\n",
              "      <td>92.00</td>\n",
              "      <td>Indonesia</td>\n",
              "      <td>IDN</td>\n",
              "    </tr>\n",
              "    <tr>\n",
              "      <th>1</th>\n",
              "      <td>25%</td>\n",
              "      <td>193.42</td>\n",
              "      <td>Indonesia</td>\n",
              "      <td>IDN</td>\n",
              "    </tr>\n",
              "    <tr>\n",
              "      <th>2</th>\n",
              "      <td>50%</td>\n",
              "      <td>244.40</td>\n",
              "      <td>Indonesia</td>\n",
              "      <td>IDN</td>\n",
              "    </tr>\n",
              "    <tr>\n",
              "      <th>3</th>\n",
              "      <td>75%</td>\n",
              "      <td>281.42</td>\n",
              "      <td>Indonesia</td>\n",
              "      <td>IDN</td>\n",
              "    </tr>\n",
              "    <tr>\n",
              "      <th>4</th>\n",
              "      <td>max</td>\n",
              "      <td>358.30</td>\n",
              "      <td>Indonesia</td>\n",
              "      <td>IDN</td>\n",
              "    </tr>\n",
              "  </tbody>\n",
              "</table>\n",
              "<p>70 rows × 4 columns</p>\n",
              "</div>"
            ],
            "text/plain": [
              "   quartil  rainfall_mm    country iso3\n",
              "0      min         2.10     Turkey  TUR\n",
              "1      25%        23.90     Turkey  TUR\n",
              "2      50%        46.20     Turkey  TUR\n",
              "3      75%        67.80     Turkey  TUR\n",
              "4      max       141.00     Turkey  TUR\n",
              "..     ...          ...        ...  ...\n",
              "0      min        92.00  Indonesia  IDN\n",
              "1      25%       193.42  Indonesia  IDN\n",
              "2      50%       244.40  Indonesia  IDN\n",
              "3      75%       281.42  Indonesia  IDN\n",
              "4      max       358.30  Indonesia  IDN\n",
              "\n",
              "[70 rows x 4 columns]"
            ]
          },
          "metadata": {},
          "execution_count": 23
        }
      ]
    },
    {
      "cell_type": "code",
      "metadata": {
        "colab": {
          "base_uri": "https://localhost:8080/"
        },
        "id": "9TG0nraQXUaG",
        "outputId": "5ffb33ab-320a-472f-ec6c-4af3f8ee0804"
      },
      "source": [
        "concatenados.info()"
      ],
      "execution_count": 24,
      "outputs": [
        {
          "output_type": "stream",
          "name": "stdout",
          "text": [
            "<class 'pandas.core.frame.DataFrame'>\n",
            "Int64Index: 70 entries, 0 to 4\n",
            "Data columns (total 4 columns):\n",
            " #   Column       Non-Null Count  Dtype  \n",
            "---  ------       --------------  -----  \n",
            " 0   quartil      70 non-null     object \n",
            " 1   rainfall_mm  70 non-null     float64\n",
            " 2   country      70 non-null     object \n",
            " 3   iso3         70 non-null     object \n",
            "dtypes: float64(1), object(3)\n",
            "memory usage: 2.7+ KB\n"
          ]
        }
      ]
    },
    {
      "cell_type": "code",
      "metadata": {
        "colab": {
          "base_uri": "https://localhost:8080/",
          "height": 655
        },
        "id": "c-4UiZ7FXN5t",
        "outputId": "21702796-85c5-4872-c9c5-daf583f46221"
      },
      "source": [
        "msno.matrix(concatenados)"
      ],
      "execution_count": 26,
      "outputs": [
        {
          "output_type": "execute_result",
          "data": {
            "text/plain": [
              "<matplotlib.axes._subplots.AxesSubplot at 0x7efe24b38610>"
            ]
          },
          "metadata": {},
          "execution_count": 26
        },
        {
          "output_type": "display_data",
          "data": {
            "image/png": "[encoded data removed]",
            "text/plain": [
              "<Figure size 1800x720 with 2 Axes>"
            ]
          },
          "metadata": {
            "needs_background": "light"
          }
        }
      ]
    },
    {
      "cell_type": "code",
      "metadata": {
        "id": "7mb4LxV7Xj9g"
      },
      "source": [
        "path ='/content/drive/MyDrive/Temperatura_Precipitacao_analises/limpos/pr_avg/'"
      ],
      "execution_count": 27,
      "outputs": []
    },
    {
      "cell_type": "code",
      "metadata": {
        "id": "QqNhpIeOXws1"
      },
      "source": [
        "concatenados.to_csv(f\"{path}precipitacao_consolidado.csv\", index=False)"
      ],
      "execution_count": 31,
      "outputs": []
    }
  ]
}