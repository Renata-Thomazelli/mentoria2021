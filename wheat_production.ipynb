{
  "nbformat": 4,
  "nbformat_minor": 0,
  "metadata": {
    "colab": {
      "name": "wheat_production.ipynb",
      "provenance": [],
      "collapsed_sections": [],
      "authorship_tag": "ABX9TyOd6Simzs4Jqrd4OIvlVjh2",
      "include_colab_link": true
    },
    "kernelspec": {
      "name": "python3",
      "display_name": "Python 3"
    },
    "language_info": {
      "name": "python"
    }
  },
  "cells": [
    {
      "cell_type": "markdown",
      "metadata": {
        "id": "view-in-github",
        "colab_type": "text"
      },
      "source": [
        "<a href=\"https://colab.research.google.com/github/Renata-Thomazelli/mentoria2021/blob/main/wheat_production.ipynb\" target=\"_parent\"><img src=\"https://colab.research.google.com/assets/colab-badge.svg\" alt=\"Open In Colab\"/></a>"
      ]
    },
    {
      "cell_type": "markdown",
      "metadata": {
        "id": "P0kNeHowuC3t"
      },
      "source": [
        "# Analysing the wheat production"
      ]
    },
    {
      "cell_type": "code",
      "metadata": {
        "colab": {
          "base_uri": "https://localhost:8080/"
        },
        "id": "wmXlRN-5ZPp-",
        "outputId": "0f392aba-3e30-4b44-94dc-4f6931888cb3"
      },
      "source": [
        "# Importing Drive\n",
        "from google.colab import drive\n",
        "\n",
        "drive.mount('/content/drive')"
      ],
      "execution_count": 1,
      "outputs": [
        {
          "output_type": "stream",
          "text": [
            "Mounted at /content/drive\n"
          ],
          "name": "stdout"
        }
      ]
    },
    {
      "cell_type": "code",
      "metadata": {
        "id": "0BOnVmPYZXzE"
      },
      "source": [
        "#Importing \n",
        "import pandas as pd\n",
        "import numpy as np\n",
        "import chardet"
      ],
      "execution_count": 102,
      "outputs": []
    },
    {
      "cell_type": "markdown",
      "metadata": {
        "id": "hiy_NiY7ZnNp"
      },
      "source": [
        "## Reading CSV"
      ]
    },
    {
      "cell_type": "code",
      "metadata": {
        "id": "P_BwqZ22ZmFx"
      },
      "source": [
        "\n",
        "file_path ='/content/drive/MyDrive/Data_Lake/'\n",
        "file = 'paises_fechados.csv'"
      ],
      "execution_count": 103,
      "outputs": []
    },
    {
      "cell_type": "markdown",
      "metadata": {
        "id": "J_aDP1yYsXNB"
      },
      "source": [
        "Reading encoding"
      ]
    },
    {
      "cell_type": "code",
      "metadata": {
        "colab": {
          "base_uri": "https://localhost:8080/"
        },
        "id": "qjPVLylDfEBY",
        "outputId": "6cd16259-867b-496a-be17-7b7063b00ff2"
      },
      "source": [
        "with open(f\"{file_path}{file}\", 'rb') as encoding:\n",
        "    r_encoding = chardet.detect(encoding.read(100000))\n",
        "r_encoding"
      ],
      "execution_count": 104,
      "outputs": [
        {
          "output_type": "execute_result",
          "data": {
            "text/plain": [
              "{'confidence': 1.0, 'encoding': 'ascii', 'language': ''}"
            ]
          },
          "metadata": {},
          "execution_count": 104
        }
      ]
    },
    {
      "cell_type": "markdown",
      "metadata": {
        "id": "WfMO_xSmsafe"
      },
      "source": [
        "Reading CSV"
      ]
    },
    {
      "cell_type": "code",
      "metadata": {
        "id": "9gWVFiMSauTA"
      },
      "source": [
        "with open (f\"{file_path}{file}\",'r',encoding=r_encoding['encoding']) as countries:\n",
        "  df_countries = pd.read_csv(countries)\n"
      ],
      "execution_count": 105,
      "outputs": []
    },
    {
      "cell_type": "markdown",
      "metadata": {
        "id": "BtwYOpZ1sd_Z"
      },
      "source": [
        "# Dataframe"
      ]
    },
    {
      "cell_type": "code",
      "metadata": {
        "id": "YoXKHt3GbAb4",
        "colab": {
          "base_uri": "https://localhost:8080/",
          "height": 419
        },
        "outputId": "25de67ab-8961-4f59-b274-beeabdbe8ce3"
      },
      "source": [
        "df_countries"
      ],
      "execution_count": 106,
      "outputs": [
        {
          "output_type": "execute_result",
          "data": {
            "text/html": [
              "<div>\n",
              "<style scoped>\n",
              "    .dataframe tbody tr th:only-of-type {\n",
              "        vertical-align: middle;\n",
              "    }\n",
              "\n",
              "    .dataframe tbody tr th {\n",
              "        vertical-align: top;\n",
              "    }\n",
              "\n",
              "    .dataframe thead th {\n",
              "        text-align: right;\n",
              "    }\n",
              "</style>\n",
              "<table border=\"1\" class=\"dataframe\">\n",
              "  <thead>\n",
              "    <tr style=\"text-align: right;\">\n",
              "      <th></th>\n",
              "      <th>Country</th>\n",
              "      <th>Australia</th>\n",
              "      <th>Brazil</th>\n",
              "      <th>Canada</th>\n",
              "      <th>China</th>\n",
              "      <th>Egypt</th>\n",
              "      <th>India</th>\n",
              "      <th>Indonesia</th>\n",
              "      <th>Philippines</th>\n",
              "      <th>Russia</th>\n",
              "      <th>Turkey</th>\n",
              "    </tr>\n",
              "  </thead>\n",
              "  <tbody>\n",
              "    <tr>\n",
              "      <th>0</th>\n",
              "      <td>Commodity</td>\n",
              "      <td>Wheat</td>\n",
              "      <td>Wheat</td>\n",
              "      <td>Wheat</td>\n",
              "      <td>Wheat</td>\n",
              "      <td>Wheat</td>\n",
              "      <td>Wheat</td>\n",
              "      <td>Wheat</td>\n",
              "      <td>Wheat</td>\n",
              "      <td>Wheat</td>\n",
              "      <td>Wheat</td>\n",
              "    </tr>\n",
              "    <tr>\n",
              "      <th>1</th>\n",
              "      <td>Attribute</td>\n",
              "      <td>Production</td>\n",
              "      <td>Production</td>\n",
              "      <td>Production</td>\n",
              "      <td>Production</td>\n",
              "      <td>Production</td>\n",
              "      <td>Production</td>\n",
              "      <td>Production</td>\n",
              "      <td>Production</td>\n",
              "      <td>Production</td>\n",
              "      <td>Production</td>\n",
              "    </tr>\n",
              "    <tr>\n",
              "      <th>2</th>\n",
              "      <td>Frequency</td>\n",
              "      <td>A</td>\n",
              "      <td>A</td>\n",
              "      <td>A</td>\n",
              "      <td>A</td>\n",
              "      <td>A</td>\n",
              "      <td>A</td>\n",
              "      <td>A</td>\n",
              "      <td>A</td>\n",
              "      <td>A</td>\n",
              "      <td>A</td>\n",
              "    </tr>\n",
              "    <tr>\n",
              "      <th>3</th>\n",
              "      <td>1960-01-01</td>\n",
              "      <td>7450.0</td>\n",
              "      <td>350.0</td>\n",
              "      <td>14108.0</td>\n",
              "      <td>20960.0</td>\n",
              "      <td>1499.0</td>\n",
              "      <td>10320.0</td>\n",
              "      <td>0.0</td>\n",
              "      <td>0.0</td>\n",
              "      <td>NaN</td>\n",
              "      <td>7000.0</td>\n",
              "    </tr>\n",
              "    <tr>\n",
              "      <th>4</th>\n",
              "      <td>1961-01-01</td>\n",
              "      <td>6727.0</td>\n",
              "      <td>250.0</td>\n",
              "      <td>7713.0</td>\n",
              "      <td>14250.0</td>\n",
              "      <td>1436.0</td>\n",
              "      <td>10995.0</td>\n",
              "      <td>0.0</td>\n",
              "      <td>0.0</td>\n",
              "      <td>NaN</td>\n",
              "      <td>6336.0</td>\n",
              "    </tr>\n",
              "    <tr>\n",
              "      <th>...</th>\n",
              "      <td>...</td>\n",
              "      <td>...</td>\n",
              "      <td>...</td>\n",
              "      <td>...</td>\n",
              "      <td>...</td>\n",
              "      <td>...</td>\n",
              "      <td>...</td>\n",
              "      <td>...</td>\n",
              "      <td>...</td>\n",
              "      <td>...</td>\n",
              "      <td>...</td>\n",
              "    </tr>\n",
              "    <tr>\n",
              "      <th>60</th>\n",
              "      <td>2017-01-01</td>\n",
              "      <td>20941.0</td>\n",
              "      <td>4264.0</td>\n",
              "      <td>30377.0</td>\n",
              "      <td>134334.0</td>\n",
              "      <td>8450.0</td>\n",
              "      <td>98510.0</td>\n",
              "      <td>0.0</td>\n",
              "      <td>0.0</td>\n",
              "      <td>85167.0</td>\n",
              "      <td>21000.0</td>\n",
              "    </tr>\n",
              "    <tr>\n",
              "      <th>61</th>\n",
              "      <td>2018-01-01</td>\n",
              "      <td>17598.0</td>\n",
              "      <td>5428.0</td>\n",
              "      <td>32352.0</td>\n",
              "      <td>131430.0</td>\n",
              "      <td>8450.0</td>\n",
              "      <td>99870.0</td>\n",
              "      <td>0.0</td>\n",
              "      <td>0.0</td>\n",
              "      <td>71685.0</td>\n",
              "      <td>19000.0</td>\n",
              "    </tr>\n",
              "    <tr>\n",
              "      <th>62</th>\n",
              "      <td>2019-01-01</td>\n",
              "      <td>15200.0</td>\n",
              "      <td>5200.0</td>\n",
              "      <td>32670.0</td>\n",
              "      <td>133590.0</td>\n",
              "      <td>8770.0</td>\n",
              "      <td>103600.0</td>\n",
              "      <td>0.0</td>\n",
              "      <td>0.0</td>\n",
              "      <td>73610.0</td>\n",
              "      <td>17500.0</td>\n",
              "    </tr>\n",
              "    <tr>\n",
              "      <th>63</th>\n",
              "      <td>2020-01-01</td>\n",
              "      <td>33000.0</td>\n",
              "      <td>6250.0</td>\n",
              "      <td>35183.0</td>\n",
              "      <td>134250.0</td>\n",
              "      <td>8900.0</td>\n",
              "      <td>107860.0</td>\n",
              "      <td>0.0</td>\n",
              "      <td>0.0</td>\n",
              "      <td>85354.0</td>\n",
              "      <td>18250.0</td>\n",
              "    </tr>\n",
              "    <tr>\n",
              "      <th>64</th>\n",
              "      <td>2021-01-01</td>\n",
              "      <td>27000.0</td>\n",
              "      <td>6800.0</td>\n",
              "      <td>32000.0</td>\n",
              "      <td>136000.0</td>\n",
              "      <td>9000.0</td>\n",
              "      <td>108000.0</td>\n",
              "      <td>0.0</td>\n",
              "      <td>0.0</td>\n",
              "      <td>85000.0</td>\n",
              "      <td>17250.0</td>\n",
              "    </tr>\n",
              "  </tbody>\n",
              "</table>\n",
              "<p>65 rows × 11 columns</p>\n",
              "</div>"
            ],
            "text/plain": [
              "       Country   Australia      Brazil  ... Philippines      Russia      Turkey\n",
              "0    Commodity       Wheat       Wheat  ...       Wheat       Wheat       Wheat\n",
              "1    Attribute  Production  Production  ...  Production  Production  Production\n",
              "2    Frequency           A           A  ...           A           A           A\n",
              "3   1960-01-01      7450.0       350.0  ...         0.0         NaN      7000.0\n",
              "4   1961-01-01      6727.0       250.0  ...         0.0         NaN      6336.0\n",
              "..         ...         ...         ...  ...         ...         ...         ...\n",
              "60  2017-01-01     20941.0      4264.0  ...         0.0     85167.0     21000.0\n",
              "61  2018-01-01     17598.0      5428.0  ...         0.0     71685.0     19000.0\n",
              "62  2019-01-01     15200.0      5200.0  ...         0.0     73610.0     17500.0\n",
              "63  2020-01-01     33000.0      6250.0  ...         0.0     85354.0     18250.0\n",
              "64  2021-01-01     27000.0      6800.0  ...         0.0     85000.0     17250.0\n",
              "\n",
              "[65 rows x 11 columns]"
            ]
          },
          "metadata": {},
          "execution_count": 106
        }
      ]
    },
    {
      "cell_type": "markdown",
      "metadata": {
        "id": "OR5WUEEEsx0m"
      },
      "source": [
        "DEF TO RENAME NAMES"
      ]
    },
    {
      "cell_type": "code",
      "metadata": {
        "id": "roeabmgJhKB9"
      },
      "source": [
        "def replace (col): \n",
        "    return col.replace(\"-01-01\",'')"
      ],
      "execution_count": 107,
      "outputs": []
    },
    {
      "cell_type": "code",
      "metadata": {
        "colab": {
          "base_uri": "https://localhost:8080/"
        },
        "id": "h11zuvma33jp",
        "outputId": "27ea399f-7e6e-4ec7-9b14-85c53341c381"
      },
      "source": [
        "df_countries.shape"
      ],
      "execution_count": 108,
      "outputs": [
        {
          "output_type": "execute_result",
          "data": {
            "text/plain": [
              "(65, 11)"
            ]
          },
          "metadata": {},
          "execution_count": 108
        }
      ]
    },
    {
      "cell_type": "code",
      "metadata": {
        "id": "W1M0bFWImfst"
      },
      "source": [
        "anos = {\"Country\":\"Years\"}\n",
        "df_countries=\\\n",
        "(\n",
        "    df_countries.drop(range(0,3))\n",
        "    .rename(columns=anos)\n",
        "    .set_index(\"Years\")\n",
        "    .rename(index=replace)\n",
        " )\n"
      ],
      "execution_count": 109,
      "outputs": []
    },
    {
      "cell_type": "code",
      "metadata": {
        "colab": {
          "base_uri": "https://localhost:8080/"
        },
        "id": "2773Jf6k3-cX",
        "outputId": "66297623-bdfe-4344-ef1f-398e6ab91584"
      },
      "source": [
        "df_countries.shape"
      ],
      "execution_count": 110,
      "outputs": [
        {
          "output_type": "execute_result",
          "data": {
            "text/plain": [
              "(62, 10)"
            ]
          },
          "metadata": {},
          "execution_count": 110
        }
      ]
    },
    {
      "cell_type": "code",
      "metadata": {
        "colab": {
          "base_uri": "https://localhost:8080/",
          "height": 450
        },
        "id": "Ginxol_-jIJ0",
        "outputId": "28042a60-a3e6-49fc-bfa7-cf9ccaa973b7"
      },
      "source": [
        "df_countries"
      ],
      "execution_count": 111,
      "outputs": [
        {
          "output_type": "execute_result",
          "data": {
            "text/html": [
              "<div>\n",
              "<style scoped>\n",
              "    .dataframe tbody tr th:only-of-type {\n",
              "        vertical-align: middle;\n",
              "    }\n",
              "\n",
              "    .dataframe tbody tr th {\n",
              "        vertical-align: top;\n",
              "    }\n",
              "\n",
              "    .dataframe thead th {\n",
              "        text-align: right;\n",
              "    }\n",
              "</style>\n",
              "<table border=\"1\" class=\"dataframe\">\n",
              "  <thead>\n",
              "    <tr style=\"text-align: right;\">\n",
              "      <th></th>\n",
              "      <th>Australia</th>\n",
              "      <th>Brazil</th>\n",
              "      <th>Canada</th>\n",
              "      <th>China</th>\n",
              "      <th>Egypt</th>\n",
              "      <th>India</th>\n",
              "      <th>Indonesia</th>\n",
              "      <th>Philippines</th>\n",
              "      <th>Russia</th>\n",
              "      <th>Turkey</th>\n",
              "    </tr>\n",
              "    <tr>\n",
              "      <th>Years</th>\n",
              "      <th></th>\n",
              "      <th></th>\n",
              "      <th></th>\n",
              "      <th></th>\n",
              "      <th></th>\n",
              "      <th></th>\n",
              "      <th></th>\n",
              "      <th></th>\n",
              "      <th></th>\n",
              "      <th></th>\n",
              "    </tr>\n",
              "  </thead>\n",
              "  <tbody>\n",
              "    <tr>\n",
              "      <th>1960</th>\n",
              "      <td>7450.0</td>\n",
              "      <td>350.0</td>\n",
              "      <td>14108.0</td>\n",
              "      <td>20960.0</td>\n",
              "      <td>1499.0</td>\n",
              "      <td>10320.0</td>\n",
              "      <td>0.0</td>\n",
              "      <td>0.0</td>\n",
              "      <td>NaN</td>\n",
              "      <td>7000.0</td>\n",
              "    </tr>\n",
              "    <tr>\n",
              "      <th>1961</th>\n",
              "      <td>6727.0</td>\n",
              "      <td>250.0</td>\n",
              "      <td>7713.0</td>\n",
              "      <td>14250.0</td>\n",
              "      <td>1436.0</td>\n",
              "      <td>10995.0</td>\n",
              "      <td>0.0</td>\n",
              "      <td>0.0</td>\n",
              "      <td>NaN</td>\n",
              "      <td>6336.0</td>\n",
              "    </tr>\n",
              "    <tr>\n",
              "      <th>1962</th>\n",
              "      <td>8353.0</td>\n",
              "      <td>256.0</td>\n",
              "      <td>15392.0</td>\n",
              "      <td>16665.0</td>\n",
              "      <td>1593.0</td>\n",
              "      <td>12076.0</td>\n",
              "      <td>0.0</td>\n",
              "      <td>0.0</td>\n",
              "      <td>NaN</td>\n",
              "      <td>6804.0</td>\n",
              "    </tr>\n",
              "    <tr>\n",
              "      <th>1963</th>\n",
              "      <td>8925.0</td>\n",
              "      <td>100.0</td>\n",
              "      <td>19690.0</td>\n",
              "      <td>18475.0</td>\n",
              "      <td>1493.0</td>\n",
              "      <td>10779.0</td>\n",
              "      <td>0.0</td>\n",
              "      <td>0.0</td>\n",
              "      <td>NaN</td>\n",
              "      <td>7892.0</td>\n",
              "    </tr>\n",
              "    <tr>\n",
              "      <th>1964</th>\n",
              "      <td>10037.0</td>\n",
              "      <td>226.0</td>\n",
              "      <td>16349.0</td>\n",
              "      <td>20840.0</td>\n",
              "      <td>1500.0</td>\n",
              "      <td>9854.0</td>\n",
              "      <td>0.0</td>\n",
              "      <td>0.0</td>\n",
              "      <td>NaN</td>\n",
              "      <td>7000.0</td>\n",
              "    </tr>\n",
              "    <tr>\n",
              "      <th>...</th>\n",
              "      <td>...</td>\n",
              "      <td>...</td>\n",
              "      <td>...</td>\n",
              "      <td>...</td>\n",
              "      <td>...</td>\n",
              "      <td>...</td>\n",
              "      <td>...</td>\n",
              "      <td>...</td>\n",
              "      <td>...</td>\n",
              "      <td>...</td>\n",
              "    </tr>\n",
              "    <tr>\n",
              "      <th>2017</th>\n",
              "      <td>20941.0</td>\n",
              "      <td>4264.0</td>\n",
              "      <td>30377.0</td>\n",
              "      <td>134334.0</td>\n",
              "      <td>8450.0</td>\n",
              "      <td>98510.0</td>\n",
              "      <td>0.0</td>\n",
              "      <td>0.0</td>\n",
              "      <td>85167.0</td>\n",
              "      <td>21000.0</td>\n",
              "    </tr>\n",
              "    <tr>\n",
              "      <th>2018</th>\n",
              "      <td>17598.0</td>\n",
              "      <td>5428.0</td>\n",
              "      <td>32352.0</td>\n",
              "      <td>131430.0</td>\n",
              "      <td>8450.0</td>\n",
              "      <td>99870.0</td>\n",
              "      <td>0.0</td>\n",
              "      <td>0.0</td>\n",
              "      <td>71685.0</td>\n",
              "      <td>19000.0</td>\n",
              "    </tr>\n",
              "    <tr>\n",
              "      <th>2019</th>\n",
              "      <td>15200.0</td>\n",
              "      <td>5200.0</td>\n",
              "      <td>32670.0</td>\n",
              "      <td>133590.0</td>\n",
              "      <td>8770.0</td>\n",
              "      <td>103600.0</td>\n",
              "      <td>0.0</td>\n",
              "      <td>0.0</td>\n",
              "      <td>73610.0</td>\n",
              "      <td>17500.0</td>\n",
              "    </tr>\n",
              "    <tr>\n",
              "      <th>2020</th>\n",
              "      <td>33000.0</td>\n",
              "      <td>6250.0</td>\n",
              "      <td>35183.0</td>\n",
              "      <td>134250.0</td>\n",
              "      <td>8900.0</td>\n",
              "      <td>107860.0</td>\n",
              "      <td>0.0</td>\n",
              "      <td>0.0</td>\n",
              "      <td>85354.0</td>\n",
              "      <td>18250.0</td>\n",
              "    </tr>\n",
              "    <tr>\n",
              "      <th>2021</th>\n",
              "      <td>27000.0</td>\n",
              "      <td>6800.0</td>\n",
              "      <td>32000.0</td>\n",
              "      <td>136000.0</td>\n",
              "      <td>9000.0</td>\n",
              "      <td>108000.0</td>\n",
              "      <td>0.0</td>\n",
              "      <td>0.0</td>\n",
              "      <td>85000.0</td>\n",
              "      <td>17250.0</td>\n",
              "    </tr>\n",
              "  </tbody>\n",
              "</table>\n",
              "<p>62 rows × 10 columns</p>\n",
              "</div>"
            ],
            "text/plain": [
              "      Australia  Brazil   Canada  ... Philippines   Russia   Turkey\n",
              "Years                             ...                              \n",
              "1960     7450.0   350.0  14108.0  ...         0.0      NaN   7000.0\n",
              "1961     6727.0   250.0   7713.0  ...         0.0      NaN   6336.0\n",
              "1962     8353.0   256.0  15392.0  ...         0.0      NaN   6804.0\n",
              "1963     8925.0   100.0  19690.0  ...         0.0      NaN   7892.0\n",
              "1964    10037.0   226.0  16349.0  ...         0.0      NaN   7000.0\n",
              "...         ...     ...      ...  ...         ...      ...      ...\n",
              "2017    20941.0  4264.0  30377.0  ...         0.0  85167.0  21000.0\n",
              "2018    17598.0  5428.0  32352.0  ...         0.0  71685.0  19000.0\n",
              "2019    15200.0  5200.0  32670.0  ...         0.0  73610.0  17500.0\n",
              "2020    33000.0  6250.0  35183.0  ...         0.0  85354.0  18250.0\n",
              "2021    27000.0  6800.0  32000.0  ...         0.0  85000.0  17250.0\n",
              "\n",
              "[62 rows x 10 columns]"
            ]
          },
          "metadata": {},
          "execution_count": 111
        }
      ]
    },
    {
      "cell_type": "code",
      "metadata": {
        "colab": {
          "base_uri": "https://localhost:8080/"
        },
        "id": "LP7oFpPInqfj",
        "outputId": "c445c75e-a7c4-43f5-9f57-034fe4dbf9c3"
      },
      "source": [
        "df_countries.isna().sum()"
      ],
      "execution_count": 112,
      "outputs": [
        {
          "output_type": "execute_result",
          "data": {
            "text/plain": [
              "Australia       0\n",
              "Brazil          0\n",
              "Canada          0\n",
              "China           0\n",
              "Egypt           0\n",
              "India           0\n",
              "Indonesia       0\n",
              "Philippines     0\n",
              "Russia         27\n",
              "Turkey          0\n",
              "dtype: int64"
            ]
          },
          "metadata": {},
          "execution_count": 112
        }
      ]
    },
    {
      "cell_type": "code",
      "metadata": {
        "id": "4aW04gWyn8bi"
      },
      "source": [
        "#fillna and changing types\n",
        "df_countries =\\\n",
        "(\n",
        "    df_countries.fillna(0)\n",
        "    .astype(float)\n",
        "    .astype(int)\n",
        "   \n",
        ")\n",
        "\n"
      ],
      "execution_count": 113,
      "outputs": []
    },
    {
      "cell_type": "code",
      "metadata": {
        "colab": {
          "base_uri": "https://localhost:8080/",
          "height": 450
        },
        "id": "GBibMMLFzr5B",
        "outputId": "64e9f5b8-4b00-4b4f-ab31-de727fed52fc"
      },
      "source": [
        "df_countries"
      ],
      "execution_count": 114,
      "outputs": [
        {
          "output_type": "execute_result",
          "data": {
            "text/html": [
              "<div>\n",
              "<style scoped>\n",
              "    .dataframe tbody tr th:only-of-type {\n",
              "        vertical-align: middle;\n",
              "    }\n",
              "\n",
              "    .dataframe tbody tr th {\n",
              "        vertical-align: top;\n",
              "    }\n",
              "\n",
              "    .dataframe thead th {\n",
              "        text-align: right;\n",
              "    }\n",
              "</style>\n",
              "<table border=\"1\" class=\"dataframe\">\n",
              "  <thead>\n",
              "    <tr style=\"text-align: right;\">\n",
              "      <th></th>\n",
              "      <th>Australia</th>\n",
              "      <th>Brazil</th>\n",
              "      <th>Canada</th>\n",
              "      <th>China</th>\n",
              "      <th>Egypt</th>\n",
              "      <th>India</th>\n",
              "      <th>Indonesia</th>\n",
              "      <th>Philippines</th>\n",
              "      <th>Russia</th>\n",
              "      <th>Turkey</th>\n",
              "    </tr>\n",
              "    <tr>\n",
              "      <th>Years</th>\n",
              "      <th></th>\n",
              "      <th></th>\n",
              "      <th></th>\n",
              "      <th></th>\n",
              "      <th></th>\n",
              "      <th></th>\n",
              "      <th></th>\n",
              "      <th></th>\n",
              "      <th></th>\n",
              "      <th></th>\n",
              "    </tr>\n",
              "  </thead>\n",
              "  <tbody>\n",
              "    <tr>\n",
              "      <th>1960</th>\n",
              "      <td>7450</td>\n",
              "      <td>350</td>\n",
              "      <td>14108</td>\n",
              "      <td>20960</td>\n",
              "      <td>1499</td>\n",
              "      <td>10320</td>\n",
              "      <td>0</td>\n",
              "      <td>0</td>\n",
              "      <td>0</td>\n",
              "      <td>7000</td>\n",
              "    </tr>\n",
              "    <tr>\n",
              "      <th>1961</th>\n",
              "      <td>6727</td>\n",
              "      <td>250</td>\n",
              "      <td>7713</td>\n",
              "      <td>14250</td>\n",
              "      <td>1436</td>\n",
              "      <td>10995</td>\n",
              "      <td>0</td>\n",
              "      <td>0</td>\n",
              "      <td>0</td>\n",
              "      <td>6336</td>\n",
              "    </tr>\n",
              "    <tr>\n",
              "      <th>1962</th>\n",
              "      <td>8353</td>\n",
              "      <td>256</td>\n",
              "      <td>15392</td>\n",
              "      <td>16665</td>\n",
              "      <td>1593</td>\n",
              "      <td>12076</td>\n",
              "      <td>0</td>\n",
              "      <td>0</td>\n",
              "      <td>0</td>\n",
              "      <td>6804</td>\n",
              "    </tr>\n",
              "    <tr>\n",
              "      <th>1963</th>\n",
              "      <td>8925</td>\n",
              "      <td>100</td>\n",
              "      <td>19690</td>\n",
              "      <td>18475</td>\n",
              "      <td>1493</td>\n",
              "      <td>10779</td>\n",
              "      <td>0</td>\n",
              "      <td>0</td>\n",
              "      <td>0</td>\n",
              "      <td>7892</td>\n",
              "    </tr>\n",
              "    <tr>\n",
              "      <th>1964</th>\n",
              "      <td>10037</td>\n",
              "      <td>226</td>\n",
              "      <td>16349</td>\n",
              "      <td>20840</td>\n",
              "      <td>1500</td>\n",
              "      <td>9854</td>\n",
              "      <td>0</td>\n",
              "      <td>0</td>\n",
              "      <td>0</td>\n",
              "      <td>7000</td>\n",
              "    </tr>\n",
              "    <tr>\n",
              "      <th>...</th>\n",
              "      <td>...</td>\n",
              "      <td>...</td>\n",
              "      <td>...</td>\n",
              "      <td>...</td>\n",
              "      <td>...</td>\n",
              "      <td>...</td>\n",
              "      <td>...</td>\n",
              "      <td>...</td>\n",
              "      <td>...</td>\n",
              "      <td>...</td>\n",
              "    </tr>\n",
              "    <tr>\n",
              "      <th>2017</th>\n",
              "      <td>20941</td>\n",
              "      <td>4264</td>\n",
              "      <td>30377</td>\n",
              "      <td>134334</td>\n",
              "      <td>8450</td>\n",
              "      <td>98510</td>\n",
              "      <td>0</td>\n",
              "      <td>0</td>\n",
              "      <td>85167</td>\n",
              "      <td>21000</td>\n",
              "    </tr>\n",
              "    <tr>\n",
              "      <th>2018</th>\n",
              "      <td>17598</td>\n",
              "      <td>5428</td>\n",
              "      <td>32352</td>\n",
              "      <td>131430</td>\n",
              "      <td>8450</td>\n",
              "      <td>99870</td>\n",
              "      <td>0</td>\n",
              "      <td>0</td>\n",
              "      <td>71685</td>\n",
              "      <td>19000</td>\n",
              "    </tr>\n",
              "    <tr>\n",
              "      <th>2019</th>\n",
              "      <td>15200</td>\n",
              "      <td>5200</td>\n",
              "      <td>32670</td>\n",
              "      <td>133590</td>\n",
              "      <td>8770</td>\n",
              "      <td>103600</td>\n",
              "      <td>0</td>\n",
              "      <td>0</td>\n",
              "      <td>73610</td>\n",
              "      <td>17500</td>\n",
              "    </tr>\n",
              "    <tr>\n",
              "      <th>2020</th>\n",
              "      <td>33000</td>\n",
              "      <td>6250</td>\n",
              "      <td>35183</td>\n",
              "      <td>134250</td>\n",
              "      <td>8900</td>\n",
              "      <td>107860</td>\n",
              "      <td>0</td>\n",
              "      <td>0</td>\n",
              "      <td>85354</td>\n",
              "      <td>18250</td>\n",
              "    </tr>\n",
              "    <tr>\n",
              "      <th>2021</th>\n",
              "      <td>27000</td>\n",
              "      <td>6800</td>\n",
              "      <td>32000</td>\n",
              "      <td>136000</td>\n",
              "      <td>9000</td>\n",
              "      <td>108000</td>\n",
              "      <td>0</td>\n",
              "      <td>0</td>\n",
              "      <td>85000</td>\n",
              "      <td>17250</td>\n",
              "    </tr>\n",
              "  </tbody>\n",
              "</table>\n",
              "<p>62 rows × 10 columns</p>\n",
              "</div>"
            ],
            "text/plain": [
              "       Australia  Brazil  Canada  ...  Philippines  Russia  Turkey\n",
              "Years                             ...                             \n",
              "1960        7450     350   14108  ...            0       0    7000\n",
              "1961        6727     250    7713  ...            0       0    6336\n",
              "1962        8353     256   15392  ...            0       0    6804\n",
              "1963        8925     100   19690  ...            0       0    7892\n",
              "1964       10037     226   16349  ...            0       0    7000\n",
              "...          ...     ...     ...  ...          ...     ...     ...\n",
              "2017       20941    4264   30377  ...            0   85167   21000\n",
              "2018       17598    5428   32352  ...            0   71685   19000\n",
              "2019       15200    5200   32670  ...            0   73610   17500\n",
              "2020       33000    6250   35183  ...            0   85354   18250\n",
              "2021       27000    6800   32000  ...            0   85000   17250\n",
              "\n",
              "[62 rows x 10 columns]"
            ]
          },
          "metadata": {},
          "execution_count": 114
        }
      ]
    },
    {
      "cell_type": "code",
      "metadata": {
        "colab": {
          "base_uri": "https://localhost:8080/"
        },
        "id": "OwwdAHYDo847",
        "outputId": "217cb561-a3a2-4429-e359-053c068d79a8"
      },
      "source": [
        "#checking the usage\n",
        "df_countries.info()"
      ],
      "execution_count": 115,
      "outputs": [
        {
          "output_type": "stream",
          "text": [
            "<class 'pandas.core.frame.DataFrame'>\n",
            "Index: 62 entries, 1960 to 2021\n",
            "Data columns (total 10 columns):\n",
            " #   Column       Non-Null Count  Dtype\n",
            "---  ------       --------------  -----\n",
            " 0   Australia    62 non-null     int64\n",
            " 1   Brazil       62 non-null     int64\n",
            " 2   Canada       62 non-null     int64\n",
            " 3   China        62 non-null     int64\n",
            " 4   Egypt        62 non-null     int64\n",
            " 5   India        62 non-null     int64\n",
            " 6   Indonesia    62 non-null     int64\n",
            " 7   Philippines  62 non-null     int64\n",
            " 8   Russia       62 non-null     int64\n",
            " 9   Turkey       62 non-null     int64\n",
            "dtypes: int64(10)\n",
            "memory usage: 5.3+ KB\n"
          ],
          "name": "stdout"
        }
      ]
    },
    {
      "cell_type": "markdown",
      "metadata": {
        "id": "14Fe1xi3tEVz"
      },
      "source": [
        "DADOS ESTATÍSTICOS"
      ]
    },
    {
      "cell_type": "code",
      "metadata": {
        "id": "CPyppN820TUe",
        "colab": {
          "base_uri": "https://localhost:8080/",
          "height": 359
        },
        "outputId": "b164074b-d97a-41ba-bb0b-d199f3091e74"
      },
      "source": [
        "estatistica = \\\n",
        "(\n",
        "    df_countries.describe(include=[np.number])\n",
        "    .T\n",
        "    .astype(int)\n",
        "    .sort_values('max',ascending=False)\n",
        "\n",
        ")\n",
        "estatistica"
      ],
      "execution_count": 116,
      "outputs": [
        {
          "output_type": "execute_result",
          "data": {
            "text/html": [
              "<div>\n",
              "<style scoped>\n",
              "    .dataframe tbody tr th:only-of-type {\n",
              "        vertical-align: middle;\n",
              "    }\n",
              "\n",
              "    .dataframe tbody tr th {\n",
              "        vertical-align: top;\n",
              "    }\n",
              "\n",
              "    .dataframe thead th {\n",
              "        text-align: right;\n",
              "    }\n",
              "</style>\n",
              "<table border=\"1\" class=\"dataframe\">\n",
              "  <thead>\n",
              "    <tr style=\"text-align: right;\">\n",
              "      <th></th>\n",
              "      <th>count</th>\n",
              "      <th>mean</th>\n",
              "      <th>std</th>\n",
              "      <th>min</th>\n",
              "      <th>25%</th>\n",
              "      <th>50%</th>\n",
              "      <th>75%</th>\n",
              "      <th>max</th>\n",
              "    </tr>\n",
              "  </thead>\n",
              "  <tbody>\n",
              "    <tr>\n",
              "      <th>China</th>\n",
              "      <td>62</td>\n",
              "      <td>81563</td>\n",
              "      <td>38683</td>\n",
              "      <td>14250</td>\n",
              "      <td>42133</td>\n",
              "      <td>90548</td>\n",
              "      <td>112341</td>\n",
              "      <td>136000</td>\n",
              "    </tr>\n",
              "    <tr>\n",
              "      <th>India</th>\n",
              "      <td>62</td>\n",
              "      <td>53294</td>\n",
              "      <td>29405</td>\n",
              "      <td>9854</td>\n",
              "      <td>27019</td>\n",
              "      <td>54622</td>\n",
              "      <td>75046</td>\n",
              "      <td>108000</td>\n",
              "    </tr>\n",
              "    <tr>\n",
              "      <th>Russia</th>\n",
              "      <td>62</td>\n",
              "      <td>28359</td>\n",
              "      <td>27883</td>\n",
              "      <td>0</td>\n",
              "      <td>0</td>\n",
              "      <td>33085</td>\n",
              "      <td>47456</td>\n",
              "      <td>85354</td>\n",
              "    </tr>\n",
              "    <tr>\n",
              "      <th>Canada</th>\n",
              "      <td>62</td>\n",
              "      <td>23379</td>\n",
              "      <td>6491</td>\n",
              "      <td>7713</td>\n",
              "      <td>17833</td>\n",
              "      <td>24266</td>\n",
              "      <td>27241</td>\n",
              "      <td>37589</td>\n",
              "    </tr>\n",
              "    <tr>\n",
              "      <th>Australia</th>\n",
              "      <td>62</td>\n",
              "      <td>16519</td>\n",
              "      <td>6893</td>\n",
              "      <td>6590</td>\n",
              "      <td>10623</td>\n",
              "      <td>16143</td>\n",
              "      <td>21988</td>\n",
              "      <td>33000</td>\n",
              "    </tr>\n",
              "    <tr>\n",
              "      <th>Turkey</th>\n",
              "      <td>62</td>\n",
              "      <td>14017</td>\n",
              "      <td>3950</td>\n",
              "      <td>6336</td>\n",
              "      <td>11750</td>\n",
              "      <td>15375</td>\n",
              "      <td>16950</td>\n",
              "      <td>21000</td>\n",
              "    </tr>\n",
              "    <tr>\n",
              "      <th>Egypt</th>\n",
              "      <td>62</td>\n",
              "      <td>4506</td>\n",
              "      <td>2863</td>\n",
              "      <td>1272</td>\n",
              "      <td>1820</td>\n",
              "      <td>4193</td>\n",
              "      <td>7334</td>\n",
              "      <td>9000</td>\n",
              "    </tr>\n",
              "    <tr>\n",
              "      <th>Brazil</th>\n",
              "      <td>62</td>\n",
              "      <td>3195</td>\n",
              "      <td>2003</td>\n",
              "      <td>100</td>\n",
              "      <td>1894</td>\n",
              "      <td>2798</td>\n",
              "      <td>5275</td>\n",
              "      <td>6800</td>\n",
              "    </tr>\n",
              "    <tr>\n",
              "      <th>Indonesia</th>\n",
              "      <td>62</td>\n",
              "      <td>0</td>\n",
              "      <td>0</td>\n",
              "      <td>0</td>\n",
              "      <td>0</td>\n",
              "      <td>0</td>\n",
              "      <td>0</td>\n",
              "      <td>0</td>\n",
              "    </tr>\n",
              "    <tr>\n",
              "      <th>Philippines</th>\n",
              "      <td>62</td>\n",
              "      <td>0</td>\n",
              "      <td>0</td>\n",
              "      <td>0</td>\n",
              "      <td>0</td>\n",
              "      <td>0</td>\n",
              "      <td>0</td>\n",
              "      <td>0</td>\n",
              "    </tr>\n",
              "  </tbody>\n",
              "</table>\n",
              "</div>"
            ],
            "text/plain": [
              "             count   mean    std    min    25%    50%     75%     max\n",
              "China           62  81563  38683  14250  42133  90548  112341  136000\n",
              "India           62  53294  29405   9854  27019  54622   75046  108000\n",
              "Russia          62  28359  27883      0      0  33085   47456   85354\n",
              "Canada          62  23379   6491   7713  17833  24266   27241   37589\n",
              "Australia       62  16519   6893   6590  10623  16143   21988   33000\n",
              "Turkey          62  14017   3950   6336  11750  15375   16950   21000\n",
              "Egypt           62   4506   2863   1272   1820   4193    7334    9000\n",
              "Brazil          62   3195   2003    100   1894   2798    5275    6800\n",
              "Indonesia       62      0      0      0      0      0       0       0\n",
              "Philippines     62      0      0      0      0      0       0       0"
            ]
          },
          "metadata": {},
          "execution_count": 116
        }
      ]
    },
    {
      "cell_type": "code",
      "metadata": {
        "colab": {
          "base_uri": "https://localhost:8080/",
          "height": 450
        },
        "id": "tMbWj7417RRr",
        "outputId": "b72abdc4-1472-4cc0-bcfb-f65e6760ffab"
      },
      "source": [
        "df_countries.sort_index(ascending = False)\n"
      ],
      "execution_count": 117,
      "outputs": [
        {
          "output_type": "execute_result",
          "data": {
            "text/html": [
              "<div>\n",
              "<style scoped>\n",
              "    .dataframe tbody tr th:only-of-type {\n",
              "        vertical-align: middle;\n",
              "    }\n",
              "\n",
              "    .dataframe tbody tr th {\n",
              "        vertical-align: top;\n",
              "    }\n",
              "\n",
              "    .dataframe thead th {\n",
              "        text-align: right;\n",
              "    }\n",
              "</style>\n",
              "<table border=\"1\" class=\"dataframe\">\n",
              "  <thead>\n",
              "    <tr style=\"text-align: right;\">\n",
              "      <th></th>\n",
              "      <th>Australia</th>\n",
              "      <th>Brazil</th>\n",
              "      <th>Canada</th>\n",
              "      <th>China</th>\n",
              "      <th>Egypt</th>\n",
              "      <th>India</th>\n",
              "      <th>Indonesia</th>\n",
              "      <th>Philippines</th>\n",
              "      <th>Russia</th>\n",
              "      <th>Turkey</th>\n",
              "    </tr>\n",
              "    <tr>\n",
              "      <th>Years</th>\n",
              "      <th></th>\n",
              "      <th></th>\n",
              "      <th></th>\n",
              "      <th></th>\n",
              "      <th></th>\n",
              "      <th></th>\n",
              "      <th></th>\n",
              "      <th></th>\n",
              "      <th></th>\n",
              "      <th></th>\n",
              "    </tr>\n",
              "  </thead>\n",
              "  <tbody>\n",
              "    <tr>\n",
              "      <th>2021</th>\n",
              "      <td>27000</td>\n",
              "      <td>6800</td>\n",
              "      <td>32000</td>\n",
              "      <td>136000</td>\n",
              "      <td>9000</td>\n",
              "      <td>108000</td>\n",
              "      <td>0</td>\n",
              "      <td>0</td>\n",
              "      <td>85000</td>\n",
              "      <td>17250</td>\n",
              "    </tr>\n",
              "    <tr>\n",
              "      <th>2020</th>\n",
              "      <td>33000</td>\n",
              "      <td>6250</td>\n",
              "      <td>35183</td>\n",
              "      <td>134250</td>\n",
              "      <td>8900</td>\n",
              "      <td>107860</td>\n",
              "      <td>0</td>\n",
              "      <td>0</td>\n",
              "      <td>85354</td>\n",
              "      <td>18250</td>\n",
              "    </tr>\n",
              "    <tr>\n",
              "      <th>2019</th>\n",
              "      <td>15200</td>\n",
              "      <td>5200</td>\n",
              "      <td>32670</td>\n",
              "      <td>133590</td>\n",
              "      <td>8770</td>\n",
              "      <td>103600</td>\n",
              "      <td>0</td>\n",
              "      <td>0</td>\n",
              "      <td>73610</td>\n",
              "      <td>17500</td>\n",
              "    </tr>\n",
              "    <tr>\n",
              "      <th>2018</th>\n",
              "      <td>17598</td>\n",
              "      <td>5428</td>\n",
              "      <td>32352</td>\n",
              "      <td>131430</td>\n",
              "      <td>8450</td>\n",
              "      <td>99870</td>\n",
              "      <td>0</td>\n",
              "      <td>0</td>\n",
              "      <td>71685</td>\n",
              "      <td>19000</td>\n",
              "    </tr>\n",
              "    <tr>\n",
              "      <th>2017</th>\n",
              "      <td>20941</td>\n",
              "      <td>4264</td>\n",
              "      <td>30377</td>\n",
              "      <td>134334</td>\n",
              "      <td>8450</td>\n",
              "      <td>98510</td>\n",
              "      <td>0</td>\n",
              "      <td>0</td>\n",
              "      <td>85167</td>\n",
              "      <td>21000</td>\n",
              "    </tr>\n",
              "    <tr>\n",
              "      <th>...</th>\n",
              "      <td>...</td>\n",
              "      <td>...</td>\n",
              "      <td>...</td>\n",
              "      <td>...</td>\n",
              "      <td>...</td>\n",
              "      <td>...</td>\n",
              "      <td>...</td>\n",
              "      <td>...</td>\n",
              "      <td>...</td>\n",
              "      <td>...</td>\n",
              "    </tr>\n",
              "    <tr>\n",
              "      <th>1964</th>\n",
              "      <td>10037</td>\n",
              "      <td>226</td>\n",
              "      <td>16349</td>\n",
              "      <td>20840</td>\n",
              "      <td>1500</td>\n",
              "      <td>9854</td>\n",
              "      <td>0</td>\n",
              "      <td>0</td>\n",
              "      <td>0</td>\n",
              "      <td>7000</td>\n",
              "    </tr>\n",
              "    <tr>\n",
              "      <th>1963</th>\n",
              "      <td>8925</td>\n",
              "      <td>100</td>\n",
              "      <td>19690</td>\n",
              "      <td>18475</td>\n",
              "      <td>1493</td>\n",
              "      <td>10779</td>\n",
              "      <td>0</td>\n",
              "      <td>0</td>\n",
              "      <td>0</td>\n",
              "      <td>7892</td>\n",
              "    </tr>\n",
              "    <tr>\n",
              "      <th>1962</th>\n",
              "      <td>8353</td>\n",
              "      <td>256</td>\n",
              "      <td>15392</td>\n",
              "      <td>16665</td>\n",
              "      <td>1593</td>\n",
              "      <td>12076</td>\n",
              "      <td>0</td>\n",
              "      <td>0</td>\n",
              "      <td>0</td>\n",
              "      <td>6804</td>\n",
              "    </tr>\n",
              "    <tr>\n",
              "      <th>1961</th>\n",
              "      <td>6727</td>\n",
              "      <td>250</td>\n",
              "      <td>7713</td>\n",
              "      <td>14250</td>\n",
              "      <td>1436</td>\n",
              "      <td>10995</td>\n",
              "      <td>0</td>\n",
              "      <td>0</td>\n",
              "      <td>0</td>\n",
              "      <td>6336</td>\n",
              "    </tr>\n",
              "    <tr>\n",
              "      <th>1960</th>\n",
              "      <td>7450</td>\n",
              "      <td>350</td>\n",
              "      <td>14108</td>\n",
              "      <td>20960</td>\n",
              "      <td>1499</td>\n",
              "      <td>10320</td>\n",
              "      <td>0</td>\n",
              "      <td>0</td>\n",
              "      <td>0</td>\n",
              "      <td>7000</td>\n",
              "    </tr>\n",
              "  </tbody>\n",
              "</table>\n",
              "<p>62 rows × 10 columns</p>\n",
              "</div>"
            ],
            "text/plain": [
              "       Australia  Brazil  Canada  ...  Philippines  Russia  Turkey\n",
              "Years                             ...                             \n",
              "2021       27000    6800   32000  ...            0   85000   17250\n",
              "2020       33000    6250   35183  ...            0   85354   18250\n",
              "2019       15200    5200   32670  ...            0   73610   17500\n",
              "2018       17598    5428   32352  ...            0   71685   19000\n",
              "2017       20941    4264   30377  ...            0   85167   21000\n",
              "...          ...     ...     ...  ...          ...     ...     ...\n",
              "1964       10037     226   16349  ...            0       0    7000\n",
              "1963        8925     100   19690  ...            0       0    7892\n",
              "1962        8353     256   15392  ...            0       0    6804\n",
              "1961        6727     250    7713  ...            0       0    6336\n",
              "1960        7450     350   14108  ...            0       0    7000\n",
              "\n",
              "[62 rows x 10 columns]"
            ]
          },
          "metadata": {},
          "execution_count": 117
        }
      ]
    },
    {
      "cell_type": "code",
      "metadata": {
        "colab": {
          "base_uri": "https://localhost:8080/"
        },
        "id": "SkFpNyfIGpv8",
        "outputId": "e5066752-fd15-4d67-9bc2-37d1bfada253"
      },
      "source": [
        "col = df_countries.columns\n",
        "col"
      ],
      "execution_count": 118,
      "outputs": [
        {
          "output_type": "execute_result",
          "data": {
            "text/plain": [
              "Index(['Australia', 'Brazil', 'Canada', 'China', 'Egypt', 'India', 'Indonesia',\n",
              "       'Philippines', 'Russia', 'Turkey'],\n",
              "      dtype='object')"
            ]
          },
          "metadata": {},
          "execution_count": 118
        }
      ]
    },
    {
      "cell_type": "code",
      "metadata": {
        "colab": {
          "base_uri": "https://localhost:8080/",
          "height": 419
        },
        "id": "6ZUArXmb_jKR",
        "outputId": "cdbde257-ad58-43ef-aa44-54ce4405ca99"
      },
      "source": [
        "df_countries.reset_index()"
      ],
      "execution_count": 119,
      "outputs": [
        {
          "output_type": "execute_result",
          "data": {
            "text/html": [
              "<div>\n",
              "<style scoped>\n",
              "    .dataframe tbody tr th:only-of-type {\n",
              "        vertical-align: middle;\n",
              "    }\n",
              "\n",
              "    .dataframe tbody tr th {\n",
              "        vertical-align: top;\n",
              "    }\n",
              "\n",
              "    .dataframe thead th {\n",
              "        text-align: right;\n",
              "    }\n",
              "</style>\n",
              "<table border=\"1\" class=\"dataframe\">\n",
              "  <thead>\n",
              "    <tr style=\"text-align: right;\">\n",
              "      <th></th>\n",
              "      <th>Years</th>\n",
              "      <th>Australia</th>\n",
              "      <th>Brazil</th>\n",
              "      <th>Canada</th>\n",
              "      <th>China</th>\n",
              "      <th>Egypt</th>\n",
              "      <th>India</th>\n",
              "      <th>Indonesia</th>\n",
              "      <th>Philippines</th>\n",
              "      <th>Russia</th>\n",
              "      <th>Turkey</th>\n",
              "    </tr>\n",
              "  </thead>\n",
              "  <tbody>\n",
              "    <tr>\n",
              "      <th>0</th>\n",
              "      <td>1960</td>\n",
              "      <td>7450</td>\n",
              "      <td>350</td>\n",
              "      <td>14108</td>\n",
              "      <td>20960</td>\n",
              "      <td>1499</td>\n",
              "      <td>10320</td>\n",
              "      <td>0</td>\n",
              "      <td>0</td>\n",
              "      <td>0</td>\n",
              "      <td>7000</td>\n",
              "    </tr>\n",
              "    <tr>\n",
              "      <th>1</th>\n",
              "      <td>1961</td>\n",
              "      <td>6727</td>\n",
              "      <td>250</td>\n",
              "      <td>7713</td>\n",
              "      <td>14250</td>\n",
              "      <td>1436</td>\n",
              "      <td>10995</td>\n",
              "      <td>0</td>\n",
              "      <td>0</td>\n",
              "      <td>0</td>\n",
              "      <td>6336</td>\n",
              "    </tr>\n",
              "    <tr>\n",
              "      <th>2</th>\n",
              "      <td>1962</td>\n",
              "      <td>8353</td>\n",
              "      <td>256</td>\n",
              "      <td>15392</td>\n",
              "      <td>16665</td>\n",
              "      <td>1593</td>\n",
              "      <td>12076</td>\n",
              "      <td>0</td>\n",
              "      <td>0</td>\n",
              "      <td>0</td>\n",
              "      <td>6804</td>\n",
              "    </tr>\n",
              "    <tr>\n",
              "      <th>3</th>\n",
              "      <td>1963</td>\n",
              "      <td>8925</td>\n",
              "      <td>100</td>\n",
              "      <td>19690</td>\n",
              "      <td>18475</td>\n",
              "      <td>1493</td>\n",
              "      <td>10779</td>\n",
              "      <td>0</td>\n",
              "      <td>0</td>\n",
              "      <td>0</td>\n",
              "      <td>7892</td>\n",
              "    </tr>\n",
              "    <tr>\n",
              "      <th>4</th>\n",
              "      <td>1964</td>\n",
              "      <td>10037</td>\n",
              "      <td>226</td>\n",
              "      <td>16349</td>\n",
              "      <td>20840</td>\n",
              "      <td>1500</td>\n",
              "      <td>9854</td>\n",
              "      <td>0</td>\n",
              "      <td>0</td>\n",
              "      <td>0</td>\n",
              "      <td>7000</td>\n",
              "    </tr>\n",
              "    <tr>\n",
              "      <th>...</th>\n",
              "      <td>...</td>\n",
              "      <td>...</td>\n",
              "      <td>...</td>\n",
              "      <td>...</td>\n",
              "      <td>...</td>\n",
              "      <td>...</td>\n",
              "      <td>...</td>\n",
              "      <td>...</td>\n",
              "      <td>...</td>\n",
              "      <td>...</td>\n",
              "      <td>...</td>\n",
              "    </tr>\n",
              "    <tr>\n",
              "      <th>57</th>\n",
              "      <td>2017</td>\n",
              "      <td>20941</td>\n",
              "      <td>4264</td>\n",
              "      <td>30377</td>\n",
              "      <td>134334</td>\n",
              "      <td>8450</td>\n",
              "      <td>98510</td>\n",
              "      <td>0</td>\n",
              "      <td>0</td>\n",
              "      <td>85167</td>\n",
              "      <td>21000</td>\n",
              "    </tr>\n",
              "    <tr>\n",
              "      <th>58</th>\n",
              "      <td>2018</td>\n",
              "      <td>17598</td>\n",
              "      <td>5428</td>\n",
              "      <td>32352</td>\n",
              "      <td>131430</td>\n",
              "      <td>8450</td>\n",
              "      <td>99870</td>\n",
              "      <td>0</td>\n",
              "      <td>0</td>\n",
              "      <td>71685</td>\n",
              "      <td>19000</td>\n",
              "    </tr>\n",
              "    <tr>\n",
              "      <th>59</th>\n",
              "      <td>2019</td>\n",
              "      <td>15200</td>\n",
              "      <td>5200</td>\n",
              "      <td>32670</td>\n",
              "      <td>133590</td>\n",
              "      <td>8770</td>\n",
              "      <td>103600</td>\n",
              "      <td>0</td>\n",
              "      <td>0</td>\n",
              "      <td>73610</td>\n",
              "      <td>17500</td>\n",
              "    </tr>\n",
              "    <tr>\n",
              "      <th>60</th>\n",
              "      <td>2020</td>\n",
              "      <td>33000</td>\n",
              "      <td>6250</td>\n",
              "      <td>35183</td>\n",
              "      <td>134250</td>\n",
              "      <td>8900</td>\n",
              "      <td>107860</td>\n",
              "      <td>0</td>\n",
              "      <td>0</td>\n",
              "      <td>85354</td>\n",
              "      <td>18250</td>\n",
              "    </tr>\n",
              "    <tr>\n",
              "      <th>61</th>\n",
              "      <td>2021</td>\n",
              "      <td>27000</td>\n",
              "      <td>6800</td>\n",
              "      <td>32000</td>\n",
              "      <td>136000</td>\n",
              "      <td>9000</td>\n",
              "      <td>108000</td>\n",
              "      <td>0</td>\n",
              "      <td>0</td>\n",
              "      <td>85000</td>\n",
              "      <td>17250</td>\n",
              "    </tr>\n",
              "  </tbody>\n",
              "</table>\n",
              "<p>62 rows × 11 columns</p>\n",
              "</div>"
            ],
            "text/plain": [
              "   Years  Australia  Brazil  Canada  ...  Indonesia  Philippines  Russia  Turkey\n",
              "0   1960       7450     350   14108  ...          0            0       0    7000\n",
              "1   1961       6727     250    7713  ...          0            0       0    6336\n",
              "2   1962       8353     256   15392  ...          0            0       0    6804\n",
              "3   1963       8925     100   19690  ...          0            0       0    7892\n",
              "4   1964      10037     226   16349  ...          0            0       0    7000\n",
              "..   ...        ...     ...     ...  ...        ...          ...     ...     ...\n",
              "57  2017      20941    4264   30377  ...          0            0   85167   21000\n",
              "58  2018      17598    5428   32352  ...          0            0   71685   19000\n",
              "59  2019      15200    5200   32670  ...          0            0   73610   17500\n",
              "60  2020      33000    6250   35183  ...          0            0   85354   18250\n",
              "61  2021      27000    6800   32000  ...          0            0   85000   17250\n",
              "\n",
              "[62 rows x 11 columns]"
            ]
          },
          "metadata": {},
          "execution_count": 119
        }
      ]
    },
    {
      "cell_type": "markdown",
      "metadata": {
        "id": "xEBqnql-tQeO"
      },
      "source": [
        "##The Top producer of each Year"
      ]
    },
    {
      "cell_type": "code",
      "metadata": {
        "colab": {
          "base_uri": "https://localhost:8080/",
          "height": 419
        },
        "id": "myXDWOdDD7jb",
        "outputId": "5711b710-c406-46b1-8b70-2ade972ec06b"
      },
      "source": [
        "tops_for_year=\\\n",
        "(\n",
        "    df_countries.reset_index()\n",
        "    .melt(id_vars = [\"Years\"],var_name=\"Countries\",value_name = \"Production\")\n",
        "    .sort_values(\"Production\", ascending= False)\n",
        "    .drop_duplicates(subset=\"Years\")\n",
        ")\n",
        "tops_for_year"
      ],
      "execution_count": 120,
      "outputs": [
        {
          "output_type": "execute_result",
          "data": {
            "text/html": [
              "<div>\n",
              "<style scoped>\n",
              "    .dataframe tbody tr th:only-of-type {\n",
              "        vertical-align: middle;\n",
              "    }\n",
              "\n",
              "    .dataframe tbody tr th {\n",
              "        vertical-align: top;\n",
              "    }\n",
              "\n",
              "    .dataframe thead th {\n",
              "        text-align: right;\n",
              "    }\n",
              "</style>\n",
              "<table border=\"1\" class=\"dataframe\">\n",
              "  <thead>\n",
              "    <tr style=\"text-align: right;\">\n",
              "      <th></th>\n",
              "      <th>Years</th>\n",
              "      <th>Countries</th>\n",
              "      <th>Production</th>\n",
              "    </tr>\n",
              "  </thead>\n",
              "  <tbody>\n",
              "    <tr>\n",
              "      <th>247</th>\n",
              "      <td>2021</td>\n",
              "      <td>China</td>\n",
              "      <td>136000</td>\n",
              "    </tr>\n",
              "    <tr>\n",
              "      <th>243</th>\n",
              "      <td>2017</td>\n",
              "      <td>China</td>\n",
              "      <td>134334</td>\n",
              "    </tr>\n",
              "    <tr>\n",
              "      <th>246</th>\n",
              "      <td>2020</td>\n",
              "      <td>China</td>\n",
              "      <td>134250</td>\n",
              "    </tr>\n",
              "    <tr>\n",
              "      <th>245</th>\n",
              "      <td>2019</td>\n",
              "      <td>China</td>\n",
              "      <td>133590</td>\n",
              "    </tr>\n",
              "    <tr>\n",
              "      <th>242</th>\n",
              "      <td>2016</td>\n",
              "      <td>China</td>\n",
              "      <td>133271</td>\n",
              "    </tr>\n",
              "    <tr>\n",
              "      <th>...</th>\n",
              "      <td>...</td>\n",
              "      <td>...</td>\n",
              "      <td>...</td>\n",
              "    </tr>\n",
              "    <tr>\n",
              "      <th>186</th>\n",
              "      <td>1960</td>\n",
              "      <td>China</td>\n",
              "      <td>20960</td>\n",
              "    </tr>\n",
              "    <tr>\n",
              "      <th>190</th>\n",
              "      <td>1964</td>\n",
              "      <td>China</td>\n",
              "      <td>20840</td>\n",
              "    </tr>\n",
              "    <tr>\n",
              "      <th>127</th>\n",
              "      <td>1963</td>\n",
              "      <td>Canada</td>\n",
              "      <td>19690</td>\n",
              "    </tr>\n",
              "    <tr>\n",
              "      <th>188</th>\n",
              "      <td>1962</td>\n",
              "      <td>China</td>\n",
              "      <td>16665</td>\n",
              "    </tr>\n",
              "    <tr>\n",
              "      <th>187</th>\n",
              "      <td>1961</td>\n",
              "      <td>China</td>\n",
              "      <td>14250</td>\n",
              "    </tr>\n",
              "  </tbody>\n",
              "</table>\n",
              "<p>62 rows × 3 columns</p>\n",
              "</div>"
            ],
            "text/plain": [
              "    Years Countries  Production\n",
              "247  2021     China      136000\n",
              "243  2017     China      134334\n",
              "246  2020     China      134250\n",
              "245  2019     China      133590\n",
              "242  2016     China      133271\n",
              "..    ...       ...         ...\n",
              "186  1960     China       20960\n",
              "190  1964     China       20840\n",
              "127  1963    Canada       19690\n",
              "188  1962     China       16665\n",
              "187  1961     China       14250\n",
              "\n",
              "[62 rows x 3 columns]"
            ]
          },
          "metadata": {},
          "execution_count": 120
        }
      ]
    },
    {
      "cell_type": "code",
      "metadata": {
        "colab": {
          "base_uri": "https://localhost:8080/"
        },
        "id": "hpyunOsiShNL",
        "outputId": "533c6d82-c4cd-4883-cc58-2e10e650f0bf"
      },
      "source": [
        "col_2= (df_countries.reset_index().eq(0).sum())\n",
        "col_2"
      ],
      "execution_count": 159,
      "outputs": [
        {
          "output_type": "execute_result",
          "data": {
            "text/plain": [
              "Years           0\n",
              "Australia       0\n",
              "Brazil          0\n",
              "Canada          0\n",
              "China           0\n",
              "Egypt           0\n",
              "India           0\n",
              "Indonesia      62\n",
              "Philippines    62\n",
              "Russia         27\n",
              "Turkey          0\n",
              "dtype: int64"
            ]
          },
          "metadata": {},
          "execution_count": 159
        }
      ]
    },
    {
      "cell_type": "code",
      "metadata": {
        "colab": {
          "base_uri": "https://localhost:8080/"
        },
        "id": "aM7LHnmwTDSn",
        "outputId": "53226b7b-4e5c-4b5a-fcc9-ffbbe4a6f653"
      },
      "source": [
        "df_countries.astype(bool).sum(axis=0)\n",
        "\n"
      ],
      "execution_count": 154,
      "outputs": [
        {
          "output_type": "execute_result",
          "data": {
            "text/plain": [
              "Australia      62\n",
              "Brazil         62\n",
              "Canada         62\n",
              "China          62\n",
              "Egypt          62\n",
              "India          62\n",
              "Indonesia       0\n",
              "Philippines     0\n",
              "Russia         35\n",
              "Turkey         62\n",
              "dtype: int64"
            ]
          },
          "metadata": {},
          "execution_count": 154
        }
      ]
    },
    {
      "cell_type": "code",
      "metadata": {
        "colab": {
          "base_uri": "https://localhost:8080/"
        },
        "id": "k_ola04MaIjq",
        "outputId": "2767fda9-7470-4f1e-8843-daf416a8e8cc"
      },
      "source": [
        "lista =[]\n",
        "\n",
        "for i,v in col_2.iteritems():\n",
        "  if v ==0:\n",
        "    lista.append(i)\n",
        "\n",
        "\n",
        "print(lista)\n"
      ],
      "execution_count": 160,
      "outputs": [
        {
          "output_type": "stream",
          "text": [
            "['Years', 'Australia', 'Brazil', 'Canada', 'China', 'Egypt', 'India', 'Turkey']\n"
          ],
          "name": "stdout"
        }
      ]
    },
    {
      "cell_type": "markdown",
      "metadata": {
        "id": "qtWv-31pt2qm"
      },
      "source": [
        "## The last placed at each year"
      ]
    },
    {
      "cell_type": "code",
      "metadata": {
        "colab": {
          "base_uri": "https://localhost:8080/",
          "height": 419
        },
        "id": "QLM-YsrYaz-C",
        "outputId": "20783ca1-72d0-4e28-96cc-3dcae0d188f0"
      },
      "source": [
        "last_for_years=(\n",
        "    df_countries.reset_index()\n",
        "    .filter(items=lista)\n",
        "    .melt(id_vars = [\"Years\"],var_name=\"Countries\",value_name = \"Production\")\n",
        "    .sort_values([\"Years\",\"Production\"], ascending= [False,True])\n",
        "    .drop_duplicates(subset=\"Years\")\n",
        ")\n",
        "last_for_years\n"
      ],
      "execution_count": 180,
      "outputs": [
        {
          "output_type": "execute_result",
          "data": {
            "text/html": [
              "<div>\n",
              "<style scoped>\n",
              "    .dataframe tbody tr th:only-of-type {\n",
              "        vertical-align: middle;\n",
              "    }\n",
              "\n",
              "    .dataframe tbody tr th {\n",
              "        vertical-align: top;\n",
              "    }\n",
              "\n",
              "    .dataframe thead th {\n",
              "        text-align: right;\n",
              "    }\n",
              "</style>\n",
              "<table border=\"1\" class=\"dataframe\">\n",
              "  <thead>\n",
              "    <tr style=\"text-align: right;\">\n",
              "      <th></th>\n",
              "      <th>Years</th>\n",
              "      <th>Countries</th>\n",
              "      <th>Production</th>\n",
              "    </tr>\n",
              "  </thead>\n",
              "  <tbody>\n",
              "    <tr>\n",
              "      <th>123</th>\n",
              "      <td>2021</td>\n",
              "      <td>Brazil</td>\n",
              "      <td>6800</td>\n",
              "    </tr>\n",
              "    <tr>\n",
              "      <th>122</th>\n",
              "      <td>2020</td>\n",
              "      <td>Brazil</td>\n",
              "      <td>6250</td>\n",
              "    </tr>\n",
              "    <tr>\n",
              "      <th>121</th>\n",
              "      <td>2019</td>\n",
              "      <td>Brazil</td>\n",
              "      <td>5200</td>\n",
              "    </tr>\n",
              "    <tr>\n",
              "      <th>120</th>\n",
              "      <td>2018</td>\n",
              "      <td>Brazil</td>\n",
              "      <td>5428</td>\n",
              "    </tr>\n",
              "    <tr>\n",
              "      <th>119</th>\n",
              "      <td>2017</td>\n",
              "      <td>Brazil</td>\n",
              "      <td>4264</td>\n",
              "    </tr>\n",
              "    <tr>\n",
              "      <th>...</th>\n",
              "      <td>...</td>\n",
              "      <td>...</td>\n",
              "      <td>...</td>\n",
              "    </tr>\n",
              "    <tr>\n",
              "      <th>66</th>\n",
              "      <td>1964</td>\n",
              "      <td>Brazil</td>\n",
              "      <td>226</td>\n",
              "    </tr>\n",
              "    <tr>\n",
              "      <th>65</th>\n",
              "      <td>1963</td>\n",
              "      <td>Brazil</td>\n",
              "      <td>100</td>\n",
              "    </tr>\n",
              "    <tr>\n",
              "      <th>64</th>\n",
              "      <td>1962</td>\n",
              "      <td>Brazil</td>\n",
              "      <td>256</td>\n",
              "    </tr>\n",
              "    <tr>\n",
              "      <th>63</th>\n",
              "      <td>1961</td>\n",
              "      <td>Brazil</td>\n",
              "      <td>250</td>\n",
              "    </tr>\n",
              "    <tr>\n",
              "      <th>62</th>\n",
              "      <td>1960</td>\n",
              "      <td>Brazil</td>\n",
              "      <td>350</td>\n",
              "    </tr>\n",
              "  </tbody>\n",
              "</table>\n",
              "<p>62 rows × 3 columns</p>\n",
              "</div>"
            ],
            "text/plain": [
              "    Years Countries  Production\n",
              "123  2021    Brazil        6800\n",
              "122  2020    Brazil        6250\n",
              "121  2019    Brazil        5200\n",
              "120  2018    Brazil        5428\n",
              "119  2017    Brazil        4264\n",
              "..    ...       ...         ...\n",
              "66   1964    Brazil         226\n",
              "65   1963    Brazil         100\n",
              "64   1962    Brazil         256\n",
              "63   1961    Brazil         250\n",
              "62   1960    Brazil         350\n",
              "\n",
              "[62 rows x 3 columns]"
            ]
          },
          "metadata": {},
          "execution_count": 180
        }
      ]
    },
    {
      "cell_type": "code",
      "metadata": {
        "colab": {
          "base_uri": "https://localhost:8080/"
        },
        "id": "AZE-lNcvpNch",
        "outputId": "b1fe6bb2-b3d9-4178-bfa9-d2c37013f381"
      },
      "source": [
        "type(last_for_years)"
      ],
      "execution_count": 174,
      "outputs": [
        {
          "output_type": "execute_result",
          "data": {
            "text/plain": [
              "pandas.core.frame.DataFrame"
            ]
          },
          "metadata": {},
          "execution_count": 174
        }
      ]
    },
    {
      "cell_type": "code",
      "metadata": {
        "colab": {
          "base_uri": "https://localhost:8080/"
        },
        "id": "SHPI6zLPnJ5h",
        "outputId": "8d1b9c63-9158-4bce-f4dc-108e4f68b389"
      },
      "source": [
        "last_for_years.Production.max()"
      ],
      "execution_count": 176,
      "outputs": [
        {
          "output_type": "execute_result",
          "data": {
            "text/plain": [
              "136000"
            ]
          },
          "metadata": {},
          "execution_count": 176
        }
      ]
    },
    {
      "cell_type": "code",
      "metadata": {
        "id": "-bdHynaMpcJL"
      },
      "source": [
        ""
      ],
      "execution_count": null,
      "outputs": []
    }
  ]
}