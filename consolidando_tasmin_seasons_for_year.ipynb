{
  "nbformat": 4,
  "nbformat_minor": 0,
  "metadata": {
    "colab": {
      "name": "consolidando_tasmin_seasons_for_year.ipynb",
      "provenance": [],
      "collapsed_sections": [],
      "mount_file_id": "1f2PoYLZxhI-o30NfDCNr-pUDfuKTVYGj",
      "authorship_tag": "ABX9TyPT2znjhuekIlXclb330a/d",
      "include_colab_link": true
    },
    "kernelspec": {
      "name": "python3",
      "display_name": "Python 3"
    },
    "language_info": {
      "name": "python"
    }
  },
  "cells": [
    {
      "cell_type": "markdown",
      "metadata": {
        "id": "view-in-github",
        "colab_type": "text"
      },
      "source": [
        "<a href=\"https://colab.research.google.com/github/Renata-Thomazelli/mentoria2021/blob/main/consolidando_tasmin_seasons_for_year.ipynb\" target=\"_parent\"><img src=\"https://colab.research.google.com/assets/colab-badge.svg\" alt=\"Open In Colab\"/></a>"
      ]
    },
    {
      "cell_type": "code",
      "metadata": {
        "colab": {
          "base_uri": "https://localhost:8080/"
        },
        "id": "svcJKL8PR4MN",
        "outputId": "b5f93fc5-217f-460b-af9b-22759e1f6623"
      },
      "source": [
        "# Importing Drive\n",
        "from google.colab import drive\n",
        "\n",
        "drive.mount('/content/drive')"
      ],
      "execution_count": 1,
      "outputs": [
        {
          "output_type": "stream",
          "name": "stdout",
          "text": [
            "Mounted at /content/drive\n"
          ]
        }
      ]
    },
    {
      "cell_type": "code",
      "metadata": {
        "id": "gjhyytEQT6gv"
      },
      "source": [
        "import pandas as pd\n",
        "import numpy as np\n",
        "import chardet\n",
        "import missingno as msno"
      ],
      "execution_count": 2,
      "outputs": []
    },
    {
      "cell_type": "code",
      "metadata": {
        "id": "e27yTsTFSHan"
      },
      "source": [
        "def abrindo_files(pais,tipo):\n",
        "    file_path ='/content/drive/MyDrive/Temperatura_Precipitacao_analises/limpos/quartile_for_year/'\n",
        "    file = f\"{pais}_{tipo}__quartiles_for_year.csv\"\n",
        "    with open(f\"{file_path}{file}\", 'rb') as encoding:\n",
        "        r_encoding = chardet.detect(encoding.read(100000))\n",
        "    arquivo = f\"{tipo}{pais}\"\n",
        "    with open (f\"{file_path}{file}\",'r',encoding=r_encoding['encoding']) as arquivo :\n",
        "        df = pd.read_csv(arquivo)\n",
        "        return df\n",
        "\n"
      ],
      "execution_count": 3,
      "outputs": []
    },
    {
      "cell_type": "code",
      "metadata": {
        "id": "KDA8Cg99TdIH"
      },
      "source": [
        "df_1 = abrindo_files('TUR','tasmin')"
      ],
      "execution_count": 4,
      "outputs": []
    },
    {
      "cell_type": "code",
      "metadata": {
        "colab": {
          "base_uri": "https://localhost:8080/",
          "height": 419
        },
        "id": "CQCqpVDdUFom",
        "outputId": "aa0441db-4592-412b-f671-7a25f9a658a8"
      },
      "source": [
        "df_1\n"
      ],
      "execution_count": 5,
      "outputs": [
        {
          "output_type": "execute_result",
          "data": {
            "text/html": [
              "<div>\n",
              "<style scoped>\n",
              "    .dataframe tbody tr th:only-of-type {\n",
              "        vertical-align: middle;\n",
              "    }\n",
              "\n",
              "    .dataframe tbody tr th {\n",
              "        vertical-align: top;\n",
              "    }\n",
              "\n",
              "    .dataframe thead th {\n",
              "        text-align: right;\n",
              "    }\n",
              "</style>\n",
              "<table border=\"1\" class=\"dataframe\">\n",
              "  <thead>\n",
              "    <tr style=\"text-align: right;\">\n",
              "      <th></th>\n",
              "      <th>year</th>\n",
              "      <th>min</th>\n",
              "      <th>25%</th>\n",
              "      <th>50%</th>\n",
              "      <th>75%</th>\n",
              "      <th>max</th>\n",
              "      <th>country</th>\n",
              "      <th>iso3</th>\n",
              "      <th>tipo</th>\n",
              "    </tr>\n",
              "  </thead>\n",
              "  <tbody>\n",
              "    <tr>\n",
              "      <th>0</th>\n",
              "      <td>1960</td>\n",
              "      <td>-3.4</td>\n",
              "      <td>0.25</td>\n",
              "      <td>6.25</td>\n",
              "      <td>11.32</td>\n",
              "      <td>14.5</td>\n",
              "      <td>Turkey</td>\n",
              "      <td>TUR</td>\n",
              "      <td>tasmin</td>\n",
              "    </tr>\n",
              "    <tr>\n",
              "      <th>1</th>\n",
              "      <td>1961</td>\n",
              "      <td>-4.7</td>\n",
              "      <td>-0.68</td>\n",
              "      <td>5.60</td>\n",
              "      <td>9.92</td>\n",
              "      <td>15.0</td>\n",
              "      <td>Turkey</td>\n",
              "      <td>TUR</td>\n",
              "      <td>tasmin</td>\n",
              "    </tr>\n",
              "    <tr>\n",
              "      <th>2</th>\n",
              "      <td>1962</td>\n",
              "      <td>-3.8</td>\n",
              "      <td>1.23</td>\n",
              "      <td>6.05</td>\n",
              "      <td>11.28</td>\n",
              "      <td>15.7</td>\n",
              "      <td>Turkey</td>\n",
              "      <td>TUR</td>\n",
              "      <td>tasmin</td>\n",
              "    </tr>\n",
              "    <tr>\n",
              "      <th>3</th>\n",
              "      <td>1963</td>\n",
              "      <td>-2.2</td>\n",
              "      <td>-0.68</td>\n",
              "      <td>5.85</td>\n",
              "      <td>11.52</td>\n",
              "      <td>15.0</td>\n",
              "      <td>Turkey</td>\n",
              "      <td>TUR</td>\n",
              "      <td>tasmin</td>\n",
              "    </tr>\n",
              "    <tr>\n",
              "      <th>4</th>\n",
              "      <td>1964</td>\n",
              "      <td>-10.3</td>\n",
              "      <td>0.07</td>\n",
              "      <td>4.30</td>\n",
              "      <td>10.55</td>\n",
              "      <td>14.3</td>\n",
              "      <td>Turkey</td>\n",
              "      <td>TUR</td>\n",
              "      <td>tasmin</td>\n",
              "    </tr>\n",
              "    <tr>\n",
              "      <th>...</th>\n",
              "      <td>...</td>\n",
              "      <td>...</td>\n",
              "      <td>...</td>\n",
              "      <td>...</td>\n",
              "      <td>...</td>\n",
              "      <td>...</td>\n",
              "      <td>...</td>\n",
              "      <td>...</td>\n",
              "      <td>...</td>\n",
              "    </tr>\n",
              "    <tr>\n",
              "      <th>56</th>\n",
              "      <td>2016</td>\n",
              "      <td>-4.8</td>\n",
              "      <td>0.33</td>\n",
              "      <td>6.65</td>\n",
              "      <td>12.00</td>\n",
              "      <td>16.7</td>\n",
              "      <td>Turkey</td>\n",
              "      <td>TUR</td>\n",
              "      <td>tasmin</td>\n",
              "    </tr>\n",
              "    <tr>\n",
              "      <th>57</th>\n",
              "      <td>2017</td>\n",
              "      <td>-6.2</td>\n",
              "      <td>0.70</td>\n",
              "      <td>5.25</td>\n",
              "      <td>12.95</td>\n",
              "      <td>16.5</td>\n",
              "      <td>Turkey</td>\n",
              "      <td>TUR</td>\n",
              "      <td>tasmin</td>\n",
              "    </tr>\n",
              "    <tr>\n",
              "      <th>58</th>\n",
              "      <td>2018</td>\n",
              "      <td>-1.9</td>\n",
              "      <td>2.62</td>\n",
              "      <td>7.35</td>\n",
              "      <td>12.92</td>\n",
              "      <td>16.2</td>\n",
              "      <td>Turkey</td>\n",
              "      <td>TUR</td>\n",
              "      <td>tasmin</td>\n",
              "    </tr>\n",
              "    <tr>\n",
              "      <th>59</th>\n",
              "      <td>2019</td>\n",
              "      <td>-2.8</td>\n",
              "      <td>0.33</td>\n",
              "      <td>6.55</td>\n",
              "      <td>12.68</td>\n",
              "      <td>16.1</td>\n",
              "      <td>Turkey</td>\n",
              "      <td>TUR</td>\n",
              "      <td>tasmin</td>\n",
              "    </tr>\n",
              "    <tr>\n",
              "      <th>60</th>\n",
              "      <td>2020</td>\n",
              "      <td>-3.6</td>\n",
              "      <td>1.63</td>\n",
              "      <td>6.55</td>\n",
              "      <td>12.88</td>\n",
              "      <td>16.5</td>\n",
              "      <td>Turkey</td>\n",
              "      <td>TUR</td>\n",
              "      <td>tasmin</td>\n",
              "    </tr>\n",
              "  </tbody>\n",
              "</table>\n",
              "<p>61 rows × 9 columns</p>\n",
              "</div>"
            ],
            "text/plain": [
              "    year   min   25%   50%    75%   max country iso3    tipo\n",
              "0   1960  -3.4  0.25  6.25  11.32  14.5  Turkey  TUR  tasmin\n",
              "1   1961  -4.7 -0.68  5.60   9.92  15.0  Turkey  TUR  tasmin\n",
              "2   1962  -3.8  1.23  6.05  11.28  15.7  Turkey  TUR  tasmin\n",
              "3   1963  -2.2 -0.68  5.85  11.52  15.0  Turkey  TUR  tasmin\n",
              "4   1964 -10.3  0.07  4.30  10.55  14.3  Turkey  TUR  tasmin\n",
              "..   ...   ...   ...   ...    ...   ...     ...  ...     ...\n",
              "56  2016  -4.8  0.33  6.65  12.00  16.7  Turkey  TUR  tasmin\n",
              "57  2017  -6.2  0.70  5.25  12.95  16.5  Turkey  TUR  tasmin\n",
              "58  2018  -1.9  2.62  7.35  12.92  16.2  Turkey  TUR  tasmin\n",
              "59  2019  -2.8  0.33  6.55  12.68  16.1  Turkey  TUR  tasmin\n",
              "60  2020  -3.6  1.63  6.55  12.88  16.5  Turkey  TUR  tasmin\n",
              "\n",
              "[61 rows x 9 columns]"
            ]
          },
          "metadata": {},
          "execution_count": 5
        }
      ]
    },
    {
      "cell_type": "code",
      "metadata": {
        "id": "g-A3VfDdUGgN"
      },
      "source": [
        "df_2 = abrindo_files('RUS','tasmin')\n",
        "df_3 = abrindo_files('PHL','tasmin')\n",
        "df_4 = abrindo_files('IND','tasmin')\n",
        "df_5 = abrindo_files('GBR','tasmin')\n",
        "df_6 = abrindo_files('FRA','tasmin')\n",
        "df_7 = abrindo_files('EGY','tasmin')\n",
        "df_8 = abrindo_files('DEU','tasmin')\n",
        "df_9 = abrindo_files('CHN','tasmin')\n",
        "df_10 = abrindo_files('CAN','tasmin')\n",
        "df_11 = abrindo_files('USA','tasmin')\n",
        "df_12 = abrindo_files('BRA','tasmin')\n",
        "df_13 = abrindo_files('AUS','tasmin')\n",
        "df_14 = abrindo_files('IDN','tasmin')"
      ],
      "execution_count": 6,
      "outputs": []
    },
    {
      "cell_type": "code",
      "metadata": {
        "id": "NLPKrCTqV6Gf"
      },
      "source": [
        "frames =[df_1,df_2,df_3,df_4,df_5,df_6,df_7,df_8,df_9,df_10,df_11,df_12,df_13,df_14]"
      ],
      "execution_count": 7,
      "outputs": []
    },
    {
      "cell_type": "code",
      "metadata": {
        "id": "XLs_y6VAWiR4"
      },
      "source": [
        "concatenados =pd.concat(frames)"
      ],
      "execution_count": 8,
      "outputs": []
    },
    {
      "cell_type": "code",
      "metadata": {
        "colab": {
          "base_uri": "https://localhost:8080/",
          "height": 419
        },
        "id": "U2XXFXbQXBjt",
        "outputId": "3a01e663-9286-48f8-952d-c126f3a2c552"
      },
      "source": [
        "concatenados"
      ],
      "execution_count": 9,
      "outputs": [
        {
          "output_type": "execute_result",
          "data": {
            "text/html": [
              "<div>\n",
              "<style scoped>\n",
              "    .dataframe tbody tr th:only-of-type {\n",
              "        vertical-align: middle;\n",
              "    }\n",
              "\n",
              "    .dataframe tbody tr th {\n",
              "        vertical-align: top;\n",
              "    }\n",
              "\n",
              "    .dataframe thead th {\n",
              "        text-align: right;\n",
              "    }\n",
              "</style>\n",
              "<table border=\"1\" class=\"dataframe\">\n",
              "  <thead>\n",
              "    <tr style=\"text-align: right;\">\n",
              "      <th></th>\n",
              "      <th>year</th>\n",
              "      <th>min</th>\n",
              "      <th>25%</th>\n",
              "      <th>50%</th>\n",
              "      <th>75%</th>\n",
              "      <th>max</th>\n",
              "      <th>country</th>\n",
              "      <th>iso3</th>\n",
              "      <th>tipo</th>\n",
              "    </tr>\n",
              "  </thead>\n",
              "  <tbody>\n",
              "    <tr>\n",
              "      <th>0</th>\n",
              "      <td>1960</td>\n",
              "      <td>-3.4</td>\n",
              "      <td>0.25</td>\n",
              "      <td>6.25</td>\n",
              "      <td>11.32</td>\n",
              "      <td>14.5</td>\n",
              "      <td>Turkey</td>\n",
              "      <td>TUR</td>\n",
              "      <td>tasmin</td>\n",
              "    </tr>\n",
              "    <tr>\n",
              "      <th>1</th>\n",
              "      <td>1961</td>\n",
              "      <td>-4.7</td>\n",
              "      <td>-0.68</td>\n",
              "      <td>5.60</td>\n",
              "      <td>9.92</td>\n",
              "      <td>15.0</td>\n",
              "      <td>Turkey</td>\n",
              "      <td>TUR</td>\n",
              "      <td>tasmin</td>\n",
              "    </tr>\n",
              "    <tr>\n",
              "      <th>2</th>\n",
              "      <td>1962</td>\n",
              "      <td>-3.8</td>\n",
              "      <td>1.23</td>\n",
              "      <td>6.05</td>\n",
              "      <td>11.28</td>\n",
              "      <td>15.7</td>\n",
              "      <td>Turkey</td>\n",
              "      <td>TUR</td>\n",
              "      <td>tasmin</td>\n",
              "    </tr>\n",
              "    <tr>\n",
              "      <th>3</th>\n",
              "      <td>1963</td>\n",
              "      <td>-2.2</td>\n",
              "      <td>-0.68</td>\n",
              "      <td>5.85</td>\n",
              "      <td>11.52</td>\n",
              "      <td>15.0</td>\n",
              "      <td>Turkey</td>\n",
              "      <td>TUR</td>\n",
              "      <td>tasmin</td>\n",
              "    </tr>\n",
              "    <tr>\n",
              "      <th>4</th>\n",
              "      <td>1964</td>\n",
              "      <td>-10.3</td>\n",
              "      <td>0.07</td>\n",
              "      <td>4.30</td>\n",
              "      <td>10.55</td>\n",
              "      <td>14.3</td>\n",
              "      <td>Turkey</td>\n",
              "      <td>TUR</td>\n",
              "      <td>tasmin</td>\n",
              "    </tr>\n",
              "    <tr>\n",
              "      <th>...</th>\n",
              "      <td>...</td>\n",
              "      <td>...</td>\n",
              "      <td>...</td>\n",
              "      <td>...</td>\n",
              "      <td>...</td>\n",
              "      <td>...</td>\n",
              "      <td>...</td>\n",
              "      <td>...</td>\n",
              "      <td>...</td>\n",
              "    </tr>\n",
              "    <tr>\n",
              "      <th>56</th>\n",
              "      <td>2016</td>\n",
              "      <td>21.3</td>\n",
              "      <td>21.50</td>\n",
              "      <td>21.80</td>\n",
              "      <td>22.02</td>\n",
              "      <td>22.3</td>\n",
              "      <td>Indonesia</td>\n",
              "      <td>IDN</td>\n",
              "      <td>tasmin</td>\n",
              "    </tr>\n",
              "    <tr>\n",
              "      <th>57</th>\n",
              "      <td>2017</td>\n",
              "      <td>20.9</td>\n",
              "      <td>21.28</td>\n",
              "      <td>21.70</td>\n",
              "      <td>21.80</td>\n",
              "      <td>22.0</td>\n",
              "      <td>Indonesia</td>\n",
              "      <td>IDN</td>\n",
              "      <td>tasmin</td>\n",
              "    </tr>\n",
              "    <tr>\n",
              "      <th>58</th>\n",
              "      <td>2018</td>\n",
              "      <td>21.1</td>\n",
              "      <td>21.20</td>\n",
              "      <td>21.45</td>\n",
              "      <td>21.70</td>\n",
              "      <td>21.8</td>\n",
              "      <td>Indonesia</td>\n",
              "      <td>IDN</td>\n",
              "      <td>tasmin</td>\n",
              "    </tr>\n",
              "    <tr>\n",
              "      <th>59</th>\n",
              "      <td>2019</td>\n",
              "      <td>20.8</td>\n",
              "      <td>21.30</td>\n",
              "      <td>21.75</td>\n",
              "      <td>21.92</td>\n",
              "      <td>22.3</td>\n",
              "      <td>Indonesia</td>\n",
              "      <td>IDN</td>\n",
              "      <td>tasmin</td>\n",
              "    </tr>\n",
              "    <tr>\n",
              "      <th>60</th>\n",
              "      <td>2020</td>\n",
              "      <td>21.0</td>\n",
              "      <td>21.40</td>\n",
              "      <td>21.65</td>\n",
              "      <td>21.95</td>\n",
              "      <td>22.2</td>\n",
              "      <td>Indonesia</td>\n",
              "      <td>IDN</td>\n",
              "      <td>tasmin</td>\n",
              "    </tr>\n",
              "  </tbody>\n",
              "</table>\n",
              "<p>854 rows × 9 columns</p>\n",
              "</div>"
            ],
            "text/plain": [
              "    year   min    25%    50%    75%   max    country iso3    tipo\n",
              "0   1960  -3.4   0.25   6.25  11.32  14.5     Turkey  TUR  tasmin\n",
              "1   1961  -4.7  -0.68   5.60   9.92  15.0     Turkey  TUR  tasmin\n",
              "2   1962  -3.8   1.23   6.05  11.28  15.7     Turkey  TUR  tasmin\n",
              "3   1963  -2.2  -0.68   5.85  11.52  15.0     Turkey  TUR  tasmin\n",
              "4   1964 -10.3   0.07   4.30  10.55  14.3     Turkey  TUR  tasmin\n",
              "..   ...   ...    ...    ...    ...   ...        ...  ...     ...\n",
              "56  2016  21.3  21.50  21.80  22.02  22.3  Indonesia  IDN  tasmin\n",
              "57  2017  20.9  21.28  21.70  21.80  22.0  Indonesia  IDN  tasmin\n",
              "58  2018  21.1  21.20  21.45  21.70  21.8  Indonesia  IDN  tasmin\n",
              "59  2019  20.8  21.30  21.75  21.92  22.3  Indonesia  IDN  tasmin\n",
              "60  2020  21.0  21.40  21.65  21.95  22.2  Indonesia  IDN  tasmin\n",
              "\n",
              "[854 rows x 9 columns]"
            ]
          },
          "metadata": {},
          "execution_count": 9
        }
      ]
    },
    {
      "cell_type": "code",
      "metadata": {
        "colab": {
          "base_uri": "https://localhost:8080/"
        },
        "id": "9TG0nraQXUaG",
        "outputId": "1c38237d-648e-481c-81f9-b46289f1c1d5"
      },
      "source": [
        "concatenados.info()"
      ],
      "execution_count": 10,
      "outputs": [
        {
          "output_type": "stream",
          "name": "stdout",
          "text": [
            "<class 'pandas.core.frame.DataFrame'>\n",
            "Int64Index: 854 entries, 0 to 60\n",
            "Data columns (total 9 columns):\n",
            " #   Column   Non-Null Count  Dtype  \n",
            "---  ------   --------------  -----  \n",
            " 0   year     854 non-null    int64  \n",
            " 1   min      854 non-null    float64\n",
            " 2   25%      854 non-null    float64\n",
            " 3   50%      854 non-null    float64\n",
            " 4   75%      854 non-null    float64\n",
            " 5   max      854 non-null    float64\n",
            " 6   country  854 non-null    object \n",
            " 7   iso3     854 non-null    object \n",
            " 8   tipo     854 non-null    object \n",
            "dtypes: float64(5), int64(1), object(3)\n",
            "memory usage: 66.7+ KB\n"
          ]
        }
      ]
    },
    {
      "cell_type": "code",
      "metadata": {
        "colab": {
          "base_uri": "https://localhost:8080/",
          "height": 584
        },
        "id": "c-4UiZ7FXN5t",
        "outputId": "bf68ffbb-2639-4e00-85e2-faae0c3c8ebe"
      },
      "source": [
        "msno.matrix(concatenados)"
      ],
      "execution_count": 11,
      "outputs": [
        {
          "output_type": "execute_result",
          "data": {
            "text/plain": [
              "<matplotlib.axes._subplots.AxesSubplot at 0x7f337c711710>"
            ]
          },
          "metadata": {},
          "execution_count": 11
        },
        {
          "output_type": "display_data",
          "data": {
            "image/png": "[encoded data removed]",
            "text/plain": [
              "<Figure size 1800x720 with 2 Axes>"
            ]
          },
          "metadata": {
            "needs_background": "light"
          }
        }
      ]
    },
    {
      "cell_type": "code",
      "metadata": {
        "id": "7mb4LxV7Xj9g"
      },
      "source": [
        "path ='/content/drive/MyDrive/Temperatura_Precipitacao_analises/limpos/quartile_for_year/'"
      ],
      "execution_count": 12,
      "outputs": []
    },
    {
      "cell_type": "code",
      "metadata": {
        "id": "QqNhpIeOXws1"
      },
      "source": [
        "concatenados.to_csv(f\"{path}tasmin_seasons_for_year_consolidado.csv\", index=False)"
      ],
      "execution_count": 13,
      "outputs": []
    }
  ]
}